{
 "cells": [
  {
   "cell_type": "code",
   "execution_count": 1,
   "metadata": {},
   "outputs": [],
   "source": [
    "import json\n",
    "import base64\n",
    "import qrcode\n",
    "import requests\n",
    "import datetime\n",
    "import urllib.parse\n",
    "import uuid\n",
    "import matplotlib.pyplot as plt\n",
    "from pymongo import MongoClient\n",
    "from typing import Optional, List\n",
    "from didcomm.common.types import DID, VerificationMethodType, VerificationMaterial, VerificationMaterialFormat\n",
    "from didcomm.did_doc.did_doc import DIDDoc, VerificationMethod, DIDCommService\n",
    "from didcomm.did_doc.did_resolver import DIDResolver\n",
    "from didcomm.message import Message, FromPrior\n",
    "from didcomm.secrets.secrets_resolver_demo import SecretsResolverDemo\n",
    "from didcomm.unpack import unpack, UnpackResult\n",
    "from didcomm.common.resolvers import ResolversConfig\n",
    "from didcomm.pack_encrypted import pack_encrypted, PackEncryptedConfig, PackEncryptedResult\n",
    "from peerdid.core.did_doc_types import DIDCommServicePeerDID\n",
    "from didcomm.secrets.secrets_util import generate_x25519_keys_as_jwk_dict, generate_ed25519_keys_as_jwk_dict, jwk_to_secret\n",
    "from peerdid import peer_did\n",
    "from peerdid.did_doc import DIDDocPeerDID\n",
    "from didcomm.message import Attachment, AttachmentDataJson\n",
    "from peerdid.types import VerificationMaterialAuthentication, VerificationMethodTypeAuthentication, VerificationMaterialAgreement, VerificationMethodTypeAgreement, VerificationMaterialFormatPeerDID"
   ]
  },
  {
   "cell_type": "markdown",
   "metadata": {},
   "source": [
    "## Helper function"
   ]
  },
  {
   "cell_type": "code",
   "execution_count": 2,
   "metadata": {},
   "outputs": [],
   "source": [
    "secrets_resolver = SecretsResolverDemo()"
   ]
  },
  {
   "cell_type": "code",
   "execution_count": 3,
   "metadata": {},
   "outputs": [],
   "source": [
    "class DIDResolverPeerDID(DIDResolver):\n",
    "    async def resolve(self, did: DID) -> DIDDoc:\n",
    "        did_doc_json = peer_did.resolve_peer_did(did, format = VerificationMaterialFormatPeerDID.JWK)\n",
    "        did_doc = DIDDocPeerDID.from_json(did_doc_json)\n",
    "\n",
    "        return DIDDoc(\n",
    "            did=did_doc.did,\n",
    "            key_agreement_kids = did_doc.agreement_kids,\n",
    "            authentication_kids = did_doc.auth_kids,\n",
    "            verification_methods = [\n",
    "                VerificationMethod(\n",
    "                    id = m.id,\n",
    "                    type = VerificationMethodType.JSON_WEB_KEY_2020,\n",
    "                    controller = m.controller,\n",
    "                    verification_material = VerificationMaterial(\n",
    "                        format = VerificationMaterialFormat.JWK,\n",
    "                        value = json.dumps(m.ver_material.value)\n",
    "                    )\n",
    "                )\n",
    "                for m in did_doc.authentication + did_doc.key_agreement\n",
    "            ],\n",
    "            didcomm_services = [\n",
    "                DIDCommService(\n",
    "                    id = s.id,\n",
    "                    service_endpoint = s.service_endpoint,\n",
    "                    routing_keys = s.routing_keys,\n",
    "                    accept = s.accept\n",
    "                )\n",
    "                for s in did_doc.service\n",
    "                if isinstance(s, DIDCommServicePeerDID)\n",
    "            ] if did_doc.service else []\n",
    "        )"
   ]
  },
  {
   "cell_type": "code",
   "execution_count": 4,
   "metadata": {},
   "outputs": [],
   "source": [
    "async def create_peer_did(self,\n",
    "                        auth_keys_count: int = 1,\n",
    "                        agreement_keys_count: int = 1,\n",
    "                        service_endpoint: Optional[str] = None,\n",
    "                        service_routing_keys: Optional[List[str]] = None\n",
    "                        ) -> str:\n",
    "        # 1. generate keys in JWK format\n",
    "        agreem_keys = [generate_x25519_keys_as_jwk_dict() for _ in range(agreement_keys_count)]\n",
    "        auth_keys = [generate_ed25519_keys_as_jwk_dict() for _ in range(auth_keys_count)]\n",
    "\n",
    "        # 2. prepare the keys for peer DID lib\n",
    "        agreem_keys_peer_did = [\n",
    "            VerificationMaterialAgreement(\n",
    "                type=VerificationMethodTypeAgreement.JSON_WEB_KEY_2020,\n",
    "                format=VerificationMaterialFormatPeerDID.JWK,\n",
    "                value=k[1],\n",
    "            )\n",
    "            for k in agreem_keys\n",
    "        ]\n",
    "        auth_keys_peer_did = [\n",
    "            VerificationMaterialAuthentication(\n",
    "                type=VerificationMethodTypeAuthentication.JSON_WEB_KEY_2020,\n",
    "                format=VerificationMaterialFormatPeerDID.JWK,\n",
    "                value=k[1],\n",
    "            )\n",
    "            for k in auth_keys\n",
    "        ]\n",
    "\n",
    "        # 3. generate service\n",
    "        service = None\n",
    "        if service_endpoint:\n",
    "            service = json.dumps(\n",
    "                DIDCommServicePeerDID(\n",
    "                    id=\"new-id\",\n",
    "                    service_endpoint=service_endpoint, routing_keys=service_routing_keys,\n",
    "                    accept=[\"didcomm/v2\"]\n",
    "                ).to_dict()\n",
    "            )\n",
    "\n",
    "        # 4. call peer DID lib\n",
    "        # if we have just one key (auth), then use numalg0 algorithm\n",
    "        # otherwise use numalg2 algorithm\n",
    "        if len(auth_keys_peer_did) == 1 and not agreem_keys_peer_did and not service:\n",
    "            did = peer_did.create_peer_did_numalgo_0(auth_keys_peer_did[0])\n",
    "        else:\n",
    "            did = peer_did.create_peer_did_numalgo_2(\n",
    "                encryption_keys=agreem_keys_peer_did,\n",
    "                signing_keys=auth_keys_peer_did,\n",
    "                service=service,\n",
    "            )\n",
    "\n",
    "        # 5. set KIDs as in DID DOC for secrets and store the secret in the secrets resolver\n",
    "        did_doc = DIDDocPeerDID.from_json(peer_did.resolve_peer_did(did))\n",
    "        for auth_key, kid in zip(auth_keys, did_doc.auth_kids):\n",
    "            private_key = auth_key[0]\n",
    "            private_key[\"kid\"] = kid\n",
    "            await secrets_resolver.add_key(jwk_to_secret(private_key))\n",
    "\n",
    "        for agreem_key, kid in zip(agreem_keys, did_doc.agreement_kids):\n",
    "            private_key = agreem_key[0]\n",
    "            private_key[\"kid\"] = kid\n",
    "            await secrets_resolver.add_key(jwk_to_secret(private_key))\n",
    "\n",
    "        return did\n"
   ]
  },
  {
   "cell_type": "markdown",
   "metadata": {},
   "source": [
    "### Reading issuer OOB message"
   ]
  },
  {
   "cell_type": "code",
   "execution_count": 15,
   "metadata": {},
   "outputs": [
    {
     "name": "stdout",
     "output_type": "stream",
     "text": [
      "http://127.0.0.1:8000?_oob=eyJ0eXBlIjoiaHR0cHM6Ly9kaWRjb21tLm9yZy9vdXQtb2YtYmFuZC8yLjAvaW52aXRhdGlvbiIsImlkIjoiMmQzZWNiNDktZWI5My00YjEyLTk3YWMtMDZjY2VmMTFjYWIwIiwiZnJvbSI6ImRpZDpwZWVyOjIuRXo2TFNjeHQzdGZkUHB5NEN2c0pZSFk5WmVZaGdFRzkxVGZCMW15SlAzQmQ3TThKWS5WejZNa2tVM1hNREZHa0RMSEJ6NlZkM2Vmakp3RURzQ1NHeWNjckJxTUJEQzNuR0JvLlNleUpwWkNJNkltNWxkeTFwWkNJc0luUWlPaUprYlNJc0luTWlPaUpvZEhSd09pOHZNVEkzTGpBdU1DNHhPamd3TURBaUxDSmhJanBiSW1ScFpHTnZiVzB2ZGpJaVhYMCIsImJvZHkiOnsiZ29hbF9jb2RlIjoicmVnaXN0ZXIiLCJnb2FsIjoiUmVnaXN0ZXJpbm1lZGlhdG9yIiwiYWNjZXB0IjpbImRpZGNvbW0vdjIiLCJkaWRjb21tL2FpcDI7ZW52PXJmYzU4NyJdfX0\n"
     ]
    }
   ],
   "source": [
    "#oob_url = requests.get(\"https://mediator.rootsid.cloud/oob_url\").text\n",
    "oob_url = requests.get(\"http://127.0.0.1:8000/oob_url\").text\n",
    "print(oob_url)"
   ]
  },
  {
   "cell_type": "code",
   "execution_count": 16,
   "metadata": {},
   "outputs": [
    {
     "name": "stdout",
     "output_type": "stream",
     "text": [
      "{'type': 'https://didcomm.org/out-of-band/2.0/invitation', 'id': '2d3ecb49-eb93-4b12-97ac-06ccef11cab0', 'from': 'did:peer:2.Ez6LScxt3tfdPpy4CvsJYHY9ZeYhgEG91TfB1myJP3Bd7M8JY.Vz6MkkU3XMDFGkDLHBz6Vd3efjJwEDsCSGyccrBqMBDC3nGBo.SeyJpZCI6Im5ldy1pZCIsInQiOiJkbSIsInMiOiJodHRwOi8vMTI3LjAuMC4xOjgwMDAiLCJhIjpbImRpZGNvbW0vdjIiXX0', 'body': {'goal_code': 'register', 'goal': 'Registerinmediator', 'accept': ['didcomm/v2', 'didcomm/aip2;env=rfc587']}}\n"
     ]
    }
   ],
   "source": [
    "received_msg_encoded = oob_url.split(\"=\")[1]\n",
    "received_msg_decoded = json.loads(str(base64.urlsafe_b64decode(received_msg_encoded + \"==\"), \"utf-8\"))\n",
    "print(received_msg_decoded)"
   ]
  },
  {
   "cell_type": "markdown",
   "metadata": {},
   "source": [
    "## Prepare request-credential"
   ]
  },
  {
   "cell_type": "markdown",
   "metadata": {},
   "source": [
    "The holder needs to create a did:peer to communicate with the issuer:"
   ]
  },
  {
   "cell_type": "code",
   "execution_count": 17,
   "metadata": {},
   "outputs": [
    {
     "name": "stdout",
     "output_type": "stream",
     "text": [
      "Holder's DID: did:peer:2.Ez6LSe7GvuSLrdHRkvD4sjVjBBwhPnzdk2BEN7E9SA32paMGy.Vz6MkoUj2ZmJiQsU2DUbuvose7ozyPqjxQpEYuUKipyjwJD8D.SeyJpZCI6Im5ldy1pZCIsInQiOiJkbSIsInMiOiJodHRwczovL3d3dy5leGFtcGxlLmNvbS9ob2xkZXIiLCJhIjpbImRpZGNvbW0vdjIiXX0\n"
     ]
    }
   ],
   "source": [
    "holder_did = await create_peer_did(1,1, service_endpoint=\"https://www.example.com/holder\")\n",
    "print(\"Holder's DID:\", holder_did)"
   ]
  },
  {
   "cell_type": "markdown",
   "metadata": {},
   "source": [
    "Also, the holder needs to provide a did:prism where the credential will be issued to."
   ]
  },
  {
   "cell_type": "code",
   "execution_count": 18,
   "metadata": {},
   "outputs": [],
   "source": [
    "holder_prism_did = \"did:prism:a08f49e61bc46dc82b6bd54dd62087c25b53b4a7ef98e549ce62ee4ad3450d5c\""
   ]
  },
  {
   "cell_type": "markdown",
   "metadata": {},
   "source": [
    "The following is a JSON-LD credential request that the holder will submmit to the issuer."
   ]
  },
  {
   "cell_type": "code",
   "execution_count": 19,
   "metadata": {},
   "outputs": [],
   "source": [
    "credential_request = {\n",
    "    \"credential\": {\n",
    "        \"@context\": \n",
    "        [\n",
    "            \"https://www.w3.org/2018/credentials/v1\",\n",
    "            \"https://www.w3.org/2018/credentials/examples/v1\"\n",
    "        ],\n",
    "        \"id\": str(uuid.uuid4()),\n",
    "        \"type\": [\"VerifiableCredential\", \"UniversityDegreeCredential\"],\n",
    "        \"issuer\": \"TBD\",\n",
    "        \"issuanceDate\": datetime.datetime.now().strftime(\"%Y-%m-%dT%H:%M:%SZ\"),\n",
    "        \"credentialSubject\": \n",
    "            {\n",
    "              \"id\": holder_prism_did,\n",
    "              \"degree\": \n",
    "                {\n",
    "                    \"type\": \"BachelorDegree\",\n",
    "                    \"name\": \"Bachelor of Science and Arts\"\n",
    "                  }\n",
    "            },\n",
    "        \"options\": {\n",
    "            \"proofType\": \"EcdsaSecp256k1Signature2019\"\n",
    "        }\n",
    "    }\n",
    "}"
   ]
  },
  {
   "cell_type": "markdown",
   "metadata": {},
   "source": [
    "Finally the holder prepares the didcomm message following issue-credential/3.0 protocol:"
   ]
  },
  {
   "cell_type": "code",
   "execution_count": 20,
   "metadata": {},
   "outputs": [],
   "source": [
    "\n",
    "holder_response_message = Message(\n",
    "    custom_headers = [{\n",
    "        \"return_route\": \"all\"}],\n",
    "    id = str(uuid.uuid4()),\n",
    "    #pthid = received_msg_decoded[\"id\"],\n",
    "    type = \"https://didcomm.org/issue-credential/3.0/request-credential\",\n",
    "    frm = holder_did,\n",
    "    to = [received_msg_decoded[\"from\"]],\n",
    "    body = {\n",
    "        \"goal_code\": \"issue-credential\",\n",
    "        \"comment\": \"some comment\"\n",
    "    },\n",
    "    attachments = [\n",
    "        Attachment(\n",
    "                id=str(uuid.uuid4()),\n",
    "                media_type= \"application/json\",\n",
    "                format= \"aries/ld-proof-vc-detail@v1.0\",\n",
    "                data=AttachmentDataJson(json=credential_request)\n",
    "                )\n",
    "    ]\n",
    "                        \n",
    ")"
   ]
  },
  {
   "cell_type": "code",
   "execution_count": 21,
   "metadata": {},
   "outputs": [],
   "source": [
    "holder_packed_msg = await pack_encrypted(\n",
    "    resolvers_config = ResolversConfig(\n",
    "        secrets_resolver = secrets_resolver,\n",
    "        did_resolver = DIDResolverPeerDID()\n",
    "    ),\n",
    "    message = holder_response_message,\n",
    "    frm = holder_did,\n",
    "    to = received_msg_decoded[\"from\"],\n",
    "    sign_frm = None,\n",
    "    pack_config = PackEncryptedConfig(protect_sender_id=False)\n",
    ")"
   ]
  },
  {
   "cell_type": "markdown",
   "metadata": {},
   "source": [
    "### Sending the message to Mediator"
   ]
  },
  {
   "cell_type": "markdown",
   "metadata": {},
   "source": [
    "From the issuer DID obtained in the OOB QR Code, we can get the DID document:"
   ]
  },
  {
   "cell_type": "code",
   "execution_count": 22,
   "metadata": {},
   "outputs": [
    {
     "name": "stdout",
     "output_type": "stream",
     "text": [
      "{'id': 'did:peer:2.Ez6LScxt3tfdPpy4CvsJYHY9ZeYhgEG91TfB1myJP3Bd7M8JY.Vz6MkkU3XMDFGkDLHBz6Vd3efjJwEDsCSGyccrBqMBDC3nGBo.SeyJpZCI6Im5ldy1pZCIsInQiOiJkbSIsInMiOiJodHRwOi8vMTI3LjAuMC4xOjgwMDAiLCJhIjpbImRpZGNvbW0vdjIiXX0', 'authentication': [{'id': 'did:peer:2.Ez6LScxt3tfdPpy4CvsJYHY9ZeYhgEG91TfB1myJP3Bd7M8JY.Vz6MkkU3XMDFGkDLHBz6Vd3efjJwEDsCSGyccrBqMBDC3nGBo.SeyJpZCI6Im5ldy1pZCIsInQiOiJkbSIsInMiOiJodHRwOi8vMTI3LjAuMC4xOjgwMDAiLCJhIjpbImRpZGNvbW0vdjIiXX0#6MkkU3XMDFGkDLHBz6Vd3efjJwEDsCSGyccrBqMBDC3nGBo', 'type': 'Ed25519VerificationKey2020', 'controller': 'did:peer:2.Ez6LScxt3tfdPpy4CvsJYHY9ZeYhgEG91TfB1myJP3Bd7M8JY.Vz6MkkU3XMDFGkDLHBz6Vd3efjJwEDsCSGyccrBqMBDC3nGBo.SeyJpZCI6Im5ldy1pZCIsInQiOiJkbSIsInMiOiJodHRwOi8vMTI3LjAuMC4xOjgwMDAiLCJhIjpbImRpZGNvbW0vdjIiXX0', 'publicKeyMultibase': 'z6MkkU3XMDFGkDLHBz6Vd3efjJwEDsCSGyccrBqMBDC3nGBo'}], 'keyAgreement': [{'id': 'did:peer:2.Ez6LScxt3tfdPpy4CvsJYHY9ZeYhgEG91TfB1myJP3Bd7M8JY.Vz6MkkU3XMDFGkDLHBz6Vd3efjJwEDsCSGyccrBqMBDC3nGBo.SeyJpZCI6Im5ldy1pZCIsInQiOiJkbSIsInMiOiJodHRwOi8vMTI3LjAuMC4xOjgwMDAiLCJhIjpbImRpZGNvbW0vdjIiXX0#6LScxt3tfdPpy4CvsJYHY9ZeYhgEG91TfB1myJP3Bd7M8JY', 'type': 'X25519KeyAgreementKey2020', 'controller': 'did:peer:2.Ez6LScxt3tfdPpy4CvsJYHY9ZeYhgEG91TfB1myJP3Bd7M8JY.Vz6MkkU3XMDFGkDLHBz6Vd3efjJwEDsCSGyccrBqMBDC3nGBo.SeyJpZCI6Im5ldy1pZCIsInQiOiJkbSIsInMiOiJodHRwOi8vMTI3LjAuMC4xOjgwMDAiLCJhIjpbImRpZGNvbW0vdjIiXX0', 'publicKeyMultibase': 'z6LScxt3tfdPpy4CvsJYHY9ZeYhgEG91TfB1myJP3Bd7M8JY'}], 'service': [{'id': 'did:peer:2.Ez6LScxt3tfdPpy4CvsJYHY9ZeYhgEG91TfB1myJP3Bd7M8JY.Vz6MkkU3XMDFGkDLHBz6Vd3efjJwEDsCSGyccrBqMBDC3nGBo.SeyJpZCI6Im5ldy1pZCIsInQiOiJkbSIsInMiOiJodHRwOi8vMTI3LjAuMC4xOjgwMDAiLCJhIjpbImRpZGNvbW0vdjIiXX0#didcommmessaging-0', 'type': 'DIDCommMessaging', 'serviceEndpoint': 'http://127.0.0.1:8000', 'accept': ['didcomm/v2']}]}\n"
     ]
    }
   ],
   "source": [
    "issuer_did_doc = json.loads(peer_did.resolve_peer_did(received_msg_decoded[\"from\"]))\n",
    "print(issuer_did_doc)"
   ]
  },
  {
   "cell_type": "markdown",
   "metadata": {},
   "source": [
    "And from there get the issuer's endpoint"
   ]
  },
  {
   "cell_type": "code",
   "execution_count": 23,
   "metadata": {},
   "outputs": [
    {
     "name": "stdout",
     "output_type": "stream",
     "text": [
      "http://127.0.0.1:8000\n"
     ]
    }
   ],
   "source": [
    "issuer_endpoint = issuer_did_doc[\"service\"][0][\"serviceEndpoint\"]\n",
    "print(issuer_endpoint)"
   ]
  },
  {
   "cell_type": "markdown",
   "metadata": {},
   "source": [
    "Finally sending the request to the issuer:"
   ]
  },
  {
   "cell_type": "code",
   "execution_count": 24,
   "metadata": {},
   "outputs": [
    {
     "name": "stdout",
     "output_type": "stream",
     "text": [
      "{\"protected\":\"eyJ0eXAiOiJhcHBsaWNhdGlvbi9kaWRjb21tLWVuY3J5cHRlZCtqc29uIiwiYWxnIjoiRUNESC0xUFUrQTI1NktXIiwiZW5jIjoiQTI1NkNCQy1IUzUxMiIsImFwdSI6IlpHbGtPbkJsWlhJNk1pNUZlalpNVTJSeVduRkhVM2QwYVhOd2NHTTVOMjg0V1dwUVdETkVjV1UxWWxwek1VSlJXRGxEY1hBMVluSm9Ta050TGxaNk5rMXJabUl4U0haV1VXOWpVWEpuUmtnNFoxaEJOMmxUVFZCU1VHSjZiek5VTjJaT1lrdG1TMnQzZG5kTVNrMHVVMlY1U25CYVEwazJTVzAxYkdSNU1YQmFRMGx6U1c1UmFVOXBTbXRpVTBselNXNU5hVTlwU205a1NGSjNUMms0ZGsxVVNUTk1ha0YxVFVNMGVFOXFaM2ROUkVGcFRFTkthRWxxY0dKSmJWSndXa2RPZG1KWE1IWmtha2xwV0Znd0l6Wk1VMlJ5V25GSFUzZDBhWE53Y0dNNU4yODRXV3BRV0RORWNXVTFZbHB6TVVKUldEbERjWEExWW5Kb1NrTnQiLCJhcHYiOiJfQ2RSSlFTdm83MzFSSVE5MEZ6YzE4QUs1MWJSZEszQ1lXZWRXc2g1d0tRIiwic2tpZCI6ImRpZDpwZWVyOjIuRXo2TFNkclpxR1N3dGlzcHBjOTdvOFlqUFgzRHFlNWJaczFCUVg5Q3FwNWJyaEpDbS5WejZNa2ZiMUh2VlFvY1FyZ0ZIOGdYQTdpU01QUlBiem8zVDdmTmJLZktrd3Z3TEpNLlNleUpwWkNJNkltNWxkeTFwWkNJc0luUWlPaUprYlNJc0luTWlPaUpvZEhSd09pOHZNVEkzTGpBdU1DNHhPamd3TURBaUxDSmhJanBiSW1ScFpHTnZiVzB2ZGpJaVhYMCM2TFNkclpxR1N3dGlzcHBjOTdvOFlqUFgzRHFlNWJaczFCUVg5Q3FwNWJyaEpDbSIsImVwayI6eyJjcnYiOiJYMjU1MTkiLCJ4IjoiSHZCZXBYSXJfWXFDYzF2ejczRWJQWnZweHlBaExKWGxjV3hTQlkxYl9YcyIsImt0eSI6Ik9LUCJ9fQ\",\"recipients\":[{\"header\":{\"kid\":\"did:peer:2.Ez6LSe7GvuSLrdHRkvD4sjVjBBwhPnzdk2BEN7E9SA32paMGy.Vz6MkoUj2ZmJiQsU2DUbuvose7ozyPqjxQpEYuUKipyjwJD8D.SeyJpZCI6Im5ldy1pZCIsInQiOiJkbSIsInMiOiJodHRwczovL3d3dy5leGFtcGxlLmNvbS9ob2xkZXIiLCJhIjpbImRpZGNvbW0vdjIiXX0#6LSe7GvuSLrdHRkvD4sjVjBBwhPnzdk2BEN7E9SA32paMGy\"},\"encrypted_key\":\"0kbhY1_GMORsEs8g9oOQXkVH06-P9gfU2cd_m8XUIurZP9xoMYdC_Nzg5u21y7dzBd9RMQEv_onfmFaPL4M1oT3iZz7dyX9N\"}],\"iv\":\"69u_CN7SzVB6EcMMiqt7gA\",\"ciphertext\":\"gJuaxt3z9c-W3NMyzoM5XRmF-vulKr_LXUct8SnOB__JqA2_Q3ooR1eRc7y3GwG16Ltv-SDa1JD6uOKQRPy6HJ_MGoWZzYob0_nK7GqmZSMxvfuEoOGJUKWK9C9kG8ZDAsbMR5wKHTIw0b08jX1y42bokajnTvU9gPETy9SkQYAAPHTOyutAS0LdUbuxPEBbPTBvJaYdy5zxzTcVxO4eHZQVvi1S2xTtdyrRXUjNAxeWf38W9JlgdiPEloMyjT2SdoY7vn8ItWxPws6ZNFsRwR-WmJYRa0DR76qKWQjGbT1YU0TgU-9im_VfzwxVg_MuE3f6uZaRRfSb3FFGFkeNE4hMcTnzDE3czxPQQBwTQs_YpALGJE0Id2T6xL1TFLflL4-Z1xvUjIWyZdh3_epNVaOHQ6-b7vh2EkadtvRTjITbhYWg90KGYNCbq836I2oayUs4OXCRaKU1D70wb4HuX96Qr5kMS1lnaNHCInAgWk4JM7sIz0KSolDzpIE3W2CV2JlpA5s6CdPjrn9J4qx-JCNSI7bo1lSWbKBYpgAwrm_gJczlktGkZ2k1lBc6eP-73URPubhF2jthdp4HFOfWLXqJqlvQqhyITHinfw8ajm4JaXc1ZuvHk9tXtRfdl562NfzavssCvOCCqbx3Nsm-EArGBfHzFCTRNvl-vG1X7eEncLqOQZyY3dT_SGRSA8Kv33lWFt0ia-nTG8kx605DxhOSQLSMs2Dq_E3KQJvXOFNYdIriabpK3IHuRGBzGZY39FJXDpnXBHnrKdKjoFuXJkU30KglX5SKr9USRTVnNfEQFRTJbSnZ8VYfulFhORsCv0KJHFOq7YNOcGKtEIUU4JD-s6Yj3kGuNca7WV_7_yDJJLbDQRS1rsnzgz0qUosD5JtYZpbDtVWQQXSOarUbTaIdPG4Yp21xbwMHxx9wJHn0tPULM13EueyBbhgsnnG6TCIvao69y6ewExlWVw_X0t778dUFtffeWbBMo4-FMssPtN7A0y_6S5DfkmLONP-UUDbMzDDV0FxK1CrNdOzH7H-bXh_gbsraAXMpYDH2uWWHZsaunfCNXoPoMuQV15vnPm69LeGd5n64eoEbY8AbC0coOCmbX7EN3A2Yhkw_9H0I-VZZBbAi0CF_-SKWtqM35x1XBbvCCRijPfP7siuvFCHsGwWP_W4tki_THn8RB48YBZdw0t4FfUVMlGEdnOCbrno0-ilWlrdAzUeBJKK1xsSoWrBZiBlCsfpVpn1ISUPDCm0IhcvtKx-Ux5pWmYXVoz3MAffirhFz9RYco7OyD77HmP9TAKibUJVSBfERSmsVEKV3yAEsRndXkBnKUy2t0dad2bELTTJGMJp0FUAfEgwNmWaBdwywcjqbbSnE1vcHSWbD0aOYiSMApP9XhHloH0SpAO3uTvuENioDd2YTOeJEKw2lrLh8dSxvXHyp9aSaui9SwXsYKGv5WmRByIZfUH8ZSXEQIReyDfCbZE8mcyw1F6r45CcYT2Y1B0SYYQlXwPOvTDCmCldnNMuRZ6CmbW8Z0dtkv8GRVNfv4DzenUz9D-AYLLfy_VS4krKwq4KiUspXsbVeYaXshsXdAT7sFIa0ZCtt94fSRfHGSC_JlJMVR5nXsFO-FHUprxgvNg4F0AOZVpySRWh4Vj0AkPdKMwyoSdC-0uTpNEW7J7ho1z4Hc9yUVf-iuEBN-mJBwLTR5pTAogwzWvebLIM5sc77e0WrlIleN2GBJumVk27eMlD6VFRxEBAtlsz3y8_lqb-coRMip2xrIv-gW5FkFKebz4IofmtSdWt4YgiO25QIeBHKU9AOH4KEXEEOvjW6lOeiLDE2BJt4R4Pk2psRBZQ2J5ZmHju_qILHLIKHmVSAN-WjT2dv9395PN8noj94oJmyaskas3bxeHVahttKQd878WuN7I3TAYkAJwxV2S1gy0nlE9_GbNpMKKeg4IUkvRvC7EaIlsr5BUvwG_Wqc0f_mBuHcil2uWSxbiiyh-cw8sgBQDcgqYr5O9PWLWkqa4h8e1ZrSYC7qLksVJku_k24lwP5KqCYzaxlVvSTak2hDMj0XK9sPpSqO1VVOFs1ITAkaDqppyVqCFQI7tS4MEgZFrloWxWUSI8KegxOs0sv1Olg2dzlMx-DQeuZXvlYjMk0zY2Jbbib40nHw5oZ5t7dcYXX5Uy0c0Q-ZHNTXyVlrWSbqvyJxCA1fALwXB1X7eFucEdTWn3WVA0L5AsdUwexWpp4-7YQUbo5FnZv_Fu3J-bkhxgAm6IlxedzsTyLA05VDMSeiik2KqJVvHYCwHvKuRNGKcC6O4Hj8fQ_NdxkHLDsXpcS25u-eTFxQLMbq62o1-kvL6l2K4_J68eOxofkgY2p8vEqyzZtMsK623UtLN66_TJ1MAg68IAqnA4C3u-T0-h0DZQ2zlMTmAhijfTx9mhSrj6e3RwJdxmqbZ21xAj3x6buz32GStrIonlq7mgpFoSDGUnGouSiCWVep0ZHXJVXB_O0A2rn9YGfmV4aq193tonMcIlAyHt_LisHGpu9kEZsEBq33hi08eCUOjSOUykhrc3vgG0XDYxGp6G16EiiHCbda9nr-TU1z0qtwlQ7lnUrmxLE7kHhEnl3yVTXCiOjgpeRwzAHEpppDwx-niL0ySctOuBg-LrzYeN5XADAe3oFMIbSRS5Bfyp5tVY5cGv0QdSssvaSj1atvOT2FMChu-da0_MuHFzzdyTSZFv8MnQLRSt6_rBGzLtzVxLP_rErFtYV-vNVaSREcq3Wi6t-2P4Jxz-fOSJpuBMVs7Guw8ApLigJiiD0Tu7OKSMNtYIUW0-4dF1zc3aTt4ucpkXS5t2uHFM_ihT5pAdCeiZ5h4zXNHRrB0_8qEJI9z_KYqYarY-xr7tqGKqBV8yv99M6Dh5d6ax_NrYBu4gF4vTkTcnxzvxcZucROk_MkOVwkfNK0JnDIC1MSx7L5FNolshNNjbcvJlRflQNovaEsD5uKkAhQ4SZAzcnYN46cvRHvIAU0drMp86vwonSp4-GG01F2AxJv6WPPoox7Dw1lmZSiAWmwBelJ_vHfzsLro674WQF1IBUXfp3thXIQfpJoT9Mhc8bGtBMHlgXOvkQFKreURYfNlFR8fYlwcbPN_1Mc8FCIvKUodHiUOAOwJDTc7jhsxPDN16y_zEWsHBlMYGAchXq3tAxJaaoy7TcypsgAuO4G_r8GY90ePDIkQZcSEoGWbygnfUFsRgcjQLjMZ2qbN3HgXZ0VY8JcY04dYRupRHz2X8e3O7hGeY-NTu1fdCRFQy0c75AY8BZyd7EmU4zr-WhRAcJ6tz4ynaEDp0Sv2wOEyzECIhaNSGSGtdeYcUQuw3Vb2CCPnzK1VGQlpOTbVrp5c4R2ddqeVpjlZBBG4VtjzLxEWF-EfqUnQRMtmlnN-qhfzj22-kp3XL0rWdEvsiLMZeR7uItr5bzRFr-3Y92Ek6P5SPqISkgWhHukWbRicEw8X8GprsGpbHooazQPAf35hvLMG0_2WmnmPWER0oRbA76FTq_JUiyCLcuSjd1ezeSTSK8kJt1i2ZxJG6Lc-AU6amQSzrXWe4SYKSdhyx9OdUZZBTtg-5uKs4NkTnzJogZU0MuEy4JCHqA-kBTL213Yvh4FjrmEsstdwIhYuWT9L7znk80dvF8nRsSirLxuUvWHZiNC7pbGhfMtJCgQ_RgHe297DD-qPWry-9SUljfOpFjJcdGTi82Dd3zd_usUiCSm_d01mY9F-5O55_JPvaoHN6GBHir7BG1nCUrOzjCR_ojKCwdbq2tXXp9Qx9JKiCQkpJ8ZxSmzTwoCkyPtiJivWSNFQJw33tIE6wkKwbIg5KU3BnZADRxi4lRaHv_b7C1kfu39QC7RgXzdOpx8Nx9SVeVUM4W68KzYTmWBkH2JXlDwl2Rs6bhCKbzWQIelWbvwYU8JOrdyAWRG_PvCisQYQW2b5UG86YC42JMrprDfhNsvjtumJKNMW8HeN05cPL0pDysnSaJafhMkefUbSntaSk5ShBYG2MNU3uZiaJk1gBdTXY4yc7VQG8EJkv6LSPEcjTg2t4OGfzEsxJbvuw0XDMGGbpgDPf4RCJMWwLjZxPSfZVYe1JVcxawxqj3vkpVAL_sJMgPZYBQ3Cv01XtenMxQS9LGjbmv2HSA33gHTjMZjv7Fbww1UJ67VsX0GnOF44YasHdPgw3Y9VY16CqjLH8DGGf6N0RBWH6nBDD3PO8gWmbOUit3F67ngTuAyE8l1YCawH7ljL3WmTVpF8w5jJ-x4CWJ1JpNqIXO7GsAdZdWLyKdzHoyt6RjlD9iPqSFbHI2Zd_DBtHDXctgawl7_FDYuqmVDgm80BC4cm9OrS_OqziJAFv5oaRVVf1x_j-i_j7GLUMEsdM6lECEBKdiqqWmkeqmXWt7J0Uja5IWaCSYKw139NXYUyAMZ-ngW5Vb9PT7P6TAsXJs85jWQc9qypYgkgAr75tl2oTju267w_JotP9TglLqhunlYSTcTJGzqJ0I-zQ3RBb5HknIFnKtYVc7K5GKt8b0g10dHZBTUHzddasDqBKG6kNr0eDWgfC_lq7JS_yQJPpZo84aeW-0UA55I8Co5FCTOvX5UAv_Ink-Nb-yCYjFsBPSUw\",\"tag\":\"RaOqypzufSkZEhu80xJS0RxSpXoQFQDmUW0dSRwo2j0\"}\n"
     ]
    }
   ],
   "source": [
    "headers = {\"Content-Type\": \"application/didcomm-encrypted+json\"}\n",
    "resp = requests.post(issuer_endpoint, headers=headers, data = holder_packed_msg.packed_msg)\n",
    "print(resp.json())\n"
   ]
  },
  {
   "cell_type": "markdown",
   "metadata": {},
   "source": [
    "### Issued Verifiable Credential Received"
   ]
  },
  {
   "cell_type": "code",
   "execution_count": 25,
   "metadata": {},
   "outputs": [],
   "source": [
    "credential_unpack_msg = await unpack(\n",
    "    resolvers_config=ResolversConfig(\n",
    "        secrets_resolver=secrets_resolver,\n",
    "        did_resolver=DIDResolverPeerDID()\n",
    "    ),\n",
    "    packed_msg= resp.json()\n",
    ")"
   ]
  },
  {
   "cell_type": "code",
   "execution_count": 26,
   "metadata": {},
   "outputs": [
    {
     "name": "stdout",
     "output_type": "stream",
     "text": [
      "UnpackResult(message=Message(id='ab33553c-0481-426f-8b02-fdd5334d0f1b', type='https://didcomm.org/issue-credential/3.0/issue-credential', body={'goal_code': 'issue-credential', 'comment': 'some comment'}, frm=None, to=None, created_time=None, expires_time=None, from_prior=FromPrior(iss='did:peer:2.Ez6LScxt3tfdPpy4CvsJYHY9ZeYhgEG91TfB1myJP3Bd7M8JY.Vz6MkkU3XMDFGkDLHBz6Vd3efjJwEDsCSGyccrBqMBDC3nGBo.SeyJpZCI6Im5ldy1pZCIsInQiOiJkbSIsInMiOiJodHRwOi8vMTI3LjAuMC4xOjgwMDAiLCJhIjpbImRpZGNvbW0vdjIiXX0', sub='did:peer:2.Ez6LSdrZqGSwtisppc97o8YjPX3Dqe5bZs1BQX9Cqp5brhJCm.Vz6Mkfb1HvVQocQrgFH8gXA7iSMPRPbzo3T7fNbKfKkwvwLJM.SeyJpZCI6Im5ldy1pZCIsInQiOiJkbSIsInMiOiJodHRwOi8vMTI3LjAuMC4xOjgwMDAiLCJhIjpbImRpZGNvbW0vdjIiXX0', aud=None, exp=None, nbf=None, iat=None, jti=None), please_ack=None, ack=None, thid=None, pthid=None, attachments=[Attachment(data=AttachmentDataJson(json={'@context': ['https://www.w3.org/2018/credentials/v1', 'https://www.w3.org/2018/credentials/examples/v1'], 'id': 'c349c695-85c9-46ef-be1f-2da7b11c7ff7', 'type': ['VerifiableCredential', 'UniversityDegreeCredential'], 'issuer': 'did:prism:1145ef74ffb572d569d0021bac21c7e67db67a18239d9ddd0e5658720dfe0601', 'issuanceDate': '2022-08-31T15:32:15Z', 'credentialSubject': {'id': 'did:prism:a08f49e61bc46dc82b6bd54dd62087c25b53b4a7ef98e549ce62ee4ad3450d5c', 'degree': {'type': 'BachelorDegree', 'name': 'Bachelor of Science and Arts'}}, 'options': {'proofType': 'EcdsaSecp256k1Signature2019'}, 'proof': {'type': 'EcdsaSecp256k1Signature2019', 'created': '2022-08-31T15:32:21Z', 'verificationMethod': 'did:prism:1145ef74ffb572d569d0021bac21c7e67db67a18239d9ddd0e5658720dfe0601', 'proofPurpose': 'assertionMethod', 'proofValue': 'eyJpZCI6ImRpZDpwcmlzbToxMTQ1ZWY3NGZmYjU3MmQ1NjlkMDAyMWJhYzIxYzdlNjdkYjY3YTE4MjM5ZDlkZGQwZTU2NTg3MjBkZmUwNjAxIiwia2V5SWQiOiJpc3N1aW5nMCIsImNyZWRlbnRpYWxTdWJqZWN0Ijp7Imlzc3VhbmNlRGF0ZSI6IjIwMjItMDgtMzFUMTU6MzI6MTVaIiwiY3JlZGVudGlhbFN1YmplY3QiOnsiZGVncmVlIjp7Im5hbWUiOiJCYWNoZWxvciBvZiBTY2llbmNlIGFuZCBBcnRzIiwidHlwZSI6IkJhY2hlbG9yRGVncmVlIn0sImlkIjoiZGlkOnByaXNtOmEwOGY0OWU2MWJjNDZkYzgyYjZiZDU0ZGQ2MjA4N2MyNWI1M2I0YTdlZjk4ZTU0OWNlNjJlZTRhZDM0NTBkNWMifSwib3B0aW9ucyI6eyJwcm9vZlR5cGUiOiJFY2RzYVNlY3AyNTZrMVNpZ25hdHVyZTIwMTkifSwiaWQiOiJkaWQ6cHJpc206YTA4ZjQ5ZTYxYmM0NmRjODJiNmJkNTRkZDYyMDg3YzI1YjUzYjRhN2VmOThlNTQ5Y2U2MmVlNGFkMzQ1MGQ1YyIsInR5cGUiOlsiVmVyaWZpYWJsZUNyZWRlbnRpYWwiLCJVbml2ZXJzaXR5RGVncmVlQ3JlZGVudGlhbCJdLCJAY29udGV4dCI6WyJodHRwczovL3d3dy53My5vcmcvMjAxOC9jcmVkZW50aWFscy92MSIsImh0dHBzOi8vd3d3LnczLm9yZy8yMDE4L2NyZWRlbnRpYWxzL2V4YW1wbGVzL3YxIl0sImlzc3VlciI6ImRpZDpwcmlzbToxMTQ1ZWY3NGZmYjU3MmQ1NjlkMDAyMWJhYzIxYzdlNjdkYjY3YTE4MjM5ZDlkZGQwZTU2NTg3MjBkZmUwNjAxIn19.MEYCIQCTtJ3kTnSzZXt_4X_2A3uvmOAyVK9NdbeFJA-9l1xyhwIhAISsTGCEwhNh0yp6CdFWDOUUOjSKGF4KZNoRLU_hsqGd', 'proofHash': '8d9ac08742992273223d8d2e299ed9fb898c8165e13142d6ae4576837da48f41', 'proofBatchId': '792d33e495e3df0373b889d6e2c880ab5ee2b1cf0323a42b3a2759ecd6358d57'}}, hash=None, jws=None), id='7c5e7eee-03a6-4ff4-8541-80de47fd1cea', description=None, filename=None, media_type='application/json', format='aries/ld-proof-vc-detail@v1.0', lastmod_time=None, byte_count=None)], custom_headers=None), metadata=Metadata(encrypted=True, authenticated=True, non_repudiation=False, anonymous_sender=False, re_wrapped_in_forward=False, encrypted_from='did:peer:2.Ez6LSdrZqGSwtisppc97o8YjPX3Dqe5bZs1BQX9Cqp5brhJCm.Vz6Mkfb1HvVQocQrgFH8gXA7iSMPRPbzo3T7fNbKfKkwvwLJM.SeyJpZCI6Im5ldy1pZCIsInQiOiJkbSIsInMiOiJodHRwOi8vMTI3LjAuMC4xOjgwMDAiLCJhIjpbImRpZGNvbW0vdjIiXX0#6LSdrZqGSwtisppc97o8YjPX3Dqe5bZs1BQX9Cqp5brhJCm', encrypted_to=['did:peer:2.Ez6LSe7GvuSLrdHRkvD4sjVjBBwhPnzdk2BEN7E9SA32paMGy.Vz6MkoUj2ZmJiQsU2DUbuvose7ozyPqjxQpEYuUKipyjwJD8D.SeyJpZCI6Im5ldy1pZCIsInQiOiJkbSIsInMiOiJodHRwczovL3d3dy5leGFtcGxlLmNvbS9ob2xkZXIiLCJhIjpbImRpZGNvbW0vdjIiXX0#6LSe7GvuSLrdHRkvD4sjVjBBwhPnzdk2BEN7E9SA32paMGy'], sign_from=None, from_prior_issuer_kid='did:peer:2.Ez6LScxt3tfdPpy4CvsJYHY9ZeYhgEG91TfB1myJP3Bd7M8JY.Vz6MkkU3XMDFGkDLHBz6Vd3efjJwEDsCSGyccrBqMBDC3nGBo.SeyJpZCI6Im5ldy1pZCIsInQiOiJkbSIsInMiOiJodHRwOi8vMTI3LjAuMC4xOjgwMDAiLCJhIjpbImRpZGNvbW0vdjIiXX0#6MkkU3XMDFGkDLHBz6Vd3efjJwEDsCSGyccrBqMBDC3nGBo', enc_alg_auth=<AuthCryptAlg.A256CBC_HS512_ECDH_1PU_A256KW: Algs(alg='ECDH-1PU+A256KW', enc='A256CBC-HS512')>, enc_alg_anon=None, sign_alg=None, signed_message=None, from_prior_jwt='eyJhbGciOiJFZERTQSIsInR5cCI6IkpXVCIsImtpZCI6ImRpZDpwZWVyOjIuRXo2TFNjeHQzdGZkUHB5NEN2c0pZSFk5WmVZaGdFRzkxVGZCMW15SlAzQmQ3TThKWS5WejZNa2tVM1hNREZHa0RMSEJ6NlZkM2Vmakp3RURzQ1NHeWNjckJxTUJEQzNuR0JvLlNleUpwWkNJNkltNWxkeTFwWkNJc0luUWlPaUprYlNJc0luTWlPaUpvZEhSd09pOHZNVEkzTGpBdU1DNHhPamd3TURBaUxDSmhJanBiSW1ScFpHTnZiVzB2ZGpJaVhYMCM2TWtrVTNYTURGR2tETEhCejZWZDNlZmpKd0VEc0NTR3ljY3JCcU1CREMzbkdCbyJ9.eyJpc3MiOiJkaWQ6cGVlcjoyLkV6NkxTY3h0M3RmZFBweTRDdnNKWUhZOVplWWhnRUc5MVRmQjFteUpQM0JkN004SlkuVno2TWtrVTNYTURGR2tETEhCejZWZDNlZmpKd0VEc0NTR3ljY3JCcU1CREMzbkdCby5TZXlKcFpDSTZJbTVsZHkxcFpDSXNJblFpT2lKa2JTSXNJbk1pT2lKb2RIUndPaTh2TVRJM0xqQXVNQzR4T2pnd01EQWlMQ0poSWpwYkltUnBaR052YlcwdmRqSWlYWDAiLCJzdWIiOiJkaWQ6cGVlcjoyLkV6NkxTZHJacUdTd3Rpc3BwYzk3bzhZalBYM0RxZTViWnMxQlFYOUNxcDVicmhKQ20uVno2TWtmYjFIdlZRb2NRcmdGSDhnWEE3aVNNUFJQYnpvM1Q3Zk5iS2ZLa3d2d0xKTS5TZXlKcFpDSTZJbTVsZHkxcFpDSXNJblFpT2lKa2JTSXNJbk1pT2lKb2RIUndPaTh2TVRJM0xqQXVNQzR4T2pnd01EQWlMQ0poSWpwYkltUnBaR052YlcwdmRqSWlYWDAifQ.I1YZaKQeGbBDjEB0UTXeM71fxyqBafqeBFoRhrzl1cko1IqeU8KDsW47WVCoiat4pJJqmEQNq0TCz7t_P9BxCg'))\n"
     ]
    }
   ],
   "source": [
    "print(credential_unpack_msg)"
   ]
  },
  {
   "cell_type": "code",
   "execution_count": 27,
   "metadata": {},
   "outputs": [
    {
     "name": "stdout",
     "output_type": "stream",
     "text": [
      "{'@context': ['https://www.w3.org/2018/credentials/v1', 'https://www.w3.org/2018/credentials/examples/v1'], 'id': 'c349c695-85c9-46ef-be1f-2da7b11c7ff7', 'type': ['VerifiableCredential', 'UniversityDegreeCredential'], 'issuer': 'did:prism:1145ef74ffb572d569d0021bac21c7e67db67a18239d9ddd0e5658720dfe0601', 'issuanceDate': '2022-08-31T15:32:15Z', 'credentialSubject': {'id': 'did:prism:a08f49e61bc46dc82b6bd54dd62087c25b53b4a7ef98e549ce62ee4ad3450d5c', 'degree': {'type': 'BachelorDegree', 'name': 'Bachelor of Science and Arts'}}, 'options': {'proofType': 'EcdsaSecp256k1Signature2019'}, 'proof': {'type': 'EcdsaSecp256k1Signature2019', 'created': '2022-08-31T15:32:21Z', 'verificationMethod': 'did:prism:1145ef74ffb572d569d0021bac21c7e67db67a18239d9ddd0e5658720dfe0601', 'proofPurpose': 'assertionMethod', 'proofValue': 'eyJpZCI6ImRpZDpwcmlzbToxMTQ1ZWY3NGZmYjU3MmQ1NjlkMDAyMWJhYzIxYzdlNjdkYjY3YTE4MjM5ZDlkZGQwZTU2NTg3MjBkZmUwNjAxIiwia2V5SWQiOiJpc3N1aW5nMCIsImNyZWRlbnRpYWxTdWJqZWN0Ijp7Imlzc3VhbmNlRGF0ZSI6IjIwMjItMDgtMzFUMTU6MzI6MTVaIiwiY3JlZGVudGlhbFN1YmplY3QiOnsiZGVncmVlIjp7Im5hbWUiOiJCYWNoZWxvciBvZiBTY2llbmNlIGFuZCBBcnRzIiwidHlwZSI6IkJhY2hlbG9yRGVncmVlIn0sImlkIjoiZGlkOnByaXNtOmEwOGY0OWU2MWJjNDZkYzgyYjZiZDU0ZGQ2MjA4N2MyNWI1M2I0YTdlZjk4ZTU0OWNlNjJlZTRhZDM0NTBkNWMifSwib3B0aW9ucyI6eyJwcm9vZlR5cGUiOiJFY2RzYVNlY3AyNTZrMVNpZ25hdHVyZTIwMTkifSwiaWQiOiJkaWQ6cHJpc206YTA4ZjQ5ZTYxYmM0NmRjODJiNmJkNTRkZDYyMDg3YzI1YjUzYjRhN2VmOThlNTQ5Y2U2MmVlNGFkMzQ1MGQ1YyIsInR5cGUiOlsiVmVyaWZpYWJsZUNyZWRlbnRpYWwiLCJVbml2ZXJzaXR5RGVncmVlQ3JlZGVudGlhbCJdLCJAY29udGV4dCI6WyJodHRwczovL3d3dy53My5vcmcvMjAxOC9jcmVkZW50aWFscy92MSIsImh0dHBzOi8vd3d3LnczLm9yZy8yMDE4L2NyZWRlbnRpYWxzL2V4YW1wbGVzL3YxIl0sImlzc3VlciI6ImRpZDpwcmlzbToxMTQ1ZWY3NGZmYjU3MmQ1NjlkMDAyMWJhYzIxYzdlNjdkYjY3YTE4MjM5ZDlkZGQwZTU2NTg3MjBkZmUwNjAxIn19.MEYCIQCTtJ3kTnSzZXt_4X_2A3uvmOAyVK9NdbeFJA-9l1xyhwIhAISsTGCEwhNh0yp6CdFWDOUUOjSKGF4KZNoRLU_hsqGd', 'proofHash': '8d9ac08742992273223d8d2e299ed9fb898c8165e13142d6ae4576837da48f41', 'proofBatchId': '792d33e495e3df0373b889d6e2c880ab5ee2b1cf0323a42b3a2759ecd6358d57'}}\n"
     ]
    }
   ],
   "source": [
    "print(credential_unpack_msg.message.attachments[0].data.json)"
   ]
  },
  {
   "cell_type": "code",
   "execution_count": null,
   "metadata": {},
   "outputs": [],
   "source": []
  },
  {
   "cell_type": "code",
   "execution_count": null,
   "metadata": {},
   "outputs": [],
   "source": []
  }
 ],
 "metadata": {
  "kernelspec": {
   "display_name": "Python 3 (ipykernel)",
   "language": "python",
   "name": "python3"
  },
  "language_info": {
   "codemirror_mode": {
    "name": "ipython",
    "version": 3
   },
   "file_extension": ".py",
   "mimetype": "text/x-python",
   "name": "python",
   "nbconvert_exporter": "python",
   "pygments_lexer": "ipython3",
   "version": "3.9.13"
  }
 },
 "nbformat": 4,
 "nbformat_minor": 2
}
