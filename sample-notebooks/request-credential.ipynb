{
 "cells": [
  {
   "cell_type": "code",
   "execution_count": 1,
   "metadata": {},
   "outputs": [],
   "source": [
    "import json\n",
    "import base64\n",
    "import qrcode\n",
    "import requests\n",
    "import datetime\n",
    "import urllib.parse\n",
    "import uuid\n",
    "import matplotlib.pyplot as plt\n",
    "from pymongo import MongoClient\n",
    "from typing import Optional, List\n",
    "from didcomm.common.types import DID, VerificationMethodType, VerificationMaterial, VerificationMaterialFormat\n",
    "from didcomm.did_doc.did_doc import DIDDoc, VerificationMethod, DIDCommService\n",
    "from didcomm.did_doc.did_resolver import DIDResolver\n",
    "from didcomm.message import Message, FromPrior\n",
    "from didcomm.secrets.secrets_resolver_demo import SecretsResolverDemo\n",
    "from didcomm.unpack import unpack, UnpackResult\n",
    "from didcomm.common.resolvers import ResolversConfig\n",
    "from didcomm.pack_encrypted import pack_encrypted, PackEncryptedConfig, PackEncryptedResult\n",
    "from peerdid.core.did_doc_types import DIDCommServicePeerDID\n",
    "from didcomm.secrets.secrets_util import generate_x25519_keys_as_jwk_dict, generate_ed25519_keys_as_jwk_dict, jwk_to_secret\n",
    "from peerdid import peer_did\n",
    "from peerdid.did_doc import DIDDocPeerDID\n",
    "from didcomm.message import Attachment, AttachmentDataJson\n",
    "from peerdid.types import VerificationMaterialAuthentication, VerificationMethodTypeAuthentication, VerificationMaterialAgreement, VerificationMethodTypeAgreement, VerificationMaterialFormatPeerDID"
   ]
  },
  {
   "cell_type": "markdown",
   "metadata": {},
   "source": [
    "## Helper function"
   ]
  },
  {
   "cell_type": "code",
   "execution_count": 2,
   "metadata": {},
   "outputs": [],
   "source": [
    "secrets_resolver = SecretsResolverDemo()"
   ]
  },
  {
   "cell_type": "code",
   "execution_count": 3,
   "metadata": {},
   "outputs": [],
   "source": [
    "class DIDResolverPeerDID(DIDResolver):\n",
    "    async def resolve(self, did: DID) -> DIDDoc:\n",
    "        did_doc_json = peer_did.resolve_peer_did(did, format = VerificationMaterialFormatPeerDID.JWK)\n",
    "        did_doc = DIDDocPeerDID.from_json(did_doc_json)\n",
    "\n",
    "        return DIDDoc(\n",
    "            did=did_doc.did,\n",
    "            key_agreement_kids = did_doc.agreement_kids,\n",
    "            authentication_kids = did_doc.auth_kids,\n",
    "            verification_methods = [\n",
    "                VerificationMethod(\n",
    "                    id = m.id,\n",
    "                    type = VerificationMethodType.JSON_WEB_KEY_2020,\n",
    "                    controller = m.controller,\n",
    "                    verification_material = VerificationMaterial(\n",
    "                        format = VerificationMaterialFormat.JWK,\n",
    "                        value = json.dumps(m.ver_material.value)\n",
    "                    )\n",
    "                )\n",
    "                for m in did_doc.authentication + did_doc.key_agreement\n",
    "            ],\n",
    "            didcomm_services = [\n",
    "                DIDCommService(\n",
    "                    id = s.id,\n",
    "                    service_endpoint = s.service_endpoint,\n",
    "                    routing_keys = s.routing_keys,\n",
    "                    accept = s.accept\n",
    "                )\n",
    "                for s in did_doc.service\n",
    "                if isinstance(s, DIDCommServicePeerDID)\n",
    "            ] if did_doc.service else []\n",
    "        )"
   ]
  },
  {
   "cell_type": "code",
   "execution_count": 4,
   "metadata": {},
   "outputs": [],
   "source": [
    "async def create_peer_did(self,\n",
    "                        auth_keys_count: int = 1,\n",
    "                        agreement_keys_count: int = 1,\n",
    "                        service_endpoint: Optional[str] = None,\n",
    "                        service_routing_keys: Optional[List[str]] = None\n",
    "                        ) -> str:\n",
    "        # 1. generate keys in JWK format\n",
    "        agreem_keys = [generate_x25519_keys_as_jwk_dict() for _ in range(agreement_keys_count)]\n",
    "        auth_keys = [generate_ed25519_keys_as_jwk_dict() for _ in range(auth_keys_count)]\n",
    "\n",
    "        # 2. prepare the keys for peer DID lib\n",
    "        agreem_keys_peer_did = [\n",
    "            VerificationMaterialAgreement(\n",
    "                type=VerificationMethodTypeAgreement.JSON_WEB_KEY_2020,\n",
    "                format=VerificationMaterialFormatPeerDID.JWK,\n",
    "                value=k[1],\n",
    "            )\n",
    "            for k in agreem_keys\n",
    "        ]\n",
    "        auth_keys_peer_did = [\n",
    "            VerificationMaterialAuthentication(\n",
    "                type=VerificationMethodTypeAuthentication.JSON_WEB_KEY_2020,\n",
    "                format=VerificationMaterialFormatPeerDID.JWK,\n",
    "                value=k[1],\n",
    "            )\n",
    "            for k in auth_keys\n",
    "        ]\n",
    "\n",
    "        # 3. generate service\n",
    "        service = None\n",
    "        if service_endpoint:\n",
    "            service = json.dumps(\n",
    "                DIDCommServicePeerDID(\n",
    "                    id=\"new-id\",\n",
    "                    service_endpoint=service_endpoint, routing_keys=service_routing_keys,\n",
    "                    accept=[\"didcomm/v2\"]\n",
    "                ).to_dict()\n",
    "            )\n",
    "\n",
    "        # 4. call peer DID lib\n",
    "        # if we have just one key (auth), then use numalg0 algorithm\n",
    "        # otherwise use numalg2 algorithm\n",
    "        if len(auth_keys_peer_did) == 1 and not agreem_keys_peer_did and not service:\n",
    "            did = peer_did.create_peer_did_numalgo_0(auth_keys_peer_did[0])\n",
    "        else:\n",
    "            did = peer_did.create_peer_did_numalgo_2(\n",
    "                encryption_keys=agreem_keys_peer_did,\n",
    "                signing_keys=auth_keys_peer_did,\n",
    "                service=service,\n",
    "            )\n",
    "\n",
    "        # 5. set KIDs as in DID DOC for secrets and store the secret in the secrets resolver\n",
    "        did_doc = DIDDocPeerDID.from_json(peer_did.resolve_peer_did(did))\n",
    "        for auth_key, kid in zip(auth_keys, did_doc.auth_kids):\n",
    "            private_key = auth_key[0]\n",
    "            private_key[\"kid\"] = kid\n",
    "            await secrets_resolver.add_key(jwk_to_secret(private_key))\n",
    "\n",
    "        for agreem_key, kid in zip(agreem_keys, did_doc.agreement_kids):\n",
    "            private_key = agreem_key[0]\n",
    "            private_key[\"kid\"] = kid\n",
    "            await secrets_resolver.add_key(jwk_to_secret(private_key))\n",
    "\n",
    "        return did\n"
   ]
  },
  {
   "cell_type": "markdown",
   "metadata": {},
   "source": [
    "### Reading issuer OOB message"
   ]
  },
  {
   "cell_type": "code",
   "execution_count": 5,
   "metadata": {},
   "outputs": [
    {
     "name": "stdout",
     "output_type": "stream",
     "text": [
      "https://mediator.rootsid.cloud?_oob=eyJ0eXBlIjoiaHR0cHM6Ly9kaWRjb21tLm9yZy9vdXQtb2YtYmFuZC8yLjAvaW52aXRhdGlvbiIsImlkIjoiMmYyMzMxYzYtNmZhYy00OTJhLWFjNTktYzQ1MTM2N2Y1MDA2IiwiZnJvbSI6ImRpZDpwZWVyOjIuRXo2TFNjMUdhTk4xN0tZN1pwM25SN0Nheko3aGY0Ym1iZFB5cEE5R0I0NEc5bjZCZy5WejZNa3BVeVEyQTRWajE1a2FEVXdCZndaZVRQWXR5QmszSmN3VWh6WUE2alNEeUh3LlNleUpwWkNJNkltNWxkeTFwWkNJc0luUWlPaUprYlNJc0luTWlPaUpvZEhSd2N6b3ZMMjFsWkdsaGRHOXlMbkp2YjNSemFXUXVZMnh2ZFdRaUxDSmhJanBiSW1ScFpHTnZiVzB2ZGpJaVhYMCIsImJvZHkiOnsiZ29hbF9jb2RlIjoicmVxdWVzdC1tZWRpYXRlIiwiZ29hbCI6IlJlcXVlc3RNZWRpYXRlIiwibGFiZWwiOiJNZWRpYXRvciIsImFjY2VwdCI6WyJkaWRjb21tL3YyIl19fQ\n"
     ]
    }
   ],
   "source": [
    "oob_url = requests.get(\"https://mediator.rootsid.cloud/oob_url\").text\n",
    "#oob_url = requests.get(\"http://127.0.0.1:8000/oob_url\").text\n",
    "print(oob_url)"
   ]
  },
  {
   "cell_type": "code",
   "execution_count": 6,
   "metadata": {},
   "outputs": [
    {
     "name": "stdout",
     "output_type": "stream",
     "text": [
      "{'type': 'https://didcomm.org/out-of-band/2.0/invitation', 'id': '2f2331c6-6fac-492a-ac59-c451367f5006', 'from': 'did:peer:2.Ez6LSc1GaNN17KY7Zp3nR7CazJ7hf4bmbdPypA9GB44G9n6Bg.Vz6MkpUyQ2A4Vj15kaDUwBfwZeTPYtyBk3JcwUhzYA6jSDyHw.SeyJpZCI6Im5ldy1pZCIsInQiOiJkbSIsInMiOiJodHRwczovL21lZGlhdG9yLnJvb3RzaWQuY2xvdWQiLCJhIjpbImRpZGNvbW0vdjIiXX0', 'body': {'goal_code': 'request-mediate', 'goal': 'RequestMediate', 'label': 'Mediator', 'accept': ['didcomm/v2']}}\n"
     ]
    }
   ],
   "source": [
    "received_msg_encoded = oob_url.split(\"=\")[1]\n",
    "received_msg_decoded = json.loads(str(base64.urlsafe_b64decode(received_msg_encoded + \"==\"), \"utf-8\"))\n",
    "print(received_msg_decoded)"
   ]
  },
  {
   "cell_type": "markdown",
   "metadata": {},
   "source": [
    "## Prepare request-credential"
   ]
  },
  {
   "cell_type": "markdown",
   "metadata": {},
   "source": [
    "The holder needs to create a did:peer to communicate with the issuer:"
   ]
  },
  {
   "cell_type": "code",
   "execution_count": 7,
   "metadata": {},
   "outputs": [
    {
     "name": "stdout",
     "output_type": "stream",
     "text": [
      "Holder's DID: did:peer:2.Ez6LSsGeMovkB9bDB6mhsPMsfrTn7hWBm8pgzoU6UXHb12H7V.Vz6MkhNnr5r6GMfutEiABzmdyTkFBtxTHFQeNoLopqcBYJ4fm.SeyJpZCI6Im5ldy1pZCIsInQiOiJkbSIsInMiOiJodHRwczovL3d3dy5leGFtcGxlLmNvbS9ob2xkZXIiLCJhIjpbImRpZGNvbW0vdjIiXX0\n"
     ]
    }
   ],
   "source": [
    "holder_did = await create_peer_did(1,1, service_endpoint=\"https://www.example.com/holder\")\n",
    "print(\"Holder's DID:\", holder_did)"
   ]
  },
  {
   "cell_type": "markdown",
   "metadata": {},
   "source": [
    "Also, the holder needs to provide a did:prism where the credential will be issued to."
   ]
  },
  {
   "cell_type": "code",
   "execution_count": 8,
   "metadata": {},
   "outputs": [],
   "source": [
    "holder_prism_did = \"did:prism:a08f49e61bc46dc82b6bd54dd62087c25b53b4a7ef98e549ce62ee4ad3450d5c\""
   ]
  },
  {
   "cell_type": "markdown",
   "metadata": {},
   "source": [
    "The following is a JSON-LD credential request that the holder will submmit to the issuer."
   ]
  },
  {
   "cell_type": "code",
   "execution_count": 9,
   "metadata": {},
   "outputs": [],
   "source": [
    "credential_request = {\n",
    "    \"credential\": {\n",
    "        \"@context\": \n",
    "        [\n",
    "            \"https://www.w3.org/2018/credentials/v1\",\n",
    "            \"https://www.w3.org/2018/credentials/examples/v1\"\n",
    "        ],\n",
    "        \"id\": str(uuid.uuid4()),\n",
    "        \"type\": [\"VerifiableCredential\", \"UniversityDegreeCredential\"],\n",
    "        \"issuer\": \"TBD\",\n",
    "        \"issuanceDate\": datetime.datetime.now().strftime(\"%Y-%m-%dT%H:%M:%SZ\"),\n",
    "        \"credentialSubject\": \n",
    "            {\n",
    "              \"id\": holder_prism_did,\n",
    "              \"degree\": \n",
    "                {\n",
    "                    \"type\": \"BachelorDegree\",\n",
    "                    \"name\": \"Bachelor of Science and Arts\"\n",
    "                  }\n",
    "            },\n",
    "        \"options\": {\n",
    "            \"proofType\": \"EcdsaSecp256k1Signature2019\"\n",
    "        }\n",
    "    }\n",
    "}"
   ]
  },
  {
   "cell_type": "markdown",
   "metadata": {},
   "source": [
    "Finally the holder prepares the didcomm message following issue-credential/3.0 protocol:"
   ]
  },
  {
   "cell_type": "code",
   "execution_count": 10,
   "metadata": {},
   "outputs": [],
   "source": [
    "\n",
    "holder_response_message = Message(\n",
    "    custom_headers = [{\n",
    "        \"return_route\": \"all\"}],\n",
    "    id = str(uuid.uuid4()),\n",
    "    #pthid = received_msg_decoded[\"id\"],\n",
    "    type = \"https://didcomm.org/issue-credential/3.0/request-credential\",\n",
    "    frm = holder_did,\n",
    "    to = [received_msg_decoded[\"from\"]],\n",
    "    body = {\n",
    "        \"goal_code\": \"issue-credential\",\n",
    "        \"comment\": \"some comment\"\n",
    "    },\n",
    "    attachments = [\n",
    "        Attachment(\n",
    "                id=str(uuid.uuid4()),\n",
    "                media_type= \"application/json\",\n",
    "                format= \"aries/ld-proof-vc-detail@v1.0\",\n",
    "                data=AttachmentDataJson(json=credential_request)\n",
    "                )\n",
    "    ]\n",
    "                        \n",
    ")"
   ]
  },
  {
   "cell_type": "code",
   "execution_count": 12,
   "metadata": {},
   "outputs": [
    {
     "data": {
      "text/plain": [
       "{'id': 'd5a056aa-b3e7-47db-befc-c963a8e0178e',\n",
       " 'type': 'https://didcomm.org/issue-credential/3.0/request-credential',\n",
       " 'body': {'goal_code': 'issue-credential', 'comment': 'some comment'},\n",
       " 'to': ['did:peer:2.Ez6LSc1GaNN17KY7Zp3nR7CazJ7hf4bmbdPypA9GB44G9n6Bg.Vz6MkpUyQ2A4Vj15kaDUwBfwZeTPYtyBk3JcwUhzYA6jSDyHw.SeyJpZCI6Im5ldy1pZCIsInQiOiJkbSIsInMiOiJodHRwczovL21lZGlhdG9yLnJvb3RzaWQuY2xvdWQiLCJhIjpbImRpZGNvbW0vdjIiXX0'],\n",
       " 'attachments': [{'data': {'json': {'credential': {'@context': ['https://www.w3.org/2018/credentials/v1',\n",
       "       'https://www.w3.org/2018/credentials/examples/v1'],\n",
       "      'id': '0c936254-289f-4c73-a7fc-965932faa28a',\n",
       "      'type': ['VerifiableCredential', 'UniversityDegreeCredential'],\n",
       "      'issuer': 'TBD',\n",
       "      'issuanceDate': '2022-10-24T18:19:17Z',\n",
       "      'credentialSubject': {'id': 'did:prism:a08f49e61bc46dc82b6bd54dd62087c25b53b4a7ef98e549ce62ee4ad3450d5c',\n",
       "       'degree': {'type': 'BachelorDegree',\n",
       "        'name': 'Bachelor of Science and Arts'}},\n",
       "      'options': {'proofType': 'EcdsaSecp256k1Signature2019'}}}},\n",
       "   'id': '725dd529-7cb6-4992-af76-abbf51ea9cc2',\n",
       "   'media_type': 'application/json',\n",
       "   'format': 'aries/ld-proof-vc-detail@v1.0'}],\n",
       " 'custom_headers': [{'return_route': 'all'}],\n",
       " 'from': 'did:peer:2.Ez6LSsGeMovkB9bDB6mhsPMsfrTn7hWBm8pgzoU6UXHb12H7V.Vz6MkhNnr5r6GMfutEiABzmdyTkFBtxTHFQeNoLopqcBYJ4fm.SeyJpZCI6Im5ldy1pZCIsInQiOiJkbSIsInMiOiJodHRwczovL3d3dy5leGFtcGxlLmNvbS9ob2xkZXIiLCJhIjpbImRpZGNvbW0vdjIiXX0',\n",
       " 'typ': 'application/didcomm-plain+json'}"
      ]
     },
     "execution_count": 12,
     "metadata": {},
     "output_type": "execute_result"
    }
   ],
   "source": [
    "holder_response_message.as_dict()"
   ]
  },
  {
   "cell_type": "code",
   "execution_count": 69,
   "metadata": {},
   "outputs": [],
   "source": [
    "holder_packed_msg = await pack_encrypted(\n",
    "    resolvers_config = ResolversConfig(\n",
    "        secrets_resolver = secrets_resolver,\n",
    "        did_resolver = DIDResolverPeerDID()\n",
    "    ),\n",
    "    message = holder_response_message,\n",
    "    frm = holder_did,\n",
    "    to = received_msg_decoded[\"from\"],\n",
    "    sign_frm = None,\n",
    "    pack_config = PackEncryptedConfig(protect_sender_id=False)\n",
    ")"
   ]
  },
  {
   "cell_type": "markdown",
   "metadata": {},
   "source": [
    "### Sending the message to Mediator"
   ]
  },
  {
   "cell_type": "markdown",
   "metadata": {},
   "source": [
    "From the issuer DID obtained in the OOB QR Code, we can get the DID document:"
   ]
  },
  {
   "cell_type": "code",
   "execution_count": 70,
   "metadata": {},
   "outputs": [
    {
     "name": "stdout",
     "output_type": "stream",
     "text": [
      "{'id': 'did:peer:2.Ez6LSgi5Y8dCJg9SJ3PbbooN1Xf9rekY5Z5d29kSwynTVQi97.Vz6Mkm9nW2RvFs9gK2EEPaxRpxdPsDoRZjac7THdRGFnLsFjt.SeyJpZCI6Im5ldy1pZCIsInQiOiJkbSIsInMiOiJodHRwczovL21lZGlhdG9yLnJvb3RzaWQuY2xvdWQiLCJhIjpbImRpZGNvbW0vdjIiXX0', 'authentication': [{'id': 'did:peer:2.Ez6LSgi5Y8dCJg9SJ3PbbooN1Xf9rekY5Z5d29kSwynTVQi97.Vz6Mkm9nW2RvFs9gK2EEPaxRpxdPsDoRZjac7THdRGFnLsFjt.SeyJpZCI6Im5ldy1pZCIsInQiOiJkbSIsInMiOiJodHRwczovL21lZGlhdG9yLnJvb3RzaWQuY2xvdWQiLCJhIjpbImRpZGNvbW0vdjIiXX0#6Mkm9nW2RvFs9gK2EEPaxRpxdPsDoRZjac7THdRGFnLsFjt', 'type': 'Ed25519VerificationKey2020', 'controller': 'did:peer:2.Ez6LSgi5Y8dCJg9SJ3PbbooN1Xf9rekY5Z5d29kSwynTVQi97.Vz6Mkm9nW2RvFs9gK2EEPaxRpxdPsDoRZjac7THdRGFnLsFjt.SeyJpZCI6Im5ldy1pZCIsInQiOiJkbSIsInMiOiJodHRwczovL21lZGlhdG9yLnJvb3RzaWQuY2xvdWQiLCJhIjpbImRpZGNvbW0vdjIiXX0', 'publicKeyMultibase': 'z6Mkm9nW2RvFs9gK2EEPaxRpxdPsDoRZjac7THdRGFnLsFjt'}], 'keyAgreement': [{'id': 'did:peer:2.Ez6LSgi5Y8dCJg9SJ3PbbooN1Xf9rekY5Z5d29kSwynTVQi97.Vz6Mkm9nW2RvFs9gK2EEPaxRpxdPsDoRZjac7THdRGFnLsFjt.SeyJpZCI6Im5ldy1pZCIsInQiOiJkbSIsInMiOiJodHRwczovL21lZGlhdG9yLnJvb3RzaWQuY2xvdWQiLCJhIjpbImRpZGNvbW0vdjIiXX0#6LSgi5Y8dCJg9SJ3PbbooN1Xf9rekY5Z5d29kSwynTVQi97', 'type': 'X25519KeyAgreementKey2020', 'controller': 'did:peer:2.Ez6LSgi5Y8dCJg9SJ3PbbooN1Xf9rekY5Z5d29kSwynTVQi97.Vz6Mkm9nW2RvFs9gK2EEPaxRpxdPsDoRZjac7THdRGFnLsFjt.SeyJpZCI6Im5ldy1pZCIsInQiOiJkbSIsInMiOiJodHRwczovL21lZGlhdG9yLnJvb3RzaWQuY2xvdWQiLCJhIjpbImRpZGNvbW0vdjIiXX0', 'publicKeyMultibase': 'z6LSgi5Y8dCJg9SJ3PbbooN1Xf9rekY5Z5d29kSwynTVQi97'}], 'service': [{'id': 'did:peer:2.Ez6LSgi5Y8dCJg9SJ3PbbooN1Xf9rekY5Z5d29kSwynTVQi97.Vz6Mkm9nW2RvFs9gK2EEPaxRpxdPsDoRZjac7THdRGFnLsFjt.SeyJpZCI6Im5ldy1pZCIsInQiOiJkbSIsInMiOiJodHRwczovL21lZGlhdG9yLnJvb3RzaWQuY2xvdWQiLCJhIjpbImRpZGNvbW0vdjIiXX0#didcommmessaging-0', 'type': 'DIDCommMessaging', 'serviceEndpoint': 'https://mediator.rootsid.cloud', 'accept': ['didcomm/v2']}]}\n"
     ]
    }
   ],
   "source": [
    "issuer_did_doc = json.loads(peer_did.resolve_peer_did(received_msg_decoded[\"from\"]))\n",
    "print(issuer_did_doc)"
   ]
  },
  {
   "cell_type": "markdown",
   "metadata": {},
   "source": [
    "And from there get the issuer's endpoint"
   ]
  },
  {
   "cell_type": "code",
   "execution_count": 71,
   "metadata": {},
   "outputs": [
    {
     "name": "stdout",
     "output_type": "stream",
     "text": [
      "https://mediator.rootsid.cloud\n"
     ]
    }
   ],
   "source": [
    "issuer_endpoint = issuer_did_doc[\"service\"][0][\"serviceEndpoint\"]\n",
    "print(issuer_endpoint)"
   ]
  },
  {
   "cell_type": "markdown",
   "metadata": {},
   "source": [
    "Finally sending the request to the issuer:"
   ]
  },
  {
   "cell_type": "code",
   "execution_count": 72,
   "metadata": {},
   "outputs": [
    {
     "name": "stdout",
     "output_type": "stream",
     "text": [
      "{\"protected\":\"eyJ0eXAiOiJhcHBsaWNhdGlvbi9kaWRjb21tLWVuY3J5cHRlZCtqc29uIiwiYWxnIjoiRUNESC0xUFUrQTI1NktXIiwiZW5jIjoiQTI1NkNCQy1IUzUxMiIsImFwdSI6IlpHbGtPbkJsWlhJNk1pNUZlalpNVTJkWlRsZHdhbUpNUW5Sall6VkNkVmRPY0dOcldIVlZWemRvWjI1TlIzUkVVSGRMUlVGeE5uUlFNek5STGxaNk5rMXJiVlZUWW5rMlltaERNVlJoUm5wMFdXMHlSR05RZDBkTVdrdGlRemRCYUZCck56Sk1WelV6Ym5wbVVHTXVVMlY1U25CYVEwazJTVzAxYkdSNU1YQmFRMGx6U1c1UmFVOXBTbXRpVTBselNXNU5hVTlwU205a1NGSjNZM3B2ZGt3eU1XeGFSMnhvWkVjNWVVeHVTblppTTFKNllWZFJkVmt5ZUhaa1YxRnBURU5LYUVscWNHSkpiVkp3V2tkT2RtSlhNSFprYWtscFdGZ3dJelpNVTJkWlRsZHdhbUpNUW5Sall6VkNkVmRPY0dOcldIVlZWemRvWjI1TlIzUkVVSGRMUlVGeE5uUlFNek5SIiwiYXB2IjoiMV8zeThjMnBzTHNhOXhDTU4wWGx6OHRxY25QaF9Na0dreHBYY2xUYjFpayIsInNraWQiOiJkaWQ6cGVlcjoyLkV6NkxTZ1lOV3BqYkxCdGNjNUJ1V05wY2tYdVVXN2hnbk1HdERQd0tFQXE2dFAzM1EuVno2TWttVVNieTZiaEMxVGFGenRZbTJEY1B3R0xaS2JDN0FoUGs3MkxXNTNuemZQYy5TZXlKcFpDSTZJbTVsZHkxcFpDSXNJblFpT2lKa2JTSXNJbk1pT2lKb2RIUndjem92TDIxbFpHbGhkRzl5TG5KdmIzUnphV1F1WTJ4dmRXUWlMQ0poSWpwYkltUnBaR052YlcwdmRqSWlYWDAjNkxTZ1lOV3BqYkxCdGNjNUJ1V05wY2tYdVVXN2hnbk1HdERQd0tFQXE2dFAzM1EiLCJlcGsiOnsiY3J2IjoiWDI1NTE5IiwieCI6IjFLbk0yQVpId0ZNa3puNDhMMEhpUFpfVWFtbk9NWmdlTVNmTHotQU41WE0iLCJrdHkiOiJPS1AifX0\",\"recipients\":[{\"header\":{\"kid\":\"did:peer:2.Ez6LSgCdH2y2iUKMcQdcS7FZZuLjwnSymmaiFoQZHnjnSL1Fq.Vz6Mkeg1uo6s8kHQjUr9MQaFUvp7cTo44szb6ecviunoaU9dn.SeyJpZCI6Im5ldy1pZCIsInQiOiJkbSIsInMiOiJodHRwczovL3d3dy5leGFtcGxlLmNvbS9ob2xkZXIiLCJhIjpbImRpZGNvbW0vdjIiXX0#6LSgCdH2y2iUKMcQdcS7FZZuLjwnSymmaiFoQZHnjnSL1Fq\"},\"encrypted_key\":\"vBFlsyDx9PND9gSx95DQKDf5_Si_RGzdMRCEr2sWJu0R4Qyy8K3hRN-JegM1DL_ssGogrUEAMSTll7eVSbLA1IAOHBn823B_\"}],\"iv\":\"ZkgmfZpQPdfV8ClsDNm6jQ\",\"ciphertext\":\"bwSjs5H96N_kn-Ey490ec5Kh-wHmWcFrJ1y46dscQTp4mwJ9jHY60GqIfgcAORhJ90il8HjN1ok96hEEmDeNwI3k8eR1oAm-MwZtVHCgQCUWhHdAA18cvBuSzOKC12-m0Cm_rZp-scZOmGVVTPTlvu52h0QxStGWV2x5O1bdWNysS1DaT9mhOSDLkX4l41Jz6tk5TVkmMyjOKN12fnkM_qQYWbLt5VsYy_cB5aj-4dxm1oPV4Zyj577IwNqZI_lX7zfBcKw6zmVPyS-DvzfP3QelzR4SwXKkIgnJwA5TS7MoKfuripeeXDK_y3ePHkbm6kkNbnRwpBaQv8_IQtHzagdLfz7JtNjq5coFcZiNbR-Z61MTKj6ANs_yvjBwbnJ4aAJon2i8mefZByeJCtl2SiT9DePPCa5KhoDZexTwld67Hvai_BTa4269agh379ZBsokvSYCvlBi2ccPWsG_p5FxYSWGWXrugL3lSFhCZwq2lCTZR2O5SM5YbRNcVdCB9SowfCGmoqfSe5q7v-ufzhYd4ZH9QK7tPToSTMCtwTR2htdOXJgDJ3E1GXx-Q1fCd_Rm1302gSise9WtrpZwQVM7zTmC5tg9_MFlnVoTyYqPq0Gf_uUfV8ALHcJfW7AuOKkTJ4g6hnJDc5xm1O0zjlnfjgWRJhuuXxzmv3sfmoSZkpV31LYETyTcUCs5osgLy6scp4K2coucm9RruNX106QrJn-VHTQF-YFISdWH0TXsrTxZqnRzK3p8BzbV5QoMi0jjB-V2UGBwlULSrwjAJafpmdeWOWgEgC1QUEQt4dqRlvfCO4w7-0_gXy9l-qPCxMSf-CGbfjlx2LoCeTGZFUCmUzEZS0G6TH4a4SPiuYXifhl9DM2fKmGaR8vJTI4xVT6Y5bl2iegi2nAEQbkQSk20jcEW8l7efLk9FT8tbMoGaShcsD0HeK3xYqQPE0LnNhPVWOLUhndlmAKK94XQx35vRwgK_PtsctFaaqGVmkYThUa55u2gV8u-GXKy8sgVfZ7GFXvK34WOIJs0YXo-1YDj17s4Lgdc7sJ5FMLF44u21k9WPFTwOkmsyFd79v_zVxH2394XesqATNI2Gg_H4ZU34JPktDMV-uPPBSzLJWPhq5vRRKkCRLB7JazFx-O9N6FC397dcIkAGUGV8ffWOS2UmZmBiUoq-_pEkeCrMlrLUwvb-SybETKDdzsEMGmDFic2siHVZBeiVCs-YCwEfEl2u9R1_iazpBZyhV3Ly4eUyZ0ewfr-u5Zi7F_tdSNcgvEfKpU2d3K4xBMXddK9W8fQGCwpaPMEvZ0bj65M20sTrQaVlF5LG8d5eH1ux4FJ9370G0js7zxltah9rIER_py89T62U9NGq-mKAi19r0vBOxMc684wXQpOxDbi2kxERIcxjtFtubThPpSrse39WkM5cmHDtJvUaV33uM5EANCKiWn4K7ua1ieMGVYmS_z5BuNURZv1GciWbqgMCru8CQS4KjcNGDOlhfmWLccR3ye9aTx_NNDjbtWXDRJ4f4AaxPA-BEqrU78Kis5-cjC3O3J00Icn77Gx2LhD-XyeVX2E2bxFrQylKpwquOrJKM1_vx9ePoFSXP9SawtukmnxiQWhipfoh0j2h9LhMCXT1IwKdVYfWyf4SKFnKX0h4wWaNDsGHb1zu96F2Bkrse6l4KquwE7ZDmQRQnUPNTHLMCUq0tdGpLGEnshTzA_SzsvcIsFkkw0GdBWo6IqfAlPm8chiDteHgIu7blcteCwUura9loOLh-O-1mUuDFbWy6KayuxGO5TG_mLltQK4ubXfYkhkxIFmqkKF-fTvCvmgI1Z-VIezt5HwbrKsMHdECyCX6d_ZHbC-1cPjUaLzJ6MgOXLknrIDu92_OL0RuIdU06ui7pTQRf5zazSalArYOfkP7RnMNIvKL8tdgwxGGgxcCjvqlZ5stDQ3s6LXEQjbeNjNtnY3BPlwOVwToLTbT4XjXpi28ifp2I-4NwU8J19YgG72-ou0rmVNaDlB9gUMVE6jwhYrMj-3qH8GTbi_vG3P_m6OfehRlrixSeGbX-eWAS8K3TDISfStOTceOQqmd-wYrf6nMoF09RrQc5D2KkgROFHi8lnkulgFWo-B_8NWRkXavOOSXTjE1XrcecuRas1ecdoVPtW46MCuG_g_KbPbL8NMC8ksVzPeb3OmF9mccszph86C3EyPQM_GrBMENKiJnj_-HtamigWBDIn6QutWityy0MyLTuwMrk5TaZxYGkJjrUN7FWJGsyN9J8pnZ4ZyhnuuRC8CQAAnIEZM4qGyYRq8ctPiXL-5F2IMiS3XOlB-yOnb6luN67M53xY4R6g-Y5RFOE0sE2QvSeTale1wHVy7o0NT4dp8o7LMkqgmOi1IQ_TBNHpdLgh0FMW8Xq6zceDwdlAvsMYdnobrC04riHorZSR_FYWXNARadk12qSkCdxUwoXZH57dbFzZlyJj5psYXsPV0bQKfhw7_xk0nMFQi6lw7V7K63CbcMx4oCOEbCuDnDygMrlcKjfZvfFojFDkv_TT2g2fTqZPcdBNm9Wmgmw-6CnyuU6-jP6ymJivwkh5SuaR_4WYyAmArgBqYn3VXIUraKVQoK3k4lkC07M3sHfqspBfXrUAngX6Llpjz8KJm2LJYMjgIYZskw8EjmHP-tbYl-codnnTITuRQ0lKwP1kW1Pyq3x1dLDxPl9x9bNG6w4avWrJPNUqd9hgmbnCrC4BT-EGcdneOiqJeIDIpQakbXPHMoiO3QL9Gxzpfx8mmEea03_41pMJwgnEPnwvVctmUBupVuJjYSJyBMoJ61RuUhKbV-lTCFLoy88UR1gZ8qD78D2aCt8poCrmF0bLwR2YI-5Q6cS6VceZQNbZWnwWY7SoANvA9YbQ1OO8h9tlRUqm-gSBkV5eLCJdEjaPZ7ykuyce8teyaZPg9UbJHu2N6mC5XLVqNqO1Xr2PunEVHWZhagvG-YVM3v0RtCXu3cFk47it7nsG-KVPls0jkak1YxxCI4tppDwoLgxybJ3P9di-cC_e2LR3ReUUO70_3U4p-kL3Cb0hjUzhEDOfdsD7wCqye5K12yvauXUt1SsKAPC4699nOwcRSEqxe2YmyN7YhSVrXqhl3k17Nvkd6TjC9iSmXg8nUAO8IsdhiCH5UkFOM6X7eBKnzdUFq84s_g9evNzpmTyJYqFU12auDOa-JgKYy8AVNFBc-Q2OwJQPAl5_5-keXHDZIbkQBn629ryIK2Glq0bdlWk-ZWaInK0yqmE5wHfvmFHbxVlTENzFDXhK6bbPUnXqDuH2jrC5GkvmGHJy_Hj_w2Bokwf-JGLVs0kDm6hufCIVaBL1Fg9E9yOhe0MEst8BaekiDiCWWBYk2rO5v5l6I8VMnSr9DQ83xP2WKe1TFY1x_90umQfefkxIXKJTtnkTAX3f71W7S7dCou1RyOg1vPF6TcntAwRVd1Z34GYes5OtQ-DlGAYfvmWdf2VX3ukbfjlu1lRR4nyfu9LWiRodU6vHv1Gaxs-nJwSTi6MtqZ_TcXgd0g1MXQdl-_DDtzNS467h_gPCga_YLIklIupUMWePy9WLnVEzwiD-AUOd6vA1PpPZxllJ5PmlZa4T7ZrU6ZVMVGKa9LKhybmHAdi3UA5Y11Y3SXapKPJPGlmrBWHYo8VVMA3alurU4dVGeeuqZ3XpDrJhlOHtkeRID-B5uO8R9pU-scTk6IFGd75_XB5A-tskCO1qccTR54jbI4I4-LAZMJUj2BIkiN_3Fk6KKXiKNJbvxqIxUaH9Fx7S__qlZE3kmxhSUehqqMulnB9m82HLHIEAodwnD41-OLCcpz0eYUiP3ndHz0yyFfjfh4WmwAvLBiLWnhKnc3QfuopNe7Fc3Apjzeux9KG_H0anKs-Sbuoh-60ncihHcap-btT2PJsPJ-qTRHbSOKsLWInE7mlrUjjfO0-6o2Xrr9_1ln1eWGujN1hlDaJl0gz2a2q26IRi3bta-6hc4t4pm7m5_SHliQPK86q0nsinZCxm-yDKYJZoAg3NUHhwm_6M7nIwSBYJ5XssuOw41x2McA5pTmPjoogumZ_QRG17DXosXcLQmnNC1U7VzjhpxwBnNoQS4waBDgT_AjkrdRQHD6K3ri-2vxBvoRuzpSdeNfC1M687vSDQ2ztkcfGGeHz6gAxI9SgcKeUP1t3MEZdJMZjtDiE_pbf0P1nlKKeaOJWDM4HMxXk82qNPuPyD1jS2OXvaAHDTUb3IBXViiJIU9sCXNdXvAa86V2s-1HJUSOuFX8W7D0Y11j4im5vJVB6KVp25ElJZwiRnaS2ynW_FnPRhrEzBc_tYREnTJ6ndzgzyg60wD8vOQ4or_O0U6-bRniUyDASd3IW56XTAc-t7-qf6-gyuIiUv-aMcy4SEASyu9-BReOB7sJ0Y_keWek88MCd-u-uuZA8-TH0QtDs8PFJpV4bGQGMr4_uSb5UD5FWDzkc7IA8TgSPkUfO4G2KQFU7wEJ8uT6KlzXyl3ueNuHlwAhwS_qNXVYfpYYFz8LCMn9G7jq4MGUvG0ecqw5OVeKz3Zg8hvpLRiejeo36G0zaIeatpKd4uUYfAoCUsqTDbbLhgXa0aCk_bgkY18C_ZAjGmP0mn-qHsniWsHm3FeQcAy3qniUKqhR5quNhfKw6uZtuVlJ6UAw9KXH62VFEO2WKhjeBA\",\"tag\":\"PKUU5AeNpWiatOnybWVZzWxZCGIK3RKtK7N1CI6gr6E\"}\n"
     ]
    }
   ],
   "source": [
    "headers = {\"Content-Type\": \"application/didcomm-encrypted+json\"}\n",
    "resp = requests.post(issuer_endpoint, headers=headers, data = holder_packed_msg.packed_msg)\n",
    "print(resp.json())\n"
   ]
  },
  {
   "cell_type": "markdown",
   "metadata": {},
   "source": [
    "### Issued Verifiable Credential Received"
   ]
  },
  {
   "cell_type": "code",
   "execution_count": 38,
   "metadata": {},
   "outputs": [],
   "source": [
    "credential_unpack_msg = await unpack(\n",
    "    resolvers_config=ResolversConfig(\n",
    "        secrets_resolver=secrets_resolver,\n",
    "        did_resolver=DIDResolverPeerDID()\n",
    "    ),\n",
    "    packed_msg= resp.json()\n",
    ")"
   ]
  },
  {
   "cell_type": "code",
   "execution_count": 39,
   "metadata": {},
   "outputs": [
    {
     "name": "stdout",
     "output_type": "stream",
     "text": [
      "UnpackResult(message=Message(id='cb613637-afc9-4fa6-9428-91d89c135f0e', type='https://didcomm.org/issue-credential/3.0/issue-credential', body={'goal_code': 'issue-credential', 'comment': 'some comment'}, frm=None, to=None, created_time=None, expires_time=None, from_prior=FromPrior(iss='did:peer:2.Ez6LSsx2Bks6eXJkexY7imgMBWvS7wjoAe24MoAKtRs7Bdbve.Vz6MkrbPCW4vTaUi2iJas6dDfNEe94sadadLycubuM6XHiv5T.SeyJpZCI6Im5ldy1pZCIsInQiOiJkbSIsInMiOiJodHRwczovL21lZGlhdG9yLnJvb3RzaWQuY2xvdWQiLCJhIjpbImRpZGNvbW0vdjIiXX0', sub='did:peer:2.Ez6LSc6bpTGPpF1sYapg8f58TnLay7RVRWwh2kqoyo8so6EHd.Vz6Mku2uQ6oD9tpUhZ9sSeFnYRqcR1DMUtZdNbc6gG6hKSN1L.SeyJpZCI6Im5ldy1pZCIsInQiOiJkbSIsInMiOiJodHRwczovL21lZGlhdG9yLnJvb3RzaWQuY2xvdWQiLCJhIjpbImRpZGNvbW0vdjIiXX0', aud=None, exp=None, nbf=None, iat=None, jti=None), please_ack=None, ack=None, thid=None, pthid=None, attachments=[Attachment(data=AttachmentDataJson(json={'@context': ['https://www.w3.org/2018/credentials/v1', 'https://www.w3.org/2018/credentials/examples/v1'], 'id': 'f814d273-9efe-4123-bd81-4b22ef52a9e6', 'type': ['VerifiableCredential', 'UniversityDegreeCredential'], 'issuer': 'did:prism:5a485cd8ba57aed595373f92e56fc79fd5de459d84ea0d1b85892fc5566648af', 'issuanceDate': '2022-08-31T21:13:12Z', 'credentialSubject': {'id': 'did:prism:a08f49e61bc46dc82b6bd54dd62087c25b53b4a7ef98e549ce62ee4ad3450d5c', 'degree': {'type': 'BachelorDegree', 'name': 'Bachelor of Science and Arts'}}, 'options': {'proofType': 'EcdsaSecp256k1Signature2019'}, 'proof': {'type': 'EcdsaSecp256k1Signature2019', 'created': '2022-08-31T21:13:25Z', 'verificationMethod': 'did:prism:5a485cd8ba57aed595373f92e56fc79fd5de459d84ea0d1b85892fc5566648af', 'proofPurpose': 'assertionMethod', 'proofValue': 'eyJpZCI6ImRpZDpwcmlzbTo1YTQ4NWNkOGJhNTdhZWQ1OTUzNzNmOTJlNTZmYzc5ZmQ1ZGU0NTlkODRlYTBkMWI4NTg5MmZjNTU2NjY0OGFmIiwia2V5SWQiOiJpc3N1aW5nMCIsImNyZWRlbnRpYWxTdWJqZWN0Ijp7Imlzc3VhbmNlRGF0ZSI6IjIwMjItMDgtMzFUMjE6MTM6MTJaIiwiY3JlZGVudGlhbFN1YmplY3QiOnsiZGVncmVlIjp7Im5hbWUiOiJCYWNoZWxvciBvZiBTY2llbmNlIGFuZCBBcnRzIiwidHlwZSI6IkJhY2hlbG9yRGVncmVlIn0sImlkIjoiZGlkOnByaXNtOmEwOGY0OWU2MWJjNDZkYzgyYjZiZDU0ZGQ2MjA4N2MyNWI1M2I0YTdlZjk4ZTU0OWNlNjJlZTRhZDM0NTBkNWMifSwib3B0aW9ucyI6eyJwcm9vZlR5cGUiOiJFY2RzYVNlY3AyNTZrMVNpZ25hdHVyZTIwMTkifSwiaWQiOiJkaWQ6cHJpc206YTA4ZjQ5ZTYxYmM0NmRjODJiNmJkNTRkZDYyMDg3YzI1YjUzYjRhN2VmOThlNTQ5Y2U2MmVlNGFkMzQ1MGQ1YyIsInR5cGUiOlsiVmVyaWZpYWJsZUNyZWRlbnRpYWwiLCJVbml2ZXJzaXR5RGVncmVlQ3JlZGVudGlhbCJdLCJAY29udGV4dCI6WyJodHRwczovL3d3dy53My5vcmcvMjAxOC9jcmVkZW50aWFscy92MSIsImh0dHBzOi8vd3d3LnczLm9yZy8yMDE4L2NyZWRlbnRpYWxzL2V4YW1wbGVzL3YxIl0sImlzc3VlciI6ImRpZDpwcmlzbTo1YTQ4NWNkOGJhNTdhZWQ1OTUzNzNmOTJlNTZmYzc5ZmQ1ZGU0NTlkODRlYTBkMWI4NTg5MmZjNTU2NjY0OGFmIn19.MEUCIDjjnMauUhdTchvdCHiiEci2dNPW8_mxnrMBwqn8571ZAiEAx70v4hLhrCVDc_GxpakFuxf2YUQ3BBewfHS2DyCqiLo', 'proofHash': 'b2e5393157b222f4524077749a55256db3b538370a21af267a3ef0bc90a92a5e', 'proofBatchId': '11719aa4ef578900caab9f7dea9953cf67bfc6043ffed8904c16505e7cf42695'}}, hash=None, jws=None), id='d3242440-a683-4858-98b4-24258cb2772b', description=None, filename=None, media_type='application/json', format='aries/ld-proof-vc-detail@v1.0', lastmod_time=None, byte_count=None)], custom_headers=None), metadata=Metadata(encrypted=True, authenticated=True, non_repudiation=False, anonymous_sender=False, re_wrapped_in_forward=False, encrypted_from='did:peer:2.Ez6LSc6bpTGPpF1sYapg8f58TnLay7RVRWwh2kqoyo8so6EHd.Vz6Mku2uQ6oD9tpUhZ9sSeFnYRqcR1DMUtZdNbc6gG6hKSN1L.SeyJpZCI6Im5ldy1pZCIsInQiOiJkbSIsInMiOiJodHRwczovL21lZGlhdG9yLnJvb3RzaWQuY2xvdWQiLCJhIjpbImRpZGNvbW0vdjIiXX0#6LSc6bpTGPpF1sYapg8f58TnLay7RVRWwh2kqoyo8so6EHd', encrypted_to=['did:peer:2.Ez6LSkkf87KPkyCy7xEznJikMq72fPKmfaXdWyPqAR4UYTUju.Vz6MkhXyUAhMc1BLVadXXFo4m7MKqrrS5GRAxUphMojnkfhFb.SeyJpZCI6Im5ldy1pZCIsInQiOiJkbSIsInMiOiJodHRwczovL3d3dy5leGFtcGxlLmNvbS9ob2xkZXIiLCJhIjpbImRpZGNvbW0vdjIiXX0#6LSkkf87KPkyCy7xEznJikMq72fPKmfaXdWyPqAR4UYTUju'], sign_from=None, from_prior_issuer_kid='did:peer:2.Ez6LSsx2Bks6eXJkexY7imgMBWvS7wjoAe24MoAKtRs7Bdbve.Vz6MkrbPCW4vTaUi2iJas6dDfNEe94sadadLycubuM6XHiv5T.SeyJpZCI6Im5ldy1pZCIsInQiOiJkbSIsInMiOiJodHRwczovL21lZGlhdG9yLnJvb3RzaWQuY2xvdWQiLCJhIjpbImRpZGNvbW0vdjIiXX0#6MkrbPCW4vTaUi2iJas6dDfNEe94sadadLycubuM6XHiv5T', enc_alg_auth=<AuthCryptAlg.A256CBC_HS512_ECDH_1PU_A256KW: Algs(alg='ECDH-1PU+A256KW', enc='A256CBC-HS512')>, enc_alg_anon=None, sign_alg=None, signed_message=None, from_prior_jwt='eyJhbGciOiJFZERTQSIsInR5cCI6IkpXVCIsImtpZCI6ImRpZDpwZWVyOjIuRXo2TFNzeDJCa3M2ZVhKa2V4WTdpbWdNQld2Uzd3am9BZTI0TW9BS3RSczdCZGJ2ZS5WejZNa3JiUENXNHZUYVVpMmlKYXM2ZERmTkVlOTRzYWRhZEx5Y3VidU02WEhpdjVULlNleUpwWkNJNkltNWxkeTFwWkNJc0luUWlPaUprYlNJc0luTWlPaUpvZEhSd2N6b3ZMMjFsWkdsaGRHOXlMbkp2YjNSemFXUXVZMnh2ZFdRaUxDSmhJanBiSW1ScFpHTnZiVzB2ZGpJaVhYMCM2TWtyYlBDVzR2VGFVaTJpSmFzNmREZk5FZTk0c2FkYWRMeWN1YnVNNlhIaXY1VCJ9.eyJpc3MiOiJkaWQ6cGVlcjoyLkV6NkxTc3gyQmtzNmVYSmtleFk3aW1nTUJXdlM3d2pvQWUyNE1vQUt0UnM3QmRidmUuVno2TWtyYlBDVzR2VGFVaTJpSmFzNmREZk5FZTk0c2FkYWRMeWN1YnVNNlhIaXY1VC5TZXlKcFpDSTZJbTVsZHkxcFpDSXNJblFpT2lKa2JTSXNJbk1pT2lKb2RIUndjem92TDIxbFpHbGhkRzl5TG5KdmIzUnphV1F1WTJ4dmRXUWlMQ0poSWpwYkltUnBaR052YlcwdmRqSWlYWDAiLCJzdWIiOiJkaWQ6cGVlcjoyLkV6NkxTYzZicFRHUHBGMXNZYXBnOGY1OFRuTGF5N1JWUld3aDJrcW95bzhzbzZFSGQuVno2TWt1MnVRNm9EOXRwVWhaOXNTZUZuWVJxY1IxRE1VdFpkTmJjNmdHNmhLU04xTC5TZXlKcFpDSTZJbTVsZHkxcFpDSXNJblFpT2lKa2JTSXNJbk1pT2lKb2RIUndjem92TDIxbFpHbGhkRzl5TG5KdmIzUnphV1F1WTJ4dmRXUWlMQ0poSWpwYkltUnBaR052YlcwdmRqSWlYWDAifQ.braBQjk0upr0uXLWPKAbq154PBmQuClY5COR5WKeYMg5tyVKKRPdFlIJnGAWoPT-WsSgx5MytoSlpfHTtQMVDQ'))\n"
     ]
    }
   ],
   "source": [
    "print(credential_unpack_msg)"
   ]
  },
  {
   "cell_type": "code",
   "execution_count": 40,
   "metadata": {},
   "outputs": [
    {
     "name": "stdout",
     "output_type": "stream",
     "text": [
      "{'@context': ['https://www.w3.org/2018/credentials/v1', 'https://www.w3.org/2018/credentials/examples/v1'], 'id': 'f814d273-9efe-4123-bd81-4b22ef52a9e6', 'type': ['VerifiableCredential', 'UniversityDegreeCredential'], 'issuer': 'did:prism:5a485cd8ba57aed595373f92e56fc79fd5de459d84ea0d1b85892fc5566648af', 'issuanceDate': '2022-08-31T21:13:12Z', 'credentialSubject': {'id': 'did:prism:a08f49e61bc46dc82b6bd54dd62087c25b53b4a7ef98e549ce62ee4ad3450d5c', 'degree': {'type': 'BachelorDegree', 'name': 'Bachelor of Science and Arts'}}, 'options': {'proofType': 'EcdsaSecp256k1Signature2019'}, 'proof': {'type': 'EcdsaSecp256k1Signature2019', 'created': '2022-08-31T21:13:25Z', 'verificationMethod': 'did:prism:5a485cd8ba57aed595373f92e56fc79fd5de459d84ea0d1b85892fc5566648af', 'proofPurpose': 'assertionMethod', 'proofValue': 'eyJpZCI6ImRpZDpwcmlzbTo1YTQ4NWNkOGJhNTdhZWQ1OTUzNzNmOTJlNTZmYzc5ZmQ1ZGU0NTlkODRlYTBkMWI4NTg5MmZjNTU2NjY0OGFmIiwia2V5SWQiOiJpc3N1aW5nMCIsImNyZWRlbnRpYWxTdWJqZWN0Ijp7Imlzc3VhbmNlRGF0ZSI6IjIwMjItMDgtMzFUMjE6MTM6MTJaIiwiY3JlZGVudGlhbFN1YmplY3QiOnsiZGVncmVlIjp7Im5hbWUiOiJCYWNoZWxvciBvZiBTY2llbmNlIGFuZCBBcnRzIiwidHlwZSI6IkJhY2hlbG9yRGVncmVlIn0sImlkIjoiZGlkOnByaXNtOmEwOGY0OWU2MWJjNDZkYzgyYjZiZDU0ZGQ2MjA4N2MyNWI1M2I0YTdlZjk4ZTU0OWNlNjJlZTRhZDM0NTBkNWMifSwib3B0aW9ucyI6eyJwcm9vZlR5cGUiOiJFY2RzYVNlY3AyNTZrMVNpZ25hdHVyZTIwMTkifSwiaWQiOiJkaWQ6cHJpc206YTA4ZjQ5ZTYxYmM0NmRjODJiNmJkNTRkZDYyMDg3YzI1YjUzYjRhN2VmOThlNTQ5Y2U2MmVlNGFkMzQ1MGQ1YyIsInR5cGUiOlsiVmVyaWZpYWJsZUNyZWRlbnRpYWwiLCJVbml2ZXJzaXR5RGVncmVlQ3JlZGVudGlhbCJdLCJAY29udGV4dCI6WyJodHRwczovL3d3dy53My5vcmcvMjAxOC9jcmVkZW50aWFscy92MSIsImh0dHBzOi8vd3d3LnczLm9yZy8yMDE4L2NyZWRlbnRpYWxzL2V4YW1wbGVzL3YxIl0sImlzc3VlciI6ImRpZDpwcmlzbTo1YTQ4NWNkOGJhNTdhZWQ1OTUzNzNmOTJlNTZmYzc5ZmQ1ZGU0NTlkODRlYTBkMWI4NTg5MmZjNTU2NjY0OGFmIn19.MEUCIDjjnMauUhdTchvdCHiiEci2dNPW8_mxnrMBwqn8571ZAiEAx70v4hLhrCVDc_GxpakFuxf2YUQ3BBewfHS2DyCqiLo', 'proofHash': 'b2e5393157b222f4524077749a55256db3b538370a21af267a3ef0bc90a92a5e', 'proofBatchId': '11719aa4ef578900caab9f7dea9953cf67bfc6043ffed8904c16505e7cf42695'}}\n"
     ]
    }
   ],
   "source": [
    "print(credential_unpack_msg.message.attachments[0].data.json)"
   ]
  },
  {
   "cell_type": "code",
   "execution_count": null,
   "metadata": {},
   "outputs": [],
   "source": []
  },
  {
   "cell_type": "code",
   "execution_count": null,
   "metadata": {},
   "outputs": [],
   "source": []
  }
 ],
 "metadata": {
  "kernelspec": {
   "display_name": "Python 3.8.10 64-bit",
   "language": "python",
   "name": "python3"
  },
  "language_info": {
   "codemirror_mode": {
    "name": "ipython",
    "version": 3
   },
   "file_extension": ".py",
   "mimetype": "text/x-python",
   "name": "python",
   "nbconvert_exporter": "python",
   "pygments_lexer": "ipython3",
   "version": "3.8.10"
  },
  "vscode": {
   "interpreter": {
    "hash": "1ee38ef4a5a9feb55287fd749643f13d043cb0a7addaab2a9c224cbe137c0062"
   }
  }
 },
 "nbformat": 4,
 "nbformat_minor": 2
}
