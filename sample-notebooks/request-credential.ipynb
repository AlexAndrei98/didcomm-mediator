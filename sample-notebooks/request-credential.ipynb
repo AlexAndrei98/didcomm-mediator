{
 "cells": [
  {
   "cell_type": "code",
   "execution_count": 23,
   "metadata": {},
   "outputs": [],
   "source": [
    "import json\n",
    "import base64\n",
    "import qrcode\n",
    "import requests\n",
    "import datetime\n",
    "import urllib.parse\n",
    "import uuid\n",
    "import matplotlib.pyplot as plt\n",
    "from pymongo import MongoClient\n",
    "from typing import Optional, List\n",
    "from didcomm.common.types import DID, VerificationMethodType, VerificationMaterial, VerificationMaterialFormat\n",
    "from didcomm.did_doc.did_doc import DIDDoc, VerificationMethod, DIDCommService\n",
    "from didcomm.did_doc.did_resolver import DIDResolver\n",
    "from didcomm.message import Message, FromPrior\n",
    "from didcomm.secrets.secrets_resolver_demo import SecretsResolverDemo\n",
    "from didcomm.unpack import unpack, UnpackResult\n",
    "from didcomm.common.resolvers import ResolversConfig\n",
    "from didcomm.pack_encrypted import pack_encrypted, PackEncryptedConfig, PackEncryptedResult\n",
    "from peerdid.core.did_doc_types import DIDCommServicePeerDID\n",
    "from didcomm.secrets.secrets_util import generate_x25519_keys_as_jwk_dict, generate_ed25519_keys_as_jwk_dict, jwk_to_secret\n",
    "from peerdid import peer_did\n",
    "from peerdid.did_doc import DIDDocPeerDID\n",
    "from didcomm.message import Attachment, AttachmentDataJson\n",
    "from peerdid.types import VerificationMaterialAuthentication, VerificationMethodTypeAuthentication, VerificationMaterialAgreement, VerificationMethodTypeAgreement, VerificationMaterialFormatPeerDID"
   ]
  },
  {
   "cell_type": "code",
   "execution_count": 24,
   "metadata": {},
   "outputs": [],
   "source": [
    "secrets_resolver = SecretsResolverDemo()"
   ]
  },
  {
   "cell_type": "code",
   "execution_count": 25,
   "metadata": {},
   "outputs": [],
   "source": [
    "class DIDResolverPeerDID(DIDResolver):\n",
    "    async def resolve(self, did: DID) -> DIDDoc:\n",
    "        did_doc_json = peer_did.resolve_peer_did(did, format = VerificationMaterialFormatPeerDID.JWK)\n",
    "        did_doc = DIDDocPeerDID.from_json(did_doc_json)\n",
    "\n",
    "        return DIDDoc(\n",
    "            did=did_doc.did,\n",
    "            key_agreement_kids = did_doc.agreement_kids,\n",
    "            authentication_kids = did_doc.auth_kids,\n",
    "            verification_methods = [\n",
    "                VerificationMethod(\n",
    "                    id = m.id,\n",
    "                    type = VerificationMethodType.JSON_WEB_KEY_2020,\n",
    "                    controller = m.controller,\n",
    "                    verification_material = VerificationMaterial(\n",
    "                        format = VerificationMaterialFormat.JWK,\n",
    "                        value = json.dumps(m.ver_material.value)\n",
    "                    )\n",
    "                )\n",
    "                for m in did_doc.authentication + did_doc.key_agreement\n",
    "            ],\n",
    "            didcomm_services = [\n",
    "                DIDCommService(\n",
    "                    id = s.id,\n",
    "                    service_endpoint = s.service_endpoint,\n",
    "                    routing_keys = s.routing_keys,\n",
    "                    accept = s.accept\n",
    "                )\n",
    "                for s in did_doc.service\n",
    "                if isinstance(s, DIDCommServicePeerDID)\n",
    "            ] if did_doc.service else []\n",
    "        )"
   ]
  },
  {
   "cell_type": "code",
   "execution_count": 26,
   "metadata": {},
   "outputs": [],
   "source": [
    "async def create_peer_did(self,\n",
    "                        auth_keys_count: int = 1,\n",
    "                        agreement_keys_count: int = 1,\n",
    "                        service_endpoint: Optional[str] = None,\n",
    "                        service_routing_keys: Optional[List[str]] = None\n",
    "                        ) -> str:\n",
    "        # 1. generate keys in JWK format\n",
    "        agreem_keys = [generate_x25519_keys_as_jwk_dict() for _ in range(agreement_keys_count)]\n",
    "        auth_keys = [generate_ed25519_keys_as_jwk_dict() for _ in range(auth_keys_count)]\n",
    "\n",
    "        # 2. prepare the keys for peer DID lib\n",
    "        agreem_keys_peer_did = [\n",
    "            VerificationMaterialAgreement(\n",
    "                type=VerificationMethodTypeAgreement.JSON_WEB_KEY_2020,\n",
    "                format=VerificationMaterialFormatPeerDID.JWK,\n",
    "                value=k[1],\n",
    "            )\n",
    "            for k in agreem_keys\n",
    "        ]\n",
    "        auth_keys_peer_did = [\n",
    "            VerificationMaterialAuthentication(\n",
    "                type=VerificationMethodTypeAuthentication.JSON_WEB_KEY_2020,\n",
    "                format=VerificationMaterialFormatPeerDID.JWK,\n",
    "                value=k[1],\n",
    "            )\n",
    "            for k in auth_keys\n",
    "        ]\n",
    "\n",
    "        # 3. generate service\n",
    "        service = None\n",
    "        if service_endpoint:\n",
    "            service = json.dumps(\n",
    "                DIDCommServicePeerDID(\n",
    "                    id=\"new-id\",\n",
    "                    service_endpoint=service_endpoint, routing_keys=service_routing_keys,\n",
    "                    accept=[\"didcomm/v2\"]\n",
    "                ).to_dict()\n",
    "            )\n",
    "\n",
    "        # 4. call peer DID lib\n",
    "        # if we have just one key (auth), then use numalg0 algorithm\n",
    "        # otherwise use numalg2 algorithm\n",
    "        if len(auth_keys_peer_did) == 1 and not agreem_keys_peer_did and not service:\n",
    "            did = peer_did.create_peer_did_numalgo_0(auth_keys_peer_did[0])\n",
    "        else:\n",
    "            did = peer_did.create_peer_did_numalgo_2(\n",
    "                encryption_keys=agreem_keys_peer_did,\n",
    "                signing_keys=auth_keys_peer_did,\n",
    "                service=service,\n",
    "            )\n",
    "\n",
    "        # 5. set KIDs as in DID DOC for secrets and store the secret in the secrets resolver\n",
    "        did_doc = DIDDocPeerDID.from_json(peer_did.resolve_peer_did(did))\n",
    "        for auth_key, kid in zip(auth_keys, did_doc.auth_kids):\n",
    "            private_key = auth_key[0]\n",
    "            private_key[\"kid\"] = kid\n",
    "            await secrets_resolver.add_key(jwk_to_secret(private_key))\n",
    "\n",
    "        for agreem_key, kid in zip(agreem_keys, did_doc.agreement_kids):\n",
    "            private_key = agreem_key[0]\n",
    "            private_key[\"kid\"] = kid\n",
    "            await secrets_resolver.add_key(jwk_to_secret(private_key))\n",
    "\n",
    "        return did\n"
   ]
  },
  {
   "cell_type": "markdown",
   "metadata": {},
   "source": [
    "### Receiving the OOB message"
   ]
  },
  {
   "cell_type": "code",
   "execution_count": 27,
   "metadata": {},
   "outputs": [
    {
     "name": "stdout",
     "output_type": "stream",
     "text": [
      "http://127.0.0.1:8000?_oob=eyJ0eXBlIjoiaHR0cHM6Ly9kaWRjb21tLm9yZy9vdXQtb2YtYmFuZC8yLjAvaW52aXRhdGlvbiIsImlkIjoiODE3MDAwZTEtYjczYi00ZjY5LWFmMjAtNDI0NGU0MWQ2NjEzIiwiZnJvbSI6ImRpZDpwZWVyOjIuRXo2TFNjeHQzdGZkUHB5NEN2c0pZSFk5WmVZaGdFRzkxVGZCMW15SlAzQmQ3TThKWS5WejZNa2tVM1hNREZHa0RMSEJ6NlZkM2Vmakp3RURzQ1NHeWNjckJxTUJEQzNuR0JvLlNleUpwWkNJNkltNWxkeTFwWkNJc0luUWlPaUprYlNJc0luTWlPaUpvZEhSd09pOHZNVEkzTGpBdU1DNHhPamd3TURBaUxDSmhJanBiSW1ScFpHTnZiVzB2ZGpJaVhYMCIsImJvZHkiOnsiZ29hbF9jb2RlIjoicmVnaXN0ZXIiLCJnb2FsIjoiUmVnaXN0ZXJpbm1lZGlhdG9yIiwiYWNjZXB0IjpbImRpZGNvbW0vdjIiLCJkaWRjb21tL2FpcDI7ZW52PXJmYzU4NyJdfX0\n"
     ]
    }
   ],
   "source": [
    "#oob_url = requests.get(\"https://mediator.rootsid.cloud/oob_url\").text\n",
    "oob_url = requests.get(\"http://127.0.0.1:8000/oob_url\").text\n",
    "print(oob_url)"
   ]
  },
  {
   "cell_type": "code",
   "execution_count": 28,
   "metadata": {},
   "outputs": [
    {
     "name": "stdout",
     "output_type": "stream",
     "text": [
      "{'type': 'https://didcomm.org/out-of-band/2.0/invitation', 'id': '817000e1-b73b-4f69-af20-4244e41d6613', 'from': 'did:peer:2.Ez6LScxt3tfdPpy4CvsJYHY9ZeYhgEG91TfB1myJP3Bd7M8JY.Vz6MkkU3XMDFGkDLHBz6Vd3efjJwEDsCSGyccrBqMBDC3nGBo.SeyJpZCI6Im5ldy1pZCIsInQiOiJkbSIsInMiOiJodHRwOi8vMTI3LjAuMC4xOjgwMDAiLCJhIjpbImRpZGNvbW0vdjIiXX0', 'body': {'goal_code': 'register', 'goal': 'Registerinmediator', 'accept': ['didcomm/v2', 'didcomm/aip2;env=rfc587']}}\n"
     ]
    }
   ],
   "source": [
    "received_msg_encoded = oob_url.split(\"=\")[1]\n",
    "received_msg_decoded = json.loads(str(base64.urlsafe_b64decode(received_msg_encoded + \"==\"), \"utf-8\"))\n",
    "print(received_msg_decoded)"
   ]
  },
  {
   "cell_type": "markdown",
   "metadata": {},
   "source": [
    "## Prepare request-credential"
   ]
  },
  {
   "cell_type": "markdown",
   "metadata": {},
   "source": [
    "Create Perr DID to communicate to issuer:"
   ]
  },
  {
   "cell_type": "code",
   "execution_count": 29,
   "metadata": {},
   "outputs": [
    {
     "name": "stdout",
     "output_type": "stream",
     "text": [
      "Holder's DID: did:peer:2.Ez6LScfqXt6TRDoQEoKV9P7MDowqT6hMzX3BfRKr5drVhvBa9.Vz6Mkmi3mGZaD9ai9RHRAMokKiCibAx7FTqWMDFfvPg2o1qdS.SeyJpZCI6Im5ldy1pZCIsInQiOiJkbSIsInMiOiJodHRwczovL3d3dy5leGFtcGxlLmNvbS9ob2xkZXIiLCJhIjpbImRpZGNvbW0vdjIiXX0\n"
     ]
    }
   ],
   "source": [
    "holder_did = await create_peer_did(1,1, service_endpoint=\"https://www.example.com/holder\")\n",
    "print(\"Holder's DID:\", holder_did)"
   ]
  },
  {
   "cell_type": "markdown",
   "metadata": {},
   "source": [
    "Holders Prism DID:"
   ]
  },
  {
   "cell_type": "code",
   "execution_count": 30,
   "metadata": {},
   "outputs": [],
   "source": [
    "holder_prism_did = \"did:prism:a08f49e61bc46dc82b6bd54dd62087c25b53b4a7ef98e549ce62ee4ad3450d5c\""
   ]
  },
  {
   "cell_type": "markdown",
   "metadata": {},
   "source": [
    "Credential request:"
   ]
  },
  {
   "cell_type": "code",
   "execution_count": 31,
   "metadata": {},
   "outputs": [],
   "source": [
    "credential_request = {\n",
    "    \"credential\": {\n",
    "        \"@context\": \n",
    "        [\n",
    "            \"https://www.w3.org/2018/credentials/v1\",\n",
    "            \"https://www.w3.org/2018/credentials/examples/v1\"\n",
    "        ],\n",
    "        \"id\": str(uuid.uuid4()),\n",
    "        \"type\": [\"VerifiableCredential\", \"UniversityDegreeCredential\"],\n",
    "        \"issuer\": \"TBD\",\n",
    "        \"issuanceDate\": datetime.datetime.now().strftime(\"%Y-%m-%dT%H:%M:%SZ\"),\n",
    "        \"credentialSubject\": \n",
    "            {\n",
    "              \"id\": holder_prism_did,\n",
    "              \"degree\": \n",
    "                {\n",
    "                    \"type\": \"BachelorDegree\",\n",
    "                    \"name\": \"Bachelor of Science and Arts\"\n",
    "                  }\n",
    "            },\n",
    "        \"options\": {\n",
    "            \"proofType\": \"EcdsaSecp256k1Signature2019\"\n",
    "        }\n",
    "    }\n",
    "}"
   ]
  },
  {
   "cell_type": "markdown",
   "metadata": {},
   "source": [
    "Holder create an request credendial message"
   ]
  },
  {
   "cell_type": "code",
   "execution_count": 40,
   "metadata": {},
   "outputs": [],
   "source": [
    "\n",
    "holder_response_message = Message(\n",
    "    custom_headers = [{\n",
    "        \"return_route\": \"all\"}],\n",
    "    id = str(uuid.uuid4()),\n",
    "    #pthid = received_msg_decoded[\"id\"],\n",
    "    type = \"https://didcomm.org/issue-credential/3.0/request-credential\",\n",
    "    frm = holder_did,\n",
    "    to = [received_msg_decoded[\"from\"]],\n",
    "    body = {\n",
    "        \"goal_code\": \"issue-credential\",\n",
    "        \"comment\": \"some comment\"\n",
    "    },\n",
    "    attachments = [\n",
    "        Attachment(\n",
    "                id=str(uuid.uuid4()),\n",
    "                media_type= \"application/json\",\n",
    "                format= \"aries/ld-proof-vc-detail@v1.0\",\n",
    "                data=AttachmentDataJson(json=credential_request)\n",
    "                )\n",
    "    ]\n",
    "                        \n",
    ")"
   ]
  },
  {
   "cell_type": "code",
   "execution_count": 41,
   "metadata": {},
   "outputs": [],
   "source": [
    "holder_packed_msg = await pack_encrypted(\n",
    "    resolvers_config = ResolversConfig(\n",
    "        secrets_resolver = secrets_resolver,\n",
    "        did_resolver = DIDResolverPeerDID()\n",
    "    ),\n",
    "    message = holder_response_message,\n",
    "    frm = holder_did,\n",
    "    to = received_msg_decoded[\"from\"],\n",
    "    sign_frm = None,\n",
    "    pack_config = PackEncryptedConfig(protect_sender_id=False)\n",
    ")"
   ]
  },
  {
   "cell_type": "markdown",
   "metadata": {},
   "source": [
    "### Sending the message to Mediator"
   ]
  },
  {
   "cell_type": "code",
   "execution_count": 42,
   "metadata": {},
   "outputs": [
    {
     "name": "stdout",
     "output_type": "stream",
     "text": [
      "{'id': 'did:peer:2.Ez6LScxt3tfdPpy4CvsJYHY9ZeYhgEG91TfB1myJP3Bd7M8JY.Vz6MkkU3XMDFGkDLHBz6Vd3efjJwEDsCSGyccrBqMBDC3nGBo.SeyJpZCI6Im5ldy1pZCIsInQiOiJkbSIsInMiOiJodHRwOi8vMTI3LjAuMC4xOjgwMDAiLCJhIjpbImRpZGNvbW0vdjIiXX0', 'authentication': [{'id': 'did:peer:2.Ez6LScxt3tfdPpy4CvsJYHY9ZeYhgEG91TfB1myJP3Bd7M8JY.Vz6MkkU3XMDFGkDLHBz6Vd3efjJwEDsCSGyccrBqMBDC3nGBo.SeyJpZCI6Im5ldy1pZCIsInQiOiJkbSIsInMiOiJodHRwOi8vMTI3LjAuMC4xOjgwMDAiLCJhIjpbImRpZGNvbW0vdjIiXX0#6MkkU3XMDFGkDLHBz6Vd3efjJwEDsCSGyccrBqMBDC3nGBo', 'type': 'Ed25519VerificationKey2020', 'controller': 'did:peer:2.Ez6LScxt3tfdPpy4CvsJYHY9ZeYhgEG91TfB1myJP3Bd7M8JY.Vz6MkkU3XMDFGkDLHBz6Vd3efjJwEDsCSGyccrBqMBDC3nGBo.SeyJpZCI6Im5ldy1pZCIsInQiOiJkbSIsInMiOiJodHRwOi8vMTI3LjAuMC4xOjgwMDAiLCJhIjpbImRpZGNvbW0vdjIiXX0', 'publicKeyMultibase': 'z6MkkU3XMDFGkDLHBz6Vd3efjJwEDsCSGyccrBqMBDC3nGBo'}], 'keyAgreement': [{'id': 'did:peer:2.Ez6LScxt3tfdPpy4CvsJYHY9ZeYhgEG91TfB1myJP3Bd7M8JY.Vz6MkkU3XMDFGkDLHBz6Vd3efjJwEDsCSGyccrBqMBDC3nGBo.SeyJpZCI6Im5ldy1pZCIsInQiOiJkbSIsInMiOiJodHRwOi8vMTI3LjAuMC4xOjgwMDAiLCJhIjpbImRpZGNvbW0vdjIiXX0#6LScxt3tfdPpy4CvsJYHY9ZeYhgEG91TfB1myJP3Bd7M8JY', 'type': 'X25519KeyAgreementKey2020', 'controller': 'did:peer:2.Ez6LScxt3tfdPpy4CvsJYHY9ZeYhgEG91TfB1myJP3Bd7M8JY.Vz6MkkU3XMDFGkDLHBz6Vd3efjJwEDsCSGyccrBqMBDC3nGBo.SeyJpZCI6Im5ldy1pZCIsInQiOiJkbSIsInMiOiJodHRwOi8vMTI3LjAuMC4xOjgwMDAiLCJhIjpbImRpZGNvbW0vdjIiXX0', 'publicKeyMultibase': 'z6LScxt3tfdPpy4CvsJYHY9ZeYhgEG91TfB1myJP3Bd7M8JY'}], 'service': [{'id': 'did:peer:2.Ez6LScxt3tfdPpy4CvsJYHY9ZeYhgEG91TfB1myJP3Bd7M8JY.Vz6MkkU3XMDFGkDLHBz6Vd3efjJwEDsCSGyccrBqMBDC3nGBo.SeyJpZCI6Im5ldy1pZCIsInQiOiJkbSIsInMiOiJodHRwOi8vMTI3LjAuMC4xOjgwMDAiLCJhIjpbImRpZGNvbW0vdjIiXX0#didcommmessaging-0', 'type': 'DIDCommMessaging', 'serviceEndpoint': 'http://127.0.0.1:8000', 'accept': ['didcomm/v2']}]}\n"
     ]
    }
   ],
   "source": [
    "issuer_did_doc = json.loads(peer_did.resolve_peer_did(received_msg_decoded[\"from\"]))\n",
    "print(issuer_did_doc)"
   ]
  },
  {
   "cell_type": "markdown",
   "metadata": {},
   "source": [
    "Get Issuer end point:"
   ]
  },
  {
   "cell_type": "code",
   "execution_count": 43,
   "metadata": {},
   "outputs": [
    {
     "name": "stdout",
     "output_type": "stream",
     "text": [
      "http://127.0.0.1:8000\n"
     ]
    }
   ],
   "source": [
    "issuer_endpoint = issuer_did_doc[\"service\"][0][\"serviceEndpoint\"]\n",
    "print(issuer_endpoint)"
   ]
  },
  {
   "cell_type": "markdown",
   "metadata": {},
   "source": [
    "Send message:"
   ]
  },
  {
   "cell_type": "code",
   "execution_count": 65,
   "metadata": {},
   "outputs": [
    {
     "name": "stdout",
     "output_type": "stream",
     "text": [
      "{\"protected\":\"eyJ0eXAiOiJhcHBsaWNhdGlvbi9kaWRjb21tLWVuY3J5cHRlZCtqc29uIiwiYWxnIjoiRUNESC0xUFUrQTI1NktXIiwiZW5jIjoiQTI1NkNCQy1IUzUxMiIsImFwdSI6IlpHbGtPbkJsWlhJNk1pNUZlalpNVTJOaFUwTlpiblJNT1hSMlMyUkVZbWQyVVhKWWNXcGlhamxZTjJKYWFVeGtabUpIUVVwT1VtRk9aM2wwTGxaNk5rMXJaMVZ6TVZWeFkwdDRPVFo0Y0ZGWU16TnZibXA1UlZsRllXUndibEZ0U3pKR1JIbDRXV2RSVUU1bWFFNHVVMlY1U25CYVEwazJTVzAxYkdSNU1YQmFRMGx6U1c1UmFVOXBTbXRpVTBselNXNU5hVTlwU205a1NGSjNUMms0ZGsxVVNUTk1ha0YxVFVNMGVFOXFaM2ROUkVGcFRFTkthRWxxY0dKSmJWSndXa2RPZG1KWE1IWmtha2xwV0Znd0l6Wk1VMk5oVTBOWmJuUk1PWFIyUzJSRVltZDJVWEpZY1dwaWFqbFlOMkphYVV4a1ptSkhRVXBPVW1GT1ozbDAiLCJhcHYiOiJJWHNFc3p0enpHMmhxeFl2Y18yeW8taV91VGdVRHJxUmdXVHhIM0t1TVZBIiwic2tpZCI6ImRpZDpwZWVyOjIuRXo2TFNjYVNDWW50TDl0dktkRGJndlFyWHFqYmo5WDdiWmlMZGZiR0FKTlJhTmd5dC5WejZNa2dVczFVcWNLeDk2eHBRWDMzb25qeUVZRWFkcG5RbUsyRkR5eFlnUVBOZmhOLlNleUpwWkNJNkltNWxkeTFwWkNJc0luUWlPaUprYlNJc0luTWlPaUpvZEhSd09pOHZNVEkzTGpBdU1DNHhPamd3TURBaUxDSmhJanBiSW1ScFpHTnZiVzB2ZGpJaVhYMCM2TFNjYVNDWW50TDl0dktkRGJndlFyWHFqYmo5WDdiWmlMZGZiR0FKTlJhTmd5dCIsImVwayI6eyJjcnYiOiJYMjU1MTkiLCJ4IjoiWDJfdk1MdEJ4dGpBcmtOa082N2J2QUNBa0RXYi1kY0dXLUtiTTJYY3pXOCIsImt0eSI6Ik9LUCJ9fQ\",\"recipients\":[{\"header\":{\"kid\":\"did:peer:2.Ez6LScfqXt6TRDoQEoKV9P7MDowqT6hMzX3BfRKr5drVhvBa9.Vz6Mkmi3mGZaD9ai9RHRAMokKiCibAx7FTqWMDFfvPg2o1qdS.SeyJpZCI6Im5ldy1pZCIsInQiOiJkbSIsInMiOiJodHRwczovL3d3dy5leGFtcGxlLmNvbS9ob2xkZXIiLCJhIjpbImRpZGNvbW0vdjIiXX0#6LScfqXt6TRDoQEoKV9P7MDowqT6hMzX3BfRKr5drVhvBa9\"},\"encrypted_key\":\"-XHcyiIpEpIt9FEd5PWD37HCU45RfcUxGNFxJ9I-8hIxHEIezlYSZgWNOT2RKJFKp3M4PZ4rH9iX_ym2wAOa6gq-4sAQLF4M\"}],\"iv\":\"9x4UtmjVVyxGoYB1lLAc8Q\",\"ciphertext\":\"UFmQ6vX5vrJCG8nMoM0uPangOxLJRnC3HX3AUzDb597TRV2hBpQDwac00VMmuC-vtAyCtIlovRHvguxiuksi-Wx8X7O2GY1uMGqC-9O_niTveTVIlW6G1AhEEMPzLrhkJh_aStABrCimE3zzOigXt8KNHVUBz8blXZ5JRZIFuam8WxCX3A1OffrSzC7GUQ-Yb0bZhXb_MxFv04gjz2iQ8YEzJS4Z-ZsGKtJ8i6CfpjTOaAempIadFjWjta1EMq9GMXxS3ZZUq_dlDo5sqSWBuVeLJpUXiACswPPS8_pu_-RKbSciIvYfItuO3ZgInbWLMe4hGr0MhXFH-bHbpBDqa4e5uWd6LL_Psm7JCQLIMdQeSVns7gUaqGfmDX1dGUFUSXhEZUqPNdr-q2NlqrlZpl3DU1-hZoBNba-s5fzDg7C3eFhdjrzZyZRLgNwo3LOJEjVo9aEQyTsMI8iOZfCPzJUg7S_551XgNWGg2deIQkoXJq0eHJOlH3DsEy8fYknXXSJlxlYkeEVWYKBYASwoexiT4AEJfclvSx_DLw3uc0rEARKTOtLZ8-Ngv7LKHItj9vPL4ZwwmdyqalB5KptyEEZN59oTkL_LzReNtFc_YHcLXLEe3AVQz0hrWVDF_wlMR1vQ4uPnEH8L5EuPcImqTKzHVL1xuFMu_ytTN28TJJVuMwd4cwC7BbNOre3Ro558WJW8KAKmGrIslVokbBtNboYgkoyz_qnWXvalXPqSukuSx_mGZ2Sx2MwV3T30c5WdvFFk9d2h2Q6-zXC_Rll-JHBXFatYP7410VHpUc9BHrENBqpNMsmA3TEdc7KAQ-0XCXm9uQQ3UloyBrb0LBcKOeF1JfvYGCrSzwsrLJmNBP_cgGEzD7pj9UllWRKj-VCY9jBkZXEKt18tGnBQymtRPr3TH4Ndzc955MCq89nW5qbW5WZvY9TMWacRUrnkM4Yf_t1-_TOSfnoUcZfeqeqaUI_E3_B53S1BB9YjND-w_A7i8wjst9QMCeljoQKfRAycy6HwY6tZaPAHiBOa9YLctaJhZjfUy695nknpyr4JJFfjUZArtAdFaAXXyu38y4nMbgeIzZ64S2AsSdhSPy1IjXJxe1EtFdTsM_X8NZVipA2qLEPpE_p3a-cuVqeVIM-25pzJ_Hd0rIx-x3EDcRJGiucsixyAIGXdgTSjS7zMQprwWNfektK2dLcbZQ4oP4Dl6nTSqCtCbEocW_Kd3Rsdh_eAaiGgSw9HAcX0NPFz3thlZw0EvQjCejVT1mfGABG-gG1ykoTPyCn3Z6VRXIDOQn5afCpX_O-PHwh0o7ZU5_jJ_h8LFsI8SDuIGXBwSkWyeDnyHFkC0jFLUVe9sl0w9fgpVZKLBz4hSsDhZHOwQq1aSbiKIgmA43A9_zl9dTK7BOKqehr-zfMabh4JTYVhefEqiAqkVj4oynxQLt1hZ7sdAov8DbmdUFVrmqxCIiBjuD-BNOVLx7awUEUeCMP6BJ1XXQwO93JaIJmOR9Hs9fdOp-Jys4HKjD4mXi1np8jVhmZaHlyvDAubcc9cDOy2bfbyavwahu7eNHZruOyXWE0AgovW5VpR4VKe3A8Y_HLgMWa60je4yBdQ1WfSLTHlkWxVW0dTMgSys4kYI3ndoC0hkXeZ5wDF0KCw3HYG64CvJa_jAmDCjpLFCMikkyA5295gB_avlWSXkuFGOcj_Xu-OaR6VAyAl370mhwpXRq0QZGvsXN_zka2Y1sdjPngPgEH4kzixdTmT4ghXtBGi-FQQhSzqIcuSmC_Y2P7ufPWeC9ggFkqkwuA2RHhGIpfBKMHR4wAxGqtpS9-MvwTrlm5ydzFINR5LkvgZRyhY_P7TjHWyA1XrGyxP2QiAR9x-inj9kTh2-rI-3VA6GljONvk1DEQ0KVultpzQVoHSzQnQ_qhGjVe4zyAEBKAvqFCQcBhJDyFKlxA15g6v--rpbLd7JjgSlUXEUHYaj4jo8UU6LDD4pmjmvZMuxR34deCHocnAHP2A35r8Lp4xqJU8Du6SmFNsfAGhTZejuxQFLf3IDY1a3VgQlT5NPqgLqesHp1uRBpNxKKX3bCVLAHrFPwZD1975Oht9Pomg5iePnlbGFu2QYXMt7koYRfUPi0PVxSmKgzP1_Xb5q3ipEAQmRacwoMo81gweP3BpJVZHN2qfWXB2RU3TT4jqzrbOyDdH1g6NpQ0mj4CKbdGCe5zyFIq7vzmyMJiu90z4IepssphfAJtzRtFEa5Tat0nt6l_3di1fVR9xVPpNS8kunjZn9UT-sCThURrx6KmdBCFmhUPyqt_R4siUgOzTnhfxJFVdKAZpm3CxvRG-sRSkj5yJwvJir2JthC_qEgbVMEaxRQNhp_2wJuKtPMeQxm1uRiPahIFUffLGtFqPmCidTFEN4UBPOcyybndr7B6Q7coubSgVjTf8zDG5gbFAduUTLxLHtPToh3hAfDh1xdCrpxbbNrUUczUV8t22gew-YwFHJ6oZeHQE1x21trMDfL2yANZdMba0PzcYDJdjVKPWwo5fdtBAenxRHr4eXwTPNardgV4nbDOlWNOadhdhJmyvvlpnvNtlf-KenABzv0rodGWqW5LJU3d7bJtMXxokFBYZVh1rlc2__m1t_A9E6hHhpwg6cqXtHSNUC5b8rCW8EO5y6KJ--b1y0xTCPOAxq-2ofsQbCdb2fF_khKXAcaU_rqvqIseh6DnVJqGh7J5votqugtCOgKpYLemZ83rDfueFB6ouMtjaZGDiV0Ee3RNO60mrafoKAunZIhlwyGJLOwweUwK5Lphx2j-5RIiCveIlFhSLI5CCKYdUDCDLy58CSzPhiiv2RZCClkWoBF9asmebP7j8wTSX2EvaezztFgK6sjFADSG_HSoY-JMlJLtw4iI5OnFVD_oQp42OfSGa1z3ORN37FHTVs6kpqIhrjAfrXsUFJu6eia0Ah9rCEerjgGBuKo78fE97k-orOhDlkIA48Cq6EVrrbavibDxBCCdNAFeQC4HqtRttwC0oe4W8V_pP2bV_IiuwS-pxDZwSbah9RxmGrUPwnS8vlaBRO8whxUXCY-Wf4gqfsd7xJSxOB0RZnwfKwQD7oLVWnNCQPWDbTLRGHzv5t4_qbGcwUyuClPoUKJ1eFeeVD-o7INjlFpsij0464Vxpp89tWF0t83EZnC-d-GiixeVBu1L_MHl2WSBB\",\"tag\":\"0O4zklMnNlKM5o9kFwyCo1GlWDBMTPc_OnqsEY547IM\"}\n"
     ]
    }
   ],
   "source": [
    "headers = {\"Content-Type\": \"application/didcomm-encrypted+json\"}\n",
    "resp = requests.post(issuer_endpoint, headers=headers, data = holder_packed_msg.packed_msg)\n",
    "print(resp.json())\n"
   ]
  },
  {
   "cell_type": "markdown",
   "metadata": {},
   "source": [
    "### Credential Received"
   ]
  },
  {
   "cell_type": "code",
   "execution_count": 66,
   "metadata": {},
   "outputs": [],
   "source": [
    "credential_unpack_msg = await unpack(\n",
    "    resolvers_config=ResolversConfig(\n",
    "        secrets_resolver=secrets_resolver,\n",
    "        did_resolver=DIDResolverPeerDID()\n",
    "    ),\n",
    "    packed_msg= resp.json()\n",
    ")"
   ]
  },
  {
   "cell_type": "code",
   "execution_count": 67,
   "metadata": {},
   "outputs": [
    {
     "name": "stdout",
     "output_type": "stream",
     "text": [
      "UnpackResult(message=Message(id='07facd81-cf19-44cf-b848-885334d82829', type='https://didcomm.org/issue-credential/3.0/issue-credential', body={'goal_code': 'issue-credential', 'comment': 'some comment'}, frm=None, to=None, created_time=None, expires_time=None, from_prior=None, please_ack=None, ack=None, thid=None, pthid=None, attachments=[Attachment(data=AttachmentDataJson(json={'@context': ['https://www.w3.org/2018/credentials/v1', 'https://www.w3.org/2018/credentials/examples/v1'], 'id': 'a928d1e6-5c1d-4271-8a49-5f0241a39572', 'type': ['VerifiableCredential', 'UniversityDegreeCredential'], 'issuer': 'did:prism:712f7658d27166dc1f99d70cd24253eac553d5d16e8ae38b2972cafcbb21ca00', 'issuanceDate': '2022-08-30T15:58:22Z', 'credentialSubject': {'id': 'did:prism:a08f49e61bc46dc82b6bd54dd62087c25b53b4a7ef98e549ce62ee4ad3450d5c', 'degree': {'type': 'BachelorDegree', 'name': 'Bachelor of Science and Arts'}}, 'options': {'proofType': 'EcdsaSecp256k1Signature2019'}, 'proof': {'type': 'EcdsaSecp256k1Signature2019', 'created': '2022-08-30T15:58:26Z', 'verificationMethod': 'did:prism:712f7658d27166dc1f99d70cd24253eac553d5d16e8ae38b2972cafcbb21ca00', 'proofPurpose': 'assertionMethod', 'proofValue': 'eyJpZCI6ImRpZDpwcmlzbTo3MTJmNzY1OGQyNzE2NmRjMWY5OWQ3MGNkMjQyNTNlYWM1NTNkNWQxNmU4YWUzOGIyOTcyY2FmY2JiMjFjYTAwIiwia2V5SWQiOiJpc3N1aW5nMCIsImNyZWRlbnRpYWxTdWJqZWN0Ijp7Imlzc3VhbmNlRGF0ZSI6IjIwMjItMDgtMzBUMTU6NTg6MjJaIiwiY3JlZGVudGlhbFN1YmplY3QiOnsiZGVncmVlIjp7Im5hbWUiOiJCYWNoZWxvciBvZiBTY2llbmNlIGFuZCBBcnRzIiwidHlwZSI6IkJhY2hlbG9yRGVncmVlIn0sImlkIjoiZGlkOnByaXNtOmEwOGY0OWU2MWJjNDZkYzgyYjZiZDU0ZGQ2MjA4N2MyNWI1M2I0YTdlZjk4ZTU0OWNlNjJlZTRhZDM0NTBkNWMifSwib3B0aW9ucyI6eyJwcm9vZlR5cGUiOiJFY2RzYVNlY3AyNTZrMVNpZ25hdHVyZTIwMTkifSwiaWQiOiJkaWQ6cHJpc206YTA4ZjQ5ZTYxYmM0NmRjODJiNmJkNTRkZDYyMDg3YzI1YjUzYjRhN2VmOThlNTQ5Y2U2MmVlNGFkMzQ1MGQ1YyIsInR5cGUiOlsiVmVyaWZpYWJsZUNyZWRlbnRpYWwiLCJVbml2ZXJzaXR5RGVncmVlQ3JlZGVudGlhbCJdLCJAY29udGV4dCI6WyJodHRwczovL3d3dy53My5vcmcvMjAxOC9jcmVkZW50aWFscy92MSIsImh0dHBzOi8vd3d3LnczLm9yZy8yMDE4L2NyZWRlbnRpYWxzL2V4YW1wbGVzL3YxIl0sImlzc3VlciI6ImRpZDpwcmlzbTo3MTJmNzY1OGQyNzE2NmRjMWY5OWQ3MGNkMjQyNTNlYWM1NTNkNWQxNmU4YWUzOGIyOTcyY2FmY2JiMjFjYTAwIn19.MEUCIQDG1VzIa1FyOt3nIxTyKp1PA8WXkg7c5Kc8GR7aFQoL5gIgTXw1hIpvqocL9oQry1if5nphLfHc6SvQXM0GP-Y-Aig', 'proofHash': 'e3d943346ac2f69b122d00a8f119bb9d3e71cd01654baac6c8040fce18e2eb28', 'proofBatchId': '86f52e79de043c97327be0ff3d70613dffd83d07d6360bae2a10460805ee5264'}}, hash=None, jws=None), id='2d0aa6e0-b633-47bb-9d5b-00f3ab6df122', description=None, filename=None, media_type='application/json', format='aries/ld-proof-vc-detail@v1.0', lastmod_time=None, byte_count=None)], custom_headers=None), metadata=Metadata(encrypted=True, authenticated=True, non_repudiation=False, anonymous_sender=False, re_wrapped_in_forward=False, encrypted_from='did:peer:2.Ez6LScaSCYntL9tvKdDbgvQrXqjbj9X7bZiLdfbGAJNRaNgyt.Vz6MkgUs1UqcKx96xpQX33onjyEYEadpnQmK2FDyxYgQPNfhN.SeyJpZCI6Im5ldy1pZCIsInQiOiJkbSIsInMiOiJodHRwOi8vMTI3LjAuMC4xOjgwMDAiLCJhIjpbImRpZGNvbW0vdjIiXX0#6LScaSCYntL9tvKdDbgvQrXqjbj9X7bZiLdfbGAJNRaNgyt', encrypted_to=['did:peer:2.Ez6LScfqXt6TRDoQEoKV9P7MDowqT6hMzX3BfRKr5drVhvBa9.Vz6Mkmi3mGZaD9ai9RHRAMokKiCibAx7FTqWMDFfvPg2o1qdS.SeyJpZCI6Im5ldy1pZCIsInQiOiJkbSIsInMiOiJodHRwczovL3d3dy5leGFtcGxlLmNvbS9ob2xkZXIiLCJhIjpbImRpZGNvbW0vdjIiXX0#6LScfqXt6TRDoQEoKV9P7MDowqT6hMzX3BfRKr5drVhvBa9'], sign_from=None, from_prior_issuer_kid=None, enc_alg_auth=<AuthCryptAlg.A256CBC_HS512_ECDH_1PU_A256KW: Algs(alg='ECDH-1PU+A256KW', enc='A256CBC-HS512')>, enc_alg_anon=None, sign_alg=None, signed_message=None, from_prior_jwt=None))\n"
     ]
    }
   ],
   "source": [
    "print(credential_unpack_msg)"
   ]
  },
  {
   "cell_type": "code",
   "execution_count": 68,
   "metadata": {},
   "outputs": [
    {
     "name": "stdout",
     "output_type": "stream",
     "text": [
      "{'@context': ['https://www.w3.org/2018/credentials/v1', 'https://www.w3.org/2018/credentials/examples/v1'], 'id': 'a928d1e6-5c1d-4271-8a49-5f0241a39572', 'type': ['VerifiableCredential', 'UniversityDegreeCredential'], 'issuer': 'did:prism:712f7658d27166dc1f99d70cd24253eac553d5d16e8ae38b2972cafcbb21ca00', 'issuanceDate': '2022-08-30T15:58:22Z', 'credentialSubject': {'id': 'did:prism:a08f49e61bc46dc82b6bd54dd62087c25b53b4a7ef98e549ce62ee4ad3450d5c', 'degree': {'type': 'BachelorDegree', 'name': 'Bachelor of Science and Arts'}}, 'options': {'proofType': 'EcdsaSecp256k1Signature2019'}, 'proof': {'type': 'EcdsaSecp256k1Signature2019', 'created': '2022-08-30T15:58:26Z', 'verificationMethod': 'did:prism:712f7658d27166dc1f99d70cd24253eac553d5d16e8ae38b2972cafcbb21ca00', 'proofPurpose': 'assertionMethod', 'proofValue': 'eyJpZCI6ImRpZDpwcmlzbTo3MTJmNzY1OGQyNzE2NmRjMWY5OWQ3MGNkMjQyNTNlYWM1NTNkNWQxNmU4YWUzOGIyOTcyY2FmY2JiMjFjYTAwIiwia2V5SWQiOiJpc3N1aW5nMCIsImNyZWRlbnRpYWxTdWJqZWN0Ijp7Imlzc3VhbmNlRGF0ZSI6IjIwMjItMDgtMzBUMTU6NTg6MjJaIiwiY3JlZGVudGlhbFN1YmplY3QiOnsiZGVncmVlIjp7Im5hbWUiOiJCYWNoZWxvciBvZiBTY2llbmNlIGFuZCBBcnRzIiwidHlwZSI6IkJhY2hlbG9yRGVncmVlIn0sImlkIjoiZGlkOnByaXNtOmEwOGY0OWU2MWJjNDZkYzgyYjZiZDU0ZGQ2MjA4N2MyNWI1M2I0YTdlZjk4ZTU0OWNlNjJlZTRhZDM0NTBkNWMifSwib3B0aW9ucyI6eyJwcm9vZlR5cGUiOiJFY2RzYVNlY3AyNTZrMVNpZ25hdHVyZTIwMTkifSwiaWQiOiJkaWQ6cHJpc206YTA4ZjQ5ZTYxYmM0NmRjODJiNmJkNTRkZDYyMDg3YzI1YjUzYjRhN2VmOThlNTQ5Y2U2MmVlNGFkMzQ1MGQ1YyIsInR5cGUiOlsiVmVyaWZpYWJsZUNyZWRlbnRpYWwiLCJVbml2ZXJzaXR5RGVncmVlQ3JlZGVudGlhbCJdLCJAY29udGV4dCI6WyJodHRwczovL3d3dy53My5vcmcvMjAxOC9jcmVkZW50aWFscy92MSIsImh0dHBzOi8vd3d3LnczLm9yZy8yMDE4L2NyZWRlbnRpYWxzL2V4YW1wbGVzL3YxIl0sImlzc3VlciI6ImRpZDpwcmlzbTo3MTJmNzY1OGQyNzE2NmRjMWY5OWQ3MGNkMjQyNTNlYWM1NTNkNWQxNmU4YWUzOGIyOTcyY2FmY2JiMjFjYTAwIn19.MEUCIQDG1VzIa1FyOt3nIxTyKp1PA8WXkg7c5Kc8GR7aFQoL5gIgTXw1hIpvqocL9oQry1if5nphLfHc6SvQXM0GP-Y-Aig', 'proofHash': 'e3d943346ac2f69b122d00a8f119bb9d3e71cd01654baac6c8040fce18e2eb28', 'proofBatchId': '86f52e79de043c97327be0ff3d70613dffd83d07d6360bae2a10460805ee5264'}}\n"
     ]
    }
   ],
   "source": [
    "print(credential_unpack_msg.message.attachments[0].data.json)"
   ]
  },
  {
   "cell_type": "code",
   "execution_count": null,
   "metadata": {},
   "outputs": [],
   "source": []
  },
  {
   "cell_type": "code",
   "execution_count": null,
   "metadata": {},
   "outputs": [],
   "source": []
  }
 ],
 "metadata": {
  "kernelspec": {
   "display_name": "Python 3 (ipykernel)",
   "language": "python",
   "name": "python3"
  },
  "language_info": {
   "codemirror_mode": {
    "name": "ipython",
    "version": 3
   },
   "file_extension": ".py",
   "mimetype": "text/x-python",
   "name": "python",
   "nbconvert_exporter": "python",
   "pygments_lexer": "ipython3",
   "version": "3.9.13"
  }
 },
 "nbformat": 4,
 "nbformat_minor": 2
}
