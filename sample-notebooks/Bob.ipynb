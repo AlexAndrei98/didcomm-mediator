{
 "cells": [
  {
   "cell_type": "code",
   "execution_count": 1,
   "metadata": {},
   "outputs": [],
   "source": [
    "import json\n",
    "import base64\n",
    "import qrcode\n",
    "import requests\n",
    "import datetime\n",
    "import uuid\n",
    "import matplotlib.pyplot as plt\n",
    "from pymongo import MongoClient\n",
    "from typing import Optional, List\n",
    "from didcomm.common.types import DID, VerificationMethodType, VerificationMaterial, VerificationMaterialFormat\n",
    "from didcomm.did_doc.did_doc import DIDDoc, VerificationMethod, DIDCommService\n",
    "from didcomm.did_doc.did_resolver import DIDResolver\n",
    "from didcomm.message import Message, FromPrior\n",
    "from didcomm.secrets.secrets_resolver_demo import SecretsResolverDemo\n",
    "from didcomm.unpack import unpack, UnpackResult\n",
    "from didcomm.message import Attachment, AttachmentDataJson, AttachmentDataLinks\n",
    "from didcomm.common.resolvers import ResolversConfig\n",
    "from didcomm.pack_encrypted import pack_encrypted, PackEncryptedConfig, PackEncryptedResult\n",
    "from peerdid.core.did_doc_types import DIDCommServicePeerDID\n",
    "from didcomm.secrets.secrets_util import generate_x25519_keys_as_jwk_dict, generate_ed25519_keys_as_jwk_dict, jwk_to_secret\n",
    "from peerdid import peer_did\n",
    "from peerdid.did_doc import DIDDocPeerDID\n",
    "from peerdid.types import VerificationMaterialAuthentication, VerificationMethodTypeAuthentication, VerificationMaterialAgreement, VerificationMethodTypeAgreement, VerificationMaterialFormatPeerDID"
   ]
  },
  {
   "cell_type": "code",
   "execution_count": 2,
   "metadata": {},
   "outputs": [],
   "source": [
    "secrets_resolver = SecretsResolverDemo()"
   ]
  },
  {
   "cell_type": "code",
   "execution_count": 3,
   "metadata": {},
   "outputs": [],
   "source": [
    "class DIDResolverPeerDID(DIDResolver):\n",
    "    async def resolve(self, did: DID) -> DIDDoc:\n",
    "        did_doc_json = peer_did.resolve_peer_did(did, format = VerificationMaterialFormatPeerDID.JWK)\n",
    "        did_doc = DIDDocPeerDID.from_json(did_doc_json)\n",
    "\n",
    "        return DIDDoc(\n",
    "            did=did_doc.did,\n",
    "            key_agreement_kids = did_doc.agreement_kids,\n",
    "            authentication_kids = did_doc.auth_kids,\n",
    "            verification_methods = [\n",
    "                VerificationMethod(\n",
    "                    id = m.id,\n",
    "                    type = VerificationMethodType.JSON_WEB_KEY_2020,\n",
    "                    controller = m.controller,\n",
    "                    verification_material = VerificationMaterial(\n",
    "                        format = VerificationMaterialFormat.JWK,\n",
    "                        value = json.dumps(m.ver_material.value)\n",
    "                    )\n",
    "                )\n",
    "                for m in did_doc.authentication + did_doc.key_agreement\n",
    "            ],\n",
    "            didcomm_services = [\n",
    "                DIDCommService(\n",
    "                    id = s.id,\n",
    "                    service_endpoint = s.service_endpoint[0][\"uri\"] if \"uri\" in s.service_endpoint[0] else s.service_endpoint[0],\n",
    "                    routing_keys = s.routing_keys,\n",
    "                    accept = s.accept\n",
    "                )\n",
    "                for s in did_doc.service\n",
    "                if isinstance(s, DIDCommServicePeerDID)\n",
    "            ] if did_doc.service else []\n",
    "        )"
   ]
  },
  {
   "cell_type": "code",
   "execution_count": 4,
   "metadata": {},
   "outputs": [],
   "source": [
    "async def create_peer_did(self,\n",
    "                        auth_keys_count: int = 1,\n",
    "                        agreement_keys_count: int = 1,\n",
    "                        service_endpoint: Optional[str] = None,\n",
    "                        service_routing_keys: Optional[List[str]] = None\n",
    "                        ) -> str:\n",
    "        # 1. generate keys in JWK format\n",
    "        agreem_keys = [generate_x25519_keys_as_jwk_dict() for _ in range(agreement_keys_count)]\n",
    "        auth_keys = [generate_ed25519_keys_as_jwk_dict() for _ in range(auth_keys_count)]\n",
    "\n",
    "        # 2. prepare the keys for peer DID lib\n",
    "        agreem_keys_peer_did = [\n",
    "            VerificationMaterialAgreement(\n",
    "                type=VerificationMethodTypeAgreement.JSON_WEB_KEY_2020,\n",
    "                format=VerificationMaterialFormatPeerDID.JWK,\n",
    "                value=k[1],\n",
    "            )\n",
    "            for k in agreem_keys\n",
    "        ]\n",
    "        auth_keys_peer_did = [\n",
    "            VerificationMaterialAuthentication(\n",
    "                type=VerificationMethodTypeAuthentication.JSON_WEB_KEY_2020,\n",
    "                format=VerificationMaterialFormatPeerDID.JWK,\n",
    "                value=k[1],\n",
    "            )\n",
    "            for k in auth_keys\n",
    "        ]\n",
    "\n",
    "        # 3. generate service\n",
    "        service = None\n",
    "        if service_endpoint:\n",
    "            service = json.dumps(\n",
    "                DIDCommServicePeerDID(\n",
    "                    id=\"new-id\",\n",
    "                    service_endpoint=service_endpoint, \n",
    "                    routing_keys=service_routing_keys,\n",
    "                    accept=[\"didcomm/v2\"]\n",
    "                ).to_dict()\n",
    "            )\n",
    "\n",
    "        # 4. call peer DID lib\n",
    "        # if we have just one key (auth), then use numalg0 algorithm\n",
    "        # otherwise use numalg2 algorithm\n",
    "        if len(auth_keys_peer_did) == 1 and not agreem_keys_peer_did and not service:\n",
    "            did = peer_did.create_peer_did_numalgo_0(auth_keys_peer_did[0])\n",
    "        else:\n",
    "            did = peer_did.create_peer_did_numalgo_2(\n",
    "                encryption_keys=agreem_keys_peer_did,\n",
    "                signing_keys=auth_keys_peer_did,\n",
    "                service=service,\n",
    "            )\n",
    "\n",
    "        # 5. set KIDs as in DID DOC for secrets and store the secret in the secrets resolver\n",
    "        did_doc = DIDDocPeerDID.from_json(peer_did.resolve_peer_did(did))\n",
    "        for auth_key, kid in zip(auth_keys, did_doc.auth_kids):\n",
    "            private_key = auth_key[0]\n",
    "            private_key[\"kid\"] = kid\n",
    "            await secrets_resolver.add_key(jwk_to_secret(private_key))\n",
    "\n",
    "        for agreem_key, kid in zip(agreem_keys, did_doc.agreement_kids):\n",
    "            private_key = agreem_key[0]\n",
    "            private_key[\"kid\"] = kid\n",
    "            await secrets_resolver.add_key(jwk_to_secret(private_key))\n",
    "\n",
    "        return did\n"
   ]
  },
  {
   "cell_type": "code",
   "execution_count": 3,
   "metadata": {},
   "outputs": [
    {
     "data": {
      "text/plain": [
       "b'{\"detail\":\"Not Found\"}'"
      ]
     },
     "execution_count": 3,
     "metadata": {},
     "output_type": "execute_result"
    }
   ],
   "source": [
    "import requests\n",
    "peer_url =\"https://mediator.rootsid.cloud/qr?_oobid=eaaadb5aa8da4081a7628eff199cfbfe\"\n",
    "data=requests.get(peer_url)\n",
    "data.content"
   ]
  },
  {
   "cell_type": "code",
   "execution_count": 199,
   "metadata": {},
   "outputs": [
    {
     "data": {
      "text/plain": [
       "{'id': 'did:peer:2.Ez6LSmR579WxgKHvf9tU4fTqfY4RGh1XF5Dq7DfSR3uDEZH3Z.Vz6MkfyPuxGPEunGZ4hU15B7VvLKRMGd62NQHikV7TxXVX4FK.SeyJpZCI6Im5ldy1pZCIsInQiOiJkbSIsInMiOiJodHRwczovL21lZGlhdG9yLnJvb3RzaWQuY2xvdWQiLCJhIjpbImRpZGNvbW0vdjIiXX0',\n",
       " 'authentication': [{'id': 'did:peer:2.Ez6LSmR579WxgKHvf9tU4fTqfY4RGh1XF5Dq7DfSR3uDEZH3Z.Vz6MkfyPuxGPEunGZ4hU15B7VvLKRMGd62NQHikV7TxXVX4FK.SeyJpZCI6Im5ldy1pZCIsInQiOiJkbSIsInMiOiJodHRwczovL21lZGlhdG9yLnJvb3RzaWQuY2xvdWQiLCJhIjpbImRpZGNvbW0vdjIiXX0#6MkfyPuxGPEunGZ4hU15B7VvLKRMGd62NQHikV7TxXVX4FK',\n",
       "   'type': 'Ed25519VerificationKey2020',\n",
       "   'controller': 'did:peer:2.Ez6LSmR579WxgKHvf9tU4fTqfY4RGh1XF5Dq7DfSR3uDEZH3Z.Vz6MkfyPuxGPEunGZ4hU15B7VvLKRMGd62NQHikV7TxXVX4FK.SeyJpZCI6Im5ldy1pZCIsInQiOiJkbSIsInMiOiJodHRwczovL21lZGlhdG9yLnJvb3RzaWQuY2xvdWQiLCJhIjpbImRpZGNvbW0vdjIiXX0',\n",
       "   'publicKeyMultibase': 'z6MkfyPuxGPEunGZ4hU15B7VvLKRMGd62NQHikV7TxXVX4FK'}],\n",
       " 'keyAgreement': [{'id': 'did:peer:2.Ez6LSmR579WxgKHvf9tU4fTqfY4RGh1XF5Dq7DfSR3uDEZH3Z.Vz6MkfyPuxGPEunGZ4hU15B7VvLKRMGd62NQHikV7TxXVX4FK.SeyJpZCI6Im5ldy1pZCIsInQiOiJkbSIsInMiOiJodHRwczovL21lZGlhdG9yLnJvb3RzaWQuY2xvdWQiLCJhIjpbImRpZGNvbW0vdjIiXX0#6LSmR579WxgKHvf9tU4fTqfY4RGh1XF5Dq7DfSR3uDEZH3Z',\n",
       "   'type': 'X25519KeyAgreementKey2020',\n",
       "   'controller': 'did:peer:2.Ez6LSmR579WxgKHvf9tU4fTqfY4RGh1XF5Dq7DfSR3uDEZH3Z.Vz6MkfyPuxGPEunGZ4hU15B7VvLKRMGd62NQHikV7TxXVX4FK.SeyJpZCI6Im5ldy1pZCIsInQiOiJkbSIsInMiOiJodHRwczovL21lZGlhdG9yLnJvb3RzaWQuY2xvdWQiLCJhIjpbImRpZGNvbW0vdjIiXX0',\n",
       "   'publicKeyMultibase': 'z6LSmR579WxgKHvf9tU4fTqfY4RGh1XF5Dq7DfSR3uDEZH3Z'}],\n",
       " 'service': [{'id': 'did:peer:2.Ez6LSmR579WxgKHvf9tU4fTqfY4RGh1XF5Dq7DfSR3uDEZH3Z.Vz6MkfyPuxGPEunGZ4hU15B7VvLKRMGd62NQHikV7TxXVX4FK.SeyJpZCI6Im5ldy1pZCIsInQiOiJkbSIsInMiOiJodHRwczovL21lZGlhdG9yLnJvb3RzaWQuY2xvdWQiLCJhIjpbImRpZGNvbW0vdjIiXX0#didcommmessaging-0',\n",
       "   'type': 'DIDCommMessaging',\n",
       "   'serviceEndpoint': 'https://mediator.rootsid.cloud',\n",
       "   'accept': ['didcomm/v2']}]}"
      ]
     },
     "execution_count": 199,
     "metadata": {},
     "output_type": "execute_result"
    }
   ],
   "source": [
    "og_did_doc = json.loads(peer_did.resolve_peer_did(did_doc['service'][0]['serviceEndpoint']\n",
    "))\n",
    "og_did_doc\n"
   ]
  },
  {
   "cell_type": "code",
   "execution_count": 200,
   "metadata": {},
   "outputs": [
    {
     "data": {
      "text/plain": [
       "{'id': 'did:peer:2.Ez6LSigBHnUyRnmH89fjjPfejFtm4RsBqXtFtZDLXPKRcqQ9y.Vz6MkkCvY6GmShnAmDV2Tpf5caGzgHNm5EE5XEyCqiZqgo3vh.SeyJpZCI6Im5ldy1pZCIsInQiOiJkbSIsInMiOiJkaWQ6cGVlcjoyLkV6NkxTa1h2Wm0xRHc4N3N4UVM0cndqU3NQbXUzb3AzQ1hkUTR1MUFnZHR3TXNaenguVno2TWtqSkFMTHhzV2dEOUM5eVQ1RU00M0Y2UEpYdlhkdGtDQ2NCdDVabVM2dkU3Ti5TZXlKcFpDSTZJbTVsZHkxcFpDSXNJblFpT2lKa2JTSXNJbk1pT2lKb2RIUndjem92TDIxbFpHbGhkRzl5TG5KdmIzUnphV1F1WTJ4dmRXUWlMQ0poSWpwYkltUnBaR052YlcwdmRqSWlYWDAiLCJhIjpbImRpZGNvbW0vdjIiXX0',\n",
       " 'authentication': [{'id': 'did:peer:2.Ez6LSigBHnUyRnmH89fjjPfejFtm4RsBqXtFtZDLXPKRcqQ9y.Vz6MkkCvY6GmShnAmDV2Tpf5caGzgHNm5EE5XEyCqiZqgo3vh.SeyJpZCI6Im5ldy1pZCIsInQiOiJkbSIsInMiOiJkaWQ6cGVlcjoyLkV6NkxTa1h2Wm0xRHc4N3N4UVM0cndqU3NQbXUzb3AzQ1hkUTR1MUFnZHR3TXNaenguVno2TWtqSkFMTHhzV2dEOUM5eVQ1RU00M0Y2UEpYdlhkdGtDQ2NCdDVabVM2dkU3Ti5TZXlKcFpDSTZJbTVsZHkxcFpDSXNJblFpT2lKa2JTSXNJbk1pT2lKb2RIUndjem92TDIxbFpHbGhkRzl5TG5KdmIzUnphV1F1WTJ4dmRXUWlMQ0poSWpwYkltUnBaR052YlcwdmRqSWlYWDAiLCJhIjpbImRpZGNvbW0vdjIiXX0#6MkkCvY6GmShnAmDV2Tpf5caGzgHNm5EE5XEyCqiZqgo3vh',\n",
       "   'type': 'Ed25519VerificationKey2020',\n",
       "   'controller': 'did:peer:2.Ez6LSigBHnUyRnmH89fjjPfejFtm4RsBqXtFtZDLXPKRcqQ9y.Vz6MkkCvY6GmShnAmDV2Tpf5caGzgHNm5EE5XEyCqiZqgo3vh.SeyJpZCI6Im5ldy1pZCIsInQiOiJkbSIsInMiOiJkaWQ6cGVlcjoyLkV6NkxTa1h2Wm0xRHc4N3N4UVM0cndqU3NQbXUzb3AzQ1hkUTR1MUFnZHR3TXNaenguVno2TWtqSkFMTHhzV2dEOUM5eVQ1RU00M0Y2UEpYdlhkdGtDQ2NCdDVabVM2dkU3Ti5TZXlKcFpDSTZJbTVsZHkxcFpDSXNJblFpT2lKa2JTSXNJbk1pT2lKb2RIUndjem92TDIxbFpHbGhkRzl5TG5KdmIzUnphV1F1WTJ4dmRXUWlMQ0poSWpwYkltUnBaR052YlcwdmRqSWlYWDAiLCJhIjpbImRpZGNvbW0vdjIiXX0',\n",
       "   'publicKeyMultibase': 'z6MkkCvY6GmShnAmDV2Tpf5caGzgHNm5EE5XEyCqiZqgo3vh'}],\n",
       " 'keyAgreement': [{'id': 'did:peer:2.Ez6LSigBHnUyRnmH89fjjPfejFtm4RsBqXtFtZDLXPKRcqQ9y.Vz6MkkCvY6GmShnAmDV2Tpf5caGzgHNm5EE5XEyCqiZqgo3vh.SeyJpZCI6Im5ldy1pZCIsInQiOiJkbSIsInMiOiJkaWQ6cGVlcjoyLkV6NkxTa1h2Wm0xRHc4N3N4UVM0cndqU3NQbXUzb3AzQ1hkUTR1MUFnZHR3TXNaenguVno2TWtqSkFMTHhzV2dEOUM5eVQ1RU00M0Y2UEpYdlhkdGtDQ2NCdDVabVM2dkU3Ti5TZXlKcFpDSTZJbTVsZHkxcFpDSXNJblFpT2lKa2JTSXNJbk1pT2lKb2RIUndjem92TDIxbFpHbGhkRzl5TG5KdmIzUnphV1F1WTJ4dmRXUWlMQ0poSWpwYkltUnBaR052YlcwdmRqSWlYWDAiLCJhIjpbImRpZGNvbW0vdjIiXX0#6LSigBHnUyRnmH89fjjPfejFtm4RsBqXtFtZDLXPKRcqQ9y',\n",
       "   'type': 'X25519KeyAgreementKey2020',\n",
       "   'controller': 'did:peer:2.Ez6LSigBHnUyRnmH89fjjPfejFtm4RsBqXtFtZDLXPKRcqQ9y.Vz6MkkCvY6GmShnAmDV2Tpf5caGzgHNm5EE5XEyCqiZqgo3vh.SeyJpZCI6Im5ldy1pZCIsInQiOiJkbSIsInMiOiJkaWQ6cGVlcjoyLkV6NkxTa1h2Wm0xRHc4N3N4UVM0cndqU3NQbXUzb3AzQ1hkUTR1MUFnZHR3TXNaenguVno2TWtqSkFMTHhzV2dEOUM5eVQ1RU00M0Y2UEpYdlhkdGtDQ2NCdDVabVM2dkU3Ti5TZXlKcFpDSTZJbTVsZHkxcFpDSXNJblFpT2lKa2JTSXNJbk1pT2lKb2RIUndjem92TDIxbFpHbGhkRzl5TG5KdmIzUnphV1F1WTJ4dmRXUWlMQ0poSWpwYkltUnBaR052YlcwdmRqSWlYWDAiLCJhIjpbImRpZGNvbW0vdjIiXX0',\n",
       "   'publicKeyMultibase': 'z6LSigBHnUyRnmH89fjjPfejFtm4RsBqXtFtZDLXPKRcqQ9y'}],\n",
       " 'service': [{'id': 'did:peer:2.Ez6LSigBHnUyRnmH89fjjPfejFtm4RsBqXtFtZDLXPKRcqQ9y.Vz6MkkCvY6GmShnAmDV2Tpf5caGzgHNm5EE5XEyCqiZqgo3vh.SeyJpZCI6Im5ldy1pZCIsInQiOiJkbSIsInMiOiJkaWQ6cGVlcjoyLkV6NkxTa1h2Wm0xRHc4N3N4UVM0cndqU3NQbXUzb3AzQ1hkUTR1MUFnZHR3TXNaenguVno2TWtqSkFMTHhzV2dEOUM5eVQ1RU00M0Y2UEpYdlhkdGtDQ2NCdDVabVM2dkU3Ti5TZXlKcFpDSTZJbTVsZHkxcFpDSXNJblFpT2lKa2JTSXNJbk1pT2lKb2RIUndjem92TDIxbFpHbGhkRzl5TG5KdmIzUnphV1F1WTJ4dmRXUWlMQ0poSWpwYkltUnBaR052YlcwdmRqSWlYWDAiLCJhIjpbImRpZGNvbW0vdjIiXX0#didcommmessaging-0',\n",
       "   'type': 'DIDCommMessaging',\n",
       "   'serviceEndpoint': 'did:peer:2.Ez6LSkXvZm1Dw87sxQS4rwjSsPmu3op3CXdQ4u1AgdtwMsZzx.Vz6MkjJALLxsWgD9C9yT5EM43F6PJXvXdtkCCcBt5ZmS6vE7N.SeyJpZCI6Im5ldy1pZCIsInQiOiJkbSIsInMiOiJodHRwczovL21lZGlhdG9yLnJvb3RzaWQuY2xvdWQiLCJhIjpbImRpZGNvbW0vdjIiXX0',\n",
       "   'accept': ['didcomm/v2']}]}"
      ]
     },
     "execution_count": 200,
     "metadata": {},
     "output_type": "execute_result"
    }
   ],
   "source": [
    "#decode base64\n",
    "import base64,json\n",
    "peer_url =\"https://mediator.rootsid.cloud/qr?_oobid=eaaadb5aa8da4081a7628eff199cfbfe\"\n",
    "data=requests.get(peer_url)\n",
    "data\n",
    "document=json.loads(base64.b64decode(data.url.split(\"=\",1)[1]))\n",
    "\n",
    "did_doc = json.loads(peer_did.resolve_peer_did(document['from']))\n",
    "did_doc"
   ]
  },
  {
   "cell_type": "markdown",
   "metadata": {},
   "source": [
    "### Get OOB get somehow Alice DID (not covered here) --> Copy did from Alice notebook"
   ]
  },
  {
   "cell_type": "code",
   "execution_count": 201,
   "metadata": {},
   "outputs": [],
   "source": [
    "alice_did = \"did:peer:2.Ez6LSmd2L4zT1XXpxGKWx42gcnHP3pvLMnSG8VocJEiYHLYkU.Vz6MkrmKEHEjjd1eZY4ETH55XqkuC5aBh1GLQMtHZJBc1cxov.SeyJpZCI6Im5ldy1pZCIsInQiOiJkbSIsInMiOiJkaWQ6cGVlcjoyLkV6NkxTcVV4dE5SZ2lOdzhjbWRBYWIyWVpIWDVLVTRrajFyaWdNWml6aTVMcWR1RW4uVno2TWtuUmhna2RDWjY5Tk5Ic1E4MUVreFhDZEt2a2Joc1pNSm1mazZUaVd0U3NzcS5TZXlKcFpDSTZJbTVsZHkxcFpDSXNJblFpT2lKa2JTSXNJbk1pT2lKb2RIUndjem92TDIxbFpHbGhkRzl5TG5KdmIzUnphV1F1WTJ4dmRXUWlMQ0poSWpwYkltUnBaR052YlcwdmRqSWlYWDAiLCJhIjpbImRpZGNvbW0vdjIiXX0\"\n",
    "alice_did = document['from']"
   ]
  },
  {
   "cell_type": "markdown",
   "metadata": {},
   "source": [
    "### Get mediator DID from Alice DID and endpoint from mediator DID"
   ]
  },
  {
   "cell_type": "markdown",
   "metadata": {},
   "source": [
    "### Alice acknowledge so the mediator can delete the message"
   ]
  },
  {
   "cell_type": "code",
   "execution_count": 202,
   "metadata": {},
   "outputs": [
    {
     "name": "stdout",
     "output_type": "stream",
     "text": [
      "did:peer:2.Ez6LSkXvZm1Dw87sxQS4rwjSsPmu3op3CXdQ4u1AgdtwMsZzx.Vz6MkjJALLxsWgD9C9yT5EM43F6PJXvXdtkCCcBt5ZmS6vE7N.SeyJpZCI6Im5ldy1pZCIsInQiOiJkbSIsInMiOiJodHRwczovL21lZGlhdG9yLnJvb3RzaWQuY2xvdWQiLCJhIjpbImRpZGNvbW0vdjIiXX0\n"
     ]
    }
   ],
   "source": [
    "alice_did_doc = json.loads(peer_did.resolve_peer_did(alice_did))\n",
    "mediator_did = alice_did_doc[\"service\"][0][\"serviceEndpoint\"][0][\"uri\"]\n",
    "print(mediator_did)"
   ]
  },
  {
   "cell_type": "code",
   "execution_count": 203,
   "metadata": {},
   "outputs": [
    {
     "name": "stdout",
     "output_type": "stream",
     "text": [
      "https://mediator.rootsid.cloud\n"
     ]
    }
   ],
   "source": [
    "mediator_did_doc = json.loads(peer_did.resolve_peer_did(mediator_did))\n",
    "mediator_endpoint = mediator_did_doc[\"service\"][0][\"serviceEndpoint\"]\n",
    "print(mediator_endpoint)"
   ]
  },
  {
   "cell_type": "code",
   "execution_count": null,
   "metadata": {},
   "outputs": [],
   "source": []
  },
  {
   "cell_type": "markdown",
   "metadata": {},
   "source": [
    "### BOB creates DID and a basic msg to Bob"
   ]
  },
  {
   "cell_type": "code",
   "execution_count": 173,
   "metadata": {},
   "outputs": [
    {
     "name": "stdout",
     "output_type": "stream",
     "text": [
      "Bob's DID: did:peer:2.Ez6LSfqcHmNo54jYA1HoQaa4XmFb9koZSzJf326j1eiFYqRX3.Vz6MknQC3EJevb9sZUQnjvqHxCKoB5G7fP2Re6jgofiGHwPup.SeyJpZCI6Im5ldy1pZCIsInQiOiJkbSIsInMiOiJodHRwczovL3d3dy5leGFtcGxlLmNvbS9ib2IiLCJhIjpbImRpZGNvbW0vdjIiXX0\n"
     ]
    }
   ],
   "source": [
    "bob_did_to_alice = await create_peer_did(1,1, service_endpoint=\"https://www.example.com/bob\")\n",
    "print(\"Bob's DID:\", bob_did_to_alice)"
   ]
  },
  {
   "cell_type": "code",
   "execution_count": 174,
   "metadata": {},
   "outputs": [],
   "source": [
    "\n",
    "bob_basic_message = Message(\n",
    "    id = str(uuid.uuid4()),\n",
    "    type=\"https://didcomm.org/basicmessage/2.0/message\",\n",
    "    body={\"content\": \"Hola Alice Como estas?\"},\n",
    "    created_time= int(datetime.datetime.now().timestamp())            \n",
    ")"
   ]
  },
  {
   "cell_type": "code",
   "execution_count": 175,
   "metadata": {},
   "outputs": [],
   "source": [
    "# bob_response_message = Message(\n",
    "#     custom_headers = [{\n",
    "#         \"return_route\": \"all\"}],\n",
    "#     id = str(uuid.uuid4()),\n",
    "#     #pthid = received_msg_decoded[\"id\"],\n",
    "#     type = \"https://didcomm.org/discover-features/2.0/queries\",\n",
    "#     body = {\n",
    "#         \"queries\": [\n",
    "#             { \"feature-type\": \"protocol\", \"match\": \"https://didcomm.org/basicmessage/2.*\" }\n",
    "#         ]\n",
    "#     }\n",
    "# )"
   ]
  },
  {
   "cell_type": "code",
   "execution_count": 176,
   "metadata": {},
   "outputs": [],
   "source": [
    "bob_basic_message_packed = await pack_encrypted(\n",
    "    resolvers_config = ResolversConfig(\n",
    "        secrets_resolver = secrets_resolver,\n",
    "        did_resolver = DIDResolverPeerDID()\n",
    "    ),\n",
    "    message = bob_response_message,\n",
    "    frm = bob_did_to_alice,\n",
    "    to = alice_did,\n",
    "    sign_frm = None,\n",
    "    pack_config = PackEncryptedConfig(protect_sender_id=False)\n",
    ")"
   ]
  },
  {
   "cell_type": "code",
   "execution_count": 177,
   "metadata": {
    "scrolled": true
   },
   "outputs": [
    {
     "name": "stdout",
     "output_type": "stream",
     "text": [
      "eyJ0eXAiOiJhcHBsaWNhdGlvbi9kaWRjb21tLWVuY3J5cHRlZCtqc29uIiwiYWxnIjoiRUNESC0xUFUrQTI1NktXIiwiZW5jIjoiQTI1NkNCQy1IUzUxMiIsImFwdSI6IlpHbGtPbkJsWlhJNk1pNUZlalpNVTNRMU0zUXpWekZuZFZZNGJYQkZXR1pGVlZwS1JtTnljREZPZEc5VFNGQTJSbFJFUW5wNk1WbHZkRlZXTGxaNk5rMXJjM0Z5UkhOMlNsZFJVVzVUTkdGRmRGbzNRa1JIWW5wdmMxRm9RMGRuTkdOWFREVnJlbEk1YjJ0V1kyVXVVMlY1U25CYVEwazJTVzAxYkdSNU1YQmFRMGx6U1c1UmFVOXBTbXRpVTBselNXNU5hVTlwU205a1NGSjNZM3B2ZGt3elpETmtlVFZzWlVkR2RHTkhlR3hNYlU1MllsTTVhV0l5U1dsTVEwcG9TV3B3WWtsdFVuQmFSMDUyWWxjd2RtUnFTV2xZV0RBak5reFRkRFV6ZEROWE1XZDFWamh0Y0VWWVprVlZXa3BHWTNKd01VNTBiMU5JVURaR1ZFUkNlbm94V1c5MFZWWSIsImFwdiI6Ijk2UDZQbkVSOXJjYkEwZDBZZldpZVFZbEhMUV84NjRYQVVyVXpPeVBDT0kiLCJza2lkIjoiZGlkOnBlZXI6Mi5FejZMU3Q1M3QzVzFndVY4bXBFWGZFVVpKRmNycDFOdG9TSFA2RlREQnp6MVlvdFVWLlZ6Nk1rc3FyRHN2SldRUW5TNGFFdFo3QkRHYnpvc1FoQ0dnNGNXTDVrelI5b2tWY2UuU2V5SnBaQ0k2SW01bGR5MXBaQ0lzSW5RaU9pSmtiU0lzSW5NaU9pSm9kSFJ3Y3pvdkwzZDNkeTVsZUdGdGNHeGxMbU52YlM5aWIySWlMQ0poSWpwYkltUnBaR052YlcwdmRqSWlYWDAjNkxTdDUzdDNXMWd1VjhtcEVYZkVVWkpGY3JwMU50b1NIUDZGVERCenoxWW90VVYiLCJlcGsiOnsiY3J2IjoiWDI1NTE5IiwieCI6IldCNjhNS1J6M2dnaE1HRUVGdEc1Z01vSlM3Yy12OWVkVXF4cEtLMWExRzAiLCJrdHkiOiJPS1AifX0\n"
     ]
    }
   ],
   "source": [
    "print(json.loads(bob_response_message_packed.packed_msg)[\"protected\"])"
   ]
  },
  {
   "cell_type": "markdown",
   "metadata": {},
   "source": [
    "### Bobs cread DID and msg routed via Mediator"
   ]
  },
  {
   "cell_type": "code",
   "execution_count": 178,
   "metadata": {},
   "outputs": [],
   "source": [
    "bob_did_to_mediator = await create_peer_did(1,1, service_endpoint=\"https://www.example.com/bob\")"
   ]
  },
  {
   "cell_type": "code",
   "execution_count": 179,
   "metadata": {},
   "outputs": [
    {
     "data": {
      "text/plain": [
       "'did:peer:2.Ez6LSqQeNL2Mqv7PcdmMy6KZrvMyqLYBYuttcv15TiyiCk5hn.Vz6MkqysyFzYA6hqC23VC5eczrW6UPfAPvQxEFKMkzYf7gWsy.SeyJpZCI6Im5ldy1pZCIsInQiOiJkbSIsInMiOiJodHRwczovL3d3dy5leGFtcGxlLmNvbS9ib2IiLCJhIjpbImRpZGNvbW0vdjIiXX0'"
      ]
     },
     "execution_count": 179,
     "metadata": {},
     "output_type": "execute_result"
    }
   ],
   "source": [
    "bob_did_to_mediator"
   ]
  },
  {
   "cell_type": "code",
   "execution_count": 180,
   "metadata": {},
   "outputs": [],
   "source": [
    "bob_routed_message = Message(\n",
    "    id = str(uuid.uuid4()),\n",
    "    type=\"https://didcomm.org/routing/2.0/forward\",\n",
    "    body={\"next\": alice_did},\n",
    "    to=[mediator_did],\n",
    "    attachments=[Attachment(\n",
    "            data=AttachmentDataJson(json=json.loads(bob_response_message_packed.packed_msg))\n",
    "        )]\n",
    ")"
   ]
  },
  {
   "cell_type": "code",
   "execution_count": 181,
   "metadata": {},
   "outputs": [],
   "source": [
    "bob_routed_message_packed = await pack_encrypted(\n",
    "    resolvers_config = ResolversConfig(\n",
    "        secrets_resolver = secrets_resolver,\n",
    "        did_resolver = DIDResolverPeerDID()\n",
    "    ),\n",
    "    message = bob_routed_message,\n",
    "    frm = bob_did_to_mediator,\n",
    "    to = mediator_did,\n",
    "    sign_frm = None,\n",
    "    pack_config = PackEncryptedConfig(protect_sender_id=False)\n",
    ")"
   ]
  },
  {
   "cell_type": "markdown",
   "metadata": {},
   "source": [
    "### Sending to Mediator"
   ]
  },
  {
   "cell_type": "code",
   "execution_count": 182,
   "metadata": {},
   "outputs": [],
   "source": [
    "headers = {\"Content-Type\": \"application/didcomm-encrypted+json\"}\n",
    "resp = requests.post(mediator_endpoint, headers=headers, data = bob_routed_message_packed.packed_msg)\n"
   ]
  },
  {
   "cell_type": "code",
   "execution_count": 183,
   "metadata": {},
   "outputs": [
    {
     "data": {
      "text/plain": [
       "b'null'"
      ]
     },
     "execution_count": 183,
     "metadata": {},
     "output_type": "execute_result"
    }
   ],
   "source": [
    "resp.content"
   ]
  },
  {
   "cell_type": "code",
   "execution_count": 312,
   "metadata": {},
   "outputs": [
    {
     "name": "stdout",
     "output_type": "stream",
     "text": [
      "Bob's DID: did:peer:2.Ez6LSkWW74ZsDXVdix9gnJcopDy8mtq5noTmhidn92inq3AtS.Vz6MkkcNRx5VsDjMmqLACzxRmTQhvAPUrhBniZPHVk8DiNE2r\n",
      "https://mediator.rootsid.cloud\n",
      "{\"protected\":\"eyJ0eXAiOiJhcHBsaWNhdGlvbi9kaWRjb21tLWVuY3J5cHRlZCtqc29uIiwiYWxnIjoiRUNESC0xUFUrQTI1NktXIiwiZW5jIjoiQTI1NkNCQy1IUzUxMiIsImFwdSI6IlpHbGtPbkJsWlhJNk1pNUZlalpNVTJKMFNHOXFXVzgxUVcxQ05FSXlkazUxVkd0RFpXRjBTbGhDYVc5MWIycDNPRGRrYjJsV1pWSXhRa04wTGxaNk5rMXJkakk1WW1WU2FUTllhRk0yYWprMFlVUmxVblJWY2pOQ01UZDZha1Z2V0VoM2MzTlpXbk5pY0ZOcGIzVXVVMlY1U25CYVEwazJTVzAxYkdSNU1YQmFRMGx6U1c1UmFVOXBTbXRpVTBselNXNU5hVTlwU205a1NGSjNZM3B2ZGt3eU1XeGFSMnhvWkVjNWVVeHVTblppTTFKNllWZFJkVmt5ZUhaa1YxRnBURU5LYUVscWNHSkpiVkp3V2tkT2RtSlhNSFprYWtscFdGZ3dJelpNVTJKMFNHOXFXVzgxUVcxQ05FSXlkazUxVkd0RFpXRjBTbGhDYVc5MWIycDNPRGRrYjJsV1pWSXhRa04wIiwiYXB2IjoiYS00TnIwZ0wxU19YY0pGQTI2LVhhVDR4eFljcEU1NUJjbEozemVXRlV0TSIsInNraWQiOiJkaWQ6cGVlcjoyLkV6NkxTYnRIb2pZbzVBbUI0QjJ2TnVUa0NlYXRKWEJpb3Vvanc4N2RvaVZlUjFCQ3QuVno2TWt2MjliZVJpM1hoUzZqOTRhRGVSdFVyM0IxN3pqRW9YSHdzc1lac2JwU2lvdS5TZXlKcFpDSTZJbTVsZHkxcFpDSXNJblFpT2lKa2JTSXNJbk1pT2lKb2RIUndjem92TDIxbFpHbGhkRzl5TG5KdmIzUnphV1F1WTJ4dmRXUWlMQ0poSWpwYkltUnBaR052YlcwdmRqSWlYWDAjNkxTYnRIb2pZbzVBbUI0QjJ2TnVUa0NlYXRKWEJpb3Vvanc4N2RvaVZlUjFCQ3QiLCJlcGsiOnsiY3J2IjoiWDI1NTE5IiwieCI6IlotREhLamV3ZjFyOGZOZlBycFhZdFM3dkpRNUNyNTQxRXpFcVhSNjRxRDAiLCJrdHkiOiJPS1AifX0\",\"recipients\":[{\"header\":{\"kid\":\"did:peer:2.Ez6LSkWW74ZsDXVdix9gnJcopDy8mtq5noTmhidn92inq3AtS.Vz6MkkcNRx5VsDjMmqLACzxRmTQhvAPUrhBniZPHVk8DiNE2r#6LSkWW74ZsDXVdix9gnJcopDy8mtq5noTmhidn92inq3AtS\"},\"encrypted_key\":\"apH_wDqQ4aMcKTFJqewXzLLYFddy-XeLEbxPvXRzcZvL4fzDzTXkVCnLXqyT7Q2vheD3bHENnt1RH_c4B56x_Uptao_cY4g7\"}],\"iv\":\"4lRxdI9IihZCTMoNQork-w\",\"ciphertext\":\"t6wLVr7eMSBULeZ-G5bdzzX7r8kKQLDJYtm0-xRDBImBJHTYKPSqqOtX8p0MUn4pHpIrhf1x9C4eoxV0IylnWbqKj31ywBCBtZMuYXK-czae7ljLd0c75chvyI0CVF4bexV35q8iGz0hiyS8EWR0IDWoSJxeR-oKingxjo7t7ccKk_jocL8ljxWS-46uGrNgchA2zU4HPuxaBhnYxWXPthIDHb_HEU4XKa4NuA-8tYjUVfDtpiNquUqj2yEqWVDZvIbX-rsdtvejKRM-G0v79FHFY20g-JstleU1OCddz3GyHzl4JDoZ7L90vEWdnwsSnbMK0Hs0CT6B7VRzZKik3EaS9h_BUm5Mv91Lkfl3nfPzpCxOlr82GsyMcteK3fzoWAy5CPxtrZQ9EJmAN-JFEk883l90zsxGcyQ3_45jnoeobvmp5k1UzUPUdhDrvO30Rdawjby6-swOefqZNWpFpiMVIJnSP7E7IpNzx3GKAD7ifGy553sdYpR6w50yToM2n7cEpQOKpCDvuN8knX5nJ6eqhp7jn3HlibaF1Xd5WUmnUU-aKiI-bvS_JGRXTdmoMKRZzYn9qN1n7vsY67R5jHNdyaVD2bVONx7eFqQtErAx56EUuoU2UMeem9XHd3OTWKpzBES3oT4bZ05HfTMyBUhbeRfKjtul7qmPv8hU1FfBUen8xUand-oq732NgOpnDF6IHbRM6tfSRGNjPZR_xCfQyTgyPGPgiMZEPPo9r9gUjFN9meUnRPSOMuSLQ6AFwcfpWyx03vckw-nBrEo1BfXfa1S5Y4z_v8eQryEJo3DX8wtyAzPje7AzEEC07eUTxJk9wLcR5mu_kiUNSMLm127maI_lw4sT3tSZYFJF3O3XVK7KJEj-CltYMRqF7fEXn34VTQaZKzqTPmYoGD6x1DBapJLbNb1UmNRfTgDejJTsZG2HvxK6sSY8TC8FJYRQNF7KOjRnhwWnMg3OD1jRWPz8H1SDbYeZ_idv5HCPyXT1bhztr3m7DmMr3vJ-p62Vb6p4_K5HgSRnU3KQL62mNrGJ25lyLfNSZXHnVhrIwqUERELwPYN9f8d4V0qAgBpW7to5n4FQGtFQc6cI7ZMQeOWs1H5vL-n8ESuJ3eAB4QBnrKxq0IiH8iJc8hZTxj26k7FkDeceyAcu34svM3Tq9Ue4HgjTSv4_qlqi_aoquAr0pRpEBMPIAbMfM5IRkOILffqzpjXh4snK0bakO48VyA2JDmqqrjNrSYtMIh4d0pqKYBEhE14gVayCI1POopLYwkQGDtHPyP0SFfWGZ3gXSOOj8k15_d4qDWi0qYy2LreZqJSEQwcjEsTURQFBkfRh0CDv2lCbS43DLqDdsqXZT_EjSL_-j2b52KJ5m6Ee0SrHaLvrBJYGrVWocPsJ8LmJgBzDkqPL3GbjXKFTPtVzxp4uP5CixOGE0W2Qiim1KuS9N2xMRIJ4rig_jWJTPYjgTEAxf_IXSEUIMy66LwG9ESwkjjXuPayVWRUPP1ebSZlLRnTr3DqnSzzZSvh9rchXJ4wrco5tZ7ASpNFGedK-rXt7uYhc9Ix5GJvG_C74wl5FLpUTluQWbLMHFqCq-9dk8YR0kdJZ7f3triKb8jFpI4WaZ64BPjg5PpjFKiFfmSVbqYmTj9LDPdT8OUCuqpHFmmNTmMXYWGbgP_ILW4vnuuTWjIRSM8lp0U12MBgYL0uJwX9vPdsXq3jDFeNn4joL-E3Sx8kh9tL0Tf24lE8FLcnTwu6k9d9JDGvl60gdRcFNIeFo5PDhZYFyWjdAL6MRXukumW9JaLEsVakwLVVuO5qENnj81EqP2yKLDVTmDutuIuZQBCnk1J36vshhO_Yx8BFkysxmvXuJ8mwx4aa3_yFDRWS1YnGBYOdrsbF8awKvhFcg_tPfZckzH0f90DgCfZGH9yTTL21-IMwkuqGTh1OnOiGLHL698qDGWqEIalPMInZHHd3cbqCNzeTO6R69JP5Ekwpt8KU5LYTpNbJmA-Tr4zcobYphPU30SwnxRF8\",\"tag\":\"Yp3mEkbCjs8DaHa3jtEH8wlUxY7ixGY_62pWEEqhUjc\"}\n",
      "https://didcomm.org/coordinate-mediation/2.0/mediate-grant\n",
      "Routing Key: did:peer:2.Ez6LSdDNKdnRSY13JR36bp82A3ongNBmwRMCrtJmaryK3SijL.Vz6MkvbhEX5ygXymETRHuxfZsC7Lj483JfTEY1s3EL5K74H4Z.SeyJpZCI6Im5ldy1pZCIsInQiOiJkbSIsInMiOiJodHRwczovL21lZGlhdG9yLnJvb3RzaWQuY2xvdWQiLCJhIjpbImRpZGNvbW0vdjIiXX0\n",
      "Mediator new DID: did:peer:2.Ez6LSbtHojYo5AmB4B2vNuTkCeatJXBiouojw87doiVeR1BCt.Vz6Mkv29beRi3XhS6j94aDeRtUr3B17zjEoXHwssYZsbpSiou.SeyJpZCI6Im5ldy1pZCIsInQiOiJkbSIsInMiOiJodHRwczovL21lZGlhdG9yLnJvb3RzaWQuY2xvdWQiLCJhIjpbImRpZGNvbW0vdjIiXX0\n",
      "bob's DID for Bob: did:peer:2.Ez6LSqDRDzSP529VBMPn6F6UwekcJMZQoEGkiiVYX4UpBdyBK.Vz6Mkf6kdLgeHfH6mMqEoMyoXeJ6t3cLM7mqSrZGawXm5Fuqx.SeyJpZCI6Im5ldy1pZCIsInQiOiJkbSIsInMiOlt7InVyaSI6ImRpZDpwZWVyOjIuRXo2TFNkRE5LZG5SU1kxM0pSMzZicDgyQTNvbmdOQm13Uk1DcnRKbWFyeUszU2lqTC5WejZNa3ZiaEVYNXlnWHltRVRSSHV4ZlpzQzdMajQ4M0pmVEVZMXMzRUw1Szc0SDRaLlNleUpwWkNJNkltNWxkeTFwWkNJc0luUWlPaUprYlNJc0luTWlPaUpvZEhSd2N6b3ZMMjFsWkdsaGRHOXlMbkp2YjNSemFXUXVZMnh2ZFdRaUxDSmhJanBiSW1ScFpHTnZiVzB2ZGpJaVhYMCJ9XSwiYSI6WyJkaWRjb21tL3YyIl19\n",
      "https://didcomm.org/coordinate-mediation/2.0/mediate-grant\n",
      "{'routing_did': 'did:peer:2.Ez6LSdDNKdnRSY13JR36bp82A3ongNBmwRMCrtJmaryK3SijL.Vz6MkvbhEX5ygXymETRHuxfZsC7Lj483JfTEY1s3EL5K74H4Z.SeyJpZCI6Im5ldy1pZCIsInQiOiJkbSIsInMiOiJodHRwczovL21lZGlhdG9yLnJvb3RzaWQuY2xvdWQiLCJhIjpbImRpZGNvbW0vdjIiXX0'}\n",
      "SEND\n",
      "did:peer:2.Ez6LSqDRDzSP529VBMPn6F6UwekcJMZQoEGkiiVYX4UpBdyBK.Vz6Mkf6kdLgeHfH6mMqEoMyoXeJ6t3cLM7mqSrZGawXm5Fuqx.SeyJpZCI6Im5ldy1pZCIsInQiOiJkbSIsInMiOlt7InVyaSI6ImRpZDpwZWVyOjIuRXo2TFNkRE5LZG5SU1kxM0pSMzZicDgyQTNvbmdOQm13Uk1DcnRKbWFyeUszU2lqTC5WejZNa3ZiaEVYNXlnWHltRVRSSHV4ZlpzQzdMajQ4M0pmVEVZMXMzRUw1Szc0SDRaLlNleUpwWkNJNkltNWxkeTFwWkNJc0luUWlPaUprYlNJc0luTWlPaUpvZEhSd2N6b3ZMMjFsWkdsaGRHOXlMbkp2YjNSemFXUXVZMnh2ZFdRaUxDSmhJanBiSW1ScFpHTnZiVzB2ZGpJaVhYMCJ9XSwiYSI6WyJkaWRjb21tL3YyIl19\n"
     ]
    }
   ],
   "source": [
    "oob_url = requests.get(\"https://mediator.rootsid.cloud/oob_url\").text\n",
    "received_msg_encoded = oob_url.split(\"=\")[1]\n",
    "received_msg_decoded = json.loads(str(base64.urlsafe_b64decode(received_msg_encoded + \"==\"), \"utf-8\"))\n",
    "bob_did_for_mediator = await create_peer_did(1,1)\n",
    "print(\"Bob's DID:\", bob_did_for_mediator)\n",
    "bob_mediate_grant = Message(\n",
    "    custom_headers = [{\"return_route\": \"all\"}],\n",
    "    id = str(uuid.uuid4()),\n",
    "    type = \"https://didcomm.org/coordinate-mediation/2.0/mediate-request\",\n",
    "    body = {}\n",
    ")\n",
    "bob_mediate_grant_packed = await pack_encrypted(\n",
    "    resolvers_config = ResolversConfig(\n",
    "        secrets_resolver = secrets_resolver,\n",
    "        did_resolver = DIDResolverPeerDID()\n",
    "    ),\n",
    "    message = bob_mediate_grant,\n",
    "    frm = bob_did_for_mediator,\n",
    "    to = received_msg_decoded[\"from\"],\n",
    "    sign_frm = None,\n",
    "    pack_config = PackEncryptedConfig(protect_sender_id=False)\n",
    ")\n",
    "mediator_did_doc = json.loads(peer_did.resolve_peer_did(received_msg_decoded[\"from\"]))\n",
    "mediator_endpoint = mediator_did_doc[\"service\"][0][\"serviceEndpoint\"]\n",
    "print(mediator_endpoint)\n",
    "headers = {\"Content-Type\": \"application/didcomm-encrypted+json\"}\n",
    "resp = requests.post(mediator_endpoint, headers=headers, data = bob_mediate_grant_packed.packed_msg)\n",
    "print(resp.json())\n",
    "\n",
    "mediator_unpack_msg = await unpack(\n",
    "    resolvers_config=ResolversConfig(\n",
    "        secrets_resolver=secrets_resolver,\n",
    "        did_resolver=DIDResolverPeerDID()\n",
    "    ),\n",
    "    packed_msg= resp.json()\n",
    ")\n",
    "print(mediator_unpack_msg.message.type)\n",
    "print(\"Routing Key: \" + mediator_unpack_msg.message.body[\"routing_did\"])\n",
    "print(\"Mediator new DID: \" + mediator_unpack_msg.message.from_prior.sub)\n",
    "# mediator rotated did\n",
    "mediator_routing_key = mediator_unpack_msg.message.body[\"routing_did\"]\n",
    "bob_mediator_did = mediator_unpack_msg.message.from_prior.sub\n",
    "\n",
    "#bob_did_new = await create_peer_did(1, 1, service_endpoint=mediator_endpoint, service_routing_keys=[mediator_routing_key])\n",
    "bob_did_to_alice = await create_peer_did(1, 1, service_endpoint=[{\"uri\": mediator_routing_key}])\n",
    "\n",
    "print(\"bob's DID for Bob:\", bob_did_to_alice)\n",
    "\n",
    "bob_keylist_update = Message(\n",
    "    id =str(uuid.uuid4()),\n",
    "    type = \"https://didcomm.org/coordinate-mediation/2.0/keylist-update\",\n",
    "    body = {\n",
    "        \"updates\":[\n",
    "        {\n",
    "            \"recipient_did\": bob_did_to_alice,\n",
    "            \"action\": \"add\"\n",
    "        }\n",
    "    ]\n",
    "    }\n",
    ")\n",
    "bob_keylist_update_packed_msg = await pack_encrypted(\n",
    "    resolvers_config = ResolversConfig(\n",
    "        secrets_resolver = secrets_resolver,\n",
    "        did_resolver = DIDResolverPeerDID()\n",
    "    ),\n",
    "    message = bob_keylist_update,\n",
    "    frm = bob_did_for_mediator,\n",
    "    to = bob_mediator_did,\n",
    "    sign_frm = None,\n",
    "    pack_config = PackEncryptedConfig(protect_sender_id=False)\n",
    ")\n",
    "mediator_unpack_msg2 = await unpack(\n",
    "    resolvers_config=ResolversConfig(\n",
    "        secrets_resolver=secrets_resolver,\n",
    "        did_resolver=DIDResolverPeerDID()\n",
    "    ),\n",
    "    packed_msg= resp.json()\n",
    ")\n",
    "print(mediator_unpack_msg2.message.type)\n",
    "print(mediator_unpack_msg2.message.body)\n",
    "print(\"SEND\")\n",
    "print(bob_did_to_alice)"
   ]
  },
  {
   "cell_type": "code",
   "execution_count": 327,
   "metadata": {},
   "outputs": [
    {
     "data": {
      "text/plain": [
       "{'id': 'did:peer:2.Ez6LSo7greAQ4GZRuparQC1cysxubcCFjVVZdsvDSocEkL971.Vz6MktiFh7h3jHcHtxoSWCNj1oB5YRsTgoX8SnDo9HBZmdRdx.SeyJpZCI6Im5ldy1pZCIsInQiOiJkbSIsInMiOiJodHRwczovL21lZGlhdG9yLnJvb3RzaWQuY2xvdWQiLCJhIjpbImRpZGNvbW0vdjIiXX0',\n",
       " 'authentication': [{'id': 'did:peer:2.Ez6LSo7greAQ4GZRuparQC1cysxubcCFjVVZdsvDSocEkL971.Vz6MktiFh7h3jHcHtxoSWCNj1oB5YRsTgoX8SnDo9HBZmdRdx.SeyJpZCI6Im5ldy1pZCIsInQiOiJkbSIsInMiOiJodHRwczovL21lZGlhdG9yLnJvb3RzaWQuY2xvdWQiLCJhIjpbImRpZGNvbW0vdjIiXX0#6MktiFh7h3jHcHtxoSWCNj1oB5YRsTgoX8SnDo9HBZmdRdx',\n",
       "   'type': 'Ed25519VerificationKey2020',\n",
       "   'controller': 'did:peer:2.Ez6LSo7greAQ4GZRuparQC1cysxubcCFjVVZdsvDSocEkL971.Vz6MktiFh7h3jHcHtxoSWCNj1oB5YRsTgoX8SnDo9HBZmdRdx.SeyJpZCI6Im5ldy1pZCIsInQiOiJkbSIsInMiOiJodHRwczovL21lZGlhdG9yLnJvb3RzaWQuY2xvdWQiLCJhIjpbImRpZGNvbW0vdjIiXX0',\n",
       "   'publicKeyMultibase': 'z6MktiFh7h3jHcHtxoSWCNj1oB5YRsTgoX8SnDo9HBZmdRdx'}],\n",
       " 'keyAgreement': [{'id': 'did:peer:2.Ez6LSo7greAQ4GZRuparQC1cysxubcCFjVVZdsvDSocEkL971.Vz6MktiFh7h3jHcHtxoSWCNj1oB5YRsTgoX8SnDo9HBZmdRdx.SeyJpZCI6Im5ldy1pZCIsInQiOiJkbSIsInMiOiJodHRwczovL21lZGlhdG9yLnJvb3RzaWQuY2xvdWQiLCJhIjpbImRpZGNvbW0vdjIiXX0#6LSo7greAQ4GZRuparQC1cysxubcCFjVVZdsvDSocEkL971',\n",
       "   'type': 'X25519KeyAgreementKey2020',\n",
       "   'controller': 'did:peer:2.Ez6LSo7greAQ4GZRuparQC1cysxubcCFjVVZdsvDSocEkL971.Vz6MktiFh7h3jHcHtxoSWCNj1oB5YRsTgoX8SnDo9HBZmdRdx.SeyJpZCI6Im5ldy1pZCIsInQiOiJkbSIsInMiOiJodHRwczovL21lZGlhdG9yLnJvb3RzaWQuY2xvdWQiLCJhIjpbImRpZGNvbW0vdjIiXX0',\n",
       "   'publicKeyMultibase': 'z6LSo7greAQ4GZRuparQC1cysxubcCFjVVZdsvDSocEkL971'}],\n",
       " 'service': [{'id': 'did:peer:2.Ez6LSo7greAQ4GZRuparQC1cysxubcCFjVVZdsvDSocEkL971.Vz6MktiFh7h3jHcHtxoSWCNj1oB5YRsTgoX8SnDo9HBZmdRdx.SeyJpZCI6Im5ldy1pZCIsInQiOiJkbSIsInMiOiJodHRwczovL21lZGlhdG9yLnJvb3RzaWQuY2xvdWQiLCJhIjpbImRpZGNvbW0vdjIiXX0#didcommmessaging-0',\n",
       "   'type': 'DIDCommMessaging',\n",
       "   'serviceEndpoint': 'https://mediator.rootsid.cloud',\n",
       "   'accept': ['didcomm/v2']}]}"
      ]
     },
     "execution_count": 327,
     "metadata": {},
     "output_type": "execute_result"
    }
   ],
   "source": [
    "mediator_did_doc"
   ]
  },
  {
   "cell_type": "code",
   "execution_count": 310,
   "metadata": {},
   "outputs": [
    {
     "name": "stdout",
     "output_type": "stream",
     "text": [
      "did:peer:2.Ez6LSszPKZSsfBrvyeSpfTqoSounUmZwCoxoLvijiTXEx3p7G.Vz6MkhdHXej5btPVycSdXsQLb2JBwi6NBYVG7NXRbs1Ro8fJz.SeyJpZCI6Im5ldy1pZCIsInQiOiJkbSIsInMiOiJodHRwczovL21lZGlhdG9yLnJvb3RzaWQuY2xvdWQiLCJhIjpbImRpZGNvbW0vdjIiXX0\n",
      "https://mediator.rootsid.cloud\n"
     ]
    }
   ],
   "source": [
    "#decode base64\n",
    "import base64,json\n",
    "peer_url =\"https://mediator.rootsid.cloud/qr?_oobid=f3516bf74f92413d91dafcdc1dd988e2\"\n",
    "data=requests.get(peer_url)\n",
    "data\n",
    "document=json.loads(base64.b64decode(data.url.split(\"=\",1)[1]))\n",
    "\n",
    "alice_did_doc = json.loads(peer_did.resolve_peer_did(document['from']))\n",
    "mediator_did = alice_did_doc[\"service\"][0][\"serviceEndpoint\"]\n",
    "print(mediator_did)\n",
    "mediator_endpoint = mediator_did_doc[\"service\"][0][\"serviceEndpoint\"]\n",
    "print(mediator_endpoint)"
   ]
  },
  {
   "cell_type": "code",
   "execution_count": 324,
   "metadata": {},
   "outputs": [],
   "source": [
    "bob_did_to_alice = await create_peer_did(1, 1,service_endpoint=[{\"uri\": mediator_routing_key}])\n",
    "bob_basic_message = Message(\n",
    "    id = str(uuid.uuid4()),\n",
    "    type=\"https://didcomm.org/basicmessage/2.0/message\",\n",
    "    body={\"content\": 'Again Alexa', \"displayName\": 'Alex'},\n",
    "    created_time= int(datetime.datetime.now().timestamp())            \n",
    ")\n",
    "\n",
    "bob_response_message_packed = await pack_encrypted(\n",
    "    resolvers_config = ResolversConfig(\n",
    "        secrets_resolver = secrets_resolver,\n",
    "        did_resolver = DIDResolverPeerDID()\n",
    "    ),\n",
    "    message = bob_basic_message,\n",
    "    frm = bob_did_to_alice,\n",
    "    to = document['from'],\n",
    "    sign_frm = None,\n",
    "    pack_config = PackEncryptedConfig(protect_sender_id=False)\n",
    ")\n",
    "bob_routed_message = Message(\n",
    "    id = str(uuid.uuid4()),\n",
    "    type=\"https://didcomm.org/routing/2.0/forward\",\n",
    "    body={\"next\": document['from']},\n",
    "    to=[mediator_did],\n",
    "    attachments=[Attachment(\n",
    "            data=AttachmentDataJson(json=json.loads(bob_response_message_packed.packed_msg))\n",
    "        )]\n",
    ")\n",
    "\n",
    "bob_routed_message_packed = await pack_encrypted(\n",
    "    resolvers_config = ResolversConfig(\n",
    "        secrets_resolver = secrets_resolver,\n",
    "        did_resolver = DIDResolverPeerDID()\n",
    "    ),\n",
    "    message = bob_routed_message,\n",
    "    frm = bob_did_to_alice,\n",
    "    to = mediator_did,\n",
    "    sign_frm = None,\n",
    "    pack_config = PackEncryptedConfig(protect_sender_id=False)\n",
    ")\n",
    "\n",
    "headers = {\"Content-Type\": \"application/didcomm-encrypted+json\"}\n",
    "resp = requests.post(mediator_endpoint, headers=headers, data = bob_routed_message_packed.packed_msg)\n"
   ]
  },
  {
   "cell_type": "code",
   "execution_count": 326,
   "metadata": {},
   "outputs": [
    {
     "data": {
      "text/plain": [
       "b'{\"detail\":\"Malformed Message\"}'"
      ]
     },
     "execution_count": 326,
     "metadata": {},
     "output_type": "execute_result"
    }
   ],
   "source": [
    "resp.content"
   ]
  },
  {
   "cell_type": "code",
   "execution_count": 320,
   "metadata": {},
   "outputs": [
    {
     "data": {
      "text/plain": [
       "dict_keys(['id', 'authentication', 'keyAgreement', 'service'])"
      ]
     },
     "execution_count": 320,
     "metadata": {},
     "output_type": "execute_result"
    }
   ],
   "source": [
    "json.loads(peer_did.resolve_peer_did(bob_did_to_alice)).keys()"
   ]
  },
  {
   "cell_type": "code",
   "execution_count": 321,
   "metadata": {},
   "outputs": [
    {
     "data": {
      "text/plain": [
       "dict_keys(['id', 'authentication', 'keyAgreement', 'service'])"
      ]
     },
     "execution_count": 321,
     "metadata": {},
     "output_type": "execute_result"
    }
   ],
   "source": [
    "json.loads(peer_did.resolve_peer_did(await create_peer_did(1,1,service_endpoint='https://example.com'))).keys()"
   ]
  },
  {
   "cell_type": "code",
   "execution_count": null,
   "metadata": {},
   "outputs": [],
   "source": []
  }
 ],
 "metadata": {
  "kernelspec": {
   "display_name": "Python 3.8.10 64-bit",
   "language": "python",
   "name": "python3"
  },
  "language_info": {
   "codemirror_mode": {
    "name": "ipython",
    "version": 3
   },
   "file_extension": ".py",
   "mimetype": "text/x-python",
   "name": "python",
   "nbconvert_exporter": "python",
   "pygments_lexer": "ipython3",
   "version": "3.8.10"
  },
  "vscode": {
   "interpreter": {
    "hash": "1ee38ef4a5a9feb55287fd749643f13d043cb0a7addaab2a9c224cbe137c0062"
   }
  }
 },
 "nbformat": 4,
 "nbformat_minor": 2
}
