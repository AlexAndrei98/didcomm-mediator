{
 "cells": [
  {
   "cell_type": "code",
   "execution_count": 508,
   "metadata": {},
   "outputs": [],
   "source": [
    "import json\n",
    "import base64\n",
    "import qrcode\n",
    "import requests\n",
    "import datetime\n",
    "import urllib.parse\n",
    "import uuid\n",
    "import matplotlib.pyplot as plt\n",
    "from pymongo import MongoClient\n",
    "from typing import Optional, List\n",
    "from didcomm.common.types import DID, VerificationMethodType, VerificationMaterial, VerificationMaterialFormat\n",
    "from didcomm.did_doc.did_doc import DIDDoc, VerificationMethod, DIDCommService\n",
    "from didcomm.did_doc.did_resolver import DIDResolver\n",
    "from didcomm.message import Message, FromPrior\n",
    "from didcomm.secrets.secrets_resolver_demo import SecretsResolverDemo\n",
    "from didcomm.unpack import unpack, UnpackResult\n",
    "from didcomm.common.resolvers import ResolversConfig\n",
    "from didcomm.pack_encrypted import pack_encrypted, PackEncryptedConfig, PackEncryptedResult\n",
    "from peerdid.core.did_doc_types import DIDCommServicePeerDID\n",
    "from didcomm.secrets.secrets_util import generate_x25519_keys_as_jwk_dict, generate_ed25519_keys_as_jwk_dict, jwk_to_secret\n",
    "from peerdid import peer_did\n",
    "from peerdid.did_doc import DIDDocPeerDID\n",
    "from didcomm.message import Attachment, AttachmentDataJson\n",
    "from peerdid.types import VerificationMaterialAuthentication, VerificationMethodTypeAuthentication, VerificationMaterialAgreement, VerificationMethodTypeAgreement, VerificationMaterialFormatPeerDID"
   ]
  },
  {
   "cell_type": "code",
   "execution_count": 509,
   "metadata": {},
   "outputs": [
    {
     "ename": "OSError",
     "evalue": "JVM is already started",
     "output_type": "error",
     "traceback": [
      "\u001b[0;31m---------------------------------------------------------------------------\u001b[0m",
      "\u001b[0;31mOSError\u001b[0m                                   Traceback (most recent call last)",
      "Cell \u001b[0;32mIn [509], line 18\u001b[0m\n\u001b[1;32m     16\u001b[0m     \u001b[38;5;28mprint\u001b[39m(err\u001b[38;5;241m.\u001b[39mmsg)\n\u001b[1;32m     17\u001b[0m     sys\u001b[38;5;241m.\u001b[39mexit(ERROR)\n\u001b[0;32m---> 18\u001b[0m \u001b[43mjpype\u001b[49m\u001b[38;5;241;43m.\u001b[39;49m\u001b[43mstartJVM\u001b[49m\u001b[43m(\u001b[49m\n\u001b[1;32m     19\u001b[0m \u001b[43m    \u001b[49m\u001b[43mclasspath\u001b[49m\u001b[38;5;241;43m=\u001b[39;49m\u001b[43m[\u001b[49m\n\u001b[1;32m     20\u001b[0m \u001b[43m        \u001b[49m\u001b[43mos\u001b[49m\u001b[38;5;241;43m.\u001b[39;49m\u001b[43mpath\u001b[49m\u001b[38;5;241;43m.\u001b[39;49m\u001b[43mjoin\u001b[49m\u001b[43m(\u001b[49m\u001b[43msdk_gradle_home\u001b[49m\u001b[43m,\u001b[49m\u001b[43m \u001b[49m\u001b[43mf\u001b[49m\u001b[43m)\u001b[49m\u001b[43m \u001b[49m\u001b[38;5;28;43;01mfor\u001b[39;49;00m\u001b[43m \u001b[49m\u001b[43mf\u001b[49m\u001b[43m \u001b[49m\u001b[38;5;129;43;01min\u001b[39;49;00m\u001b[43m \u001b[49m\u001b[43mos\u001b[49m\u001b[38;5;241;43m.\u001b[39;49m\u001b[43mlistdir\u001b[49m\u001b[43m(\u001b[49m\u001b[43msdk_gradle_home\u001b[49m\u001b[43m)\u001b[49m\n\u001b[1;32m     21\u001b[0m \u001b[43m            \u001b[49m\u001b[38;5;28;43;01mif\u001b[39;49;00m\u001b[43m \u001b[49m\u001b[43mf\u001b[49m\u001b[38;5;241;43m.\u001b[39;49m\u001b[43mendswith\u001b[49m\u001b[43m(\u001b[49m\u001b[38;5;124;43m'\u001b[39;49m\u001b[38;5;124;43m.jar\u001b[39;49m\u001b[38;5;124;43m'\u001b[39;49m\u001b[43m)\u001b[49m\n\u001b[1;32m     22\u001b[0m \u001b[43m    \u001b[49m\u001b[43m]\u001b[49m\n\u001b[1;32m     23\u001b[0m \u001b[43m)\u001b[49m\n",
      "File \u001b[0;32m/usr/local/lib/python3.8/site-packages/jpype/_core.py:174\u001b[0m, in \u001b[0;36mstartJVM\u001b[0;34m(*args, **kwargs)\u001b[0m\n\u001b[1;32m    135\u001b[0m \u001b[39m\"\"\"\u001b[39;00m\n\u001b[1;32m    136\u001b[0m \u001b[39mStarts a Java Virtual Machine.  Without options it will start\u001b[39;00m\n\u001b[1;32m    137\u001b[0m \u001b[39mthe JVM with the default classpath and jvmpath.\u001b[39;00m\n\u001b[0;32m   (...)\u001b[0m\n\u001b[1;32m    171\u001b[0m \n\u001b[1;32m    172\u001b[0m \u001b[39m \"\"\"\u001b[39;00m\n\u001b[1;32m    173\u001b[0m \u001b[39mif\u001b[39;00m _jpype\u001b[39m.\u001b[39misStarted():\n\u001b[0;32m--> 174\u001b[0m     \u001b[39mraise\u001b[39;00m \u001b[39mOSError\u001b[39;00m(\u001b[39m'\u001b[39m\u001b[39mJVM is already started\u001b[39m\u001b[39m'\u001b[39m)\n\u001b[1;32m    175\u001b[0m \u001b[39mglobal\u001b[39;00m _JVM_started\n\u001b[1;32m    176\u001b[0m \u001b[39mif\u001b[39;00m _JVM_started:\n",
      "\u001b[0;31mOSError\u001b[0m: JVM is already started"
     ]
    }
   ],
   "source": [
    "import sys\n",
    "import os\n",
    "import time\n",
    "import jpype\n",
    "import jpype.imports\n",
    "import json\n",
    "try:\n",
    "    sdk_gradle_home = '/Users/alex/Projects/rootid/didcomm-mediator/prism-cli-v1.4.1/lib'\n",
    "except KeyError:\n",
    "    print(\"ERROR: `ATALA_PRISM_JARS` variable is not set.\")\n",
    "    print(\"Please, set it to the directory with Atala PRISM SDK dependencies JARs.\")\n",
    "    sys.exit(1)\n",
    "try:\n",
    "    jpype.imports.registerDomain('sdk', alias='io')\n",
    "except ImportError as err:\n",
    "    print(err.msg)\n",
    "    sys.exit(ERROR)\n",
    "jpype.startJVM(\n",
    "    classpath=[\n",
    "        os.path.join(sdk_gradle_home, f) for f in os.listdir(sdk_gradle_home)\n",
    "            if f.endswith('.jar')\n",
    "    ]\n",
    ")"
   ]
  },
  {
   "cell_type": "code",
   "execution_count": 510,
   "metadata": {},
   "outputs": [],
   "source": [
    "from sdk.iohk.atala.prism.protos import *\n",
    "from sdk.iohk.atala.prism.api.node import *\n",
    "from sdk.iohk.atala.prism.api.models import *\n",
    "from sdk.iohk.atala.prism.api import *\n",
    "from sdk.iohk.atala.prism.crypto.derivation import *\n",
    "from sdk.iohk.atala.prism.crypto.keys import *\n",
    "from sdk.iohk.atala.prism.identity import *\n",
    "from kotlinx.serialization.json import *\n",
    "from kotlinx.serialization import DeserializationStrategy\n",
    "from sdk.iohk.atala.prism.crypto import MerkleInclusionProof\n",
    "\n",
    "\n",
    "\n",
    "KeyGenerator = KeyGenerator.INSTANCE\n",
    "KeyDerivation = KeyDerivation.INSTANCE\n",
    "MasterKeyUsage = MasterKeyUsage.INSTANCE\n",
    "IssuingKeyUsage = IssuingKeyUsage.INSTANCE\n",
    "RevocationKeyUsage = RevocationKeyUsage.INSTANCE\n",
    "AuthenticationKeyUsage = AuthenticationKeyUsage.INSTANCE\n",
    "AtalaOperationStatus = AtalaOperationStatus.INSTANCE\n",
    "PrismDID = PrismDid\n"
   ]
  },
  {
   "cell_type": "code",
   "execution_count": 528,
   "metadata": {},
   "outputs": [],
   "source": [
    "def wait_until_confirmed(node_api: NodePublicApi, operation_id: AtalaOperationId):\n",
    "    \"\"\"Waits until operation is confirmed by Cardano network\n",
    "    \n",
    "    Confirmation doesn't necessarily mean that operation was applied.\n",
    "    For example, it could be rejected because of an incorrect signature or other reasons.\n",
    "\n",
    "    :param node_api: Atala PRISM Node API object\n",
    "    :type node_api: NodePublicApi\n",
    "    :param operation_id: Atala PRISM operation ID\n",
    "    :type operation_id: AtalaOperationId\n",
    "    \"\"\"\n",
    "    operation_status = int(node_api.getOperationInfo(operation_id).join().getStatus())\n",
    "    while operation_status != AtalaOperationStatus.getCONFIRMED_AND_APPLIED() \\\n",
    "        and operation_status != AtalaOperationStatus.getCONFIRMED_AND_REJECTED():\n",
    "        print(f\"Current operation status: {AtalaOperationStatus.asString(operation_status)}\")\n",
    "        time.sleep(1)\n",
    "        operation_status = int(node_api.getOperationInfo(operation_id).join().getStatus())\n",
    "\n",
    "def dictToJsonObjt(json: dict):\n",
    "    resp = {}\n",
    "    for key in json:\n",
    "        if isinstance(json[key], str) or isinstance(json[key], int) or isinstance(json[key], float): \n",
    "            resp[key] = JsonLiteral(json[key], True)\n",
    "        elif isinstance(json[key], dict): \n",
    "            resp[key] = dictToJsonObjt(json[key])\n",
    "        elif isinstance(json[key], list): \n",
    "            resp[key] = listToJsonArray(json[key])\n",
    "    return JsonObject(resp)\n",
    "\n",
    "def listToJsonArray(array: list):\n",
    "    resp = jpype.java.util.ArrayList()\n",
    "    for el in array:\n",
    "        if isinstance(el, str) or isinstance(el, int) or isinstance(el, float): resp.add(JsonLiteral(el, True))\n",
    "        elif isinstance(el, dict): \n",
    "            resp.add(dictToJsonObjt(el))\n",
    "        elif isinstance(el, dict): \n",
    "            resp.add(listToJsonArray(el))\n",
    "    return JsonArray(resp)\n"
   ]
  },
  {
   "cell_type": "markdown",
   "metadata": {},
   "source": [
    "## Helper function"
   ]
  },
  {
   "cell_type": "code",
   "execution_count": 512,
   "metadata": {},
   "outputs": [],
   "source": [
    "secrets_resolver = SecretsResolverDemo()"
   ]
  },
  {
   "cell_type": "code",
   "execution_count": 513,
   "metadata": {},
   "outputs": [],
   "source": [
    "class DIDResolverPeerDID(DIDResolver):\n",
    "    async def resolve(self, did: DID) -> DIDDoc:\n",
    "        did_doc_json = peer_did.resolve_peer_did(did, format = VerificationMaterialFormatPeerDID.JWK)\n",
    "        did_doc = DIDDocPeerDID.from_json(did_doc_json)\n",
    "\n",
    "        return DIDDoc(\n",
    "            did=did_doc.did,\n",
    "            key_agreement_kids = did_doc.agreement_kids,\n",
    "            authentication_kids = did_doc.auth_kids,\n",
    "            verification_methods = [\n",
    "                VerificationMethod(\n",
    "                    id = m.id,\n",
    "                    type = VerificationMethodType.JSON_WEB_KEY_2020,\n",
    "                    controller = m.controller,\n",
    "                    verification_material = VerificationMaterial(\n",
    "                        format = VerificationMaterialFormat.JWK,\n",
    "                        value = json.dumps(m.ver_material.value)\n",
    "                    )\n",
    "                )\n",
    "                for m in did_doc.authentication + did_doc.key_agreement\n",
    "            ],\n",
    "            didcomm_services = [\n",
    "                DIDCommService(\n",
    "                    id = s.id,\n",
    "                    service_endpoint = s.service_endpoint,\n",
    "                    routing_keys = s.routing_keys,\n",
    "                    accept = s.accept\n",
    "                )\n",
    "                for s in did_doc.service\n",
    "                if isinstance(s, DIDCommServicePeerDID)\n",
    "            ] if did_doc.service else []\n",
    "        )"
   ]
  },
  {
   "cell_type": "code",
   "execution_count": 514,
   "metadata": {},
   "outputs": [],
   "source": [
    "async def create_peer_did(self,\n",
    "                        auth_keys_count: int = 1,\n",
    "                        agreement_keys_count: int = 1,\n",
    "                        service_endpoint: Optional[str] = None,\n",
    "                        service_routing_keys: Optional[List[str]] = None\n",
    "                        ) -> str:\n",
    "        # 1. generate keys in JWK format\n",
    "        agreem_keys = [generate_x25519_keys_as_jwk_dict() for _ in range(agreement_keys_count)]\n",
    "        auth_keys = [generate_ed25519_keys_as_jwk_dict() for _ in range(auth_keys_count)]\n",
    "\n",
    "        # 2. prepare the keys for peer DID lib\n",
    "        agreem_keys_peer_did = [\n",
    "            VerificationMaterialAgreement(\n",
    "                type=VerificationMethodTypeAgreement.JSON_WEB_KEY_2020,\n",
    "                format=VerificationMaterialFormatPeerDID.JWK,\n",
    "                value=k[1],\n",
    "            )\n",
    "            for k in agreem_keys\n",
    "        ]\n",
    "        auth_keys_peer_did = [\n",
    "            VerificationMaterialAuthentication(\n",
    "                type=VerificationMethodTypeAuthentication.JSON_WEB_KEY_2020,\n",
    "                format=VerificationMaterialFormatPeerDID.JWK,\n",
    "                value=k[1],\n",
    "            )\n",
    "            for k in auth_keys\n",
    "        ]\n",
    "\n",
    "        # 3. generate service\n",
    "        service = None\n",
    "        if service_endpoint:\n",
    "            service = json.dumps(\n",
    "                DIDCommServicePeerDID(\n",
    "                    id=\"new-id\",\n",
    "                    service_endpoint=service_endpoint, routing_keys=service_routing_keys,\n",
    "                    accept=[\"didcomm/v2\"]\n",
    "                ).to_dict()\n",
    "            )\n",
    "\n",
    "        # 4. call peer DID lib\n",
    "        # if we have just one key (auth), then use numalg0 algorithm\n",
    "        # otherwise use numalg2 algorithm\n",
    "        if len(auth_keys_peer_did) == 1 and not agreem_keys_peer_did and not service:\n",
    "            did = peer_did.create_peer_did_numalgo_0(auth_keys_peer_did[0])\n",
    "        else:\n",
    "            did = peer_did.create_peer_did_numalgo_2(\n",
    "                encryption_keys=agreem_keys_peer_did,\n",
    "                signing_keys=auth_keys_peer_did,\n",
    "                service=service,\n",
    "            )\n",
    "\n",
    "        # 5. set KIDs as in DID DOC for secrets and store the secret in the secrets resolver\n",
    "        did_doc = DIDDocPeerDID.from_json(peer_did.resolve_peer_did(did))\n",
    "        for auth_key, kid in zip(auth_keys, did_doc.auth_kids):\n",
    "            private_key = auth_key[0]\n",
    "            private_key[\"kid\"] = kid\n",
    "            await secrets_resolver.add_key(jwk_to_secret(private_key))\n",
    "\n",
    "        for agreem_key, kid in zip(agreem_keys, did_doc.agreement_kids):\n",
    "            private_key = agreem_key[0]\n",
    "            private_key[\"kid\"] = kid\n",
    "            await secrets_resolver.add_key(jwk_to_secret(private_key))\n",
    "\n",
    "        return did\n"
   ]
  },
  {
   "cell_type": "code",
   "execution_count": 1,
   "metadata": {},
   "outputs": [
    {
     "ename": "KeyError",
     "evalue": "'ATALA_PRISM_JARS'",
     "output_type": "error",
     "traceback": [
      "\u001b[0;31m---------------------------------------------------------------------------\u001b[0m",
      "\u001b[0;31mKeyError\u001b[0m                                  Traceback (most recent call last)",
      "Cell \u001b[0;32mIn [1], line 1\u001b[0m\n\u001b[0;32m----> 1\u001b[0m \u001b[43mos\u001b[49m\u001b[38;5;241;43m.\u001b[39;49m\u001b[43menviron\u001b[49m\u001b[43m[\u001b[49m\u001b[38;5;124;43m\"\u001b[39;49m\u001b[38;5;124;43mATALA_PRISM_JARS\u001b[39;49m\u001b[38;5;124;43m\"\u001b[39;49m\u001b[43m]\u001b[49m\n",
      "File \u001b[0;32m/usr/local/Cellar/python@3.8/3.8.10/Frameworks/Python.framework/Versions/3.8/lib/python3.8/os.py:675\u001b[0m, in \u001b[0;36m_Environ.__getitem__\u001b[0;34m(self, key)\u001b[0m\n\u001b[1;32m    672\u001b[0m     value \u001b[39m=\u001b[39m \u001b[39mself\u001b[39m\u001b[39m.\u001b[39m_data[\u001b[39mself\u001b[39m\u001b[39m.\u001b[39mencodekey(key)]\n\u001b[1;32m    673\u001b[0m \u001b[39mexcept\u001b[39;00m \u001b[39mKeyError\u001b[39;00m:\n\u001b[1;32m    674\u001b[0m     \u001b[39m# raise KeyError with the original key value\u001b[39;00m\n\u001b[0;32m--> 675\u001b[0m     \u001b[39mraise\u001b[39;00m \u001b[39mKeyError\u001b[39;00m(key) \u001b[39mfrom\u001b[39;00m \u001b[39mNone\u001b[39m\n\u001b[1;32m    676\u001b[0m \u001b[39mreturn\u001b[39;00m \u001b[39mself\u001b[39m\u001b[39m.\u001b[39mdecodevalue(value)\n",
      "\u001b[0;31mKeyError\u001b[0m: 'ATALA_PRISM_JARS'"
     ]
    }
   ],
   "source": [
    "os.environ[\"ATALA_PRISM_JARS\"]"
   ]
  },
  {
   "cell_type": "code",
   "execution_count": 515,
   "metadata": {},
   "outputs": [],
   "source": [
    "# %load /Users/alex/Projects/rootid/didcomm-mediator/db_utils.py\n",
    "''' DB Utilities '''\n",
    "from pymongo import MongoClient\n",
    "from bson.objectid import ObjectId\n",
    "import datetime\n",
    "import os\n",
    "import urllib.parse\n",
    "\n",
    "\n",
    "mongo = MongoClient(\n",
    "    os.environ[\"DB_URL\"],\n",
    "    username=urllib.parse.quote_plus(os.environ[\"MONGODB_USER\"]) if \"MONGODB_USER\" in os.environ else None,\n",
    "    password=urllib.parse.quote_plus(os.environ[\"MONGODB_PASSWORD\"]) if \"MONGODB_PASSWORD\" in os.environ else None,\n",
    "    authSource=\"admin\"\n",
    ")\n",
    "\n",
    "\n",
    "db = mongo.mediator\n",
    "\n",
    "def get_connection(remote_did):\n",
    "    ''' Get existing connection '''\n",
    "    return db.connections.find_one({\"remote_did\": remote_did})\n",
    "\n",
    "def create_connection(remote_did, local_did):\n",
    "    ''' Create connection'''\n",
    "    db.connections.insert_one({\n",
    "        \"remote_did\": remote_did,\n",
    "        \"local_did\": local_did,\n",
    "        \"creation_time\": int(datetime.datetime.now().timestamp())\n",
    "    })\n",
    "\n",
    "def update_connection(remote_old_did, remote_new_did):\n",
    "    ''' Update connection '''\n",
    "    #TODO history of rotations\n",
    "    db.connections.update_one(\n",
    "        {\"remote_did\": remote_old_did}, {\n",
    "            \"$set\": {\"remote_did\": remote_new_did, \"update_time\": int(datetime.datetime.now().timestamp())}\n",
    "        }\n",
    "    )\n",
    "\n",
    "def get_oob_did():\n",
    "    return db.oobs.find_one(sort=[('date', -1)])\n",
    "\n",
    "def store_oob_did(did):\n",
    "    db.oobs.insert_one(did)\n",
    "\n",
    "def get_issuer_did():\n",
    "    issuer_did = db.issuers.find_one(sort=[('date', -1)])\n",
    "    return issuer_did if issuer_did is not None else None\n",
    "\n",
    "def store_issuer_did(did):\n",
    "    db.issuers.insert_one(did)\n",
    "\n",
    "\n",
    "def store_vc(vc):\n",
    "    db.vcs.insert_one(vc)\n",
    "\n",
    "def get_vc(vc_id):\n",
    "    return db.vcs.find_one({\"id\": vc_id})\n",
    "\n",
    "def get_prism_holder_did():\n",
    "    holder_did = db.prism_holder.find_one(sort=[('date', -1)])\n",
    "    return holder_did if holder_did is not None else None\n",
    "\n",
    "def store_prism_holder_did(did):\n",
    "    db.prism_holder.insert_one(did)\n",
    "\n",
    "def get_prism_did(did):\n",
    "    return db.prism.find_one({\"did\": did})\n",
    "\n",
    "def store_prism_did(did,seed):\n",
    "    db.prism.insert_one({\n",
    "        \"did\": did,\n",
    "        \"seed\": seed\n",
    "    })\n",
    "\n",
    "def add_mediation(remote_did, routing_did, endpoint):\n",
    "    ''' Add mediation info to connection '''\n",
    "    db.connections.update_one(\n",
    "        {\"remote_did\": remote_did}, {\n",
    "            \"$set\": {\n",
    "                        \"isMediation\": True, \n",
    "                        \"routing_did\": routing_did,\n",
    "                        \"endpoint\": endpoint\n",
    "                    }\n",
    "        }\n",
    "    )\n",
    "\n",
    "def update_keys(remote_did, updates):\n",
    "    ''' Add mediation keys '''\n",
    "    connection = get_connection(remote_did)\n",
    "    current_keys = connection[\"keylist\"] if \"keylist\" in connection else []\n",
    "    updated = []\n",
    "    for update in updates:\n",
    "        if update[\"action\"] == \"add\":\n",
    "            if update[\"recipient_did\"] in current_keys:\n",
    "                updated.append(\n",
    "                    {\n",
    "                        \"recipient_did\": update[\"recipient_did\"],\n",
    "                        \"action\": \"add\",\n",
    "                        \"result\": \"no_change\"\n",
    "                    })\n",
    "            else:\n",
    "                current_keys.append(update[\"recipient_did\"])\n",
    "                updated.append(\n",
    "                    {\n",
    "                        \"recipient_did\": update[\"recipient_did\"],\n",
    "                        \"action\": \"add\",\n",
    "                        \"result\": \"success\"\n",
    "                    })\n",
    "        elif update[\"action\"] == \"remove\":\n",
    "            if update[\"recipient_did\"] in current_keys:\n",
    "                current_keys.remove(update[\"recipient_did\"])\n",
    "                updated.append(\n",
    "                    {\n",
    "                        \"recipient_did\": update[\"recipient_did\"],\n",
    "                        \"action\": \"remove\",\n",
    "                        \"result\": \"success\"\n",
    "                    })\n",
    "            else:\n",
    "                updated.append(\n",
    "                    {\n",
    "                        \"recipient_did\": update[\"recipient_did\"],\n",
    "                        \"action\": \"remove\",\n",
    "                        \"result\": \"no_change\"\n",
    "                    })\n",
    "        else:\n",
    "            updated.append(\n",
    "                    {\n",
    "                        \"recipient_did\": update[\"recipient_did\"],\n",
    "                        \"action\": update[\"action\"],\n",
    "                        \"result\": \"client_error\"\n",
    "                    })\n",
    "        db.connections.update_one(\n",
    "        {\"remote_did\": remote_did}, {\n",
    "            \"$set\": {\n",
    "                        \"keylist\": current_keys, \n",
    "                    }\n",
    "        }\n",
    "    )\n",
    "    return updated\n",
    "\n",
    "def get_message_status(remote_did, recipient_key):\n",
    "    if recipient_key:\n",
    "        count = db.messages.count_documents({\"recipient_key\": recipient_key},{\"attachment\":1})\n",
    "    else:\n",
    "        recipient_keys = db.connections.find_one({\"remote_did\":remote_did})[\"keylist\"]\n",
    "        count = db.messages.count_documents({\"recipient_key\": {\"$in\":recipient_keys}})\n",
    "    return count\n",
    "\n",
    "def get_messages(remote_did, recipient_key,limit):\n",
    "    if recipient_key:\n",
    "        return db.messages.find({\"recipient_key\": recipient_key},{\"attachment\":1}).limit(limit)\n",
    "    else:\n",
    "        recipient_keys = db.connections.find_one({\"remote_did\":remote_did})[\"keylist\"]\n",
    "        return list(db.messages.find({\"recipient_key\": {\"$in\":recipient_keys}}).limit(limit))\n",
    "\n",
    "def add_message(recipient_key, attachment):\n",
    "    # TODO verify that recipient_key belong to a registered peer\n",
    "    db.messages.insert_one(\n",
    "            {\n",
    "                \"recipient_key\": recipient_key,\n",
    "                \"attachment\": attachment,\n",
    "                \"datetime\": int(datetime.datetime.now().timestamp())\n",
    "            }\n",
    "        )\n",
    "\n",
    "def remove_messages(remote_did, message_id_list):\n",
    "    #TODO verify that recipient_key belongs to remote_did\n",
    "    for id in message_id_list:\n",
    "        db.messages.delete_one({\"_id\": ObjectId(id)})\n",
    "    return get_message_status(remote_did, None)\n",
    "\n",
    "def get_short_url(oobid):\n",
    "    short_url = db.shortUrls.find_one({\"oobid\": oobid},sort=[('date', -1)])\n",
    "    return short_url\n",
    "\n",
    "def store_short_url(short_url):\n",
    "    db.shortUrls.insert_one(short_url)\n",
    "\n",
    "def expire_short_url(oobid):\n",
    "        # TODO order by date\n",
    "        db.shortUrls.update_one(\n",
    "            {\"oobid\": oobid}, {\n",
    "                \"$set\": {\n",
    "                            \"expires_time\": int(0)\n",
    "                        }\n",
    "            }\n",
    "        )\n",
    "    "
   ]
  },
  {
   "cell_type": "markdown",
   "metadata": {},
   "source": [
    "### Reading issuer OOB message"
   ]
  },
  {
   "cell_type": "code",
   "execution_count": 516,
   "metadata": {},
   "outputs": [
    {
     "name": "stdout",
     "output_type": "stream",
     "text": [
      "http://127.0.0.1:8000?_oob=eyJ0eXBlIjoiaHR0cHM6Ly9kaWRjb21tLm9yZy9vdXQtb2YtYmFuZC8yLjAvaW52aXRhdGlvbiIsImlkIjoiNDY4M2JiOWQtMTRlOC00Y2Y5LWJmMjgtZmJkYmMyYjFlYjBiIiwiZnJvbSI6ImRpZDpwZWVyOjIuRXo2TFNnU2kxVm1rS01UY1dLSk1meHpKZ1ExUVFZbVZWVVhXeHlqQVN1c0Q2dTZQRC5WejZNa2d4dG5BRWpmc2FYcnl1SFNWWHRvN2t3V3NuRWs1TnAyU1hkVVdvZ1A3OWRBLlNleUpwWkNJNkltNWxkeTFwWkNJc0luUWlPaUprYlNJc0luTWlPaUpvZEhSd09pOHZNVEkzTGpBdU1DNHhPamd3TURBaUxDSmhJanBiSW1ScFpHTnZiVzB2ZGpJaVhYMCIsImJvZHkiOnsiZ29hbF9jb2RlIjoicmVxdWVzdC1tZWRpYXRlIiwiZ29hbCI6IlJlcXVlc3RNZWRpYXRlIiwiYWNjZXB0IjpbImRpZGNvbW0vdjIiLCJkaWRjb21tL2FpcDI7ZW52PXJmYzU4NyJdfX0\n"
     ]
    }
   ],
   "source": [
    "# oob_url = requests.get(\"https://mediator.rootsid.cloud/oob_url\").text\n",
    "oob_url = requests.get(\"http://127.0.0.1:8000/oob_url\").text\n",
    "print(oob_url)"
   ]
  },
  {
   "cell_type": "code",
   "execution_count": 517,
   "metadata": {},
   "outputs": [
    {
     "name": "stdout",
     "output_type": "stream",
     "text": [
      "{'type': 'https://didcomm.org/out-of-band/2.0/invitation', 'id': '4683bb9d-14e8-4cf9-bf28-fbdbc2b1eb0b', 'from': 'did:peer:2.Ez6LSgSi1VmkKMTcWKJMfxzJgQ1QQYmVVUXWxyjASusD6u6PD.Vz6MkgxtnAEjfsaXryuHSVXto7kwWsnEk5Np2SXdUWogP79dA.SeyJpZCI6Im5ldy1pZCIsInQiOiJkbSIsInMiOiJodHRwOi8vMTI3LjAuMC4xOjgwMDAiLCJhIjpbImRpZGNvbW0vdjIiXX0', 'body': {'goal_code': 'request-mediate', 'goal': 'RequestMediate', 'accept': ['didcomm/v2', 'didcomm/aip2;env=rfc587']}}\n"
     ]
    }
   ],
   "source": [
    "received_msg_encoded = oob_url.split(\"=\")[1]\n",
    "received_msg_decoded = json.loads(str(base64.urlsafe_b64decode(received_msg_encoded + \"==\"), \"utf-8\"))\n",
    "print(received_msg_decoded)"
   ]
  },
  {
   "cell_type": "code",
   "execution_count": 518,
   "metadata": {},
   "outputs": [
    {
     "data": {
      "text/plain": [
       "'did:peer:2.Ez6LSgSi1VmkKMTcWKJMfxzJgQ1QQYmVVUXWxyjASusD6u6PD.Vz6MkgxtnAEjfsaXryuHSVXto7kwWsnEk5Np2SXdUWogP79dA.SeyJpZCI6Im5ldy1pZCIsInQiOiJkbSIsInMiOiJodHRwOi8vMTI3LjAuMC4xOjgwMDAiLCJhIjpbImRpZGNvbW0vdjIiXX0'"
      ]
     },
     "execution_count": 518,
     "metadata": {},
     "output_type": "execute_result"
    }
   ],
   "source": [
    "#Mediator DID\n",
    "received_msg_decoded['from']"
   ]
  },
  {
   "cell_type": "code",
   "execution_count": 519,
   "metadata": {},
   "outputs": [
    {
     "name": "stdout",
     "output_type": "stream",
     "text": [
      "Holder's DID: did:peer:2.Ez6LSqtFjAcpb8ovC7HiXFnxJLGMKjFnrE3ANpHtBSNL6xhJ8.Vz6Mko4zxEyErQLjfH9soCLJP2xxdBDGH2nDXBj9RHHndZEYU.SeyJpZCI6Im5ldy1pZCIsInQiOiJkbSIsInMiOiJodHRwczovL3d3dy5leGFtcGxlLmNvbS9ob2xkZXIiLCJhIjpbImRpZGNvbW0vdjIiXX0\n"
     ]
    }
   ],
   "source": [
    "\n",
    "holder_did = await create_peer_did(1,1, service_endpoint=\"https://www.example.com/holder\")\n",
    "print(\"Holder's DID:\", holder_did)"
   ]
  },
  {
   "cell_type": "markdown",
   "metadata": {},
   "source": [
    "Also, the holder needs to provide a did:prism where the credential will be issued to."
   ]
  },
  {
   "cell_type": "code",
   "execution_count": 520,
   "metadata": {},
   "outputs": [
    {
     "data": {
      "text/plain": [
       "{'_id': ObjectId('632636218817eb4fe45b44a8'),\n",
       " 'did': 'did:prism:8ade34754487af867b813d008d3704451a0c1df88090c1947d6f901857fd5ada:Cr8BCrwBEjsKB21hc3RlcjAQAUouCglzZWNwMjU2azESIQJ-gKvROnRTlmvLtBGxikIg07oaJZc2B5bU4MrAGtwDkhI8Cghpc3N1aW5nMBACSi4KCXNlY3AyNTZrMRIhA6I4nH3zH1vn1Azo_WLGr4Btz5eb9cHA-KdQq5lIsGUoEj8KC3Jldm9jYXRpb24wEAVKLgoJc2VjcDI1NmsxEiECJiZwIzuQQen4LL-OPOBUCs9zsrD0u2Z_q2PhZzx0Nrc',\n",
       " 'master0': 'd8fd61eb731a043302df05cc2932f306777ea227481685f9227f493382dea319',\n",
       " 'issuing0': '3f772360c0a83dab51d69a50a21f67efa6f8b8ebccb5ab4e172ec82873b1b9a3',\n",
       " 'revocation0': 'aa4ad746e1aa6def9aeebbc917c0a765440267929362540c9d984953a0de4adc',\n",
       " 'date': 1663448609000,\n",
       " 'seed': b'q\\x89\\xb5\\x97\\x00\\x81\\x1c!)[\\xcd\\xa6zS\\x00\\xd6\\xf3\\x0c\\xfc \\x07\\x12}\\xb9\\xc4\\xc7d\\x92H\\x7f\\xec\\xd8:\\x16]\\xca\\xc2\\xcf2U\\xfb\\x06\\xd1\\xf2\\xf8/\\xe6\\xddtcO\\xa3.9\\xadB\\xe4\\x0b\\xa1\\x02i\\x17\\xdf*'}"
      ]
     },
     "execution_count": 520,
     "metadata": {},
     "output_type": "execute_result"
    }
   ],
   "source": [
    "get_prism_holder_did()"
   ]
  },
  {
   "cell_type": "code",
   "execution_count": 584,
   "metadata": {},
   "outputs": [
    {
     "name": "stdout",
     "output_type": "stream",
     "text": [
      "def verify_prism_credential(credential):\n",
      "    holder_signed_credential = credential['proof']['proofValue']\n",
      "    hsc = JsonBasedCredential.fromString(holder_signed_credential)\n",
      "    inpo = {\"hash\":credential['proof']['proofHash'],\"index\":0,\"siblings\":[]}\n",
      "    pff = MerkleInclusionProof.decode(dictToJsonObjt(inpo).toString())\n",
      "    environment = \"ppp.atalaprism.io\"\n",
      "    node_auth_api = NodeAuthApiAsyncImpl(GrpcOptions(\"http\", environment, 50053))\n",
      "    # Verifier, who owns credentialClam, can easily verify the validity of the credentials\n",
      "    credential_verification_result = node_auth_api.verify(\n",
      "        hsc,\n",
      "        pff\n",
      "    ).join()\n",
      "\n",
      "    verification_errors = credential_verification_result.getVerificationErrors()\n",
      "    return verification_errors\n",
      "\n"
     ]
    }
   ],
   "source": [
    "#print code text for foucntion verify_prism_credential\n",
    "import inspect\n",
    "print(inspect.getsource(verify_prism_credential))"
   ]
  },
  {
   "cell_type": "code",
   "execution_count": 521,
   "metadata": {},
   "outputs": [
    {
     "name": "stdout",
     "output_type": "stream",
     "text": [
      "did:prism:8ade34754487af867b813d008d3704451a0c1df88090c1947d6f901857fd5ada:Cr8BCrwBEjsKB21hc3RlcjAQAUouCglzZWNwMjU2azESIQJ-gKvROnRTlmvLtBGxikIg07oaJZc2B5bU4MrAGtwDkhI8Cghpc3N1aW5nMBACSi4KCXNlY3AyNTZrMRIhA6I4nH3zH1vn1Azo_WLGr4Btz5eb9cHA-KdQq5lIsGUoEj8KC3Jldm9jYXRpb24wEAVKLgoJc2VjcDI1NmsxEiECJiZwIzuQQen4LL-OPOBUCs9zsrD0u2Z_q2PhZzx0Nrc\n",
      "did:prism:fb727d449bd219021503d3f8c63a221cc1861a90e93b5c017b139aafdd2c14d9:Cr8BCrwBEjsKB21hc3RlcjAQAUouCglzZWNwMjU2azESIQNJuG3G_ZCEg9YHAXQpvLagXQTb8emtVTjBh_m66F5uoRI8Cghpc3N1aW5nMBACSi4KCXNlY3AyNTZrMRIhAiRByhWe4k1MTd7cbmRxrthrV7WPsRaKccZeDIAWoGJlEj8KC3Jldm9jYXRpb24wEAVKLgoJc2VjcDI1NmsxEiEDTkb_zwgk-ILQcH3tW3kCAiuuGcRcjiDlQ3h8eS0MmPk\n"
     ]
    }
   ],
   "source": [
    "#get PRISM DIDS\n",
    "print(get_prism_holder_did()['did'])\n",
    "print(get_issuer_did()['did'])"
   ]
  },
  {
   "cell_type": "markdown",
   "metadata": {},
   "source": [
    "The following is a JSON-LD credential request that the holder will submmit to the issuer."
   ]
  },
  {
   "cell_type": "code",
   "execution_count": 522,
   "metadata": {},
   "outputs": [],
   "source": [
    "credential_request = {\n",
    "    \"credential\": {\n",
    "        \"@context\": \n",
    "        [\n",
    "            \"https://www.w3.org/2018/credentials/v1\",\n",
    "            \"https://www.w3.org/2018/credentials/examples/v1\"\n",
    "        ],\n",
    "        \"id\": str(uuid.uuid4()),\n",
    "        \"type\": [\"VerifiableCredential\", \"UniversityDegreeCredential\"],\n",
    "        \"issuer\": get_issuer_did()['did'],\n",
    "        \"issuanceDate\": datetime.datetime.now().strftime(\"%Y-%m-%dT%H:%M:%SZ\"),\n",
    "        \"credentialSubject\": \n",
    "            {\n",
    "              \"id\": get_prism_holder_did()['did'],\n",
    "              \"degree\": \n",
    "                {\n",
    "                    \"type\": \"BachelorDegree\",\n",
    "                    \"name\": \"Bachelor of Science and Arts\"\n",
    "                  }\n",
    "            },\n",
    "        \"options\": {\n",
    "            \"proofType\": \"EcdsaSecp256k1Signature2019\"\n",
    "        }\n",
    "    }\n",
    "}\n",
    "#assert issuer contains \"did:prism\"\n",
    "assert \"did:prism\" in credential_request['credential']['issuer']\n",
    "#assert credentialSubject id  contains \"did:prism\"\n",
    "assert \"did:prism\" in credential_request['credential']['credentialSubject']['id']"
   ]
  },
  {
   "cell_type": "markdown",
   "metadata": {},
   "source": [
    "Finally the holder prepares the didcomm message following issue-credential/3.0 protocol:"
   ]
  },
  {
   "cell_type": "code",
   "execution_count": 523,
   "metadata": {},
   "outputs": [],
   "source": [
    "holder_response_message = Message(\n",
    "    custom_headers = [{\n",
    "        \"return_route\": \"all\"}],\n",
    "    id = str(uuid.uuid4()),\n",
    "    #pthid = received_msg_decoded[\"id\"],\n",
    "    type = \"https://didcomm.org/issue-credential/3.0/request-credential\",\n",
    "    frm = holder_did,\n",
    "    to = [received_msg_decoded[\"from\"]],\n",
    "    body = {\n",
    "        \"goal_code\": \"issue-credential\",\n",
    "        \"comment\": \"some comment\"\n",
    "    },\n",
    "    attachments = [\n",
    "        Attachment(\n",
    "                id=str(uuid.uuid4()),\n",
    "                media_type= \"application/json\",\n",
    "                format= \"aries/ld-proof-vc-detail@v1.0\",\n",
    "                data=AttachmentDataJson(json=credential_request)\n",
    "                )\n",
    "    ]\n",
    "                        \n",
    ")\n",
    "\n",
    "holder_packed_msg = await pack_encrypted(\n",
    "    resolvers_config = ResolversConfig(\n",
    "        secrets_resolver = secrets_resolver,\n",
    "        did_resolver = DIDResolverPeerDID()\n",
    "    ),\n",
    "    message = holder_response_message,\n",
    "    frm = holder_did,\n",
    "    to = received_msg_decoded[\"from\"],\n",
    "    sign_frm = None,\n",
    "    pack_config = PackEncryptedConfig(protect_sender_id=False)\n",
    ")"
   ]
  },
  {
   "cell_type": "markdown",
   "metadata": {},
   "source": [
    "### Sending the message to Mediator"
   ]
  },
  {
   "cell_type": "markdown",
   "metadata": {},
   "source": [
    "From the issuer DID obtained in the OOB QR Code, we can get the DID document:"
   ]
  },
  {
   "cell_type": "code",
   "execution_count": 524,
   "metadata": {},
   "outputs": [
    {
     "name": "stdout",
     "output_type": "stream",
     "text": [
      "http://127.0.0.1:8000\n"
     ]
    }
   ],
   "source": [
    "issuer_did_doc = json.loads(peer_did.resolve_peer_did(received_msg_decoded[\"from\"]))\n",
    "issuer_endpoint = issuer_did_doc[\"service\"][0][\"serviceEndpoint\"]\n",
    "print(issuer_endpoint)"
   ]
  },
  {
   "cell_type": "markdown",
   "metadata": {},
   "source": [
    "And from there get the issuer's endpoint"
   ]
  },
  {
   "cell_type": "code",
   "execution_count": 525,
   "metadata": {},
   "outputs": [
    {
     "data": {
      "text/plain": [
       "<Response [500]>"
      ]
     },
     "execution_count": 525,
     "metadata": {},
     "output_type": "execute_result"
    }
   ],
   "source": [
    "headers = {\"Content-Type\": \"application/didcomm-encrypted+json\"}\n",
    "resp = requests.post(issuer_endpoint, headers=headers, data = holder_packed_msg.packed_msg)\n",
    "resp"
   ]
  },
  {
   "cell_type": "markdown",
   "metadata": {},
   "source": [
    "Finally sending the request to the issuer:"
   ]
  },
  {
   "cell_type": "code",
   "execution_count": null,
   "metadata": {},
   "outputs": [],
   "source": []
  },
  {
   "cell_type": "markdown",
   "metadata": {},
   "source": [
    "# Wait"
   ]
  },
  {
   "cell_type": "code",
   "execution_count": 271,
   "metadata": {},
   "outputs": [],
   "source": [
    "credential_unpack_msg = await unpack(\n",
    "    resolvers_config=ResolversConfig(\n",
    "        secrets_resolver=secrets_resolver,\n",
    "        did_resolver=DIDResolverPeerDID()\n",
    "    ),\n",
    "    packed_msg= resp.json()\n",
    ")"
   ]
  },
  {
   "cell_type": "markdown",
   "metadata": {},
   "source": [
    "### Issued Verifiable Credential Received"
   ]
  },
  {
   "cell_type": "code",
   "execution_count": 272,
   "metadata": {},
   "outputs": [],
   "source": [
    "credential_unpack_msg = await unpack(\n",
    "    resolvers_config=ResolversConfig(\n",
    "        secrets_resolver=secrets_resolver,\n",
    "        did_resolver=DIDResolverPeerDID()\n",
    "    ),\n",
    "    packed_msg= resp.json()\n",
    ")\n",
    "credential =credential_unpack_msg.message.attachments[0].data.json"
   ]
  },
  {
   "cell_type": "code",
   "execution_count": 526,
   "metadata": {},
   "outputs": [
    {
     "data": {
      "text/plain": [
       "{'@context': ['https://www.w3.org/2018/credentials/v1',\n",
       "  'https://www.w3.org/2018/credentials/examples/v1'],\n",
       " 'id': '15d3604e-919c-4c2b-a134-40c63dd75eca',\n",
       " 'type': ['VerifiableCredential', 'UniversityDegreeCredential'],\n",
       " 'issuer': 'did:prism:fb727d449bd219021503d3f8c63a221cc1861a90e93b5c017b139aafdd2c14d9:Cr8BCrwBEjsKB21hc3RlcjAQAUouCglzZWNwMjU2azESIQNJuG3G_ZCEg9YHAXQpvLagXQTb8emtVTjBh_m66F5uoRI8Cghpc3N1aW5nMBACSi4KCXNlY3AyNTZrMRIhAiRByhWe4k1MTd7cbmRxrthrV7WPsRaKccZeDIAWoGJlEj8KC3Jldm9jYXRpb24wEAVKLgoJc2VjcDI1NmsxEiEDTkb_zwgk-ILQcH3tW3kCAiuuGcRcjiDlQ3h8eS0MmPk',\n",
       " 'issuanceDate': '2022-09-17T16:21:22Z',\n",
       " 'credentialSubject': {'id': 'did:prism:8ade34754487af867b813d008d3704451a0c1df88090c1947d6f901857fd5ada:Cr8BCrwBEjsKB21hc3RlcjAQAUouCglzZWNwMjU2azESIQJ-gKvROnRTlmvLtBGxikIg07oaJZc2B5bU4MrAGtwDkhI8Cghpc3N1aW5nMBACSi4KCXNlY3AyNTZrMRIhA6I4nH3zH1vn1Azo_WLGr4Btz5eb9cHA-KdQq5lIsGUoEj8KC3Jldm9jYXRpb24wEAVKLgoJc2VjcDI1NmsxEiECJiZwIzuQQen4LL-OPOBUCs9zsrD0u2Z_q2PhZzx0Nrc',\n",
       "  'degree': {'type': 'BachelorDegree',\n",
       "   'name': 'Bachelor of Science and Arts'}},\n",
       " 'options': {'proofType': 'EcdsaSecp256k1Signature2019'},\n",
       " 'proof': {'type': 'EcdsaSecp256k1Signature2019',\n",
       "  'created': '2022-09-17T16:24:50Z',\n",
       "  'verificationMethod': 'did:prism:fb727d449bd219021503d3f8c63a221cc1861a90e93b5c017b139aafdd2c14d9:Cr8BCrwBEjsKB21hc3RlcjAQAUouCglzZWNwMjU2azESIQNJuG3G_ZCEg9YHAXQpvLagXQTb8emtVTjBh_m66F5uoRI8Cghpc3N1aW5nMBACSi4KCXNlY3AyNTZrMRIhAiRByhWe4k1MTd7cbmRxrthrV7WPsRaKccZeDIAWoGJlEj8KC3Jldm9jYXRpb24wEAVKLgoJc2VjcDI1NmsxEiEDTkb_zwgk-ILQcH3tW3kCAiuuGcRcjiDlQ3h8eS0MmPk',\n",
       "  'proofPurpose': 'assertionMethod',\n",
       "  'proofValue': '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.MEUCICwh3uY5K0mAfvZzx_4QUdQpBuwtQ0Vzlrr9whD3kExzAiEA97fugiczsR14-c2B8hvcpRBx-Kd6bEfEGAoqMihEn9Y',\n",
       "  'proofHash': '563cf489acb52747f0562e3344fefd9eb500d9eb415120f90e220a44499565d2',\n",
       "  'proofBatchId': '764e68d0747550f5ab50f772450fdf504bfb3ab85e02b1c98c4a29b26c629dd9'}}"
      ]
     },
     "execution_count": 526,
     "metadata": {},
     "output_type": "execute_result"
    }
   ],
   "source": [
    "credential"
   ]
  },
  {
   "cell_type": "code",
   "execution_count": 581,
   "metadata": {},
   "outputs": [
    {
     "name": "stderr",
     "output_type": "stream",
     "text": [
      "Sep 18, 2022 4:39:19 PM io.grpc.internal.ManagedChannelOrphanWrapper$ManagedChannelReference cleanQueue\n",
      "SEVERE: *~*~*~ Channel ManagedChannelImpl{logId=132, target=ppp.atalaprism.io:50053} was not shutdown properly!!! ~*~*~*\n",
      "    Make sure to call shutdown()/shutdownNow() and wait until awaitTermination() returns true.\n",
      "Sep 18, 2022 4:39:19 PM io.grpc.internal.ManagedChannelOrphanWrapper$ManagedChannelReference cleanQueue\n",
      "SEVERE: *~*~*~ Channel ManagedChannelImpl{logId=134, target=ppp.atalaprism.io:50053} was not shutdown properly!!! ~*~*~*\n",
      "    Make sure to call shutdown()/shutdownNow() and wait until awaitTermination() returns true.\n",
      "Sep 18, 2022 4:39:19 PM io.grpc.internal.ManagedChannelOrphanWrapper$ManagedChannelReference cleanQueue\n",
      "SEVERE: *~*~*~ Channel ManagedChannelImpl{logId=126, target=ppp.atalaprism.io:50053} was not shutdown properly!!! ~*~*~*\n",
      "    Make sure to call shutdown()/shutdownNow() and wait until awaitTermination() returns true.\n",
      "Sep 18, 2022 4:39:19 PM io.grpc.internal.ManagedChannelOrphanWrapper$ManagedChannelReference cleanQueue\n",
      "SEVERE: *~*~*~ Channel ManagedChannelImpl{logId=128, target=ppp.atalaprism.io:50053} was not shutdown properly!!! ~*~*~*\n",
      "    Make sure to call shutdown()/shutdownNow() and wait until awaitTermination() returns true.\n"
     ]
    },
    {
     "data": {
      "text/plain": [
       "<java object 'kotlin.collections.EmptyList'>"
      ]
     },
     "execution_count": 581,
     "metadata": {},
     "output_type": "execute_result"
    }
   ],
   "source": [
    "verify_prism_credential(credential)"
   ]
  },
  {
   "cell_type": "code",
   "execution_count": null,
   "metadata": {},
   "outputs": [],
   "source": [
    "#generate oob for vp request from the mediator"
   ]
  },
  {
   "cell_type": "code",
   "execution_count": 275,
   "metadata": {},
   "outputs": [],
   "source": [
    "#Notebook sends a propose-presentation message to the mediator getting the thid from the oob url "
   ]
  },
  {
   "cell_type": "code",
   "execution_count": null,
   "metadata": {},
   "outputs": [],
   "source": [
    "#Mediator sends a request-presentation message to the holder with a presentation definition"
   ]
  },
  {
   "cell_type": "code",
   "execution_count": null,
   "metadata": {},
   "outputs": [],
   "source": [
    "#Notebook presents proof for both the credential and the submission"
   ]
  },
  {
   "cell_type": "code",
   "execution_count": null,
   "metadata": {},
   "outputs": [],
   "source": [
    "#mediatior send an ack to the notebook"
   ]
  },
  {
   "cell_type": "code",
   "execution_count": 546,
   "metadata": {},
   "outputs": [],
   "source": [
    "presentation_definition = {'presentation_definition': \n",
    "{'presentation_definition': {'id': '32f54163-7166-48f1-93d8-ff217bdb0654',\n",
    "   'input_descriptors': [{'id': '66685f64-7166-5717-b3fc-ff217bdb9999',\n",
    "     'constraints': {'fields': [{'path': ['$.type'],\n",
    "        'filter': {'type': 'string',\n",
    "         'pattern': 'UniversityDegreeCredential'}}]}}]}},\n",
    " 'options': {'challenge': '3fa85f64-5717-4562-b3fc-2c963f66afa7',\n",
    "  'domain': '4jt78h47fh47'}}"
   ]
  },
  {
   "cell_type": "code",
   "execution_count": 550,
   "metadata": {},
   "outputs": [
    {
     "data": {
      "text/plain": [
       "{'challenge': '3fa85f64-5717-4562-b3fc-2c963f66afa7', 'domain': '4jt78h47fh47'}"
      ]
     },
     "execution_count": 550,
     "metadata": {},
     "output_type": "execute_result"
    }
   ],
   "source": [
    "presentation_definition['options']"
   ]
  },
  {
   "cell_type": "code",
   "execution_count": 555,
   "metadata": {},
   "outputs": [],
   "source": [
    "import hashlib, jsonld\n",
    "proof_hash = hashlib.sha256(presentation_definition['options']['challenge'].encode('utf-8'))\n",
    "normalized_proof = jsonld.normalize(credential, {'algorithm': 'URDNA2015', 'format': 'application/n-quads'})\n",
    "proof_hash.update(normalized_proof.encode('utf-8'))\n",
    "proof_hash.hexdigest()"
   ]
  },
  {
   "cell_type": "code",
   "execution_count": 564,
   "metadata": {},
   "outputs": [
    {
     "data": {
      "text/plain": [
       "b'\\x8f\\xb6\\x01\\x84\\xd6-\\xe5\\x89\\x18\\xae\\x08\\x14\\xc9\\xa6\\xbfp\\xa4\\xdf\\xf0\\xf6\\xac\\xa441\\xef\\x88\\x17\\x1d\\x81\\x84\\xcd%'"
      ]
     },
     "execution_count": 564,
     "metadata": {},
     "output_type": "execute_result"
    }
   ],
   "source": [
    "proof_hash.digest()"
   ]
  },
  {
   "cell_type": "code",
   "execution_count": 577,
   "metadata": {},
   "outputs": [
    {
     "data": {
      "text/plain": [
       "'dabd762472fbec4a455da5157659f74a3c32abb2ea88048d0d153b1c468be7c3e0445960eee39585420a4e82e48e2d31df42f599a6c8197bfad9f4d01d94d878'"
      ]
     },
     "execution_count": 577,
     "metadata": {},
     "output_type": "execute_result"
    }
   ],
   "source": [
    "import ecdsa\n",
    "from hashlib import sha256\n",
    "hex_private_holder = get_prism_holder_did()['master0']\n",
    "sk = ecdsa.SigningKey.from_string(bytes.fromhex(hex_private_holder), curve=ecdsa.SECP256k1, hashfunc=sha256) # the default is sha1\n",
    "sig = sk.sign(bytes.fromhex(proof_hash.hexdigest()))\n",
    "sig.hex()"
   ]
  },
  {
   "cell_type": "code",
   "execution_count": 579,
   "metadata": {},
   "outputs": [],
   "source": [
    "import ecdsa\n",
    "def verify_proofhash(proof_hash_hexdigest, signature_hex, public_key):\n",
    "    seed_holder = get_prism_holder_did()['seed']\n",
    "    holder_keys = prepare_keys_from_seed(get_prism_holder_did()['seed'])\n",
    "    public_key_hex_holder = holder_keys['master0'].getPublicKey().getHexEncoded()\n",
    "    public_key_hex_holder\n",
    "    vk = ecdsa.VerifyingKey.from_string(bytes.fromhex(public_key_hex_holder), curve=ecdsa.SECP256k1, hashfunc=sha256) # the default is sha1\n",
    "    try:\n",
    "        return vk.verify(bytes.fromhex(signature_hex), bytes.fromhex(proof_hash_hexdigest()))\n",
    "    except e as Exception:\n",
    "        return False\n",
    "df39352dbf905cadc9a495400706c53acfb90c81ec403aceeb2ed9757ab66f07b96d8d436e1fa23aeb9b79a10b623ed067f6451f8ddab9662192bd6294325186"
   ]
  },
  {
   "cell_type": "code",
   "execution_count": 580,
   "metadata": {},
   "outputs": [
    {
     "ename": "NameError",
     "evalue": "name 'prepare_keys_from_seed' is not defined",
     "output_type": "error",
     "traceback": [
      "\u001b[0;31m---------------------------------------------------------------------------\u001b[0m",
      "\u001b[0;31mNameError\u001b[0m                                 Traceback (most recent call last)",
      "Cell \u001b[0;32mIn [580], line 1\u001b[0m\n\u001b[0;32m----> 1\u001b[0m \u001b[43mverify_proofhash\u001b[49m\u001b[43m(\u001b[49m\u001b[38;5;124;43m'\u001b[39;49m\u001b[38;5;124;43m4e597a086f36b5a273e7032453021a3c91af09e48770ab9029b1de9c9ac03bc6\u001b[39;49m\u001b[38;5;124;43m'\u001b[39;49m\u001b[43m,\u001b[49m\n\u001b[1;32m      2\u001b[0m \u001b[38;5;124;43m'\u001b[39;49m\u001b[38;5;124;43mdf39352dbf905cadc9a495400706c53acfb90c81ec403aceeb2ed9757ab66f07b96d8d436e1fa23aeb9b79a10b623ed067f6451f8ddab9662192bd6294325186\u001b[39;49m\u001b[38;5;124;43m'\u001b[39;49m\u001b[43m,\u001b[49m\u001b[38;5;124;43m'\u001b[39;49m\u001b[38;5;124;43m'\u001b[39;49m\u001b[43m)\u001b[49m\n",
      "Cell \u001b[0;32mIn [579], line 4\u001b[0m, in \u001b[0;36mverify_proofhash\u001b[0;34m(proof_hash_hexdigest, signature_hex, public_key)\u001b[0m\n\u001b[1;32m      2\u001b[0m \u001b[38;5;28;01mdef\u001b[39;00m \u001b[38;5;21mverify_proofhash\u001b[39m(proof_hash_hexdigest, signature_hex, public_key):\n\u001b[1;32m      3\u001b[0m     seed_holder \u001b[38;5;241m=\u001b[39m get_prism_holder_did()[\u001b[38;5;124m'\u001b[39m\u001b[38;5;124mseed\u001b[39m\u001b[38;5;124m'\u001b[39m]\n\u001b[0;32m----> 4\u001b[0m     holder_keys \u001b[38;5;241m=\u001b[39m \u001b[43mprepare_keys_from_seed\u001b[49m(get_prism_holder_did()[\u001b[38;5;124m'\u001b[39m\u001b[38;5;124mseed\u001b[39m\u001b[38;5;124m'\u001b[39m])\n\u001b[1;32m      5\u001b[0m     public_key_hex_holder \u001b[38;5;241m=\u001b[39m holder_keys[\u001b[38;5;124m'\u001b[39m\u001b[38;5;124mmaster0\u001b[39m\u001b[38;5;124m'\u001b[39m]\u001b[38;5;241m.\u001b[39mgetPublicKey()\u001b[38;5;241m.\u001b[39mgetHexEncoded()\n\u001b[1;32m      6\u001b[0m     public_key_hex_holder\n",
      "\u001b[0;31mNameError\u001b[0m: name 'prepare_keys_from_seed' is not defined"
     ]
    }
   ],
   "source": []
  },
  {
   "cell_type": "code",
   "execution_count": 578,
   "metadata": {},
   "outputs": [
    {
     "data": {
      "text/plain": [
       "True"
      ]
     },
     "execution_count": 578,
     "metadata": {},
     "output_type": "execute_result"
    }
   ],
   "source": [
    "\n",
    "vk = ecdsa.VerifyingKey.from_string(bytes.fromhex('047e80abd13a7453966bcbb411b18a4220d3ba1a2597360796d4e0cac01adc03924a3f5c9eff729ddf9f155dc62e5afa1ddb1f6db27b31f98558c03c8fab545062'), curve=ecdsa.SECP256k1, hashfunc=sha256) # the default is sha1\n",
    "vk.verify(bytes.fromhex(sig.hex()), bytes.fromhex(proof_hash.hexdigest()))\n",
    "\n"
   ]
  },
  {
   "cell_type": "code",
   "execution_count": 568,
   "metadata": {},
   "outputs": [
    {
     "data": {
      "text/plain": [
       "True"
      ]
     },
     "execution_count": 568,
     "metadata": {},
     "output_type": "execute_result"
    }
   ],
   "source": [
    "sk = ecdsa.VerifyingKey.from_string(bytes.fromhex('04ed29c5d8120c1ed0111b10d6c83a91b2aaafb4d8a81de739379d618b705448e0cda1ba323feb6a19639fb90ca59b9e8fb55ac72e7f3bade3c0774c2f37232e4c'), curve=ecdsa.SECP256k1, hashfunc=sha256) # the default is sha1\n",
    "vk.verify(bytes.fromhex('56d8789c4f3b36e3a9849f87ed46ef954aae1b5ee75da42912036bd975e05462ec3bf393cd57edb90b95bfc9b1d854a95dcd37cefea9512897f5994b11153a0f'), b\"domain\")\n"
   ]
  },
  {
   "cell_type": "code",
   "execution_count": 455,
   "metadata": {},
   "outputs": [
    {
     "ename": "NameError",
     "evalue": "name 'ecdsa' is not defined",
     "output_type": "error",
     "traceback": [
      "\u001b[0;31m---------------------------------------------------------------------------\u001b[0m",
      "\u001b[0;31mNameError\u001b[0m                                 Traceback (most recent call last)",
      "Cell \u001b[0;32mIn [455], line 1\u001b[0m\n\u001b[0;32m----> 1\u001b[0m sk \u001b[38;5;241m=\u001b[39m \u001b[43mecdsa\u001b[49m\u001b[38;5;241m.\u001b[39mSigningKey\u001b[38;5;241m.\u001b[39mfrom_string(\u001b[38;5;28mbytes\u001b[39m\u001b[38;5;241m.\u001b[39mfromhex(\u001b[38;5;124m'\u001b[39m\u001b[38;5;124mb7174a25a5b2077ae40f89d3ee0584ddbc2546a1ded5e9991da1f83f1a09bb97\u001b[39m\u001b[38;5;124m'\u001b[39m), curve\u001b[38;5;241m=\u001b[39mecdsa\u001b[38;5;241m.\u001b[39mSECP256k1, hashfunc\u001b[38;5;241m=\u001b[39msha256)\n",
      "\u001b[0;31mNameError\u001b[0m: name 'ecdsa' is not defined"
     ]
    }
   ],
   "source": [
    "sk = ecdsa.SigningKey.from_string(bytes.fromhex('b7174a25a5b2077ae40f89d3ee0584ddbc2546a1ded5e9991da1f83f1a09bb97'), curve=ecdsa.SECP256k1, hashfunc=sha256) # the default is sha1\n"
   ]
  },
  {
   "cell_type": "code",
   "execution_count": 541,
   "metadata": {},
   "outputs": [
    {
     "name": "stdout",
     "output_type": "stream",
     "text": [
      "eyJ0eXBlIjoiaHR0cHM6Ly9kaWRjb21tLm9yZy9vdXQtb2YtYmFuZC8yLjAvaW52aXRhdGlvbiIsImlkIjoiNTk5ZjM2MzgtYjU2My00OTM3LTk0ODctZGZlNTUwOTlkOTAwIiwiZnJvbSI6ImRpZDpleGFtcGxlOnZlcmlmaWVyIiwiYm9keSI6eyJnb2FsX2NvZGUiOiJzdHJlYW1saW5lZC12cCIsImFjY2VwdCI6WyJkaWRjb21tL3YyIl19fQ==\n"
     ]
    }
   ],
   "source": [
    "obj = {\n",
    "  \"type\": \"https://didcomm.org/out-of-band/2.0/invitation\",\n",
    "  \"id\": \"599f3638-b563-4937-9487-dfe55099d900\",\n",
    "  \"from\": \"did:example:verifier\",\n",
    "  \"body\": {\n",
    "      \"goal_code\": \"streamlined-vp\",\n",
    "      \"accept\": [\"didcomm/v2\"]\n",
    "  }\n",
    "}\n",
    "#To encode this message, remove all json whitespace and Base 64 URL encode. The result should look like this, for the example above:\n",
    "encoded_msg = base64.urlsafe_b64encode(json.dumps(obj).replace(' ', '').encode('utf-8')).decode('utf-8')\n",
    "print(encoded_msg)"
   ]
  },
  {
   "cell_type": "code",
   "execution_count": 543,
   "metadata": {},
   "outputs": [
    {
     "data": {
      "text/plain": [
       "False"
      ]
     },
     "execution_count": 543,
     "metadata": {},
     "output_type": "execute_result"
    }
   ],
   "source": [
    "encoded_msg=='eyJ0eXBlIjoiaHR0cHM6Ly9kaWRjb21tLm9yZy9vdXQtb2YtYmFuZC8yLjAvaW52aXRhdGlvbiIsImlkIjoiNTk5ZjM2MzgtYjU2My00OTM3LTk0ODctZGZlNTUwOTlkOTAwIiwiZnJvbSI6ImRpZDpleGFtcGxlOnZlcmlmaWVyIiwiYm9keSI6eyJnb2FsX2NvZGUiOiJzdHJlYW1saW5lZC12cCIsImFjY2VwdCI6WyJkaWRjb21tL3YyIl19fQ'"
   ]
  },
  {
   "cell_type": "code",
   "execution_count": 538,
   "metadata": {},
   "outputs": [
    {
     "data": {
      "text/plain": [
       "'{\"type\":\"https://didcomm.org/out-of-band/2.0/invitation\",\"id\":\"599f3638-b563-4937-9487-dfe55099d900\",\"from\":\"did:example:verifier\",\"body\":{\"goal_code\":\"streamlined-vp\",\"accept\":[\"didcomm/v2\"]}}'"
      ]
     },
     "execution_count": 538,
     "metadata": {},
     "output_type": "execute_result"
    }
   ],
   "source": [
    "json.dumps(obj).replace(' ', '')"
   ]
  },
  {
   "cell_type": "code",
   "execution_count": null,
   "metadata": {},
   "outputs": [],
   "source": []
  }
 ],
 "metadata": {
  "kernelspec": {
   "display_name": "Python 3.8.10 64-bit",
   "language": "python",
   "name": "python3"
  },
  "language_info": {
   "codemirror_mode": {
    "name": "ipython",
    "version": 3
   },
   "file_extension": ".py",
   "mimetype": "text/x-python",
   "name": "python",
   "nbconvert_exporter": "python",
   "pygments_lexer": "ipython3",
   "version": "3.8.10"
  },
  "vscode": {
   "interpreter": {
    "hash": "1ee38ef4a5a9feb55287fd749643f13d043cb0a7addaab2a9c224cbe137c0062"
   }
  }
 },
 "nbformat": 4,
 "nbformat_minor": 2
}
