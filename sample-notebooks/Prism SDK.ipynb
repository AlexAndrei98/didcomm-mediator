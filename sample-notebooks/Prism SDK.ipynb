{
 "cells": [
  {
   "cell_type": "code",
   "execution_count": 1,
   "id": "37a8242e",
   "metadata": {},
   "outputs": [],
   "source": [
    "import sys\n",
    "import os\n",
    "import time\n",
    "import jpype\n",
    "import jpype.imports\n",
    "import json"
   ]
  },
  {
   "cell_type": "code",
   "execution_count": 2,
   "id": "35924f00",
   "metadata": {},
   "outputs": [
    {
     "name": "stdout",
     "output_type": "stream",
     "text": [
      "/Users/alex/Projects/rootid/didcomm-mediator/sample-notebooks\n"
     ]
    }
   ],
   "source": [
    "!pwd\n",
    "#set ATALA_PRISM_JARS = /Users/alex/Projects/rootid/didcomm-mediator/prism-cli-v1.4.1/lib\n",
    "!export ATALA_PRISM_JARS=/Users/alex/Projects/rootid/didcomm-mediator/prism-cli-v1.4.1/lib"
   ]
  },
  {
   "cell_type": "code",
   "execution_count": 3,
   "id": "1d9fe38c",
   "metadata": {},
   "outputs": [],
   "source": [
    "try:\n",
    "    sdk_gradle_home = '/Users/alex/Projects/rootid/didcomm-mediator/prism-cli-v1.4.1/lib'\n",
    "except KeyError:\n",
    "    print(\"ERROR: `ATALA_PRISM_JARS` variable is not set.\")\n",
    "    print(\"Please, set it to the directory with Atala PRISM SDK dependencies JARs.\")\n",
    "    sys.exit(1)"
   ]
  },
  {
   "cell_type": "code",
   "execution_count": 4,
   "id": "69e7971a",
   "metadata": {},
   "outputs": [],
   "source": [
    "try:\n",
    "    jpype.imports.registerDomain('sdk', alias='io')\n",
    "except ImportError as err:\n",
    "    print(err.msg)\n",
    "    sys.exit(ERROR)\n",
    "jpype.startJVM(\n",
    "    classpath=[\n",
    "        os.path.join(sdk_gradle_home, f) for f in os.listdir(sdk_gradle_home)\n",
    "            if f.endswith('.jar')\n",
    "    ]\n",
    ")"
   ]
  },
  {
   "cell_type": "code",
   "execution_count": 5,
   "id": "0e4e9c37",
   "metadata": {},
   "outputs": [
    {
     "ename": "NameError",
     "evalue": "name 'ECPublicKey' is not defined",
     "output_type": "error",
     "traceback": [
      "\u001b[0;31m---------------------------------------------------------------------------\u001b[0m",
      "\u001b[0;31mNameError\u001b[0m                                 Traceback (most recent call last)",
      "Cell \u001b[0;32mIn [5], line 2\u001b[0m\n\u001b[1;32m      1\u001b[0m \u001b[39m#get docstring from class\u001b[39;00m\n\u001b[0;32m----> 2\u001b[0m \u001b[39mprint\u001b[39m(\u001b[39mdir\u001b[39m(ECPublicKey))\n",
      "\u001b[0;31mNameError\u001b[0m: name 'ECPublicKey' is not defined"
     ]
    }
   ],
   "source": [
    "#get docstring from class\n",
    "print(dir(ECPublicKey))"
   ]
  },
  {
   "cell_type": "code",
   "execution_count": 6,
   "id": "6809e1c6",
   "metadata": {},
   "outputs": [],
   "source": [
    "from sdk.iohk.atala.prism.protos import *\n",
    "from sdk.iohk.atala.prism.api.node import *\n",
    "from sdk.iohk.atala.prism.api.models import *\n",
    "from sdk.iohk.atala.prism.api import *\n",
    "from sdk.iohk.atala.prism.crypto.derivation import *\n",
    "from sdk.iohk.atala.prism.crypto.keys import *\n",
    "from sdk.iohk.atala.prism.identity import *\n",
    "from kotlinx.serialization.json import *\n",
    "from kotlinx.serialization import DeserializationStrategy\n",
    "\n",
    "KeyGenerator = KeyGenerator.INSTANCE\n",
    "KeyDerivation = KeyDerivation.INSTANCE\n",
    "MasterKeyUsage = MasterKeyUsage.INSTANCE\n",
    "IssuingKeyUsage = IssuingKeyUsage.INSTANCE\n",
    "RevocationKeyUsage = RevocationKeyUsage.INSTANCE\n",
    "AuthenticationKeyUsage = AuthenticationKeyUsage.INSTANCE\n",
    "AtalaOperationStatus = AtalaOperationStatus.INSTANCE\n",
    "PrismDID = PrismDid"
   ]
  },
  {
   "cell_type": "code",
   "execution_count": 7,
   "id": "718cc300",
   "metadata": {},
   "outputs": [],
   "source": [
    "def wait_until_confirmed(node_api: NodePublicApi, operation_id: AtalaOperationId):\n",
    "    \"\"\"Waits until operation is confirmed by Cardano network\n",
    "    \n",
    "    Confirmation doesn't necessarily mean that operation was applied.\n",
    "    For example, it could be rejected because of an incorrect signature or other reasons.\n",
    "\n",
    "    :param node_api: Atala PRISM Node API object\n",
    "    :type node_api: NodePublicApi\n",
    "    :param operation_id: Atala PRISM operation ID\n",
    "    :type operation_id: AtalaOperationId\n",
    "    \"\"\"\n",
    "    operation_status = int(node_api.getOperationInfo(operation_id).join().getStatus())\n",
    "    while operation_status != AtalaOperationStatus.getCONFIRMED_AND_APPLIED() \\\n",
    "        and operation_status != AtalaOperationStatus.getCONFIRMED_AND_REJECTED():\n",
    "        print(f\"Current operation status: {AtalaOperationStatus.asString(operation_status)}\")\n",
    "        time.sleep(1)\n",
    "        operation_status = int(node_api.getOperationInfo(operation_id).join().getStatus())\n",
    "\n",
    "def prepare_keys_from_mnemonic(mnemonic: MnemonicCode, password: str):\n",
    "    \"\"\"Creates a map of potentially useful keys out of a mnemonic code\n",
    "\n",
    "    :param mnemonic: Mnemonic to generate keys from\n",
    "    :type mnemonic: MnemonicCode\n",
    "    :param password: Password for seed generation\n",
    "    :type password: str\n",
    "    :return: Map of keys\n",
    "    :rtype: dict<String, ECKeyPair>\n",
    "    \"\"\"\n",
    "    did_key_map = {}\n",
    "    seed = KeyDerivation.binarySeed(mnemonic, password)\n",
    "    did_key_map[PrismDid.getDEFAULT_MASTER_KEY_ID()] = KeyGenerator.deriveKeyFromFullPath(seed, 0, MasterKeyUsage, 0)\n",
    "    did_key_map[PrismDid.getDEFAULT_ISSUING_KEY_ID()] = KeyGenerator.deriveKeyFromFullPath(seed, 0, IssuingKeyUsage, 0)\n",
    "    did_key_map[PrismDid.getDEFAULT_REVOCATION_KEY_ID()] = KeyGenerator.deriveKeyFromFullPath(seed, 0, RevocationKeyUsage, 0)\n",
    "    return did_key_map\n",
    "\n",
    "def prepare_keys_from_seed(seed: bytes):\n",
    "    \"\"\"Creates a map of potentially useful keys out of a mnemonic code\n",
    "\n",
    "    :param mnemonic: Mnemonic to generate keys from\n",
    "    :type mnemonic: MnemonicCode\n",
    "    :param password: Password for seed generation\n",
    "    :type password: str\n",
    "    :return: Map of keys\n",
    "    :rtype: dict<String, ECKeyPair>\n",
    "    \"\"\"\n",
    "    did_key_map = {}\n",
    "    did_key_map[PrismDid.getDEFAULT_MASTER_KEY_ID()] = KeyGenerator.deriveKeyFromFullPath(seed, 0, MasterKeyUsage, 0)\n",
    "    did_key_map[PrismDid.getDEFAULT_ISSUING_KEY_ID()] = KeyGenerator.deriveKeyFromFullPath(seed, 0, IssuingKeyUsage, 0)\n",
    "    did_key_map[PrismDid.getDEFAULT_REVOCATION_KEY_ID()] = KeyGenerator.deriveKeyFromFullPath(seed, 0, RevocationKeyUsage, 0)\n",
    "    return did_key_map"
   ]
  },
  {
   "cell_type": "code",
   "execution_count": 8,
   "id": "6f65944c",
   "metadata": {},
   "outputs": [],
   "source": [
    "environment = \"ppp-vasil.atalaprism.io\"\n",
    "node_auth_api = NodeAuthApiAsyncImpl(GrpcOptions(\"http\", environment, 50053))"
   ]
  },
  {
   "cell_type": "code",
   "execution_count": 9,
   "id": "bbffc368",
   "metadata": {},
   "outputs": [
    {
     "name": "stdout",
     "output_type": "stream",
     "text": [
      "Java class 'io.iohk.atala.prism.protos.GrpcOptions'\n",
      "\n",
      "    Extends:\n",
      "        java.lang.Object\n",
      "\n",
      "  Constructors:\n",
      "    * GrpcOptions(java.lang.String, java.lang.String, int)\n",
      "    * GrpcOptions(java.lang.String, java.lang.String, int, java.lang.String)\n",
      "    * GrpcOptions(java.lang.String, java.lang.String, int, java.lang.String, int, kotlin.jvm.internal.DefaultConstructorMarker)\n",
      "\n"
     ]
    }
   ],
   "source": [
    "#print code for GrpcOptions class\n",
    "print(GrpcOptions.__doc__)\n"
   ]
  },
  {
   "cell_type": "markdown",
   "id": "08f9cfdd",
   "metadata": {},
   "source": [
    "## Generating a DID"
   ]
  },
  {
   "cell_type": "code",
   "execution_count": 10,
   "id": "e7bd682b",
   "metadata": {},
   "outputs": [
    {
     "name": "stdout",
     "output_type": "stream",
     "text": [
      "master0\n",
      "Issuer: Generates and registers a DID\n"
     ]
    },
    {
     "name": "stderr",
     "output_type": "stream",
     "text": [
      "[main] INFO org.bitcoinj.crypto.MnemonicCode - PBKDF2 took 146.1 ms\n"
     ]
    },
    {
     "name": "stdout",
     "output_type": "stream",
     "text": [
      "did:prism:1b82892792b6d2cfef15749867b492e942de1fb2746629da82ef22b3a6a31bdb\n",
      "did:prism:1b82892792b6d2cfef15749867b492e942de1fb2746629da82ef22b3a6a31bdb:Cj8KPRI7CgdtYXN0ZXIwEAFKLgoJc2VjcDI1NmsxEiECdetMOAf8sh5r9pg151SV7KNazA6Bi2U-32EiSaSaBn0\n",
      "master0\n",
      "io.iohk.atala.prism.crypto.keys.ECPrivateKey@7fda2001\n",
      "\n",
      "- Issuer sent a request to create a new DID to PRISM Node.\n",
      "- The transaction can take up to 10 minutes to be confirmed by the Cardano network.\n",
      "- Operation identifier: 0ad03187cca7130d6d8d0bcb68e77711f09d309f8f3c79066110e91c25989b22\n",
      "\n",
      "Current operation status: PENDING_SUBMISSION\n",
      "Current operation status: PENDING_SUBMISSION\n",
      "Current operation status: PENDING_SUBMISSION\n",
      "Current operation status: PENDING_SUBMISSION\n",
      "Current operation status: PENDING_SUBMISSION\n",
      "Current operation status: PENDING_SUBMISSION\n",
      "Current operation status: PENDING_SUBMISSION\n",
      "Current operation status: PENDING_SUBMISSION\n",
      "Current operation status: PENDING_SUBMISSION\n",
      "Current operation status: PENDING_SUBMISSION\n",
      "Current operation status: PENDING_SUBMISSION\n",
      "Current operation status: PENDING_SUBMISSION\n",
      "Current operation status: PENDING_SUBMISSION\n",
      "Current operation status: PENDING_SUBMISSION\n",
      "Current operation status: PENDING_SUBMISSION\n",
      "Current operation status: PENDING_SUBMISSION\n",
      "Current operation status: AWAIT_CONFIRMATION\n",
      "Current operation status: AWAIT_CONFIRMATION\n",
      "Current operation status: AWAIT_CONFIRMATION\n",
      "Current operation status: AWAIT_CONFIRMATION\n",
      "Current operation status: AWAIT_CONFIRMATION\n",
      "Current operation status: AWAIT_CONFIRMATION\n",
      "Current operation status: AWAIT_CONFIRMATION\n",
      "Current operation status: AWAIT_CONFIRMATION\n",
      "Current operation status: AWAIT_CONFIRMATION\n",
      "Current operation status: AWAIT_CONFIRMATION\n",
      "Current operation status: AWAIT_CONFIRMATION\n",
      "Current operation status: AWAIT_CONFIRMATION\n",
      "Current operation status: AWAIT_CONFIRMATION\n",
      "Current operation status: AWAIT_CONFIRMATION\n",
      "Current operation status: AWAIT_CONFIRMATION\n",
      "Current operation status: AWAIT_CONFIRMATION\n",
      "Current operation status: AWAIT_CONFIRMATION\n",
      "Current operation status: AWAIT_CONFIRMATION\n",
      "Current operation status: AWAIT_CONFIRMATION\n",
      "Current operation status: AWAIT_CONFIRMATION\n",
      "Current operation status: AWAIT_CONFIRMATION\n",
      "Current operation status: AWAIT_CONFIRMATION\n",
      "Current operation status: AWAIT_CONFIRMATION\n",
      "Current operation status: AWAIT_CONFIRMATION\n",
      "Current operation status: AWAIT_CONFIRMATION\n",
      "Current operation status: AWAIT_CONFIRMATION\n",
      "Current operation status: AWAIT_CONFIRMATION\n",
      "Current operation status: AWAIT_CONFIRMATION\n",
      "Current operation status: AWAIT_CONFIRMATION\n",
      "Current operation status: AWAIT_CONFIRMATION\n",
      "Current operation status: AWAIT_CONFIRMATION\n",
      "Current operation status: AWAIT_CONFIRMATION\n",
      "Current operation status: AWAIT_CONFIRMATION\n",
      "Current operation status: AWAIT_CONFIRMATION\n",
      "Current operation status: AWAIT_CONFIRMATION\n",
      "Current operation status: AWAIT_CONFIRMATION\n",
      "Current operation status: AWAIT_CONFIRMATION\n",
      "Current operation status: AWAIT_CONFIRMATION\n",
      "Current operation status: AWAIT_CONFIRMATION\n",
      "Current operation status: AWAIT_CONFIRMATION\n",
      "Current operation status: AWAIT_CONFIRMATION\n",
      "Current operation status: AWAIT_CONFIRMATION\n",
      "Current operation status: AWAIT_CONFIRMATION\n",
      "Current operation status: AWAIT_CONFIRMATION\n",
      "Current operation status: AWAIT_CONFIRMATION\n",
      "Current operation status: AWAIT_CONFIRMATION\n",
      "Current operation status: AWAIT_CONFIRMATION\n",
      "Current operation status: AWAIT_CONFIRMATION\n",
      "Current operation status: AWAIT_CONFIRMATION\n",
      "Current operation status: AWAIT_CONFIRMATION\n",
      "Current operation status: AWAIT_CONFIRMATION\n",
      "Current operation status: AWAIT_CONFIRMATION\n",
      "Current operation status: AWAIT_CONFIRMATION\n",
      "Current operation status: AWAIT_CONFIRMATION\n",
      "Current operation status: AWAIT_CONFIRMATION\n",
      "Current operation status: AWAIT_CONFIRMATION\n",
      "Current operation status: AWAIT_CONFIRMATION\n",
      "Current operation status: AWAIT_CONFIRMATION\n",
      "Current operation status: AWAIT_CONFIRMATION\n",
      "Current operation status: AWAIT_CONFIRMATION\n",
      "Current operation status: AWAIT_CONFIRMATION\n",
      "Current operation status: AWAIT_CONFIRMATION\n",
      "Current operation status: AWAIT_CONFIRMATION\n",
      "Current operation status: AWAIT_CONFIRMATION\n",
      "Current operation status: AWAIT_CONFIRMATION\n",
      "Current operation status: AWAIT_CONFIRMATION\n",
      "Current operation status: AWAIT_CONFIRMATION\n",
      "Current operation status: AWAIT_CONFIRMATION\n",
      "Current operation status: AWAIT_CONFIRMATION\n",
      "Current operation status: AWAIT_CONFIRMATION\n",
      "Current operation status: AWAIT_CONFIRMATION\n",
      "Current operation status: AWAIT_CONFIRMATION\n",
      "Current operation status: AWAIT_CONFIRMATION\n",
      "Current operation status: AWAIT_CONFIRMATION\n",
      "Current operation status: AWAIT_CONFIRMATION\n",
      "Current operation status: AWAIT_CONFIRMATION\n",
      "Current operation status: AWAIT_CONFIRMATION\n",
      "Current operation status: AWAIT_CONFIRMATION\n",
      "Current operation status: AWAIT_CONFIRMATION\n",
      "Current operation status: AWAIT_CONFIRMATION\n",
      "Current operation status: AWAIT_CONFIRMATION\n",
      "Current operation status: AWAIT_CONFIRMATION\n",
      "Current operation status: AWAIT_CONFIRMATION\n",
      "Current operation status: AWAIT_CONFIRMATION\n",
      "Current operation status: AWAIT_CONFIRMATION\n",
      "Current operation status: AWAIT_CONFIRMATION\n",
      "Current operation status: AWAIT_CONFIRMATION\n",
      "Current operation status: AWAIT_CONFIRMATION\n",
      "Current operation status: AWAIT_CONFIRMATION\n",
      "Current operation status: AWAIT_CONFIRMATION\n",
      "Current operation status: AWAIT_CONFIRMATION\n",
      "Current operation status: AWAIT_CONFIRMATION\n",
      "Current operation status: AWAIT_CONFIRMATION\n",
      "Current operation status: AWAIT_CONFIRMATION\n",
      "Current operation status: AWAIT_CONFIRMATION\n",
      "Current operation status: AWAIT_CONFIRMATION\n",
      "Current operation status: AWAIT_CONFIRMATION\n",
      "Current operation status: AWAIT_CONFIRMATION\n",
      "Current operation status: AWAIT_CONFIRMATION\n",
      "Current operation status: AWAIT_CONFIRMATION\n",
      "Current operation status: AWAIT_CONFIRMATION\n",
      "Current operation status: AWAIT_CONFIRMATION\n",
      "Current operation status: AWAIT_CONFIRMATION\n",
      "Current operation status: AWAIT_CONFIRMATION\n",
      "Current operation status: AWAIT_CONFIRMATION\n",
      "Current operation status: AWAIT_CONFIRMATION\n",
      "Current operation status: AWAIT_CONFIRMATION\n",
      "Current operation status: AWAIT_CONFIRMATION\n",
      "Current operation status: AWAIT_CONFIRMATION\n",
      "Current operation status: AWAIT_CONFIRMATION\n",
      "Current operation status: AWAIT_CONFIRMATION\n",
      "Current operation status: AWAIT_CONFIRMATION\n",
      "Current operation status: AWAIT_CONFIRMATION\n",
      "Current operation status: AWAIT_CONFIRMATION\n",
      "Current operation status: AWAIT_CONFIRMATION\n",
      "Current operation status: AWAIT_CONFIRMATION\n",
      "Current operation status: AWAIT_CONFIRMATION\n",
      "Current operation status: AWAIT_CONFIRMATION\n",
      "Current operation status: AWAIT_CONFIRMATION\n",
      "Current operation status: AWAIT_CONFIRMATION\n",
      "Current operation status: AWAIT_CONFIRMATION\n",
      "Current operation status: AWAIT_CONFIRMATION\n",
      "Current operation status: AWAIT_CONFIRMATION\n",
      "Current operation status: AWAIT_CONFIRMATION\n",
      "Current operation status: AWAIT_CONFIRMATION\n",
      "Current operation status: AWAIT_CONFIRMATION\n",
      "Current operation status: AWAIT_CONFIRMATION\n",
      "Current operation status: AWAIT_CONFIRMATION\n",
      "Current operation status: AWAIT_CONFIRMATION\n",
      "Current operation status: AWAIT_CONFIRMATION\n",
      "Current operation status: AWAIT_CONFIRMATION\n",
      "Current operation status: AWAIT_CONFIRMATION\n",
      "Current operation status: AWAIT_CONFIRMATION\n",
      "Current operation status: AWAIT_CONFIRMATION\n",
      "- DID with id did:prism:1b82892792b6d2cfef15749867b492e942de1fb2746629da82ef22b3a6a31bdb is created\n"
     ]
    }
   ],
   "source": [
    "print(PrismDid.getDEFAULT_MASTER_KEY_ID())\n",
    "print(\"Issuer: Generates and registers a DID\")\n",
    "issuer_keys = prepare_keys_from_mnemonic(KeyDerivation.randomMnemonicCode(), \"passphrase\")\n",
    "issuer_unpublished_did = PrismDid.buildLongFormFromMasterPublicKey(\n",
    "    issuer_keys[PrismDid.getDEFAULT_MASTER_KEY_ID()].getPublicKey()\n",
    ")\n",
    "issuer_did = issuer_unpublished_did.asCanonical()\n",
    "print(issuer_did.toString())\n",
    "node_payload_generator = NodePayloadGenerator(\n",
    "    issuer_unpublished_did,\n",
    "    {\n",
    "        PrismDid.getDEFAULT_MASTER_KEY_ID(): issuer_keys[PrismDid.getDEFAULT_MASTER_KEY_ID()].getPrivateKey(),\n",
    "        PrismDid.getDEFAULT_ISSUING_KEY_ID(): issuer_keys[PrismDid.getDEFAULT_ISSUING_KEY_ID()].getPrivateKey()\n",
    "    },\n",
    "    \n",
    ")\n",
    "\n",
    "print(issuer_unpublished_did)\n",
    "print(PrismDid.getDEFAULT_MASTER_KEY_ID())\n",
    "print(issuer_keys[PrismDid.getDEFAULT_MASTER_KEY_ID()].getPrivateKey())\n",
    "issuer_create_did_info = node_payload_generator.createDid(PrismDid.getDEFAULT_MASTER_KEY_ID())\n",
    "issuer_create_did_operation_id = node_auth_api.createDid(\n",
    "    issuer_create_did_info.getPayload(),\n",
    "    issuer_unpublished_did,\n",
    "    PrismDid.getDEFAULT_MASTER_KEY_ID()\n",
    ").join()\n",
    "\n",
    "print(f\"\"\"\n",
    "- Issuer sent a request to create a new DID to PRISM Node.\n",
    "- The transaction can take up to 10 minutes to be confirmed by the Cardano network.\n",
    "- Operation identifier: {issuer_create_did_operation_id.hexValue()}\n",
    "\"\"\")\n",
    "create_did_operation_result = wait_until_confirmed(node_auth_api, issuer_create_did_operation_id)\n",
    "\n",
    "print(f\"- DID with id {issuer_did} is created\")"
   ]
  },
  {
   "cell_type": "code",
   "execution_count": 57,
   "id": "7f5ce58d",
   "metadata": {},
   "outputs": [
    {
     "name": "stdout",
     "output_type": "stream",
     "text": [
      "7d96e4807f9a6ce6ce39b52f9fa602797268eb2437d4d52203d7b96fbfee7986\n",
      "<java class 'io.iohk.atala.prism.crypto.keys.ECPrivateKey'>\n",
      "io.iohk.atala.prism.crypto.keys.ECPublicKey@2a50b32d\n"
     ]
    }
   ],
   "source": [
    "print(issuer_keys[PrismDid.getDEFAULT_MASTER_KEY_ID()].getPrivateKey().getHexEncoded())\n",
    "print(type(issuer_keys[PrismDid.getDEFAULT_MASTER_KEY_ID()].getPrivateKey()))\n",
    "bint = int(str(issuer_keys[PrismDid.getDEFAULT_MASTER_KEY_ID()].getPrivateKey().getHexEncoded()),16)\n"
   ]
  },
  {
   "cell_type": "code",
   "execution_count": 19,
   "id": "278c8ace",
   "metadata": {},
   "outputs": [
    {
     "name": "stdout",
     "output_type": "stream",
     "text": [
      "['DefaultImpls', '__class__', '__del__', '__delattr__', '__dict__', '__dir__', '__doc__', '__eq__', '__format__', '__ge__', '__getattribute__', '__gt__', '__hash__', '__init__', '__init_subclass__', '__le__', '__lt__', '__module__', '__ne__', '__new__', '__reduce__', '__reduce_ex__', '__repr__', '__setattr__', '__sizeof__', '__str__', '__subclasshook__', '__weakref__', 'equals', 'getClass', 'getD', 'getD$prism_crypto', 'getEncoded', 'getHexEncoded', 'getKey$prism_crypto', 'hashCode', 'notify', 'notifyAll', 'toString', 'wait']\n",
      "a765343d4965c02862070c623ad1a1aa803928049c511eb37785c0e0be260c17\n"
     ]
    }
   ],
   "source": [
    "key = issuer_keys[PrismDid.getDEFAULT_MASTER_KEY_ID()].getPrivateKey()\n",
    "# print(key.getCurvePoint().getX().getCoordinate())\n",
    "# print(key.getCurvePoint().getY().getCoordinate())\n",
    "print(dir(key))\n",
    "print(key.getHexEncoded())"
   ]
  },
  {
   "cell_type": "code",
   "execution_count": 103,
   "id": "df473d4d",
   "metadata": {},
   "outputs": [
    {
     "data": {
      "text/plain": [
       "b'7r8orddYZTNLN8WGkY51aVsS5dRc9KkpM7TAFTxmEQsr9Wdq4FLeZNFWEhsVaouWnNwPjyntKE81zhhkHch368g1xdJC'"
      ]
     },
     "execution_count": 103,
     "metadata": {},
     "output_type": "execute_result"
    }
   ],
   "source": [
    "#from hex string to bytes\n",
    "st = '049dbd906bb386ba7d66beebf5ec3a0e5c7c5fd940beca50b0c4f03bbefdd987283d40ffe2e0a1ba652e297db72222fc789c5e7095470868898832cccc8daa952d'\n",
    "b = bytes.fromhex(st)\n",
    "base58.b58encode(b)"
   ]
  },
  {
   "cell_type": "code",
   "execution_count": 94,
   "id": "1831f137",
   "metadata": {},
   "outputs": [
    {
     "ename": "Error",
     "evalue": "Incorrect padding",
     "output_type": "error",
     "traceback": [
      "\u001b[0;31m---------------------------------------------------------------------------\u001b[0m",
      "\u001b[0;31mError\u001b[0m                                     Traceback (most recent call last)",
      "Cell \u001b[0;32mIn [94], line 2\u001b[0m\n\u001b[1;32m      1\u001b[0m \u001b[39mfrom\u001b[39;00m \u001b[39mbase64\u001b[39;00m \u001b[39mimport\u001b[39;00m b64encode, b64decode\n\u001b[0;32m----> 2\u001b[0m b64decode(st)\n",
      "File \u001b[0;32m/usr/local/Cellar/python@3.8/3.8.10/Frameworks/Python.framework/Versions/3.8/lib/python3.8/base64.py:87\u001b[0m, in \u001b[0;36mb64decode\u001b[0;34m(s, altchars, validate)\u001b[0m\n\u001b[1;32m     85\u001b[0m \u001b[39mif\u001b[39;00m validate \u001b[39mand\u001b[39;00m \u001b[39mnot\u001b[39;00m re\u001b[39m.\u001b[39mfullmatch(\u001b[39mb\u001b[39m\u001b[39m'\u001b[39m\u001b[39m[A-Za-z0-9+/]*=\u001b[39m\u001b[39m{\u001b[39m\u001b[39m0,2}\u001b[39m\u001b[39m'\u001b[39m, s):\n\u001b[1;32m     86\u001b[0m     \u001b[39mraise\u001b[39;00m binascii\u001b[39m.\u001b[39mError(\u001b[39m'\u001b[39m\u001b[39mNon-base64 digit found\u001b[39m\u001b[39m'\u001b[39m)\n\u001b[0;32m---> 87\u001b[0m \u001b[39mreturn\u001b[39;00m binascii\u001b[39m.\u001b[39;49ma2b_base64(s)\n",
      "\u001b[0;31mError\u001b[0m: Incorrect padding"
     ]
    }
   ],
   "source": []
  },
  {
   "cell_type": "code",
   "execution_count": 128,
   "id": "1ed57718",
   "metadata": {},
   "outputs": [
    {
     "data": {
      "text/plain": [
       "b'6DteJRfAUmTzpCqUriSnxRFtfy25dJ2T4RtWVrzekWJqQax'"
      ]
     },
     "execution_count": 128,
     "metadata": {},
     "output_type": "execute_result"
    }
   ],
   "source": [
    "pri(key.getD()\n",
    ")"
   ]
  },
  {
   "cell_type": "code",
   "execution_count": 136,
   "id": "aa3fdd21",
   "metadata": {},
   "outputs": [],
   "source": [
    "#remove empty bytes\n",
    "bbb= int.to_bytes(int_, 58, 'big').lstrip(b'\\x00')"
   ]
  },
  {
   "cell_type": "code",
   "execution_count": 159,
   "id": "9fc7b72d",
   "metadata": {},
   "outputs": [
    {
     "name": "stdout",
     "output_type": "stream",
     "text": [
      "110966501931583750082985051953930554202289874904595929169354067567179616901853\n",
      "78\n"
     ]
    }
   ],
   "source": [
    "keys = {\"privateKey\": \"f554d07ad956ccd91a08ee1d9882749518fb131715c8f30139ff8d55d4725add\",\n",
    "    \"publicKey\": \"049dbd906bb386ba7d66beebf5ec3a0e5c7c5fd940beca50b0c4f03bbefdd987283d40ffe2e0a1ba652e297db72222fc789c5e7095470868898832cccc8daa952d\",\n",
    "}\n",
    "#from hex string to int \n",
    "int_ = int(keys[\"privateKey\"], 16)\n",
    "print(int_)\n",
    "print(len(str(int_)))\n",
    "#remove empty bytes\n",
    "bbb= int.to_bytes(int_, 58, 'big').lstrip(b'\\x00')\n"
   ]
  },
  {
   "cell_type": "code",
   "execution_count": 163,
   "id": "b4fe6294",
   "metadata": {},
   "outputs": [
    {
     "name": "stdout",
     "output_type": "stream",
     "text": [
      "403302766519217024866501033698194361114496144622136351637745117680854454412363\n",
      "78\n"
     ]
    }
   ],
   "source": [
    "#pytohn base58 decode \n",
    "import base58\n",
    "bdecoded = base58.b58decode('231cRx1fhyNzrdj9i3UseKm1ApgMwyDLbKtJJH5AacEwL')\n",
    "sol = int.from_bytes(bdecoded, byteorder='big')\n",
    "print(sol)\n",
    "print(len(str(sol)))"
   ]
  },
  {
   "cell_type": "code",
   "execution_count": 67,
   "id": "572d79d8",
   "metadata": {},
   "outputs": [
    {
     "data": {
      "text/plain": [
       "49"
      ]
     },
     "execution_count": 67,
     "metadata": {},
     "output_type": "execute_result"
    }
   ],
   "source": [
    "len('zQ3shokFTS3brHcDQrn82RUDfCZESWL1ZdCEJwekUDPQiYBme')"
   ]
  },
  {
   "cell_type": "code",
   "execution_count": 75,
   "id": "48707a49",
   "metadata": {},
   "outputs": [
    {
     "data": {
      "text/plain": [
       "b'Q3shnxmSoA9BJ2Djspq8RZkh9MNcUSYvFmP8Fp46aQqhpio4'"
      ]
     },
     "execution_count": 75,
     "metadata": {},
     "output_type": "execute_result"
    }
   ],
   "source": [
    "base58.b58encode(b'\\xe7\\x01' + bdecoded[2:])"
   ]
  },
  {
   "cell_type": "code",
   "execution_count": 71,
   "id": "628e1852",
   "metadata": {},
   "outputs": [],
   "source": [
    "#check if the first bytes is 0x5820\n",
    "publi_key_b58 = base58.b58encode(bdecoded[2:])"
   ]
  },
  {
   "cell_type": "code",
   "execution_count": 76,
   "id": "fe40d834",
   "metadata": {},
   "outputs": [
    {
     "data": {
      "text/plain": [
       "403302766519217024866501033698194361114496144622136351637745117680854454412365"
      ]
     },
     "execution_count": 76,
     "metadata": {},
     "output_type": "execute_result"
    }
   ],
   "source": [
    "403302766519217024866501033698194361114496144622136351637745117680854454412365"
   ]
  },
  {
   "cell_type": "code",
   "execution_count": 85,
   "id": "583cae60",
   "metadata": {},
   "outputs": [
    {
     "data": {
      "text/plain": [
       "b'Q3shnxmSoA9BJ2Djspq8RZkh9MNcUSYvFmP8Fp46aQqhpio4'"
      ]
     },
     "execution_count": 85,
     "metadata": {},
     "output_type": "execute_result"
    }
   ],
   "source": [
    "#int to bytes\n",
    "#remove empty bytes\n",
    "base58.b58encode(b'\\xe7\\x01' + int.to_bytes(403302766519217024866501033698194361114496144622136351637745117680854454412363, 58, 'big').lstrip(b'\\x00'))"
   ]
  },
  {
   "cell_type": "code",
   "execution_count": 139,
   "id": "0d395ac3",
   "metadata": {},
   "outputs": [
    {
     "data": {
      "text/plain": [
       "33"
      ]
     },
     "execution_count": 139,
     "metadata": {},
     "output_type": "execute_result"
    }
   ],
   "source": [
    "len(int.to_bytes(403302766519217024866501033698194361114496144622136351637745117680854454412363, 58, 'big').lstrip(b'\\x00'))"
   ]
  },
  {
   "cell_type": "code",
   "execution_count": 125,
   "id": "45bfa18b",
   "metadata": {},
   "outputs": [],
   "source": [
    "# Issuer generates a credential to Holder identified by its unpublished DID\n",
    "holder_did = PrismDid.fromString(\"did:prism:478c2a9e906b812531b606624ebd9e5a263ea62be5cdef78d69165976b736bad\")\n",
    "credential_claim = CredentialClaim(\n",
    "    holder_did,\n",
    "    JsonObject(\n",
    "        {\n",
    "            \"name\": JsonLiteral(\"Jose Lopez Portillo\", True),\n",
    "            \"certificate\": JsonLiteral(\"Certificate of PRISM SDK Python tutorial completion\", True)\n",
    "        }\n",
    "    )\n",
    ")\n",
    "# node_payload_generator = NodePayloadGenerator(\n",
    "#     issuer_unpublished_did,\n",
    "#     {\n",
    "#         PrismDid.getDEFAULT_MASTER_KEY_ID(): stored_object[PrismDid.getDEFAULT_MASTER_KEY_ID()],\n",
    "#         PrismDid.getDEFAULT_ISSUING_KEY_ID(): stored_object[PrismDid.getDEFAULT_ISSUING_KEY_ID()],\n",
    "#     },\n",
    "    \n",
    "# )\n",
    "\n",
    "\n",
    "issue_credential_info = node_payload_generator.issueCredentials(\n",
    "    PrismDid.getDEFAULT_ISSUING_KEY_ID(),\n",
    "    [credential_claim]\n",
    ")"
   ]
  },
  {
   "cell_type": "code",
   "execution_count": null,
   "id": "1df31ba3",
   "metadata": {},
   "outputs": [],
   "source": []
  },
  {
   "cell_type": "code",
   "execution_count": 127,
   "id": "1976c119",
   "metadata": {},
   "outputs": [
    {
     "name": "stdout",
     "output_type": "stream",
     "text": [
      "Current operation status: PENDING_SUBMISSION\n"
     ]
    }
   ],
   "source": [
    "#issuer_did2 = PrismDid.fromString(stored_object[\"did\"])\n",
    "issue_credential_batch_operation_id = node_auth_api.issueCredentials(\n",
    "    issue_credential_info.getPayload(),\n",
    "    issuer_unpublished_did.asCanonical(),\n",
    "    PrismDid.getDEFAULT_ISSUING_KEY_ID(),\n",
    "    issue_credential_info.getMerkleRoot()\n",
    ").join()\n",
    "\n",
    "issue_credential_batch_operation_result = \\\n",
    "    wait_until_confirmed(node_auth_api, issue_credential_batch_operation_id)"
   ]
  },
  {
   "cell_type": "code",
   "execution_count": 130,
   "id": "b6502179",
   "metadata": {},
   "outputs": [
    {
     "name": "stdout",
     "output_type": "stream",
     "text": [
      "\n",
      "Issuer [did:prism:c57dd70074a1cac4741e63209248288e1fb9ffcd8887bf731e0ae76c42b078b0] issued new credentials for the holder [did:prism:478c2a9e906b812531b606624ebd9e5a263ea62be5cdef78d69165976b736bad].\n",
      "- issueCredentialBatch operation identifier: 4835ca1123ce314e8b1f38d7c991feecc5ed358b901fd5bf8e58799541f34b83\n",
      "- Credential content: CredentialContent(fields={\"id\":\"did:prism:c57dd70074a1cac4741e63209248288e1fb9ffcd8887bf731e0ae76c42b078b0\",\"keyId\":\"issuing0\",\"credentialSubject\":{\"name\":\"Jose Lopez Portillo\",\"certificate\":\"Certificate of PRISM SDK Python tutorial completion\",\"id\":\"did:prism:478c2a9e906b812531b606624ebd9e5a263ea62be5cdef78d69165976b736bad\"}})\n",
      "- Signed credential: eyJpZCI6ImRpZDpwcmlzbTpjNTdkZDcwMDc0YTFjYWM0NzQxZTYzMjA5MjQ4Mjg4ZTFmYjlmZmNkODg4N2JmNzMxZTBhZTc2YzQyYjA3OGIwIiwia2V5SWQiOiJpc3N1aW5nMCIsImNyZWRlbnRpYWxTdWJqZWN0Ijp7Im5hbWUiOiJKb3NlIExvcGV6IFBvcnRpbGxvIiwiY2VydGlmaWNhdGUiOiJDZXJ0aWZpY2F0ZSBvZiBQUklTTSBTREsgUHl0aG9uIHR1dG9yaWFsIGNvbXBsZXRpb24iLCJpZCI6ImRpZDpwcmlzbTo0NzhjMmE5ZTkwNmI4MTI1MzFiNjA2NjI0ZWJkOWU1YTI2M2VhNjJiZTVjZGVmNzhkNjkxNjU5NzZiNzM2YmFkIn19.MEUCIQDPZYY2kiyVeXj8tLhhuXP9lF3Icvuurm54CW8eUmGHkwIgAXF-d7qPqSBQMl6xYu-ewrHn0KASQkPKLHAqRTURg8U\n",
      "- Inclusion proof (encoded): {\"hash\":\"e8acf90d9e4a5f379556c7df5935af6ef67fa72f6597995765c4948a16f4ce5c\",\"index\":0,\"siblings\":[]}\n",
      "- Batch id: CredentialBatchId(id=67f0609570266a51305a731c4198ff07f89e7e1d13b0711952cf0d45e42d274f)\n"
     ]
    }
   ],
   "source": [
    "holder_signed_credential = issue_credential_info.getCredentialsAndProofs()[0].getSignedCredential()\n",
    "holder_credential_merkle_proof = issue_credential_info.getCredentialsAndProofs()[0].getInclusionProof()\n",
    "\n",
    "print(f\"\"\"\n",
    "Issuer [{issuer_did}] issued new credentials for the holder [{holder_did.asCanonical()}].\n",
    "- issueCredentialBatch operation identifier: {issue_credential_batch_operation_id.hexValue()}\n",
    "- Credential content: {holder_signed_credential.getContent()}\n",
    "- Signed credential: {holder_signed_credential.getCanonicalForm()}\n",
    "- Inclusion proof (encoded): {holder_credential_merkle_proof.encode()}\n",
    "- Batch id: {issue_credential_info.getBatchId()}\"\"\"\n",
    ")"
   ]
  },
  {
   "cell_type": "code",
   "execution_count": 158,
   "id": "a558b84b",
   "metadata": {},
   "outputs": [
    {
     "name": "stdout",
     "output_type": "stream",
     "text": [
      "67f0609570266a51305a731c4198ff07f89e7e1d13b0711952cf0d45e42d274f\n"
     ]
    }
   ],
   "source": [
    "print(str(issue_credential_info.getBatchId().getId()))"
   ]
  },
  {
   "cell_type": "code",
   "execution_count": 29,
   "id": "3825412b",
   "metadata": {},
   "outputs": [
    {
     "ename": "AssertionError",
     "evalue": "VerificationErrors should be empty",
     "output_type": "error",
     "traceback": [
      "\u001b[0;31m---------------------------------------------------------------------------\u001b[0m",
      "\u001b[0;31mAssertionError\u001b[0m                            Traceback (most recent call last)",
      "Input \u001b[0;32mIn [29]\u001b[0m, in \u001b[0;36m<cell line: 8>\u001b[0;34m()\u001b[0m\n\u001b[1;32m      2\u001b[0m credential_verification_result \u001b[38;5;241m=\u001b[39m node_auth_api\u001b[38;5;241m.\u001b[39mverify(\n\u001b[1;32m      3\u001b[0m     holder_signed_credential,\n\u001b[1;32m      4\u001b[0m     holder_credential_merkle_proof\n\u001b[1;32m      5\u001b[0m )\u001b[38;5;241m.\u001b[39mjoin()\n\u001b[1;32m      7\u001b[0m verification_errors \u001b[38;5;241m=\u001b[39m credential_verification_result\u001b[38;5;241m.\u001b[39mgetVerificationErrors()\n\u001b[0;32m----> 8\u001b[0m \u001b[38;5;28;01massert\u001b[39;00m \u001b[38;5;28mlist\u001b[39m(verification_errors) \u001b[38;5;241m==\u001b[39m [], \u001b[38;5;124m\"\u001b[39m\u001b[38;5;124mVerificationErrors should be empty\u001b[39m\u001b[38;5;124m\"\u001b[39m\n",
      "\u001b[0;31mAssertionError\u001b[0m: VerificationErrors should be empty"
     ]
    }
   ],
   "source": [
    "# Verifier, who owns credentialClam, can easily verify the validity of the credentials\n",
    "credential_verification_result = node_auth_api.verify(\n",
    "    holder_signed_credential,\n",
    "    holder_credential_merkle_proof\n",
    ").join()\n",
    "\n",
    "verification_errors = credential_verification_result.getVerificationErrors()\n",
    "assert list(verification_errors) == [], \"VerificationErrors should be empty\""
   ]
  },
  {
   "cell_type": "code",
   "execution_count": null,
   "id": "8d79a8ff",
   "metadata": {},
   "outputs": [],
   "source": []
  },
  {
   "cell_type": "code",
   "execution_count": 83,
   "id": "f0534e9e",
   "metadata": {},
   "outputs": [
    {
     "name": "stderr",
     "output_type": "stream",
     "text": [
      "[main] INFO org.bitcoinj.crypto.MnemonicCode - PBKDF2 took 21.20 ms\n"
     ]
    }
   ],
   "source": [
    "mnemonic = KeyDerivation.randomMnemonicCode()\n",
    "phrase = \"password\"\n",
    "seed = bytes(KeyDerivation.binarySeed(mnemonic, phrase))"
   ]
  },
  {
   "cell_type": "code",
   "execution_count": 84,
   "id": "ba8812cc",
   "metadata": {},
   "outputs": [
    {
     "name": "stdout",
     "output_type": "stream",
     "text": [
      "<class 'bytes'>\n"
     ]
    }
   ],
   "source": [
    "print(type(seed))"
   ]
  },
  {
   "cell_type": "code",
   "execution_count": 85,
   "id": "5e491cd9",
   "metadata": {},
   "outputs": [
    {
     "name": "stderr",
     "output_type": "stream",
     "text": [
      "[main] INFO org.bitcoinj.crypto.MnemonicCode - PBKDF2 took 22.36 ms\n"
     ]
    }
   ],
   "source": [
    "keys1 = prepare_keys_from_mnemonic(mnemonic, phrase)"
   ]
  },
  {
   "cell_type": "code",
   "execution_count": 86,
   "id": "37e23da4",
   "metadata": {},
   "outputs": [],
   "source": [
    "keys2 = prepare_keys_from_seed(seed)"
   ]
  },
  {
   "cell_type": "code",
   "execution_count": 87,
   "id": "d0edc476",
   "metadata": {},
   "outputs": [
    {
     "name": "stdout",
     "output_type": "stream",
     "text": [
      "2447d8ab16457177306821ac64a7c49eb2a1b2f3d472b97dd42bcc3d7fd8481f\n"
     ]
    }
   ],
   "source": [
    "print(keys1[PrismDid.getDEFAULT_MASTER_KEY_ID()].getPrivateKey().getHexEncoded())"
   ]
  },
  {
   "cell_type": "code",
   "execution_count": 88,
   "id": "6f400321",
   "metadata": {},
   "outputs": [
    {
     "name": "stdout",
     "output_type": "stream",
     "text": [
      "2447d8ab16457177306821ac64a7c49eb2a1b2f3d472b97dd42bcc3d7fd8481f\n"
     ]
    }
   ],
   "source": [
    "print(keys2[PrismDid.getDEFAULT_MASTER_KEY_ID()].getPrivateKey().getHexEncoded())"
   ]
  },
  {
   "cell_type": "code",
   "execution_count": 107,
   "id": "76e47ab4",
   "metadata": {},
   "outputs": [],
   "source": [
    "cl = JsonObject(\n",
    "        {\n",
    "            \"name\": JsonLiteral(\"Jose Lopez Portillo\", True),\n",
    "            \"certificate\": JsonLiteral(\"Certificate of PRISM SDK Python tutorial completion\", True)\n",
    "        }\n",
    "    )\n",
    "jsonString = '{\"firstName\":\"Tom\", \"lastName\": \"Broody\"}'"
   ]
  },
  {
   "cell_type": "code",
   "execution_count": 108,
   "id": "32734ce2",
   "metadata": {},
   "outputs": [
    {
     "name": "stdout",
     "output_type": "stream",
     "text": [
      "<java class 'kotlinx.serialization.json.JsonObject'>\n"
     ]
    }
   ],
   "source": [
    "print(type(cl))"
   ]
  },
  {
   "cell_type": "code",
   "execution_count": null,
   "id": "9a606fe4",
   "metadata": {},
   "outputs": [],
   "source": []
  }
 ],
 "metadata": {
  "kernelspec": {
   "display_name": "Python 3.8.10 64-bit",
   "language": "python",
   "name": "python3"
  },
  "language_info": {
   "codemirror_mode": {
    "name": "ipython",
    "version": 3
   },
   "file_extension": ".py",
   "mimetype": "text/x-python",
   "name": "python",
   "nbconvert_exporter": "python",
   "pygments_lexer": "ipython3",
   "version": "3.8.10"
  },
  "vscode": {
   "interpreter": {
    "hash": "1ee38ef4a5a9feb55287fd749643f13d043cb0a7addaab2a9c224cbe137c0062"
   }
  }
 },
 "nbformat": 4,
 "nbformat_minor": 5
}
