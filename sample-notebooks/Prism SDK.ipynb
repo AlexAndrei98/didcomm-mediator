{
 "cells": [
  {
   "cell_type": "code",
   "execution_count": 134,
   "id": "37a8242e",
   "metadata": {},
   "outputs": [],
   "source": [
    "import sys\n",
    "import os\n",
    "import time\n",
    "import jpype\n",
    "import jpype.imports\n",
    "import json"
   ]
  },
  {
   "cell_type": "code",
   "execution_count": 112,
   "id": "1d9fe38c",
   "metadata": {},
   "outputs": [],
   "source": [
    "try:\n",
    "    sdk_gradle_home = os.environ[\"ATALA_PRISM_JARS\"]\n",
    "except KeyError:\n",
    "    print(\"ERROR: `ATALA_PRISM_JARS` variable is not set.\")\n",
    "    print(\"Please, set it to the directory with Atala PRISM SDK dependencies JARs.\")\n",
    "    sys.exit(1)"
   ]
  },
  {
   "cell_type": "code",
   "execution_count": 113,
   "id": "69e7971a",
   "metadata": {},
   "outputs": [
    {
     "ename": "OSError",
     "evalue": "JVM is already started",
     "output_type": "error",
     "traceback": [
      "\u001b[0;31m---------------------------------------------------------------------------\u001b[0m",
      "\u001b[0;31mOSError\u001b[0m                                   Traceback (most recent call last)",
      "Input \u001b[0;32mIn [113]\u001b[0m, in \u001b[0;36m<cell line: 6>\u001b[0;34m()\u001b[0m\n\u001b[1;32m      4\u001b[0m     \u001b[38;5;28mprint\u001b[39m(err\u001b[38;5;241m.\u001b[39mmsg)\n\u001b[1;32m      5\u001b[0m     sys\u001b[38;5;241m.\u001b[39mexit(ERROR)\n\u001b[0;32m----> 6\u001b[0m \u001b[43mjpype\u001b[49m\u001b[38;5;241;43m.\u001b[39;49m\u001b[43mstartJVM\u001b[49m\u001b[43m(\u001b[49m\n\u001b[1;32m      7\u001b[0m \u001b[43m    \u001b[49m\u001b[43mclasspath\u001b[49m\u001b[38;5;241;43m=\u001b[39;49m\u001b[43m[\u001b[49m\n\u001b[1;32m      8\u001b[0m \u001b[43m        \u001b[49m\u001b[43mos\u001b[49m\u001b[38;5;241;43m.\u001b[39;49m\u001b[43mpath\u001b[49m\u001b[38;5;241;43m.\u001b[39;49m\u001b[43mjoin\u001b[49m\u001b[43m(\u001b[49m\u001b[43msdk_gradle_home\u001b[49m\u001b[43m,\u001b[49m\u001b[43m \u001b[49m\u001b[43mf\u001b[49m\u001b[43m)\u001b[49m\u001b[43m \u001b[49m\u001b[38;5;28;43;01mfor\u001b[39;49;00m\u001b[43m \u001b[49m\u001b[43mf\u001b[49m\u001b[43m \u001b[49m\u001b[38;5;129;43;01min\u001b[39;49;00m\u001b[43m \u001b[49m\u001b[43mos\u001b[49m\u001b[38;5;241;43m.\u001b[39;49m\u001b[43mlistdir\u001b[49m\u001b[43m(\u001b[49m\u001b[43msdk_gradle_home\u001b[49m\u001b[43m)\u001b[49m\n\u001b[1;32m      9\u001b[0m \u001b[43m            \u001b[49m\u001b[38;5;28;43;01mif\u001b[39;49;00m\u001b[43m \u001b[49m\u001b[43mf\u001b[49m\u001b[38;5;241;43m.\u001b[39;49m\u001b[43mendswith\u001b[49m\u001b[43m(\u001b[49m\u001b[38;5;124;43m'\u001b[39;49m\u001b[38;5;124;43m.jar\u001b[39;49m\u001b[38;5;124;43m'\u001b[39;49m\u001b[43m)\u001b[49m\n\u001b[1;32m     10\u001b[0m \u001b[43m    \u001b[49m\u001b[43m]\u001b[49m\n\u001b[1;32m     11\u001b[0m \u001b[43m)\u001b[49m\n",
      "File \u001b[0;32m/opt/homebrew/lib/python3.9/site-packages/jpype/_core.py:174\u001b[0m, in \u001b[0;36mstartJVM\u001b[0;34m(*args, **kwargs)\u001b[0m\n\u001b[1;32m    135\u001b[0m \u001b[38;5;124;03m\"\"\"\u001b[39;00m\n\u001b[1;32m    136\u001b[0m \u001b[38;5;124;03mStarts a Java Virtual Machine.  Without options it will start\u001b[39;00m\n\u001b[1;32m    137\u001b[0m \u001b[38;5;124;03mthe JVM with the default classpath and jvmpath.\u001b[39;00m\n\u001b[0;32m   (...)\u001b[0m\n\u001b[1;32m    171\u001b[0m \n\u001b[1;32m    172\u001b[0m \u001b[38;5;124;03m \"\"\"\u001b[39;00m\n\u001b[1;32m    173\u001b[0m \u001b[38;5;28;01mif\u001b[39;00m _jpype\u001b[38;5;241m.\u001b[39misStarted():\n\u001b[0;32m--> 174\u001b[0m     \u001b[38;5;28;01mraise\u001b[39;00m \u001b[38;5;167;01mOSError\u001b[39;00m(\u001b[38;5;124m'\u001b[39m\u001b[38;5;124mJVM is already started\u001b[39m\u001b[38;5;124m'\u001b[39m)\n\u001b[1;32m    175\u001b[0m \u001b[38;5;28;01mglobal\u001b[39;00m _JVM_started\n\u001b[1;32m    176\u001b[0m \u001b[38;5;28;01mif\u001b[39;00m _JVM_started:\n",
      "\u001b[0;31mOSError\u001b[0m: JVM is already started"
     ]
    }
   ],
   "source": [
    "try:\n",
    "    jpype.imports.registerDomain('sdk', alias='io')\n",
    "except ImportError as err:\n",
    "    print(err.msg)\n",
    "    sys.exit(ERROR)\n",
    "jpype.startJVM(\n",
    "    classpath=[\n",
    "        os.path.join(sdk_gradle_home, f) for f in os.listdir(sdk_gradle_home)\n",
    "            if f.endswith('.jar')\n",
    "    ]\n",
    ")"
   ]
  },
  {
   "cell_type": "code",
   "execution_count": 114,
   "id": "6809e1c6",
   "metadata": {},
   "outputs": [],
   "source": [
    "from sdk.iohk.atala.prism.protos import *\n",
    "from sdk.iohk.atala.prism.api.node import *\n",
    "from sdk.iohk.atala.prism.api.models import *\n",
    "from sdk.iohk.atala.prism.api import *\n",
    "from sdk.iohk.atala.prism.crypto.derivation import *\n",
    "from sdk.iohk.atala.prism.crypto.keys import *\n",
    "from sdk.iohk.atala.prism.identity import *\n",
    "from kotlinx.serialization.json import *\n",
    "from kotlinx.serialization import DeserializationStrategy\n",
    "\n",
    "KeyGenerator = KeyGenerator.INSTANCE\n",
    "KeyDerivation = KeyDerivation.INSTANCE\n",
    "MasterKeyUsage = MasterKeyUsage.INSTANCE\n",
    "IssuingKeyUsage = IssuingKeyUsage.INSTANCE\n",
    "RevocationKeyUsage = RevocationKeyUsage.INSTANCE\n",
    "AuthenticationKeyUsage = AuthenticationKeyUsage.INSTANCE\n",
    "AtalaOperationStatus = AtalaOperationStatus.INSTANCE\n",
    "PrismDID = PrismDid"
   ]
  },
  {
   "cell_type": "code",
   "execution_count": 115,
   "id": "718cc300",
   "metadata": {},
   "outputs": [],
   "source": [
    "def wait_until_confirmed(node_api: NodePublicApi, operation_id: AtalaOperationId):\n",
    "    \"\"\"Waits until operation is confirmed by Cardano network\n",
    "    \n",
    "    Confirmation doesn't necessarily mean that operation was applied.\n",
    "    For example, it could be rejected because of an incorrect signature or other reasons.\n",
    "\n",
    "    :param node_api: Atala PRISM Node API object\n",
    "    :type node_api: NodePublicApi\n",
    "    :param operation_id: Atala PRISM operation ID\n",
    "    :type operation_id: AtalaOperationId\n",
    "    \"\"\"\n",
    "    operation_status = int(node_api.getOperationInfo(operation_id).join().getStatus())\n",
    "    while operation_status != AtalaOperationStatus.getCONFIRMED_AND_APPLIED() \\\n",
    "        and operation_status != AtalaOperationStatus.getCONFIRMED_AND_REJECTED():\n",
    "        print(f\"Current operation status: {AtalaOperationStatus.asString(operation_status)}\")\n",
    "        time.sleep(1)\n",
    "        operation_status = int(node_api.getOperationInfo(operation_id).join().getStatus())\n",
    "\n",
    "def prepare_keys_from_mnemonic(mnemonic: MnemonicCode, password: str):\n",
    "    \"\"\"Creates a map of potentially useful keys out of a mnemonic code\n",
    "\n",
    "    :param mnemonic: Mnemonic to generate keys from\n",
    "    :type mnemonic: MnemonicCode\n",
    "    :param password: Password for seed generation\n",
    "    :type password: str\n",
    "    :return: Map of keys\n",
    "    :rtype: dict<String, ECKeyPair>\n",
    "    \"\"\"\n",
    "    did_key_map = {}\n",
    "    seed = KeyDerivation.binarySeed(mnemonic, password)\n",
    "    did_key_map[PrismDid.getDEFAULT_MASTER_KEY_ID()] = KeyGenerator.deriveKeyFromFullPath(seed, 0, MasterKeyUsage, 0)\n",
    "    did_key_map[PrismDid.getDEFAULT_ISSUING_KEY_ID()] = KeyGenerator.deriveKeyFromFullPath(seed, 0, IssuingKeyUsage, 0)\n",
    "    did_key_map[PrismDid.getDEFAULT_REVOCATION_KEY_ID()] = KeyGenerator.deriveKeyFromFullPath(seed, 0, RevocationKeyUsage, 0)\n",
    "    return did_key_map\n",
    "\n",
    "def prepare_keys_from_seed(seed: bytes):\n",
    "    \"\"\"Creates a map of potentially useful keys out of a mnemonic code\n",
    "\n",
    "    :param mnemonic: Mnemonic to generate keys from\n",
    "    :type mnemonic: MnemonicCode\n",
    "    :param password: Password for seed generation\n",
    "    :type password: str\n",
    "    :return: Map of keys\n",
    "    :rtype: dict<String, ECKeyPair>\n",
    "    \"\"\"\n",
    "    did_key_map = {}\n",
    "    did_key_map[PrismDid.getDEFAULT_MASTER_KEY_ID()] = KeyGenerator.deriveKeyFromFullPath(seed, 0, MasterKeyUsage, 0)\n",
    "    did_key_map[PrismDid.getDEFAULT_ISSUING_KEY_ID()] = KeyGenerator.deriveKeyFromFullPath(seed, 0, IssuingKeyUsage, 0)\n",
    "    did_key_map[PrismDid.getDEFAULT_REVOCATION_KEY_ID()] = KeyGenerator.deriveKeyFromFullPath(seed, 0, RevocationKeyUsage, 0)\n",
    "    return did_key_map"
   ]
  },
  {
   "cell_type": "code",
   "execution_count": 116,
   "id": "6f65944c",
   "metadata": {},
   "outputs": [],
   "source": [
    "environment = \"ppp-node-test.atalaprism.io\"\n",
    "node_auth_api = NodeAuthApiAsyncImpl(GrpcOptions(\"http\", environment, 50053))"
   ]
  },
  {
   "cell_type": "markdown",
   "id": "08f9cfdd",
   "metadata": {},
   "source": [
    "## Generating a DID"
   ]
  },
  {
   "cell_type": "code",
   "execution_count": 124,
   "id": "e7bd682b",
   "metadata": {},
   "outputs": [
    {
     "name": "stdout",
     "output_type": "stream",
     "text": [
      "master0\n",
      "Issuer: Generates and registers a DID\n",
      "did:prism:c57dd70074a1cac4741e63209248288e1fb9ffcd8887bf731e0ae76c42b078b0\n",
      "did:prism:c57dd70074a1cac4741e63209248288e1fb9ffcd8887bf731e0ae76c42b078b0:Cj8KPRI7CgdtYXN0ZXIwEAFKLgoJc2VjcDI1NmsxEiEC6EdauexQCeIX0NE1MzW2az3ptoODGoUfoQNpVtxcs1Y\n",
      "master0\n",
      "io.iohk.atala.prism.crypto.keys.ECPrivateKey@2474df51\n"
     ]
    },
    {
     "name": "stderr",
     "output_type": "stream",
     "text": [
      "[main] INFO org.bitcoinj.crypto.MnemonicCode - PBKDF2 took 21.74 ms\n"
     ]
    },
    {
     "name": "stdout",
     "output_type": "stream",
     "text": [
      "\n",
      "- Issuer sent a request to create a new DID to PRISM Node.\n",
      "- The transaction can take up to 10 minutes to be confirmed by the Cardano network.\n",
      "- Operation identifier: a7050848f3cbe971a4cbc626c514bf376da9ef3e2a3d0fad473ff1db6619cd7f\n",
      "\n",
      "Current operation status: PENDING_SUBMISSION\n",
      "Current operation status: PENDING_SUBMISSION\n",
      "Current operation status: PENDING_SUBMISSION\n",
      "Current operation status: PENDING_SUBMISSION\n",
      "Current operation status: PENDING_SUBMISSION\n",
      "Current operation status: PENDING_SUBMISSION\n",
      "Current operation status: PENDING_SUBMISSION\n",
      "Current operation status: PENDING_SUBMISSION\n",
      "- DID with id did:prism:c57dd70074a1cac4741e63209248288e1fb9ffcd8887bf731e0ae76c42b078b0 is created\n"
     ]
    }
   ],
   "source": [
    "print(PrismDid.getDEFAULT_MASTER_KEY_ID())\n",
    "print(\"Issuer: Generates and registers a DID\")\n",
    "issuer_keys = prepare_keys_from_mnemonic(KeyDerivation.randomMnemonicCode(), \"passphrase\")\n",
    "issuer_unpublished_did = PrismDid.buildLongFormFromMasterPublicKey(\n",
    "    issuer_keys[PrismDid.getDEFAULT_MASTER_KEY_ID()].getPublicKey()\n",
    ")\n",
    "issuer_did = issuer_unpublished_did.asCanonical()\n",
    "print(issuer_did.toString())\n",
    "node_payload_generator = NodePayloadGenerator(\n",
    "    issuer_unpublished_did,\n",
    "    {\n",
    "        PrismDid.getDEFAULT_MASTER_KEY_ID(): issuer_keys[PrismDid.getDEFAULT_MASTER_KEY_ID()].getPrivateKey(),\n",
    "        PrismDid.getDEFAULT_ISSUING_KEY_ID(): issuer_keys[PrismDid.getDEFAULT_ISSUING_KEY_ID()].getPrivateKey()\n",
    "    },\n",
    "    \n",
    ")\n",
    "stored_object = {\n",
    "    \"did\": issuer_unpublished_did.toString(),\n",
    "    PrismDid.getDEFAULT_MASTER_KEY_ID(): str(issuer_keys[PrismDid.getDEFAULT_MASTER_KEY_ID()].getPrivateKey().getHexEncoded()),\n",
    "    PrismDid.getDEFAULT_ISSUING_KEY_ID(): str(issuer_keys[PrismDid.getDEFAULT_ISSUING_KEY_ID()].getPrivateKey().getHexEncoded())\n",
    "}\n",
    "\n",
    "print(issuer_unpublished_did)\n",
    "print(PrismDid.getDEFAULT_MASTER_KEY_ID())\n",
    "print(issuer_keys[PrismDid.getDEFAULT_MASTER_KEY_ID()].getPrivateKey())\n",
    "issuer_create_did_info = node_payload_generator.createDid(PrismDid.getDEFAULT_MASTER_KEY_ID())\n",
    "issuer_create_did_operation_id = node_auth_api.createDid(\n",
    "    issuer_create_did_info.getPayload(),\n",
    "    issuer_unpublished_did,\n",
    "    PrismDid.getDEFAULT_MASTER_KEY_ID()\n",
    ").join()\n",
    "\n",
    "print(f\"\"\"\n",
    "- Issuer sent a request to create a new DID to PRISM Node.\n",
    "- The transaction can take up to 10 minutes to be confirmed by the Cardano network.\n",
    "- Operation identifier: {issuer_create_did_operation_id.hexValue()}\n",
    "\"\"\")\n",
    "create_did_operation_result = wait_until_confirmed(node_auth_api, issuer_create_did_operation_id)\n",
    "\n",
    "print(f\"- DID with id {issuer_did} is created\")"
   ]
  },
  {
   "cell_type": "code",
   "execution_count": 118,
   "id": "7f5ce58d",
   "metadata": {},
   "outputs": [
    {
     "name": "stdout",
     "output_type": "stream",
     "text": [
      "8acfa50c7df2a4077837fda719427df724c5c2c87a2e16fb16ba66f12eb6b027\n",
      "<java class 'io.iohk.atala.prism.crypto.keys.ECPrivateKey'>\n"
     ]
    },
    {
     "ename": "TypeError",
     "evalue": "No matching overloads found for constructor io.iohk.atala.prism.crypto.keys.ECPrivateKey(int), options are:\n\tpublic io.iohk.atala.prism.crypto.keys.ECPrivateKey(java.security.PrivateKey)\n\n",
     "output_type": "error",
     "traceback": [
      "\u001b[0;31m---------------------------------------------------------------------------\u001b[0m",
      "\u001b[0;31mTypeError\u001b[0m                                 Traceback (most recent call last)",
      "Input \u001b[0;32mIn [118]\u001b[0m, in \u001b[0;36m<cell line: 4>\u001b[0;34m()\u001b[0m\n\u001b[1;32m      2\u001b[0m \u001b[38;5;28mprint\u001b[39m(\u001b[38;5;28mtype\u001b[39m(issuer_keys[PrismDid\u001b[38;5;241m.\u001b[39mgetDEFAULT_MASTER_KEY_ID()]\u001b[38;5;241m.\u001b[39mgetPrivateKey()))\n\u001b[1;32m      3\u001b[0m bint \u001b[38;5;241m=\u001b[39m \u001b[38;5;28mint\u001b[39m(\u001b[38;5;28mstr\u001b[39m(issuer_keys[PrismDid\u001b[38;5;241m.\u001b[39mgetDEFAULT_MASTER_KEY_ID()]\u001b[38;5;241m.\u001b[39mgetPrivateKey()\u001b[38;5;241m.\u001b[39mgetHexEncoded()),\u001b[38;5;241m16\u001b[39m)\n\u001b[0;32m----> 4\u001b[0m kkee \u001b[38;5;241m=\u001b[39m \u001b[43mECPrivateKey\u001b[49m\u001b[43m(\u001b[49m\u001b[43mbint\u001b[49m\u001b[43m)\u001b[49m\n",
      "\u001b[0;31mTypeError\u001b[0m: No matching overloads found for constructor io.iohk.atala.prism.crypto.keys.ECPrivateKey(int), options are:\n\tpublic io.iohk.atala.prism.crypto.keys.ECPrivateKey(java.security.PrivateKey)\n\n"
     ]
    }
   ],
   "source": [
    "print(issuer_keys[PrismDid.getDEFAULT_MASTER_KEY_ID()].getPrivateKey().getHexEncoded())\n",
    "print(type(issuer_keys[PrismDid.getDEFAULT_MASTER_KEY_ID()].getPrivateKey()))\n",
    "bint = int(str(issuer_keys[PrismDid.getDEFAULT_MASTER_KEY_ID()].getPrivateKey().getHexEncoded()),16)\n",
    "kkee = ECPrivateKey(bint)"
   ]
  },
  {
   "cell_type": "code",
   "execution_count": 66,
   "id": "278c8ace",
   "metadata": {},
   "outputs": [
    {
     "name": "stdout",
     "output_type": "stream",
     "text": [
      "{'master0': <java object 'io.iohk.atala.prism.crypto.keys.ECKeyPair'>, 'issuing0': <java object 'io.iohk.atala.prism.crypto.keys.ECKeyPair'>, 'revocation0': <java object 'io.iohk.atala.prism.crypto.keys.ECKeyPair'>}\n",
      "<class 'dict'>\n"
     ]
    }
   ],
   "source": [
    "print(issuer_keys)\n",
    "print(type(issuer_keys))"
   ]
  },
  {
   "cell_type": "code",
   "execution_count": 125,
   "id": "45bfa18b",
   "metadata": {},
   "outputs": [],
   "source": [
    "# Issuer generates a credential to Holder identified by its unpublished DID\n",
    "holder_did = PrismDid.fromString(\"did:prism:478c2a9e906b812531b606624ebd9e5a263ea62be5cdef78d69165976b736bad\")\n",
    "credential_claim = CredentialClaim(\n",
    "    holder_did,\n",
    "    JsonObject(\n",
    "        {\n",
    "            \"name\": JsonLiteral(\"Jose Lopez Portillo\", True),\n",
    "            \"certificate\": JsonLiteral(\"Certificate of PRISM SDK Python tutorial completion\", True)\n",
    "        }\n",
    "    )\n",
    ")\n",
    "# node_payload_generator = NodePayloadGenerator(\n",
    "#     issuer_unpublished_did,\n",
    "#     {\n",
    "#         PrismDid.getDEFAULT_MASTER_KEY_ID(): stored_object[PrismDid.getDEFAULT_MASTER_KEY_ID()],\n",
    "#         PrismDid.getDEFAULT_ISSUING_KEY_ID(): stored_object[PrismDid.getDEFAULT_ISSUING_KEY_ID()],\n",
    "#     },\n",
    "    \n",
    "# )\n",
    "\n",
    "\n",
    "issue_credential_info = node_payload_generator.issueCredentials(\n",
    "    PrismDid.getDEFAULT_ISSUING_KEY_ID(),\n",
    "    [credential_claim]\n",
    ")"
   ]
  },
  {
   "cell_type": "code",
   "execution_count": 127,
   "id": "1976c119",
   "metadata": {},
   "outputs": [
    {
     "name": "stdout",
     "output_type": "stream",
     "text": [
      "Current operation status: PENDING_SUBMISSION\n"
     ]
    }
   ],
   "source": [
    "#issuer_did2 = PrismDid.fromString(stored_object[\"did\"])\n",
    "issue_credential_batch_operation_id = node_auth_api.issueCredentials(\n",
    "    issue_credential_info.getPayload(),\n",
    "    issuer_unpublished_did.asCanonical(),\n",
    "    PrismDid.getDEFAULT_ISSUING_KEY_ID(),\n",
    "    issue_credential_info.getMerkleRoot()\n",
    ").join()\n",
    "\n",
    "issue_credential_batch_operation_result = \\\n",
    "    wait_until_confirmed(node_auth_api, issue_credential_batch_operation_id)"
   ]
  },
  {
   "cell_type": "code",
   "execution_count": 130,
   "id": "b6502179",
   "metadata": {},
   "outputs": [
    {
     "name": "stdout",
     "output_type": "stream",
     "text": [
      "\n",
      "Issuer [did:prism:c57dd70074a1cac4741e63209248288e1fb9ffcd8887bf731e0ae76c42b078b0] issued new credentials for the holder [did:prism:478c2a9e906b812531b606624ebd9e5a263ea62be5cdef78d69165976b736bad].\n",
      "- issueCredentialBatch operation identifier: 4835ca1123ce314e8b1f38d7c991feecc5ed358b901fd5bf8e58799541f34b83\n",
      "- Credential content: CredentialContent(fields={\"id\":\"did:prism:c57dd70074a1cac4741e63209248288e1fb9ffcd8887bf731e0ae76c42b078b0\",\"keyId\":\"issuing0\",\"credentialSubject\":{\"name\":\"Jose Lopez Portillo\",\"certificate\":\"Certificate of PRISM SDK Python tutorial completion\",\"id\":\"did:prism:478c2a9e906b812531b606624ebd9e5a263ea62be5cdef78d69165976b736bad\"}})\n",
      "- Signed credential: eyJpZCI6ImRpZDpwcmlzbTpjNTdkZDcwMDc0YTFjYWM0NzQxZTYzMjA5MjQ4Mjg4ZTFmYjlmZmNkODg4N2JmNzMxZTBhZTc2YzQyYjA3OGIwIiwia2V5SWQiOiJpc3N1aW5nMCIsImNyZWRlbnRpYWxTdWJqZWN0Ijp7Im5hbWUiOiJKb3NlIExvcGV6IFBvcnRpbGxvIiwiY2VydGlmaWNhdGUiOiJDZXJ0aWZpY2F0ZSBvZiBQUklTTSBTREsgUHl0aG9uIHR1dG9yaWFsIGNvbXBsZXRpb24iLCJpZCI6ImRpZDpwcmlzbTo0NzhjMmE5ZTkwNmI4MTI1MzFiNjA2NjI0ZWJkOWU1YTI2M2VhNjJiZTVjZGVmNzhkNjkxNjU5NzZiNzM2YmFkIn19.MEUCIQDPZYY2kiyVeXj8tLhhuXP9lF3Icvuurm54CW8eUmGHkwIgAXF-d7qPqSBQMl6xYu-ewrHn0KASQkPKLHAqRTURg8U\n",
      "- Inclusion proof (encoded): {\"hash\":\"e8acf90d9e4a5f379556c7df5935af6ef67fa72f6597995765c4948a16f4ce5c\",\"index\":0,\"siblings\":[]}\n",
      "- Batch id: CredentialBatchId(id=67f0609570266a51305a731c4198ff07f89e7e1d13b0711952cf0d45e42d274f)\n"
     ]
    }
   ],
   "source": [
    "holder_signed_credential = issue_credential_info.getCredentialsAndProofs()[0].getSignedCredential()\n",
    "holder_credential_merkle_proof = issue_credential_info.getCredentialsAndProofs()[0].getInclusionProof()\n",
    "\n",
    "print(f\"\"\"\n",
    "Issuer [{issuer_did}] issued new credentials for the holder [{holder_did.asCanonical()}].\n",
    "- issueCredentialBatch operation identifier: {issue_credential_batch_operation_id.hexValue()}\n",
    "- Credential content: {holder_signed_credential.getContent()}\n",
    "- Signed credential: {holder_signed_credential.getCanonicalForm()}\n",
    "- Inclusion proof (encoded): {holder_credential_merkle_proof.encode()}\n",
    "- Batch id: {issue_credential_info.getBatchId()}\"\"\"\n",
    ")"
   ]
  },
  {
   "cell_type": "code",
   "execution_count": 158,
   "id": "a558b84b",
   "metadata": {},
   "outputs": [
    {
     "name": "stdout",
     "output_type": "stream",
     "text": [
      "67f0609570266a51305a731c4198ff07f89e7e1d13b0711952cf0d45e42d274f\n"
     ]
    }
   ],
   "source": [
    "print(str(issue_credential_info.getBatchId().getId()))"
   ]
  },
  {
   "cell_type": "code",
   "execution_count": 29,
   "id": "3825412b",
   "metadata": {},
   "outputs": [
    {
     "ename": "AssertionError",
     "evalue": "VerificationErrors should be empty",
     "output_type": "error",
     "traceback": [
      "\u001b[0;31m---------------------------------------------------------------------------\u001b[0m",
      "\u001b[0;31mAssertionError\u001b[0m                            Traceback (most recent call last)",
      "Input \u001b[0;32mIn [29]\u001b[0m, in \u001b[0;36m<cell line: 8>\u001b[0;34m()\u001b[0m\n\u001b[1;32m      2\u001b[0m credential_verification_result \u001b[38;5;241m=\u001b[39m node_auth_api\u001b[38;5;241m.\u001b[39mverify(\n\u001b[1;32m      3\u001b[0m     holder_signed_credential,\n\u001b[1;32m      4\u001b[0m     holder_credential_merkle_proof\n\u001b[1;32m      5\u001b[0m )\u001b[38;5;241m.\u001b[39mjoin()\n\u001b[1;32m      7\u001b[0m verification_errors \u001b[38;5;241m=\u001b[39m credential_verification_result\u001b[38;5;241m.\u001b[39mgetVerificationErrors()\n\u001b[0;32m----> 8\u001b[0m \u001b[38;5;28;01massert\u001b[39;00m \u001b[38;5;28mlist\u001b[39m(verification_errors) \u001b[38;5;241m==\u001b[39m [], \u001b[38;5;124m\"\u001b[39m\u001b[38;5;124mVerificationErrors should be empty\u001b[39m\u001b[38;5;124m\"\u001b[39m\n",
      "\u001b[0;31mAssertionError\u001b[0m: VerificationErrors should be empty"
     ]
    }
   ],
   "source": [
    "# Verifier, who owns credentialClam, can easily verify the validity of the credentials\n",
    "credential_verification_result = node_auth_api.verify(\n",
    "    holder_signed_credential,\n",
    "    holder_credential_merkle_proof\n",
    ").join()\n",
    "\n",
    "verification_errors = credential_verification_result.getVerificationErrors()\n",
    "assert list(verification_errors) == [], \"VerificationErrors should be empty\""
   ]
  },
  {
   "cell_type": "code",
   "execution_count": null,
   "id": "8d79a8ff",
   "metadata": {},
   "outputs": [],
   "source": []
  },
  {
   "cell_type": "code",
   "execution_count": 83,
   "id": "f0534e9e",
   "metadata": {},
   "outputs": [
    {
     "name": "stderr",
     "output_type": "stream",
     "text": [
      "[main] INFO org.bitcoinj.crypto.MnemonicCode - PBKDF2 took 21.20 ms\n"
     ]
    }
   ],
   "source": [
    "mnemonic = KeyDerivation.randomMnemonicCode()\n",
    "phrase = \"password\"\n",
    "seed = bytes(KeyDerivation.binarySeed(mnemonic, phrase))"
   ]
  },
  {
   "cell_type": "code",
   "execution_count": 84,
   "id": "ba8812cc",
   "metadata": {},
   "outputs": [
    {
     "name": "stdout",
     "output_type": "stream",
     "text": [
      "<class 'bytes'>\n"
     ]
    }
   ],
   "source": [
    "print(type(seed))"
   ]
  },
  {
   "cell_type": "code",
   "execution_count": 85,
   "id": "5e491cd9",
   "metadata": {},
   "outputs": [
    {
     "name": "stderr",
     "output_type": "stream",
     "text": [
      "[main] INFO org.bitcoinj.crypto.MnemonicCode - PBKDF2 took 22.36 ms\n"
     ]
    }
   ],
   "source": [
    "keys1 = prepare_keys_from_mnemonic(mnemonic, phrase)"
   ]
  },
  {
   "cell_type": "code",
   "execution_count": 86,
   "id": "37e23da4",
   "metadata": {},
   "outputs": [],
   "source": [
    "keys2 = prepare_keys_from_seed(seed)"
   ]
  },
  {
   "cell_type": "code",
   "execution_count": 87,
   "id": "d0edc476",
   "metadata": {},
   "outputs": [
    {
     "name": "stdout",
     "output_type": "stream",
     "text": [
      "2447d8ab16457177306821ac64a7c49eb2a1b2f3d472b97dd42bcc3d7fd8481f\n"
     ]
    }
   ],
   "source": [
    "print(keys1[PrismDid.getDEFAULT_MASTER_KEY_ID()].getPrivateKey().getHexEncoded())"
   ]
  },
  {
   "cell_type": "code",
   "execution_count": 88,
   "id": "6f400321",
   "metadata": {},
   "outputs": [
    {
     "name": "stdout",
     "output_type": "stream",
     "text": [
      "2447d8ab16457177306821ac64a7c49eb2a1b2f3d472b97dd42bcc3d7fd8481f\n"
     ]
    }
   ],
   "source": [
    "print(keys2[PrismDid.getDEFAULT_MASTER_KEY_ID()].getPrivateKey().getHexEncoded())"
   ]
  },
  {
   "cell_type": "code",
   "execution_count": 107,
   "id": "76e47ab4",
   "metadata": {},
   "outputs": [],
   "source": [
    "cl = JsonObject(\n",
    "        {\n",
    "            \"name\": JsonLiteral(\"Jose Lopez Portillo\", True),\n",
    "            \"certificate\": JsonLiteral(\"Certificate of PRISM SDK Python tutorial completion\", True)\n",
    "        }\n",
    "    )\n",
    "jsonString = '{\"firstName\":\"Tom\", \"lastName\": \"Broody\"}'"
   ]
  },
  {
   "cell_type": "code",
   "execution_count": 108,
   "id": "32734ce2",
   "metadata": {},
   "outputs": [
    {
     "name": "stdout",
     "output_type": "stream",
     "text": [
      "<java class 'kotlinx.serialization.json.JsonObject'>\n"
     ]
    }
   ],
   "source": [
    "print(type(cl))"
   ]
  },
  {
   "cell_type": "code",
   "execution_count": 42,
   "id": "b544cf66",
   "metadata": {},
   "outputs": [
    {
     "ename": "TypeError",
     "evalue": "No matching overloads found for *static* kotlinx.serialization.DeserializationStrategy.deserialize(), options are:\n\tpublic abstract java.lang.Object kotlinx.serialization.DeserializationStrategy.deserialize(kotlinx.serialization.encoding.Decoder)\n\n",
     "output_type": "error",
     "traceback": [
      "\u001b[0;31m---------------------------------------------------------------------------\u001b[0m",
      "\u001b[0;31mTypeError\u001b[0m                                 Traceback (most recent call last)",
      "Input \u001b[0;32mIn [42]\u001b[0m, in \u001b[0;36m<cell line: 1>\u001b[0;34m()\u001b[0m\n\u001b[0;32m----> 1\u001b[0m pp \u001b[38;5;241m=\u001b[39m Json\u001b[38;5;241m.\u001b[39mdecodeFromString(\u001b[43mDeserializationStrategy\u001b[49m\u001b[38;5;241;43m.\u001b[39;49m\u001b[43mdeserialize\u001b[49m\u001b[43m(\u001b[49m\u001b[43m)\u001b[49m,jpype\u001b[38;5;241m.\u001b[39mjava\u001b[38;5;241m.\u001b[39mlang\u001b[38;5;241m.\u001b[39mString(\u001b[38;5;124m'\u001b[39m\u001b[38;5;124m{\u001b[39m\u001b[38;5;124m\"\u001b[39m\u001b[38;5;124mcasa\u001b[39m\u001b[38;5;124m\"\u001b[39m\u001b[38;5;124m: \u001b[39m\u001b[38;5;124m\"\u001b[39m\u001b[38;5;124masdsa\u001b[39m\u001b[38;5;124m\"\u001b[39m\u001b[38;5;124m}\u001b[39m\u001b[38;5;124m'\u001b[39m))\n",
      "\u001b[0;31mTypeError\u001b[0m: No matching overloads found for *static* kotlinx.serialization.DeserializationStrategy.deserialize(), options are:\n\tpublic abstract java.lang.Object kotlinx.serialization.DeserializationStrategy.deserialize(kotlinx.serialization.encoding.Decoder)\n\n"
     ]
    }
   ],
   "source": [
    "pp = Json.decodeFromString(DeserializationStrategy.deserialize(),jpype.java.lang.String('{\"casa\": \"asdsa\"}'))"
   ]
  },
  {
   "cell_type": "code",
   "execution_count": 43,
   "id": "1455909b",
   "metadata": {},
   "outputs": [
    {
     "ename": "AttributeError",
     "evalue": "type object 'kotlinx.serialization.json.Json' has no attribute 'decodeFromDynamic'",
     "output_type": "error",
     "traceback": [
      "\u001b[0;31m---------------------------------------------------------------------------\u001b[0m",
      "\u001b[0;31mAttributeError\u001b[0m                            Traceback (most recent call last)",
      "Input \u001b[0;32mIn [43]\u001b[0m, in \u001b[0;36m<cell line: 1>\u001b[0;34m()\u001b[0m\n\u001b[0;32m----> 1\u001b[0m pp2 \u001b[38;5;241m=\u001b[39m \u001b[43mJson\u001b[49m\u001b[38;5;241;43m.\u001b[39;49m\u001b[43mdecodeFromDynamic\u001b[49m(\u001b[38;5;124m'\u001b[39m\u001b[38;5;124m{\u001b[39m\u001b[38;5;124m\"\u001b[39m\u001b[38;5;124mcasa\u001b[39m\u001b[38;5;124m\"\u001b[39m\u001b[38;5;124m: \u001b[39m\u001b[38;5;124m\"\u001b[39m\u001b[38;5;124masdsa\u001b[39m\u001b[38;5;124m\"\u001b[39m\u001b[38;5;124m}\u001b[39m\u001b[38;5;124m'\u001b[39m)\n",
      "\u001b[0;31mAttributeError\u001b[0m: type object 'kotlinx.serialization.json.Json' has no attribute 'decodeFromDynamic'"
     ]
    }
   ],
   "source": [
    "pp2 = Json.decodeFromDynamic('{\"casa\": \"asdsa\"}')"
   ]
  },
  {
   "cell_type": "code",
   "execution_count": 88,
   "id": "32406256",
   "metadata": {},
   "outputs": [],
   "source": [
    "mijson = {\n",
    "  \"@context\": [\n",
    "    \"https://www.w3.org/2018/credentials/v1\",\n",
    "    \"https://www.w3.org/2018/credentials/examples/v1\"\n",
    "  ],\n",
    "  \"id\": \"http://example.edu/credentials/3732\",\n",
    "  \"type\": [\"VerifiableCredential\", \"UniversityDegreeCredential\"],\n",
    "  \"issuer\": \"https://example.edu/issuers/14\",\n",
    "  \"issuanceDate\": \"2010-01-01T19:23:24Z\",\n",
    "  \"issuanceDate2\": 2,\n",
    "  \"issuanceDate2\": 22.2,\n",
    "  \"credentialSubject\": {\n",
    "    \"id\": \"did:example:ebfeb1f712ebc6f1c276e12ec21\",\n",
    "    \"degree\": {\n",
    "      \"type\": \"BachelorDegree\",\n",
    "      \"name\": \"Bachelor of Science and Arts\",\n",
    "      \"score\": 2  \n",
    "    }\n",
    "  },\n",
    "  \"credentialStatus\": {\n",
    "    \"id\": \"https://example.edu/status/24\",\n",
    "    \"type\": \"CredentialStatusList2017\"\n",
    "  }\n",
    "}"
   ]
  },
  {
   "cell_type": "code",
   "execution_count": 85,
   "id": "02e43e7f",
   "metadata": {},
   "outputs": [
    {
     "name": "stdout",
     "output_type": "stream",
     "text": [
      "context -> <class 'list'>\n",
      "id -> <class 'str'>\n",
      "type -> <class 'list'>\n",
      "issuer -> <class 'str'>\n",
      "issuanceDate -> <class 'str'>\n",
      "issuanceDate2 -> <class 'float'>\n",
      "credentialSubject -> <class 'dict'>\n",
      "credentialStatus -> <class 'dict'>\n"
     ]
    }
   ],
   "source": [
    "for key in mijson:\n",
    "    print(key, '->', type(mijson[key]))"
   ]
  },
  {
   "cell_type": "code",
   "execution_count": 108,
   "id": "b4b5ebe8",
   "metadata": {},
   "outputs": [],
   "source": [
    "def dictToJsonObjt(json: dict):\n",
    "    resp = {}\n",
    "    for key in json:\n",
    "        if isinstance(json[key], str) or isinstance(json[key], int) or isinstance(json[key], float): \n",
    "            resp[key] = JsonLiteral(json[key], True)\n",
    "        elif isinstance(json[key], dict): \n",
    "            resp[key] = dictToJsonObjt(json[key])\n",
    "        elif isinstance(json[key], list): \n",
    "            resp[key] = listToJsonArray(json[key])\n",
    "    return JsonObject(resp)\n",
    "\n",
    "def listToJsonArray(array: list):\n",
    "    resp = jpype.java.util.ArrayList()\n",
    "    for el in array:\n",
    "        if isinstance(el, str) or isinstance(el, int) or isinstance(el, float): resp.add(JsonLiteral(el, True))\n",
    "        elif isinstance(el, dict): \n",
    "            resp.add(dictToJsonObjt(el))\n",
    "        elif isinstance(el, dict): \n",
    "            resp.add(listToJsonArray(el))\n",
    "    return JsonArray(resp)"
   ]
  },
  {
   "cell_type": "code",
   "execution_count": 109,
   "id": "78ca4ec5",
   "metadata": {},
   "outputs": [],
   "source": [
    "f=dictToJsonObjt(mijson)"
   ]
  },
  {
   "cell_type": "code",
   "execution_count": 97,
   "id": "08cb8a01",
   "metadata": {},
   "outputs": [
    {
     "ename": "java.lang.ClassCastException",
     "evalue": "java.lang.ClassCastException: class kotlinx.serialization.json.JsonArrayBuilder cannot be cast to class kotlinx.serialization.json.JsonElement (kotlinx.serialization.json.JsonArrayBuilder and kotlinx.serialization.json.JsonElement are in unnamed module of loader 'app')",
     "output_type": "error",
     "traceback": [
      "\u001b[0;31m---------------------------------------------------------------------------\u001b[0m",
      "\u001b[0;31mException\u001b[0m                                 Traceback (most recent call last)",
      "File \u001b[0;32mJsonElement.kt:120\u001b[0m, in \u001b[0;36mkotlinx.serialization.json.JsonObject.toString\u001b[0;34m()\u001b[0m\n",
      "File \u001b[0;32m_Collections.kt:3363\u001b[0m, in \u001b[0;36mkotlin.collections.CollectionsKt___CollectionsKt.joinToString$default\u001b[0;34m()\u001b[0m\n",
      "File \u001b[0;32m_Collections.kt:3364\u001b[0m, in \u001b[0;36mkotlin.collections.CollectionsKt___CollectionsKt.joinToString\u001b[0;34m()\u001b[0m\n",
      "File \u001b[0;32m_Collections.kt:3347\u001b[0m, in \u001b[0;36mkotlin.collections.CollectionsKt___CollectionsKt.joinTo\u001b[0;34m()\u001b[0m\n",
      "File \u001b[0;32mAppendable.kt:85\u001b[0m, in \u001b[0;36mkotlin.text.StringsKt__AppendableKt.appendElement\u001b[0;34m()\u001b[0m\n",
      "File \u001b[0;32mJsonElement.kt:120\u001b[0m, in \u001b[0;36mkotlinx.serialization.json.JsonObject$toString$1.invoke\u001b[0;34m()\u001b[0m\n",
      "File \u001b[0;32mJsonElement.kt:124\u001b[0m, in \u001b[0;36mkotlinx.serialization.json.JsonObject$toString$1.invoke\u001b[0;34m()\u001b[0m\n",
      "\u001b[0;31mException\u001b[0m: Java Exception",
      "\nThe above exception was the direct cause of the following exception:\n",
      "\u001b[0;31mjava.lang.ClassCastException\u001b[0m              Traceback (most recent call last)",
      "Input \u001b[0;32mIn [97]\u001b[0m, in \u001b[0;36m<cell line: 1>\u001b[0;34m()\u001b[0m\n\u001b[0;32m----> 1\u001b[0m \u001b[38;5;28;43mprint\u001b[39;49m\u001b[43m(\u001b[49m\u001b[43mf\u001b[49m\u001b[43m)\u001b[49m\n",
      "\u001b[0;31mjava.lang.ClassCastException\u001b[0m: java.lang.ClassCastException: class kotlinx.serialization.json.JsonArrayBuilder cannot be cast to class kotlinx.serialization.json.JsonElement (kotlinx.serialization.json.JsonArrayBuilder and kotlinx.serialization.json.JsonElement are in unnamed module of loader 'app')"
     ]
    }
   ],
   "source": [
    "print(f)"
   ]
  },
  {
   "cell_type": "code",
   "execution_count": 105,
   "id": "13d1d4d4",
   "metadata": {},
   "outputs": [
    {
     "ename": "TypeError",
     "evalue": "No matching overloads found for constructor kotlinx.serialization.json.JsonArray(list), options are:\n\tpublic kotlinx.serialization.json.JsonArray(java.util.List)\n\n",
     "output_type": "error",
     "traceback": [
      "\u001b[0;31m---------------------------------------------------------------------------\u001b[0m",
      "\u001b[0;31mTypeError\u001b[0m                                 Traceback (most recent call last)",
      "Input \u001b[0;32mIn [105]\u001b[0m, in \u001b[0;36m<cell line: 1>\u001b[0;34m()\u001b[0m\n\u001b[0;32m----> 1\u001b[0m gg \u001b[38;5;241m=\u001b[39m \u001b[43mJsonArray\u001b[49m\u001b[43m(\u001b[49m\u001b[43m[\u001b[49m\u001b[38;5;124;43m\"\u001b[39;49m\u001b[38;5;124;43masd\u001b[39;49m\u001b[38;5;124;43m\"\u001b[39;49m\u001b[43m]\u001b[49m\u001b[43m)\u001b[49m\n",
      "\u001b[0;31mTypeError\u001b[0m: No matching overloads found for constructor kotlinx.serialization.json.JsonArray(list), options are:\n\tpublic kotlinx.serialization.json.JsonArray(java.util.List)\n\n"
     ]
    }
   ],
   "source": [
    "gg = JsonArray([\"asd\"])"
   ]
  },
  {
   "cell_type": "code",
   "execution_count": 99,
   "id": "01e21dbb",
   "metadata": {},
   "outputs": [
    {
     "data": {
      "text/plain": [
       "True"
      ]
     },
     "execution_count": 99,
     "metadata": {},
     "output_type": "execute_result"
    }
   ],
   "source": [
    "gg.add(JsonLiteral(\"asd\", True))"
   ]
  },
  {
   "cell_type": "code",
   "execution_count": 107,
   "id": "1be015f5",
   "metadata": {},
   "outputs": [
    {
     "ename": "TypeError",
     "evalue": "Cannot create Java interface instances\n",
     "output_type": "error",
     "traceback": [
      "\u001b[0;31m---------------------------------------------------------------------------\u001b[0m",
      "\u001b[0;31mTypeError\u001b[0m                                 Traceback (most recent call last)",
      "Input \u001b[0;32mIn [107]\u001b[0m, in \u001b[0;36m<cell line: 1>\u001b[0;34m()\u001b[0m\n\u001b[0;32m----> 1\u001b[0m pp \u001b[38;5;241m=\u001b[39m \u001b[43mjpype\u001b[49m\u001b[38;5;241;43m.\u001b[39;49m\u001b[43mjava\u001b[49m\u001b[38;5;241;43m.\u001b[39;49m\u001b[43mutil\u001b[49m\u001b[38;5;241;43m.\u001b[39;49m\u001b[43mList\u001b[49m\u001b[43m(\u001b[49m\u001b[38;5;124;43m\"\u001b[39;49m\u001b[38;5;124;43mAsd\u001b[39;49m\u001b[38;5;124;43m\"\u001b[39;49m\u001b[43m)\u001b[49m\n",
      "\u001b[0;31mTypeError\u001b[0m: Cannot create Java interface instances\n"
     ]
    }
   ],
   "source": [
    "pp = jpype.java.util.List"
   ]
  },
  {
   "cell_type": "code",
   "execution_count": 93,
   "id": "0bb06a79",
   "metadata": {},
   "outputs": [],
   "source": [
    "llsd={}"
   ]
  },
  {
   "cell_type": "code",
   "execution_count": 94,
   "id": "f6a5a69b",
   "metadata": {},
   "outputs": [],
   "source": [
    "llsd[\"asdad\"] =4"
   ]
  },
  {
   "cell_type": "code",
   "execution_count": null,
   "id": "9a606fe4",
   "metadata": {},
   "outputs": [],
   "source": []
  }
 ],
 "metadata": {
  "kernelspec": {
   "display_name": "Python 3 (ipykernel)",
   "language": "python",
   "name": "python3"
  },
  "language_info": {
   "codemirror_mode": {
    "name": "ipython",
    "version": 3
   },
   "file_extension": ".py",
   "mimetype": "text/x-python",
   "name": "python",
   "nbconvert_exporter": "python",
   "pygments_lexer": "ipython3",
   "version": "3.9.13"
  }
 },
 "nbformat": 4,
 "nbformat_minor": 5
}
