{
 "cells": [
  {
   "cell_type": "code",
   "execution_count": 43,
   "metadata": {},
   "outputs": [],
   "source": [
    "import json\n",
    "import base64\n",
    "import qrcode\n",
    "import requests\n",
    "import datetime\n",
    "import uuid\n",
    "import matplotlib.pyplot as plt\n",
    "from pymongo import MongoClient\n",
    "from typing import Optional, List\n",
    "from didcomm.common.types import DID, VerificationMethodType, VerificationMaterial, VerificationMaterialFormat\n",
    "from didcomm.did_doc.did_doc import DIDDoc, VerificationMethod, DIDCommService\n",
    "from didcomm.did_doc.did_resolver import DIDResolver\n",
    "from didcomm.message import Message, FromPrior\n",
    "from didcomm.secrets.secrets_resolver_demo import SecretsResolverDemo\n",
    "from didcomm.unpack import unpack, UnpackResult\n",
    "from didcomm.common.resolvers import ResolversConfig\n",
    "from didcomm.pack_encrypted import pack_encrypted, PackEncryptedConfig, PackEncryptedResult\n",
    "from peerdid.core.did_doc_types import DIDCommServicePeerDID\n",
    "from didcomm.secrets.secrets_util import generate_x25519_keys_as_jwk_dict, generate_ed25519_keys_as_jwk_dict, jwk_to_secret\n",
    "from peerdid import peer_did\n",
    "from peerdid.did_doc import DIDDocPeerDID\n",
    "from peerdid.types import VerificationMaterialAuthentication, VerificationMethodTypeAuthentication, VerificationMaterialAgreement, VerificationMethodTypeAgreement, VerificationMaterialFormatPeerDID"
   ]
  },
  {
   "cell_type": "code",
   "execution_count": 44,
   "metadata": {},
   "outputs": [],
   "source": [
    "secrets_resolver = SecretsResolverDemo()"
   ]
  },
  {
   "cell_type": "code",
   "execution_count": 45,
   "metadata": {},
   "outputs": [],
   "source": [
    "class DIDResolverPeerDID(DIDResolver):\n",
    "    async def resolve(self, did: DID) -> DIDDoc:\n",
    "        did_doc_json = peer_did.resolve_peer_did(did, format = VerificationMaterialFormatPeerDID.JWK)\n",
    "        did_doc = DIDDocPeerDID.from_json(did_doc_json)\n",
    "\n",
    "        return DIDDoc(\n",
    "            did=did_doc.did,\n",
    "            key_agreement_kids = did_doc.agreement_kids,\n",
    "            authentication_kids = did_doc.auth_kids,\n",
    "            verification_methods = [\n",
    "                VerificationMethod(\n",
    "                    id = m.id,\n",
    "                    type = VerificationMethodType.JSON_WEB_KEY_2020,\n",
    "                    controller = m.controller,\n",
    "                    verification_material = VerificationMaterial(\n",
    "                        format = VerificationMaterialFormat.JWK,\n",
    "                        value = json.dumps(m.ver_material.value)\n",
    "                    )\n",
    "                )\n",
    "                for m in did_doc.authentication + did_doc.key_agreement\n",
    "            ],\n",
    "            didcomm_services = [\n",
    "                DIDCommService(\n",
    "                    id = s.id,\n",
    "                    service_endpoint = s.service_endpoint,\n",
    "                    routing_keys = s.routing_keys,\n",
    "                    accept = s.accept\n",
    "                )\n",
    "                for s in did_doc.service\n",
    "                if isinstance(s, DIDCommServicePeerDID)\n",
    "            ] if did_doc.service else []\n",
    "        )"
   ]
  },
  {
   "cell_type": "code",
   "execution_count": 46,
   "metadata": {},
   "outputs": [],
   "source": [
    "async def create_peer_did(self,\n",
    "                        auth_keys_count: int = 1,\n",
    "                        agreement_keys_count: int = 1,\n",
    "                        service_endpoint: Optional[str] = None,\n",
    "                        service_routing_keys: Optional[List[str]] = None\n",
    "                        ) -> str:\n",
    "        # 1. generate keys in JWK format\n",
    "        agreem_keys = [generate_x25519_keys_as_jwk_dict() for _ in range(agreement_keys_count)]\n",
    "        auth_keys = [generate_ed25519_keys_as_jwk_dict() for _ in range(auth_keys_count)]\n",
    "\n",
    "        # 2. prepare the keys for peer DID lib\n",
    "        agreem_keys_peer_did = [\n",
    "            VerificationMaterialAgreement(\n",
    "                type=VerificationMethodTypeAgreement.JSON_WEB_KEY_2020,\n",
    "                format=VerificationMaterialFormatPeerDID.JWK,\n",
    "                value=k[1],\n",
    "            )\n",
    "            for k in agreem_keys\n",
    "        ]\n",
    "        auth_keys_peer_did = [\n",
    "            VerificationMaterialAuthentication(\n",
    "                type=VerificationMethodTypeAuthentication.JSON_WEB_KEY_2020,\n",
    "                format=VerificationMaterialFormatPeerDID.JWK,\n",
    "                value=k[1],\n",
    "            )\n",
    "            for k in auth_keys\n",
    "        ]\n",
    "\n",
    "        # 3. generate service\n",
    "        service = None\n",
    "        if service_endpoint:\n",
    "            service = json.dumps(\n",
    "                DIDCommServicePeerDID(\n",
    "                    id=\"new-id\",\n",
    "                    service_endpoint=service_endpoint, routing_keys=service_routing_keys,\n",
    "                    accept=[\"didcomm/v2\"]\n",
    "                ).to_dict()\n",
    "            )\n",
    "\n",
    "        # 4. call peer DID lib\n",
    "        # if we have just one key (auth), then use numalg0 algorithm\n",
    "        # otherwise use numalg2 algorithm\n",
    "        if len(auth_keys_peer_did) == 1 and not agreem_keys_peer_did and not service:\n",
    "            did = peer_did.create_peer_did_numalgo_0(auth_keys_peer_did[0])\n",
    "        else:\n",
    "            did = peer_did.create_peer_did_numalgo_2(\n",
    "                encryption_keys=agreem_keys_peer_did,\n",
    "                signing_keys=auth_keys_peer_did,\n",
    "                service=service,\n",
    "            )\n",
    "\n",
    "        # 5. set KIDs as in DID DOC for secrets and store the secret in the secrets resolver\n",
    "        did_doc = DIDDocPeerDID.from_json(peer_did.resolve_peer_did(did))\n",
    "        for auth_key, kid in zip(auth_keys, did_doc.auth_kids):\n",
    "            private_key = auth_key[0]\n",
    "            private_key[\"kid\"] = kid\n",
    "            print(private_key)\n",
    "            await secrets_resolver.add_key(jwk_to_secret(private_key))\n",
    "\n",
    "        for agreem_key, kid in zip(agreem_keys, did_doc.agreement_kids):\n",
    "            private_key = agreem_key[0]\n",
    "            private_key[\"kid\"] = kid\n",
    "            print(private_key)\n",
    "            await secrets_resolver.add_key(jwk_to_secret(private_key))\n",
    "\n",
    "        return did\n"
   ]
  },
  {
   "cell_type": "markdown",
   "metadata": {},
   "source": [
    "### Alice get OOB from Mediator"
   ]
  },
  {
   "cell_type": "code",
   "execution_count": 47,
   "metadata": {},
   "outputs": [],
   "source": [
    "#oob_url = requests.get(\"http://127.0.0.1:8000/oob_url\").text\n",
    "oob_url = requests.get(\"https://mediator.rootsid.cloud/oob_url\").text"
   ]
  },
  {
   "cell_type": "code",
   "execution_count": 48,
   "metadata": {},
   "outputs": [
    {
     "name": "stdout",
     "output_type": "stream",
     "text": [
      "{'crv': 'Ed25519', 'x': 'EZkunlsllHxzcMdVM7GvZLHDNY1P0j8d4rOuzbxurQU', 'd': '0rwU-FonCifiaP8xIgeDesGFUjNCDmeTB8a83avI4K4', 'kty': 'OKP', 'kid': 'did:peer:2.Ez6LSsGFkiwBjeX1kNXyjYqGZnCJHzuyDt6ngKPafSkoH1a8x.Vz6MkfdxT8fUSMZmSuCMRZ1J9PLHwPLxUiQDvKJBFMF363jMv#6MkfdxT8fUSMZmSuCMRZ1J9PLHwPLxUiQDvKJBFMF363jMv'}\n",
      "{'crv': 'X25519', 'x': '55o9rxI6LyM8PtWot5e7E0B2Rsm42r8Q9ztIXWItEnE', 'd': '-Juc3wAePUdwTCvaAZQfvnYzqQoQ_GF7rLcZo1MQWGM', 'kty': 'OKP', 'kid': 'did:peer:2.Ez6LSsGFkiwBjeX1kNXyjYqGZnCJHzuyDt6ngKPafSkoH1a8x.Vz6MkfdxT8fUSMZmSuCMRZ1J9PLHwPLxUiQDvKJBFMF363jMv#6LSsGFkiwBjeX1kNXyjYqGZnCJHzuyDt6ngKPafSkoH1a8x'}\n",
      "Alice's DID: did:peer:2.Ez6LSsGFkiwBjeX1kNXyjYqGZnCJHzuyDt6ngKPafSkoH1a8x.Vz6MkfdxT8fUSMZmSuCMRZ1J9PLHwPLxUiQDvKJBFMF363jMv\n"
     ]
    }
   ],
   "source": [
    "received_msg_encoded = oob_url.split(\"=\")[1]\n",
    "received_msg_decoded = json.loads(str(base64.urlsafe_b64decode(received_msg_encoded + \"==\"), \"utf-8\"))\n",
    "alice_did_for_mediator = await create_peer_did(1,1)\n",
    "print(\"Alice's DID:\", alice_did_for_mediator)"
   ]
  },
  {
   "cell_type": "markdown",
   "metadata": {},
   "source": [
    "### Alice request mediate"
   ]
  },
  {
   "cell_type": "code",
   "execution_count": 49,
   "metadata": {},
   "outputs": [],
   "source": [
    "alice_mediate_grant = Message(\n",
    "    custom_headers = [{\"return_route\": \"all\"}],\n",
    "    id = str(uuid.uuid4()),\n",
    "    type = \"https://didcomm.org/coordinate-mediation/2.0/mediate-request\",\n",
    "    body = {}\n",
    ")"
   ]
  },
  {
   "cell_type": "code",
   "execution_count": 50,
   "metadata": {},
   "outputs": [],
   "source": [
    "alice_mediate_grant_packed = await pack_encrypted(\n",
    "    resolvers_config = ResolversConfig(\n",
    "        secrets_resolver = secrets_resolver,\n",
    "        did_resolver = DIDResolverPeerDID()\n",
    "    ),\n",
    "    message = alice_mediate_grant,\n",
    "    frm = alice_did_for_mediator,\n",
    "    to = received_msg_decoded[\"from\"],\n",
    "    sign_frm = None,\n",
    "    pack_config = PackEncryptedConfig(protect_sender_id=False)\n",
    ")"
   ]
  },
  {
   "cell_type": "markdown",
   "metadata": {},
   "source": [
    "### Sending to Mediator"
   ]
  },
  {
   "cell_type": "code",
   "execution_count": 51,
   "metadata": {},
   "outputs": [
    {
     "name": "stdout",
     "output_type": "stream",
     "text": [
      "https://mediator.rootsid.cloud\n"
     ]
    }
   ],
   "source": [
    "mediator_did_doc = json.loads(peer_did.resolve_peer_did(received_msg_decoded[\"from\"]))\n",
    "mediator_endpoint = mediator_did_doc[\"service\"][0][\"serviceEndpoint\"]\n",
    "print(mediator_endpoint)"
   ]
  },
  {
   "cell_type": "code",
   "execution_count": 52,
   "metadata": {},
   "outputs": [],
   "source": [
    "headers = {\"Content-Type\": \"application/didcomm-encrypted+json\"}\n",
    "resp = requests.post(mediator_endpoint, headers=headers, data = alice_mediate_grant_packed.packed_msg)\n"
   ]
  },
  {
   "cell_type": "code",
   "execution_count": 53,
   "metadata": {},
   "outputs": [
    {
     "name": "stdout",
     "output_type": "stream",
     "text": [
      "{\"protected\":\"eyJ0eXAiOiJhcHBsaWNhdGlvbi9kaWRjb21tLWVuY3J5cHRlZCtqc29uIiwiYWxnIjoiRUNESC0xUFUrQTI1NktXIiwiZW5jIjoiQTI1NkNCQy1IUzUxMiIsImFwdSI6IlpHbGtPbkJsWlhJNk1pNUZlalpNVTJSdVlXZFZNWE14U2tSWmVESnlSVnBPVFdzMmFqSjJlbkJGV0hCeFVYbzNZMlpMZGxaUWFVdHdUVmRxTGxaNk5rMXJjak5OTm1JNFRVNVFRMGRFYnpKemMyZHFOWFpvY2tjeWRXVllNbU5UZUdKclozRnJkbm95ZWtnNVNGZ3VVMlY1U25CYVEwazJTVzAxYkdSNU1YQmFRMGx6U1c1UmFVOXBTbXRpVTBselNXNU5hVTlwU205a1NGSjNZM3B2ZGt3eU1XeGFSMnhvWkVjNWVVeHVTblppTTFKNllWZFJkVmt5ZUhaa1YxRnBURU5LYUVscWNHSkpiVkp3V2tkT2RtSlhNSFprYWtscFdGZ3dJelpNVTJSdVlXZFZNWE14U2tSWmVESnlSVnBPVFdzMmFqSjJlbkJGV0hCeFVYbzNZMlpMZGxaUWFVdHdUVmRxIiwiYXB2IjoiYm0xS0FOMmo2QkFfNXJ5bkFjcExhUm9lNDdEOUtITVVtUjl1MUgxR0dWOCIsInNraWQiOiJkaWQ6cGVlcjoyLkV6NkxTZG5hZ1UxczFKRFl4MnJFWk5NazZqMnZ6cEVYcHFRejdjZkt2VlBpS3BNV2ouVno2TWtyM002YjhNTlBDR0RvMnNzZ2o1dmhyRzJ1ZVgyY1N4YmtncWt2ejJ6SDlIWC5TZXlKcFpDSTZJbTVsZHkxcFpDSXNJblFpT2lKa2JTSXNJbk1pT2lKb2RIUndjem92TDIxbFpHbGhkRzl5TG5KdmIzUnphV1F1WTJ4dmRXUWlMQ0poSWpwYkltUnBaR052YlcwdmRqSWlYWDAjNkxTZG5hZ1UxczFKRFl4MnJFWk5NazZqMnZ6cEVYcHFRejdjZkt2VlBpS3BNV2oiLCJlcGsiOnsiY3J2IjoiWDI1NTE5IiwieCI6IjFZWFR5eTFVSDBiMjB1WDhFMkhvRklCUDBtWDFaaVg4YWpJUnJUYmRlazgiLCJrdHkiOiJPS1AifX0\",\"recipients\":[{\"header\":{\"kid\":\"did:peer:2.Ez6LSsGFkiwBjeX1kNXyjYqGZnCJHzuyDt6ngKPafSkoH1a8x.Vz6MkfdxT8fUSMZmSuCMRZ1J9PLHwPLxUiQDvKJBFMF363jMv#6LSsGFkiwBjeX1kNXyjYqGZnCJHzuyDt6ngKPafSkoH1a8x\"},\"encrypted_key\":\"SREUcpuq9u0TIiUQSm9zxikFVzvPkzQfO0ylYTRRex3U7wYfwe4Ea-8tiuBG0umwD4u0KJNj50Aw7a7rXUdUnVJ7au1vdDWP\"}],\"iv\":\"4HUXJi-tOZgePFQGqlzqvg\",\"ciphertext\":\"FD07LB6oo9kh2OkO4qN0ZJ2A077Jvp9Qh2B74Hw9Qfx4GAprHgEimo0dhxE_5AMSS6cH4Otj7mGklFuNVYgESxjFanLO2GcYs8PkJYMxhKGSHgbBuxDitAwabHscgrXW1c7rNsMjO5crh15WrrfvvJU-oby2A15xy5hbsPwyJ4gPr3H27KlwuVmd3vhFfaJA4B9Jw_lQIByyHbOFw_IEThtVWk4-vIt9TuNFh0Mfv0HzAhB-WnFaU06mWBj0VylLF8L9qrYApAzZKjRTGt5T9TEDAlQ_lqJ5h3dnXetGwRjHpxM4X3HVI73kJ06jGgG2_jQ_pTSGjvmqtGZXBXlTxs9ZMLEQ7OM8fj7Poi2JAVgUFxBtuK_-sJXsCeo510LVpJAIh_-_Ge4YulR04UHC5QYwyzZNOdJQvA8rCvu0poTF3jmmkeDlGQxR7VSoLlJQ9BzfqrE8Nj9N5MMz62wCG3rCwNQ0J2yLx9AFAvXoos3psHg9WKD6bWSsngXgeBLbK7UIwx73vnFUlxq4I2ZUx4HeKZ4GMkcCWgeV_8HvYA5veQfT26SJqsBbSQFzfbAFQG8kUvZXRk5HwzYeW10MG0vRcPMFG-BCeqrTMFcpgzwkEu4ZZWhdouCeRRHt70N8TEB9EYu4zEo4BV84iXlWgrRZa7m8C5YsMHadA19YJMgrlaLg4Dg13ocPU_nz_H9fIFk5L32A8Hlh-8yaJ-amLTiBB8QeSCSBplSNllPPiDGTP6lWZ3gYmLPdJnRJ6dHC2PrzirwZn3FW8m4-IgRpxotg6LpUQPP2pYUHWSo4nQ79P57XNSGcErfK9HxtsOHSvXM803wUqXriVtpoYm9qUTdiQjhdhuf02Dz-xdQyYpAD-Fcpg2dNnmjoN26fv6i17uJY2Hg3B77ZX4pfxusWVFqDgq8_86Cg4vzRFeqPbNC72WoiC39oqEIRz4mmHOpuFQmLgGLMHZ6g5EVyXHoXRg95St3ld9Z_TAr2PaxO8eAKT0pfJeJhaTjk96KPFUPjccYV2lQiyYb-Yuqm2CsY2bcBH2IIHgQJcjMjQExZTs8mRx9KnV3Olekj6KLm0GPEO3bnxSp8mBXxjLGVBlffooOnQrYHZPhfLayiNQ8k_Ri4uDuGRl8o5TDLXWSEOLTz9kkWIcA0vIsPenVv-CSIuT7hJs1FOEb7grbr2UeThM60PKe2EOtvTTLKYi3l49PSUWDCFQsg-3UrgQdyyzkbiFm53t-K-Ls0y9cMaeB_BNYrPXZ4hiD1vqT8L1TDo29IF5g6quHKgW6hko_iA258qPJNgFY3UDq0iVFwsmBFGlGJKiUILbWgbHfiM1UC7KMFhx0KihAeQZz2b__AhhtSHj6Pmmm6QJv9TtHEY057RHRf7voaQ8ZYMI3vi7V-xvycbyH1QmO9_Jmd9XKJpqhGz3nMyPym5RJIDoioXn585QnoFbzoMBgPDy0DkBlAnTgo_nxZzKqU0mVpzqX8JthGxhaC13rn81fjdxQo9FCmJI4XQYTe7aU38naDlT7-eUeEi57_FF1_vshnJU2xzDjOFi19yqRuFa076SXW4cFcvXv0JDrlrQM2qM67_8qs5wYaColhhvfp3UZ_GAejyYL2jIep1w2gShLUGvI7ETDqePV0E0FVYh56f6qr2NzaLp_XZtuSeWc1S-avZTfVpIKKql-zssCpaq7e0zbCZ3cFKDyhcWvvD9eeHUBJ7pZm7hlEm6kKhJJpltkimjeRfvggN6Nw-T77NiDrlBAvGO63Y6SBGz-atPBzgh3DyPARDStjTjSWAtJbBSPlNl0tfBZReXXlrgfSgqqiVsiCg2YDmM9FZ2Za8chboIOOG9yJ1lVasiLjfGV7zJzBjoak3g1rWZCMOpkkJyS1YAoBlLiWNDUfG5d4BtFc4IaA9gxC8AnCyyjp8CxqbRLtiKwg9FKQL9qa2aOCGm-PjWosSTgCigfQq1jutF1sCZ3jfFscWms1JS3nrNv0y3n4G0U-K9JQ90HX9dp2GOg7ocyjhIleMyI\",\"tag\":\"GXEZJ0CC6ijHgShSUXKIyUp5rvJznO-9awA20x8kOXE\"}\n"
     ]
    }
   ],
   "source": [
    "print(resp.json())"
   ]
  },
  {
   "cell_type": "markdown",
   "metadata": {},
   "source": [
    "### Get mediator grant response"
   ]
  },
  {
   "cell_type": "code",
   "execution_count": 12,
   "metadata": {},
   "outputs": [
    {
     "name": "stdout",
     "output_type": "stream",
     "text": [
      "https://didcomm.org/coordinate-mediation/2.0/mediate-grant\n",
      "Routing Key: did:peer:2.Ez6LSj3XWgZzbgNxv8hUnDpy5qkheMqPnpKiDVwkFkAHAwM4f.Vz6MkeZH3Wz7GdtmwDNcna37UBQMWUVGSY4nWYR5hibvQyEsm.SeyJpZCI6Im5ldy1pZCIsInQiOiJkbSIsInMiOiJodHRwczovL21lZGlhdG9yLnJvb3RzaWQuY2xvdWQiLCJhIjpbImRpZGNvbW0vdjIiXX0\n",
      "Mediator new DID: did:peer:2.Ez6LSeK16zWGXa5nadTCFCbkpmyKvDeh2zPnbgWZCRCreKvw4.Vz6MkmmybW9wmsgKSshgcayCQvXpVG2exTEkBAnjmGDV9h4Sa.SeyJpZCI6Im5ldy1pZCIsInQiOiJkbSIsInMiOiJodHRwczovL21lZGlhdG9yLnJvb3RzaWQuY2xvdWQiLCJhIjpbImRpZGNvbW0vdjIiXX0\n"
     ]
    }
   ],
   "source": [
    "mediator_unpack_msg = await unpack(\n",
    "    resolvers_config=ResolversConfig(\n",
    "        secrets_resolver=secrets_resolver,\n",
    "        did_resolver=DIDResolverPeerDID()\n",
    "    ),\n",
    "    packed_msg= resp.json()\n",
    ")\n",
    "print(mediator_unpack_msg.message.type)\n",
    "print(\"Routing Key: \" + mediator_unpack_msg.message.body[\"routing_did\"])\n",
    "print(\"Mediator new DID: \" + mediator_unpack_msg.message.from_prior.sub)\n",
    "# mediator rotated did\n",
    "mediator_routing_key = mediator_unpack_msg.message.body[\"routing_did\"]\n",
    "mediator_did = mediator_unpack_msg.message.from_prior.sub"
   ]
  },
  {
   "cell_type": "markdown",
   "metadata": {},
   "source": [
    "### Keylist update"
   ]
  },
  {
   "cell_type": "markdown",
   "metadata": {},
   "source": [
    "Alice create a new DID to share with  other peers using mediator routing keys "
   ]
  },
  {
   "cell_type": "code",
   "execution_count": 13,
   "metadata": {},
   "outputs": [
    {
     "name": "stdout",
     "output_type": "stream",
     "text": [
      "{'crv': 'Ed25519', 'x': '6zroRSR0D8-IZFP1ZRewBhzt2LfI8ZsosA1sd36c4Ps', 'd': 'rtwXYZv9oGSgePljwOHuW_l4nDcjH1Y5cMa-Z0yBvPs', 'kty': 'OKP', 'kid': 'did:peer:2.Ez6LSp4iKH9cf4dBrktYkwVMpLyfhVwyFNWYSBwvMbQBcJcMn.Vz6MkvHVxC2yQLALNfmZhvbniC96yzYBC3CQtvaXmQWC22C3c.SeyJpZCI6Im5ldy1pZCIsInQiOiJkbSIsInMiOlt7InVyaSI6ImRpZDpwZWVyOjIuRXo2TFNqM1hXZ1p6YmdOeHY4aFVuRHB5NXFraGVNcVBucEtpRFZ3a0ZrQUhBd000Zi5WejZNa2VaSDNXejdHZHRtd0ROY25hMzdVQlFNV1VWR1NZNG5XWVI1aGlidlF5RXNtLlNleUpwWkNJNkltNWxkeTFwWkNJc0luUWlPaUprYlNJc0luTWlPaUpvZEhSd2N6b3ZMMjFsWkdsaGRHOXlMbkp2YjNSemFXUXVZMnh2ZFdRaUxDSmhJanBiSW1ScFpHTnZiVzB2ZGpJaVhYMCJ9XSwiYSI6WyJkaWRjb21tL3YyIl19#6MkvHVxC2yQLALNfmZhvbniC96yzYBC3CQtvaXmQWC22C3c'}\n",
      "{'crv': 'X25519', 'x': 'uBI-UPMhb2wYRl85cXHifbY62z5-AmOPGj3JjK-U8Xk', 'd': 'iJE9S2-VbnMuLl4D753nc8OaFL6ekZb0T7sM5yeLtng', 'kty': 'OKP', 'kid': 'did:peer:2.Ez6LSp4iKH9cf4dBrktYkwVMpLyfhVwyFNWYSBwvMbQBcJcMn.Vz6MkvHVxC2yQLALNfmZhvbniC96yzYBC3CQtvaXmQWC22C3c.SeyJpZCI6Im5ldy1pZCIsInQiOiJkbSIsInMiOlt7InVyaSI6ImRpZDpwZWVyOjIuRXo2TFNqM1hXZ1p6YmdOeHY4aFVuRHB5NXFraGVNcVBucEtpRFZ3a0ZrQUhBd000Zi5WejZNa2VaSDNXejdHZHRtd0ROY25hMzdVQlFNV1VWR1NZNG5XWVI1aGlidlF5RXNtLlNleUpwWkNJNkltNWxkeTFwWkNJc0luUWlPaUprYlNJc0luTWlPaUpvZEhSd2N6b3ZMMjFsWkdsaGRHOXlMbkp2YjNSemFXUXVZMnh2ZFdRaUxDSmhJanBiSW1ScFpHTnZiVzB2ZGpJaVhYMCJ9XSwiYSI6WyJkaWRjb21tL3YyIl19#6LSp4iKH9cf4dBrktYkwVMpLyfhVwyFNWYSBwvMbQBcJcMn'}\n",
      "Alice's DID for Bob: did:peer:2.Ez6LSp4iKH9cf4dBrktYkwVMpLyfhVwyFNWYSBwvMbQBcJcMn.Vz6MkvHVxC2yQLALNfmZhvbniC96yzYBC3CQtvaXmQWC22C3c.SeyJpZCI6Im5ldy1pZCIsInQiOiJkbSIsInMiOlt7InVyaSI6ImRpZDpwZWVyOjIuRXo2TFNqM1hXZ1p6YmdOeHY4aFVuRHB5NXFraGVNcVBucEtpRFZ3a0ZrQUhBd000Zi5WejZNa2VaSDNXejdHZHRtd0ROY25hMzdVQlFNV1VWR1NZNG5XWVI1aGlidlF5RXNtLlNleUpwWkNJNkltNWxkeTFwWkNJc0luUWlPaUprYlNJc0luTWlPaUpvZEhSd2N6b3ZMMjFsWkdsaGRHOXlMbkp2YjNSemFXUXVZMnh2ZFdRaUxDSmhJanBiSW1ScFpHTnZiVzB2ZGpJaVhYMCJ9XSwiYSI6WyJkaWRjb21tL3YyIl19\n"
     ]
    }
   ],
   "source": [
    "#alice_did_new = await create_peer_did(1, 1, service_endpoint=mediator_endpoint, service_routing_keys=[mediator_routing_key])\n",
    "alice_did_for_bob = await create_peer_did(1, 1, service_endpoint=[{\"uri\": mediator_routing_key}])\n",
    "\n",
    "print(\"Alice's DID for Bob:\", alice_did_for_bob)"
   ]
  },
  {
   "cell_type": "markdown",
   "metadata": {},
   "source": [
    "Alice create and send the keylist update message"
   ]
  },
  {
   "cell_type": "code",
   "execution_count": 14,
   "metadata": {},
   "outputs": [],
   "source": [
    "alice_keylist_update = Message(\n",
    "    id = \"unique-id-293e9a922efff\",\n",
    "    type = \"https://didcomm.org/coordinate-mediation/2.0/keylist-update\",\n",
    "    body = {\n",
    "        \"updates\":[\n",
    "        {\n",
    "            \"recipient_did\": alice_did_for_bob,\n",
    "            \"action\": \"add\"\n",
    "        }\n",
    "    ]\n",
    "    }\n",
    ")"
   ]
  },
  {
   "cell_type": "code",
   "execution_count": 15,
   "metadata": {},
   "outputs": [],
   "source": [
    "alice_keylist_update_packed_msg = await pack_encrypted(\n",
    "    resolvers_config = ResolversConfig(\n",
    "        secrets_resolver = secrets_resolver,\n",
    "        did_resolver = DIDResolverPeerDID()\n",
    "    ),\n",
    "    message = alice_keylist_update,\n",
    "    frm = alice_did_for_mediator,\n",
    "    to = mediator_did,\n",
    "    sign_frm = None,\n",
    "    pack_config = PackEncryptedConfig(protect_sender_id=False)\n",
    ")"
   ]
  },
  {
   "cell_type": "code",
   "execution_count": 16,
   "metadata": {},
   "outputs": [],
   "source": [
    "headers = {\"Content-Type\": \"application/didcomm-encrypted+json\"}\n",
    "resp = requests.post(mediator_endpoint, headers=headers, data = alice_keylist_update_packed_msg.packed_msg)"
   ]
  },
  {
   "cell_type": "code",
   "execution_count": 17,
   "metadata": {},
   "outputs": [
    {
     "name": "stdout",
     "output_type": "stream",
     "text": [
      "https://didcomm.org/coordinate-mediation/2.0/keylist-update-response\n",
      "{'updated': [{'recipient_did': 'did:peer:2.Ez6LSp4iKH9cf4dBrktYkwVMpLyfhVwyFNWYSBwvMbQBcJcMn.Vz6MkvHVxC2yQLALNfmZhvbniC96yzYBC3CQtvaXmQWC22C3c.SeyJpZCI6Im5ldy1pZCIsInQiOiJkbSIsInMiOlt7InVyaSI6ImRpZDpwZWVyOjIuRXo2TFNqM1hXZ1p6YmdOeHY4aFVuRHB5NXFraGVNcVBucEtpRFZ3a0ZrQUhBd000Zi5WejZNa2VaSDNXejdHZHRtd0ROY25hMzdVQlFNV1VWR1NZNG5XWVI1aGlidlF5RXNtLlNleUpwWkNJNkltNWxkeTFwWkNJc0luUWlPaUprYlNJc0luTWlPaUpvZEhSd2N6b3ZMMjFsWkdsaGRHOXlMbkp2YjNSemFXUXVZMnh2ZFdRaUxDSmhJanBiSW1ScFpHTnZiVzB2ZGpJaVhYMCJ9XSwiYSI6WyJkaWRjb21tL3YyIl19', 'action': 'add', 'result': 'success'}]}\n"
     ]
    }
   ],
   "source": [
    "mediator_unpack_msg2 = await unpack(\n",
    "    resolvers_config=ResolversConfig(\n",
    "        secrets_resolver=secrets_resolver,\n",
    "        did_resolver=DIDResolverPeerDID()\n",
    "    ),\n",
    "    packed_msg= resp.json()\n",
    ")\n",
    "print(mediator_unpack_msg2.message.type)\n",
    "print(mediator_unpack_msg2.message.body)\n"
   ]
  },
  {
   "cell_type": "markdown",
   "metadata": {},
   "source": [
    "### Alice can now send her DID to Bob."
   ]
  },
  {
   "cell_type": "markdown",
   "metadata": {},
   "source": [
    "### Alice check status of queued messages from the Mediator"
   ]
  },
  {
   "cell_type": "code",
   "execution_count": 18,
   "metadata": {},
   "outputs": [],
   "source": [
    "alice_status_check = Message(\n",
    "    id = \"unique-id-293e9a922efffxxx\",\n",
    "    type = \"https://didcomm.org/messagepickup/3.0/status-request\",\n",
    "    body = {}\n",
    ")"
   ]
  },
  {
   "cell_type": "code",
   "execution_count": 41,
   "metadata": {},
   "outputs": [],
   "source": [
    "alice_status_check_packed_msg = await pack_encrypted(\n",
    "    resolvers_config = ResolversConfig(\n",
    "        secrets_resolver = secrets_resolver,\n",
    "        did_resolver = DIDResolverPeerDID()\n",
    "    ),\n",
    "    message = alice_status_check,\n",
    "    to = mediator_did,\n",
    "    frm = alice_did_for_mediator,\n",
    "    sign_frm = None,\n",
    "    pack_config = PackEncryptedConfig(protect_sender_id=False)\n",
    ")\n",
    "headers = {\"Content-Type\": \"application/didcomm-encrypted+json\"}\n",
    "resp3 = requests.post(mediator_endpoint, headers=headers, data = alice_status_check_packed_msg.packed_msg)"
   ]
  },
  {
   "cell_type": "code",
   "execution_count": 42,
   "metadata": {},
   "outputs": [
    {
     "ename": "JSONDecodeError",
     "evalue": "Expecting value: line 1 column 1 (char 0)",
     "output_type": "error",
     "traceback": [
      "\u001b[0;31m---------------------------------------------------------------------------\u001b[0m",
      "\u001b[0;31mJSONDecodeError\u001b[0m                           Traceback (most recent call last)",
      "Input \u001b[0;32mIn [42]\u001b[0m, in \u001b[0;36m<cell line: 1>\u001b[0;34m()\u001b[0m\n\u001b[1;32m      1\u001b[0m mediator_unpack_status \u001b[38;5;241m=\u001b[39m \u001b[38;5;28;01mawait\u001b[39;00m unpack(\n\u001b[1;32m      2\u001b[0m     resolvers_config\u001b[38;5;241m=\u001b[39mResolversConfig(\n\u001b[1;32m      3\u001b[0m         secrets_resolver\u001b[38;5;241m=\u001b[39msecrets_resolver,\n\u001b[1;32m      4\u001b[0m         did_resolver\u001b[38;5;241m=\u001b[39mDIDResolverPeerDID()\n\u001b[1;32m      5\u001b[0m     ),\n\u001b[0;32m----> 6\u001b[0m     packed_msg\u001b[38;5;241m=\u001b[39m resp3\u001b[38;5;241m.\u001b[39mjson()\n\u001b[1;32m      7\u001b[0m )\n\u001b[1;32m      8\u001b[0m \u001b[38;5;28mprint\u001b[39m(mediator_unpack_status\u001b[38;5;241m.\u001b[39mmessage\u001b[38;5;241m.\u001b[39mtype)\n\u001b[1;32m      9\u001b[0m \u001b[38;5;28mprint\u001b[39m(\u001b[38;5;124m\"\u001b[39m\u001b[38;5;124mMessages in Mediator queue: \u001b[39m\u001b[38;5;124m\"\u001b[39m \u001b[38;5;241m+\u001b[39m \u001b[38;5;28mstr\u001b[39m(mediator_unpack_status\u001b[38;5;241m.\u001b[39mmessage\u001b[38;5;241m.\u001b[39mbody[\u001b[38;5;124m\"\u001b[39m\u001b[38;5;124mmessage_count\u001b[39m\u001b[38;5;124m\"\u001b[39m]))\n",
      "File \u001b[0;32m/opt/homebrew/lib/python3.9/site-packages/requests/models.py:900\u001b[0m, in \u001b[0;36mResponse.json\u001b[0;34m(self, **kwargs)\u001b[0m\n\u001b[1;32m    894\u001b[0m         \u001b[38;5;28;01mexcept\u001b[39;00m \u001b[38;5;167;01mUnicodeDecodeError\u001b[39;00m:\n\u001b[1;32m    895\u001b[0m             \u001b[38;5;66;03m# Wrong UTF codec detected; usually because it's not UTF-8\u001b[39;00m\n\u001b[1;32m    896\u001b[0m             \u001b[38;5;66;03m# but some other 8-bit codec.  This is an RFC violation,\u001b[39;00m\n\u001b[1;32m    897\u001b[0m             \u001b[38;5;66;03m# and the server didn't bother to tell us what codec *was*\u001b[39;00m\n\u001b[1;32m    898\u001b[0m             \u001b[38;5;66;03m# used.\u001b[39;00m\n\u001b[1;32m    899\u001b[0m             \u001b[38;5;28;01mpass\u001b[39;00m\n\u001b[0;32m--> 900\u001b[0m \u001b[38;5;28;01mreturn\u001b[39;00m \u001b[43mcomplexjson\u001b[49m\u001b[38;5;241;43m.\u001b[39;49m\u001b[43mloads\u001b[49m\u001b[43m(\u001b[49m\u001b[38;5;28;43mself\u001b[39;49m\u001b[38;5;241;43m.\u001b[39;49m\u001b[43mtext\u001b[49m\u001b[43m,\u001b[49m\u001b[43m \u001b[49m\u001b[38;5;241;43m*\u001b[39;49m\u001b[38;5;241;43m*\u001b[39;49m\u001b[43mkwargs\u001b[49m\u001b[43m)\u001b[49m\n",
      "File \u001b[0;32m/opt/homebrew/Cellar/python@3.9/3.9.13_1/Frameworks/Python.framework/Versions/3.9/lib/python3.9/json/__init__.py:346\u001b[0m, in \u001b[0;36mloads\u001b[0;34m(s, cls, object_hook, parse_float, parse_int, parse_constant, object_pairs_hook, **kw)\u001b[0m\n\u001b[1;32m    341\u001b[0m     s \u001b[38;5;241m=\u001b[39m s\u001b[38;5;241m.\u001b[39mdecode(detect_encoding(s), \u001b[38;5;124m'\u001b[39m\u001b[38;5;124msurrogatepass\u001b[39m\u001b[38;5;124m'\u001b[39m)\n\u001b[1;32m    343\u001b[0m \u001b[38;5;28;01mif\u001b[39;00m (\u001b[38;5;28mcls\u001b[39m \u001b[38;5;129;01mis\u001b[39;00m \u001b[38;5;28;01mNone\u001b[39;00m \u001b[38;5;129;01mand\u001b[39;00m object_hook \u001b[38;5;129;01mis\u001b[39;00m \u001b[38;5;28;01mNone\u001b[39;00m \u001b[38;5;129;01mand\u001b[39;00m\n\u001b[1;32m    344\u001b[0m         parse_int \u001b[38;5;129;01mis\u001b[39;00m \u001b[38;5;28;01mNone\u001b[39;00m \u001b[38;5;129;01mand\u001b[39;00m parse_float \u001b[38;5;129;01mis\u001b[39;00m \u001b[38;5;28;01mNone\u001b[39;00m \u001b[38;5;129;01mand\u001b[39;00m\n\u001b[1;32m    345\u001b[0m         parse_constant \u001b[38;5;129;01mis\u001b[39;00m \u001b[38;5;28;01mNone\u001b[39;00m \u001b[38;5;129;01mand\u001b[39;00m object_pairs_hook \u001b[38;5;129;01mis\u001b[39;00m \u001b[38;5;28;01mNone\u001b[39;00m \u001b[38;5;129;01mand\u001b[39;00m \u001b[38;5;129;01mnot\u001b[39;00m kw):\n\u001b[0;32m--> 346\u001b[0m     \u001b[38;5;28;01mreturn\u001b[39;00m \u001b[43m_default_decoder\u001b[49m\u001b[38;5;241;43m.\u001b[39;49m\u001b[43mdecode\u001b[49m\u001b[43m(\u001b[49m\u001b[43ms\u001b[49m\u001b[43m)\u001b[49m\n\u001b[1;32m    347\u001b[0m \u001b[38;5;28;01mif\u001b[39;00m \u001b[38;5;28mcls\u001b[39m \u001b[38;5;129;01mis\u001b[39;00m \u001b[38;5;28;01mNone\u001b[39;00m:\n\u001b[1;32m    348\u001b[0m     \u001b[38;5;28mcls\u001b[39m \u001b[38;5;241m=\u001b[39m JSONDecoder\n",
      "File \u001b[0;32m/opt/homebrew/Cellar/python@3.9/3.9.13_1/Frameworks/Python.framework/Versions/3.9/lib/python3.9/json/decoder.py:337\u001b[0m, in \u001b[0;36mJSONDecoder.decode\u001b[0;34m(self, s, _w)\u001b[0m\n\u001b[1;32m    332\u001b[0m \u001b[38;5;28;01mdef\u001b[39;00m \u001b[38;5;21mdecode\u001b[39m(\u001b[38;5;28mself\u001b[39m, s, _w\u001b[38;5;241m=\u001b[39mWHITESPACE\u001b[38;5;241m.\u001b[39mmatch):\n\u001b[1;32m    333\u001b[0m     \u001b[38;5;124;03m\"\"\"Return the Python representation of ``s`` (a ``str`` instance\u001b[39;00m\n\u001b[1;32m    334\u001b[0m \u001b[38;5;124;03m    containing a JSON document).\u001b[39;00m\n\u001b[1;32m    335\u001b[0m \n\u001b[1;32m    336\u001b[0m \u001b[38;5;124;03m    \"\"\"\u001b[39;00m\n\u001b[0;32m--> 337\u001b[0m     obj, end \u001b[38;5;241m=\u001b[39m \u001b[38;5;28;43mself\u001b[39;49m\u001b[38;5;241;43m.\u001b[39;49m\u001b[43mraw_decode\u001b[49m\u001b[43m(\u001b[49m\u001b[43ms\u001b[49m\u001b[43m,\u001b[49m\u001b[43m \u001b[49m\u001b[43midx\u001b[49m\u001b[38;5;241;43m=\u001b[39;49m\u001b[43m_w\u001b[49m\u001b[43m(\u001b[49m\u001b[43ms\u001b[49m\u001b[43m,\u001b[49m\u001b[43m \u001b[49m\u001b[38;5;241;43m0\u001b[39;49m\u001b[43m)\u001b[49m\u001b[38;5;241;43m.\u001b[39;49m\u001b[43mend\u001b[49m\u001b[43m(\u001b[49m\u001b[43m)\u001b[49m\u001b[43m)\u001b[49m\n\u001b[1;32m    338\u001b[0m     end \u001b[38;5;241m=\u001b[39m _w(s, end)\u001b[38;5;241m.\u001b[39mend()\n\u001b[1;32m    339\u001b[0m     \u001b[38;5;28;01mif\u001b[39;00m end \u001b[38;5;241m!=\u001b[39m \u001b[38;5;28mlen\u001b[39m(s):\n",
      "File \u001b[0;32m/opt/homebrew/Cellar/python@3.9/3.9.13_1/Frameworks/Python.framework/Versions/3.9/lib/python3.9/json/decoder.py:355\u001b[0m, in \u001b[0;36mJSONDecoder.raw_decode\u001b[0;34m(self, s, idx)\u001b[0m\n\u001b[1;32m    353\u001b[0m     obj, end \u001b[38;5;241m=\u001b[39m \u001b[38;5;28mself\u001b[39m\u001b[38;5;241m.\u001b[39mscan_once(s, idx)\n\u001b[1;32m    354\u001b[0m \u001b[38;5;28;01mexcept\u001b[39;00m \u001b[38;5;167;01mStopIteration\u001b[39;00m \u001b[38;5;28;01mas\u001b[39;00m err:\n\u001b[0;32m--> 355\u001b[0m     \u001b[38;5;28;01mraise\u001b[39;00m JSONDecodeError(\u001b[38;5;124m\"\u001b[39m\u001b[38;5;124mExpecting value\u001b[39m\u001b[38;5;124m\"\u001b[39m, s, err\u001b[38;5;241m.\u001b[39mvalue) \u001b[38;5;28;01mfrom\u001b[39;00m \u001b[38;5;28mNone\u001b[39m\n\u001b[1;32m    356\u001b[0m \u001b[38;5;28;01mreturn\u001b[39;00m obj, end\n",
      "\u001b[0;31mJSONDecodeError\u001b[0m: Expecting value: line 1 column 1 (char 0)"
     ]
    }
   ],
   "source": [
    "mediator_unpack_status = await unpack(\n",
    "    resolvers_config=ResolversConfig(\n",
    "        secrets_resolver=secrets_resolver,\n",
    "        did_resolver=DIDResolverPeerDID()\n",
    "    ),\n",
    "    packed_msg= resp3.json()\n",
    ")\n",
    "print(mediator_unpack_status.message.type)\n",
    "print(\"Messages in Mediator queue: \" + str(mediator_unpack_status.message.body[\"message_count\"]))"
   ]
  },
  {
   "cell_type": "markdown",
   "metadata": {},
   "source": [
    "### If there are messages, Alice can pickup from the mediator (delivery request)"
   ]
  },
  {
   "cell_type": "code",
   "execution_count": 24,
   "metadata": {},
   "outputs": [],
   "source": [
    "alice_delivery_request = Message(\n",
    "    id = \"unique-id-293e9a922efffxxxff\",\n",
    "    type = \"https://didcomm.org/messagepickup/3.0/delivery-request\",\n",
    "    body = {\"limit\": 1}\n",
    ")"
   ]
  },
  {
   "cell_type": "code",
   "execution_count": 25,
   "metadata": {},
   "outputs": [],
   "source": [
    "alice_delivery_request_packed_msg = await pack_encrypted(\n",
    "    resolvers_config = ResolversConfig(\n",
    "        secrets_resolver = secrets_resolver,\n",
    "        did_resolver = DIDResolverPeerDID()\n",
    "    ),\n",
    "    message = alice_delivery_request,\n",
    "    to = mediator_did,\n",
    "    frm = alice_did_for_mediator,\n",
    "    sign_frm = None,\n",
    "    pack_config = PackEncryptedConfig(protect_sender_id=False)\n",
    ")\n",
    "headers = {\"Content-Type\": \"application/didcomm-encrypted+json\"}\n",
    "resp4 = requests.post(mediator_endpoint, headers=headers, data = alice_delivery_request_packed_msg.packed_msg)"
   ]
  },
  {
   "cell_type": "code",
   "execution_count": 26,
   "metadata": {},
   "outputs": [
    {
     "name": "stdout",
     "output_type": "stream",
     "text": [
      "https://didcomm.org/messagepickup/3.0/delivery\n",
      "{'recipient_key': None}\n"
     ]
    }
   ],
   "source": [
    "mediator_delivery = await unpack(\n",
    "    resolvers_config=ResolversConfig(\n",
    "        secrets_resolver=secrets_resolver,\n",
    "        did_resolver=DIDResolverPeerDID()\n",
    "    ),\n",
    "    packed_msg= resp4.json()\n",
    ")\n",
    "print(mediator_delivery.message.type)\n",
    "print(mediator_delivery.message.body)"
   ]
  },
  {
   "cell_type": "code",
   "execution_count": 27,
   "metadata": {},
   "outputs": [],
   "source": [
    "bob_packed_msg = mediator_delivery.message.attachments[0].data.json\n",
    "msg_id = mediator_delivery.message.attachments[0].id"
   ]
  },
  {
   "cell_type": "code",
   "execution_count": 28,
   "metadata": {},
   "outputs": [
    {
     "name": "stdout",
     "output_type": "stream",
     "text": [
      "{'protected': 'eyJ0eXAiOiJhcHBsaWNhdGlvbi9kaWRjb21tLWVuY3J5cHRlZCtqc29uIiwiYWxnIjoiRUNESC0xUFUrQTI1NktXIiwiZW5jIjoiQTI1NkNCQy1IUzUxMiIsImFwdSI6IlpHbGtPbkJsWlhJNk1pNUZlalpNVTNCMlMyWjFaMVpvTVV4SWFuVk5VemQyZVhOTlExQjBjbTkxYTFGUmMwUm1UR0kyVUZaRU4yNTJPRVpITGxaNk5rMXJhM0ZCV1VKNGJYRkRkblpyZW5WWk5sRnpjMUpGWm5oVVEwVnhZMFpZYm01eE5uSjFWMmhuVFZSM1FUZ3VVMlY1U25CYVEwazJTVzAxYkdSNU1YQmFRMGx6U1c1UmFVOXBTbXRpVTBselNXNU5hVTlwU205a1NGSjNZM3B2ZGt3elpETmtlVFZzWlVkR2RHTkhlR3hNYlU1MllsTTVhV0l5U1dsTVEwcG9TV3B3WWtsdFVuQmFSMDUyWWxjd2RtUnFTV2xZV0RBak5reFRjSFpMWm5WblZtZ3hURWhxZFUxVE4zWjVjMDFEVUhSeWIzVnJVVkZ6UkdaTVlqWlFWa1EzYm5ZNFJrYyIsImFwdiI6IkRfb1RFR1ZzYVFFLUNKaloyRFJTVEJac1VIRmEwcXA5RnI0Z1hRT0VwN1EiLCJza2lkIjoiZGlkOnBlZXI6Mi5FejZMU3B2S2Z1Z1ZoMUxIanVNUzd2eXNNQ1B0cm91a1FRc0RmTGI2UFZEN252OEZHLlZ6Nk1ra3FBWUJ4bXFDdnZrenVZNlFzc1JFZnhUQ0VxY0ZYbm5xNnJ1V2hnTVR3QTguU2V5SnBaQ0k2SW01bGR5MXBaQ0lzSW5RaU9pSmtiU0lzSW5NaU9pSm9kSFJ3Y3pvdkwzZDNkeTVsZUdGdGNHeGxMbU52YlM5aWIySWlMQ0poSWpwYkltUnBaR052YlcwdmRqSWlYWDAjNkxTcHZLZnVnVmgxTEhqdU1TN3Z5c01DUHRyb3VrUVFzRGZMYjZQVkQ3bnY4RkciLCJlcGsiOnsiY3J2IjoiWDI1NTE5IiwieCI6IlBiTHZReUNXdmY0cVVEUjR3enl2dXR0cXR1MEJndEpKd2VqMHJjQzNjblkiLCJrdHkiOiJPS1AifX0', 'recipients': [{'header': {'kid': 'did:peer:2.Ez6LSp4iKH9cf4dBrktYkwVMpLyfhVwyFNWYSBwvMbQBcJcMn.Vz6MkvHVxC2yQLALNfmZhvbniC96yzYBC3CQtvaXmQWC22C3c.SeyJpZCI6Im5ldy1pZCIsInQiOiJkbSIsInMiOlt7InVyaSI6ImRpZDpwZWVyOjIuRXo2TFNqM1hXZ1p6YmdOeHY4aFVuRHB5NXFraGVNcVBucEtpRFZ3a0ZrQUhBd000Zi5WejZNa2VaSDNXejdHZHRtd0ROY25hMzdVQlFNV1VWR1NZNG5XWVI1aGlidlF5RXNtLlNleUpwWkNJNkltNWxkeTFwWkNJc0luUWlPaUprYlNJc0luTWlPaUpvZEhSd2N6b3ZMMjFsWkdsaGRHOXlMbkp2YjNSemFXUXVZMnh2ZFdRaUxDSmhJanBiSW1ScFpHTnZiVzB2ZGpJaVhYMCJ9XSwiYSI6WyJkaWRjb21tL3YyIl19#6LSp4iKH9cf4dBrktYkwVMpLyfhVwyFNWYSBwvMbQBcJcMn'}, 'encrypted_key': '8EErcIRA1Wlr-5ch5EdGs5We_J3DSIhd6fL-sA7yCXzqUTrlOJB1mZzneAzqBBAFKLydBt_HDcGqG4SSA8cDdSbAhZHx5jDy'}], 'iv': 'qsmZOZ55Q-uwrGG6zje2LQ', 'ciphertext': 'ioMbLLWDDlWIjh26fUTsct94NqyK40YlLhTcS6zqNfLmFtXrj2EVp5JCK4I3QruunIi2JIMiOp-T6vERF1DXhfTIlgvOTuv_WSwNZxp6fs-yyT3ulbbpCi1AXfNpQYIV6vXNKpoQxYwKjp-NRshZmDlvt6FCB7apC9UIgJDE8QZGNHuZ-Xp9lJvSXd1_A_F74_wctdTvc7wMpdl9p5Y_qnESR6YavtutAIAImsO027XV62_k_dV8zZJneIsfllnt-v1AADndqnM3IT_qNUC9kg', 'tag': '3yA7KUpTa-Lganctc6Dm1VVkPVMN9q-O0i90_T2gixE'}\n"
     ]
    }
   ],
   "source": [
    "print(bob_packed_msg)"
   ]
  },
  {
   "cell_type": "code",
   "execution_count": 29,
   "metadata": {},
   "outputs": [],
   "source": [
    "bob_msg = await unpack(\n",
    "    resolvers_config=ResolversConfig(\n",
    "        secrets_resolver=secrets_resolver,\n",
    "        did_resolver=DIDResolverPeerDID()\n",
    "    ),\n",
    "    packed_msg= bob_packed_msg\n",
    ")"
   ]
  },
  {
   "cell_type": "code",
   "execution_count": 30,
   "metadata": {},
   "outputs": [
    {
     "name": "stdout",
     "output_type": "stream",
     "text": [
      "Message ID: 6316ab15660fba88e0a6df2b\n",
      "Hola Alice\n"
     ]
    }
   ],
   "source": [
    "print(\"Message ID:\", msg_id)\n",
    "print(bob_msg.message.body[\"content\"])"
   ]
  },
  {
   "cell_type": "markdown",
   "metadata": {},
   "source": [
    "### Alice acknowledge so the mediator can delete the message"
   ]
  },
  {
   "cell_type": "code",
   "execution_count": 31,
   "metadata": {},
   "outputs": [],
   "source": [
    "alice_ack = Message(\n",
    "    id = \"unique-id-293e9a922efffxxxffsss\",\n",
    "    type = \"https://didcomm.org/messagepickup/3.0/messages-received\",\n",
    "    body = {\"message_id_list\": [msg_id]}\n",
    ")"
   ]
  },
  {
   "cell_type": "code",
   "execution_count": 32,
   "metadata": {},
   "outputs": [],
   "source": [
    "alice_ack_packed_msg = await pack_encrypted(\n",
    "    resolvers_config = ResolversConfig(\n",
    "        secrets_resolver = secrets_resolver,\n",
    "        did_resolver = DIDResolverPeerDID()\n",
    "    ),\n",
    "    message = alice_ack,\n",
    "    to = mediator_did,\n",
    "    frm = alice_did_for_mediator,\n",
    "    sign_frm = None,\n",
    "    pack_config = PackEncryptedConfig(protect_sender_id=False)\n",
    ")\n",
    "headers = {\"Content-Type\": \"application/didcomm-encrypted+json\"}\n",
    "resp5 = requests.post(mediator_endpoint, headers=headers, data = alice_ack_packed_msg.packed_msg)"
   ]
  },
  {
   "cell_type": "code",
   "execution_count": 33,
   "metadata": {},
   "outputs": [
    {
     "name": "stdout",
     "output_type": "stream",
     "text": [
      "https://didcomm.org/messagepickup/3.0/status\n",
      "{'message_count': 0, 'live_delivery': False}\n"
     ]
    }
   ],
   "source": [
    "mediator_ack_status = await unpack(\n",
    "    resolvers_config=ResolversConfig(\n",
    "        secrets_resolver=secrets_resolver,\n",
    "        did_resolver=DIDResolverPeerDID()\n",
    "    ),\n",
    "    packed_msg= resp5.json()\n",
    ")\n",
    "print(mediator_ack_status.message.type)\n",
    "print(mediator_ack_status.message.body)"
   ]
  },
  {
   "cell_type": "code",
   "execution_count": null,
   "metadata": {},
   "outputs": [],
   "source": []
  }
 ],
 "metadata": {
  "kernelspec": {
   "display_name": "Python 3 (ipykernel)",
   "language": "python",
   "name": "python3"
  },
  "language_info": {
   "codemirror_mode": {
    "name": "ipython",
    "version": 3
   },
   "file_extension": ".py",
   "mimetype": "text/x-python",
   "name": "python",
   "nbconvert_exporter": "python",
   "pygments_lexer": "ipython3",
   "version": "3.9.13"
  }
 },
 "nbformat": 4,
 "nbformat_minor": 2
}
