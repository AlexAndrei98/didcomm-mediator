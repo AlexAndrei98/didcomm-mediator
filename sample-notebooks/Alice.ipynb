{
 "cells": [
  {
   "cell_type": "code",
   "execution_count": 28,
   "metadata": {},
   "outputs": [],
   "source": [
    "import json\n",
    "import base64\n",
    "import qrcode\n",
    "import requests\n",
    "import datetime\n",
    "import uuid\n",
    "import matplotlib.pyplot as plt\n",
    "from pymongo import MongoClient\n",
    "from typing import Optional, List\n",
    "from didcomm.common.types import DID, VerificationMethodType, VerificationMaterial, VerificationMaterialFormat\n",
    "from didcomm.did_doc.did_doc import DIDDoc, VerificationMethod, DIDCommService\n",
    "from didcomm.did_doc.did_resolver import DIDResolver\n",
    "from didcomm.message import Message, FromPrior\n",
    "from didcomm.secrets.secrets_resolver_demo import SecretsResolverDemo\n",
    "from didcomm.unpack import unpack, UnpackResult\n",
    "from didcomm.common.resolvers import ResolversConfig\n",
    "from didcomm.pack_encrypted import pack_encrypted, PackEncryptedConfig, PackEncryptedResult\n",
    "from peerdid.core.did_doc_types import DIDCommServicePeerDID\n",
    "from didcomm.secrets.secrets_util import generate_x25519_keys_as_jwk_dict, generate_ed25519_keys_as_jwk_dict, jwk_to_secret\n",
    "from peerdid import peer_did\n",
    "from peerdid.did_doc import DIDDocPeerDID\n",
    "from peerdid.types import VerificationMaterialAuthentication, VerificationMethodTypeAuthentication, VerificationMaterialAgreement, VerificationMethodTypeAgreement, VerificationMaterialFormatPeerDID"
   ]
  },
  {
   "cell_type": "code",
   "execution_count": 29,
   "metadata": {},
   "outputs": [],
   "source": [
    "secrets_resolver = SecretsResolverDemo()"
   ]
  },
  {
   "cell_type": "code",
   "execution_count": 30,
   "metadata": {},
   "outputs": [],
   "source": [
    "class DIDResolverPeerDID(DIDResolver):\n",
    "    async def resolve(self, did: DID) -> DIDDoc:\n",
    "        did_doc_json = peer_did.resolve_peer_did(did, format = VerificationMaterialFormatPeerDID.JWK)\n",
    "        did_doc = DIDDocPeerDID.from_json(did_doc_json)\n",
    "\n",
    "        return DIDDoc(\n",
    "            did=did_doc.did,\n",
    "            key_agreement_kids = did_doc.agreement_kids,\n",
    "            authentication_kids = did_doc.auth_kids,\n",
    "            verification_methods = [\n",
    "                VerificationMethod(\n",
    "                    id = m.id,\n",
    "                    type = VerificationMethodType.JSON_WEB_KEY_2020,\n",
    "                    controller = m.controller,\n",
    "                    verification_material = VerificationMaterial(\n",
    "                        format = VerificationMaterialFormat.JWK,\n",
    "                        value = json.dumps(m.ver_material.value)\n",
    "                    )\n",
    "                )\n",
    "                for m in did_doc.authentication + did_doc.key_agreement\n",
    "            ],\n",
    "            didcomm_services = [\n",
    "                DIDCommService(\n",
    "                    id = s.id,\n",
    "                    service_endpoint = s.service_endpoint,\n",
    "                    routing_keys = s.routing_keys,\n",
    "                    accept = s.accept\n",
    "                )\n",
    "                for s in did_doc.service\n",
    "                if isinstance(s, DIDCommServicePeerDID)\n",
    "            ] if did_doc.service else []\n",
    "        )"
   ]
  },
  {
   "cell_type": "code",
   "execution_count": 31,
   "metadata": {},
   "outputs": [],
   "source": [
    "async def create_peer_did(self,\n",
    "                        auth_keys_count: int = 1,\n",
    "                        agreement_keys_count: int = 1,\n",
    "                        service_endpoint: Optional[str] = None,\n",
    "                        service_routing_keys: Optional[List[str]] = None\n",
    "                        ) -> str:\n",
    "        # 1. generate keys in JWK format\n",
    "        agreem_keys = [generate_x25519_keys_as_jwk_dict() for _ in range(agreement_keys_count)]\n",
    "        auth_keys = [generate_ed25519_keys_as_jwk_dict() for _ in range(auth_keys_count)]\n",
    "\n",
    "        # 2. prepare the keys for peer DID lib\n",
    "        agreem_keys_peer_did = [\n",
    "            VerificationMaterialAgreement(\n",
    "                type=VerificationMethodTypeAgreement.JSON_WEB_KEY_2020,\n",
    "                format=VerificationMaterialFormatPeerDID.JWK,\n",
    "                value=k[1],\n",
    "            )\n",
    "            for k in agreem_keys\n",
    "        ]\n",
    "        auth_keys_peer_did = [\n",
    "            VerificationMaterialAuthentication(\n",
    "                type=VerificationMethodTypeAuthentication.JSON_WEB_KEY_2020,\n",
    "                format=VerificationMaterialFormatPeerDID.JWK,\n",
    "                value=k[1],\n",
    "            )\n",
    "            for k in auth_keys\n",
    "        ]\n",
    "\n",
    "        # 3. generate service\n",
    "        service = None\n",
    "        if service_endpoint:\n",
    "            service = json.dumps(\n",
    "                DIDCommServicePeerDID(\n",
    "                    id=\"new-id\",\n",
    "                    service_endpoint=service_endpoint, routing_keys=service_routing_keys,\n",
    "                    accept=[\"didcomm/v2\"]\n",
    "                ).to_dict()\n",
    "            )\n",
    "\n",
    "        # 4. call peer DID lib\n",
    "        # if we have just one key (auth), then use numalg0 algorithm\n",
    "        # otherwise use numalg2 algorithm\n",
    "        if len(auth_keys_peer_did) == 1 and not agreem_keys_peer_did and not service:\n",
    "            did = peer_did.create_peer_did_numalgo_0(auth_keys_peer_did[0])\n",
    "        else:\n",
    "            did = peer_did.create_peer_did_numalgo_2(\n",
    "                encryption_keys=agreem_keys_peer_did,\n",
    "                signing_keys=auth_keys_peer_did,\n",
    "                service=service,\n",
    "            )\n",
    "\n",
    "        # 5. set KIDs as in DID DOC for secrets and store the secret in the secrets resolver\n",
    "        did_doc = DIDDocPeerDID.from_json(peer_did.resolve_peer_did(did))\n",
    "        for auth_key, kid in zip(auth_keys, did_doc.auth_kids):\n",
    "            private_key = auth_key[0]\n",
    "            private_key[\"kid\"] = kid\n",
    "            print(private_key)\n",
    "            await secrets_resolver.add_key(jwk_to_secret(private_key))\n",
    "\n",
    "        for agreem_key, kid in zip(agreem_keys, did_doc.agreement_kids):\n",
    "            private_key = agreem_key[0]\n",
    "            private_key[\"kid\"] = kid\n",
    "            print(private_key)\n",
    "            await secrets_resolver.add_key(jwk_to_secret(private_key))\n",
    "\n",
    "        return did\n"
   ]
  },
  {
   "cell_type": "markdown",
   "metadata": {},
   "source": [
    "### Alice get OOB from Mediator"
   ]
  },
  {
   "cell_type": "code",
   "execution_count": 32,
   "metadata": {},
   "outputs": [],
   "source": [
    "#oob_url = requests.get(\"http://127.0.0.1:8000/oob_url\").text\n",
    "oob_url = requests.get(\"https://mediator.rootsid.cloud/oob_url\").text"
   ]
  },
  {
   "cell_type": "code",
   "execution_count": 33,
   "metadata": {},
   "outputs": [
    {
     "name": "stdout",
     "output_type": "stream",
     "text": [
      "{'crv': 'Ed25519', 'x': '5XByq3PnKm4g6Zg0QXYDG-dLENT6NsW2lrIZ1-OYM5c', 'd': 'pUelY8s3kLqkqMU7w-WwDt9_3IakHwerHYkkzadW6O8', 'kty': 'OKP', 'kid': 'did:peer:2.Ez6LStYZzARSwPUHs373XjneswGFXDBwL9fC9DAwHaMx6oH3i.Vz6Mkuttrhqo6dykxbqVQ84xvWQaxsoMQva1k633fXuWJGdXt#6Mkuttrhqo6dykxbqVQ84xvWQaxsoMQva1k633fXuWJGdXt'}\n",
      "{'crv': 'X25519', 'x': '-qPV4qHVn7EdZf-T9oXMCAdhsRmuTOHpSy_VUvx39D0', 'd': '2KnEJFoqGkLomGdIep2PWflFisDm2Uw-qPfH-v46lF8', 'kty': 'OKP', 'kid': 'did:peer:2.Ez6LStYZzARSwPUHs373XjneswGFXDBwL9fC9DAwHaMx6oH3i.Vz6Mkuttrhqo6dykxbqVQ84xvWQaxsoMQva1k633fXuWJGdXt#6LStYZzARSwPUHs373XjneswGFXDBwL9fC9DAwHaMx6oH3i'}\n",
      "Alice's DID: did:peer:2.Ez6LStYZzARSwPUHs373XjneswGFXDBwL9fC9DAwHaMx6oH3i.Vz6Mkuttrhqo6dykxbqVQ84xvWQaxsoMQva1k633fXuWJGdXt\n"
     ]
    }
   ],
   "source": [
    "received_msg_encoded = oob_url.split(\"=\")[1]\n",
    "received_msg_decoded = json.loads(str(base64.urlsafe_b64decode(received_msg_encoded + \"==\"), \"utf-8\"))\n",
    "alice_did_for_mediator = await create_peer_did(1,1)\n",
    "print(\"Alice's DID:\", alice_did_for_mediator)"
   ]
  },
  {
   "cell_type": "markdown",
   "metadata": {},
   "source": [
    "### Alice request mediate"
   ]
  },
  {
   "cell_type": "code",
   "execution_count": 34,
   "metadata": {},
   "outputs": [],
   "source": [
    "alice_mediate_grant = Message(\n",
    "    custom_headers = [{\"return_route\": \"all\"}],\n",
    "    id = str(uuid.uuid4()),\n",
    "    type = \"https://didcomm.org/coordinate-mediation/2.0/mediate-request\",\n",
    "    body = {}\n",
    ")"
   ]
  },
  {
   "cell_type": "code",
   "execution_count": 35,
   "metadata": {},
   "outputs": [],
   "source": [
    "alice_mediate_grant_packed = await pack_encrypted(\n",
    "    resolvers_config = ResolversConfig(\n",
    "        secrets_resolver = secrets_resolver,\n",
    "        did_resolver = DIDResolverPeerDID()\n",
    "    ),\n",
    "    message = alice_mediate_grant,\n",
    "    frm = alice_did_for_mediator,\n",
    "    to = received_msg_decoded[\"from\"],\n",
    "    sign_frm = None,\n",
    "    pack_config = PackEncryptedConfig(protect_sender_id=False)\n",
    ")"
   ]
  },
  {
   "cell_type": "markdown",
   "metadata": {},
   "source": [
    "### Sending to Mediator"
   ]
  },
  {
   "cell_type": "code",
   "execution_count": 36,
   "metadata": {},
   "outputs": [
    {
     "name": "stdout",
     "output_type": "stream",
     "text": [
      "https://mediator.rootsid.cloud\n"
     ]
    }
   ],
   "source": [
    "mediator_did_doc = json.loads(peer_did.resolve_peer_did(received_msg_decoded[\"from\"]))\n",
    "mediator_endpoint = mediator_did_doc[\"service\"][0][\"serviceEndpoint\"]\n",
    "print(mediator_endpoint)"
   ]
  },
  {
   "cell_type": "code",
   "execution_count": 37,
   "metadata": {},
   "outputs": [],
   "source": [
    "headers = {\"Content-Type\": \"application/didcomm-encrypted+json\"}\n",
    "resp = requests.post(mediator_endpoint, headers=headers, data = alice_mediate_grant_packed.packed_msg)\n"
   ]
  },
  {
   "cell_type": "code",
   "execution_count": 38,
   "metadata": {},
   "outputs": [
    {
     "name": "stdout",
     "output_type": "stream",
     "text": [
      "{'message': 'Service Unavailable'}\n"
     ]
    }
   ],
   "source": [
    "print(resp.json())"
   ]
  },
  {
   "cell_type": "markdown",
   "metadata": {},
   "source": [
    "### Get mediator grant response"
   ]
  },
  {
   "cell_type": "code",
   "execution_count": 19,
   "metadata": {},
   "outputs": [
    {
     "ename": "MalformedMessageError",
     "evalue": "MalformedMessageCode.INVALID_PLAINTEXT",
     "output_type": "error",
     "traceback": [
      "\u001b[0;31m---------------------------------------------------------------------------\u001b[0m",
      "\u001b[0;31mMalformedMessageError\u001b[0m                     Traceback (most recent call last)",
      "Input \u001b[0;32mIn [19]\u001b[0m, in \u001b[0;36m<cell line: 1>\u001b[0;34m()\u001b[0m\n\u001b[0;32m----> 1\u001b[0m mediator_unpack_msg \u001b[38;5;241m=\u001b[39m \u001b[38;5;28;01mawait\u001b[39;00m unpack(\n\u001b[1;32m      2\u001b[0m     resolvers_config\u001b[38;5;241m=\u001b[39mResolversConfig(\n\u001b[1;32m      3\u001b[0m         secrets_resolver\u001b[38;5;241m=\u001b[39msecrets_resolver,\n\u001b[1;32m      4\u001b[0m         did_resolver\u001b[38;5;241m=\u001b[39mDIDResolverPeerDID()\n\u001b[1;32m      5\u001b[0m     ),\n\u001b[1;32m      6\u001b[0m     packed_msg\u001b[38;5;241m=\u001b[39m resp\u001b[38;5;241m.\u001b[39mjson()\n\u001b[1;32m      7\u001b[0m )\n\u001b[1;32m      8\u001b[0m \u001b[38;5;28mprint\u001b[39m(mediator_unpack_msg\u001b[38;5;241m.\u001b[39mmessage\u001b[38;5;241m.\u001b[39mtype)\n\u001b[1;32m      9\u001b[0m \u001b[38;5;28mprint\u001b[39m(\u001b[38;5;124m\"\u001b[39m\u001b[38;5;124mRouting Key: \u001b[39m\u001b[38;5;124m\"\u001b[39m \u001b[38;5;241m+\u001b[39m mediator_unpack_msg\u001b[38;5;241m.\u001b[39mmessage\u001b[38;5;241m.\u001b[39mbody[\u001b[38;5;124m\"\u001b[39m\u001b[38;5;124mrouting_did\u001b[39m\u001b[38;5;124m\"\u001b[39m])\n",
      "File \u001b[0;32m/opt/homebrew/lib/python3.9/site-packages/didcomm/unpack.py:64\u001b[0m, in \u001b[0;36munpack\u001b[0;34m(resolvers_config, packed_msg, unpack_config)\u001b[0m\n\u001b[1;32m     53\u001b[0m     \u001b[38;5;28;01mraise\u001b[39;00m DIDCommValueError(\n\u001b[1;32m     54\u001b[0m         \u001b[38;5;124mf\u001b[39m\u001b[38;5;124m\"\u001b[39m\u001b[38;5;124munexpected type of packed_message: \u001b[39m\u001b[38;5;124m'\u001b[39m\u001b[38;5;132;01m{\u001b[39;00m\u001b[38;5;28mtype\u001b[39m(packed_msg)\u001b[38;5;132;01m}\u001b[39;00m\u001b[38;5;124m'\u001b[39m\u001b[38;5;124m\"\u001b[39m\n\u001b[1;32m     55\u001b[0m     )\n\u001b[1;32m     57\u001b[0m metadata \u001b[38;5;241m=\u001b[39m Metadata(\n\u001b[1;32m     58\u001b[0m     encrypted\u001b[38;5;241m=\u001b[39m\u001b[38;5;28;01mFalse\u001b[39;00m,\n\u001b[1;32m     59\u001b[0m     authenticated\u001b[38;5;241m=\u001b[39m\u001b[38;5;28;01mFalse\u001b[39;00m,\n\u001b[1;32m     60\u001b[0m     non_repudiation\u001b[38;5;241m=\u001b[39m\u001b[38;5;28;01mFalse\u001b[39;00m,\n\u001b[1;32m     61\u001b[0m     anonymous_sender\u001b[38;5;241m=\u001b[39m\u001b[38;5;28;01mFalse\u001b[39;00m,\n\u001b[1;32m     62\u001b[0m )\n\u001b[0;32m---> 64\u001b[0m \u001b[38;5;28;01mreturn\u001b[39;00m \u001b[38;5;28;01mawait\u001b[39;00m _do_unpack(resolvers_config, packed_msg, unpack_config, metadata)\n",
      "File \u001b[0;32m/opt/homebrew/lib/python3.9/site-packages/didcomm/unpack.py:131\u001b[0m, in \u001b[0;36m_do_unpack\u001b[0;34m(resolvers_config, packed_msg, unpack_config, metadata)\u001b[0m\n\u001b[1;32m    126\u001b[0m from_prior_issuer_kid \u001b[38;5;241m=\u001b[39m \u001b[38;5;28;01mawait\u001b[39;00m unpack_from_prior_in_place(\n\u001b[1;32m    127\u001b[0m     msg_as_dict, resolvers_config\n\u001b[1;32m    128\u001b[0m )\n\u001b[1;32m    129\u001b[0m metadata\u001b[38;5;241m.\u001b[39mfrom_prior_issuer_kid \u001b[38;5;241m=\u001b[39m from_prior_issuer_kid\n\u001b[0;32m--> 131\u001b[0m message \u001b[38;5;241m=\u001b[39m \u001b[43mMessage\u001b[49m\u001b[38;5;241;43m.\u001b[39;49m\u001b[43mfrom_dict\u001b[49m\u001b[43m(\u001b[49m\u001b[43mmsg_as_dict\u001b[49m\u001b[43m)\u001b[49m\n\u001b[1;32m    133\u001b[0m \u001b[38;5;28;01mreturn\u001b[39;00m UnpackResult(message\u001b[38;5;241m=\u001b[39mmessage, metadata\u001b[38;5;241m=\u001b[39mmetadata)\n",
      "File \u001b[0;32m/opt/homebrew/lib/python3.9/site-packages/didcomm/message.py:123\u001b[0m, in \u001b[0;36mGenericMessage.from_dict\u001b[0;34m(cls, d)\u001b[0m\n\u001b[1;32m    121\u001b[0m \u001b[38;5;28;01mfor\u001b[39;00m f \u001b[38;5;129;01min\u001b[39;00m (\u001b[38;5;124m\"\u001b[39m\u001b[38;5;124mid\u001b[39m\u001b[38;5;124m\"\u001b[39m, \u001b[38;5;124m\"\u001b[39m\u001b[38;5;124mtype\u001b[39m\u001b[38;5;124m\"\u001b[39m, \u001b[38;5;124m\"\u001b[39m\u001b[38;5;124mbody\u001b[39m\u001b[38;5;124m\"\u001b[39m, \u001b[38;5;124m\"\u001b[39m\u001b[38;5;124mtyp\u001b[39m\u001b[38;5;124m\"\u001b[39m):\n\u001b[1;32m    122\u001b[0m     \u001b[38;5;28;01mif\u001b[39;00m f \u001b[38;5;129;01mnot\u001b[39;00m \u001b[38;5;129;01min\u001b[39;00m d:\n\u001b[0;32m--> 123\u001b[0m         \u001b[38;5;28;01mraise\u001b[39;00m MalformedMessageError(MalformedMessageCode\u001b[38;5;241m.\u001b[39mINVALID_PLAINTEXT)\n\u001b[1;32m    125\u001b[0m \u001b[38;5;28;01mif\u001b[39;00m d[\u001b[38;5;124m\"\u001b[39m\u001b[38;5;124mtyp\u001b[39m\u001b[38;5;124m\"\u001b[39m] \u001b[38;5;241m!=\u001b[39m DIDCommMessageTypes\u001b[38;5;241m.\u001b[39mPLAINTEXT\u001b[38;5;241m.\u001b[39mvalue:\n\u001b[1;32m    126\u001b[0m     \u001b[38;5;28;01mraise\u001b[39;00m MalformedMessageError(MalformedMessageCode\u001b[38;5;241m.\u001b[39mINVALID_PLAINTEXT)\n",
      "\u001b[0;31mMalformedMessageError\u001b[0m: MalformedMessageCode.INVALID_PLAINTEXT"
     ]
    }
   ],
   "source": [
    "mediator_unpack_msg = await unpack(\n",
    "    resolvers_config=ResolversConfig(\n",
    "        secrets_resolver=secrets_resolver,\n",
    "        did_resolver=DIDResolverPeerDID()\n",
    "    ),\n",
    "    packed_msg= resp.json()\n",
    ")\n",
    "print(mediator_unpack_msg.message.type)\n",
    "print(\"Routing Key: \" + mediator_unpack_msg.message.body[\"routing_did\"])\n",
    "print(\"Mediator new DID: \" + mediator_unpack_msg.message.from_prior.sub)\n",
    "# mediator rotated did\n",
    "mediator_routing_key = mediator_unpack_msg.message.body[\"routing_did\"]\n",
    "mediator_did = mediator_unpack_msg.message.from_prior.sub"
   ]
  },
  {
   "cell_type": "markdown",
   "metadata": {},
   "source": [
    "### Keylist update"
   ]
  },
  {
   "cell_type": "markdown",
   "metadata": {},
   "source": [
    "Alice create a new DID to share with  other peers using mediator routing keys "
   ]
  },
  {
   "cell_type": "code",
   "execution_count": 56,
   "metadata": {},
   "outputs": [
    {
     "name": "stdout",
     "output_type": "stream",
     "text": [
      "{'crv': 'Ed25519', 'x': '2b2ePwb2rEl3q9FjbLMoF4ZcKAs4eJUSHta_TTxgdQM', 'd': 'D7hojt0265TRdORsE38UEd5ww3jyuEfZ4YrhAJrT51w', 'kty': 'OKP', 'kid': 'did:peer:2.Ez6LSoqh2gx4zZyKwrsKZMaHmzdnsrfZkhozrNgnKYbF5Fhji.Vz6Mku7EDS1Eujjxr3cxEykJSxjTgVSVB6cXm9grSsosbD1nJ.SeyJpZCI6Im5ldy1pZCIsInQiOiJkbSIsInMiOlt7InVyaSI6ImRpZDpwZWVyOjIuRXo2TFNvbTlKMThCeFBCSFlIWmJ3cnpBZXVNeDV5cTR2dDdSZGVpVEdZZWFBaTFjZC5WejZNa29NbnpzbTlXamVwYkJiTFNmVHdpQlZiUmkyUUtGRHpxVDdya1FiaXNua29ULlNleUpwWkNJNkltNWxkeTFwWkNJc0luUWlPaUprYlNJc0luTWlPaUpvZEhSd09pOHZNVEkzTGpBdU1DNHhPamd3TURBaUxDSmhJanBiSW1ScFpHTnZiVzB2ZGpJaVhYMCJ9XSwiYSI6WyJkaWRjb21tL3YyIl19#6Mku7EDS1Eujjxr3cxEykJSxjTgVSVB6cXm9grSsosbD1nJ'}\n",
      "{'crv': 'X25519', 'x': 'tLw9ITSsMb3iqnWceAi37D8jSseBd4mLfto6d9y3Wn0', 'd': 'cOQMUnKI9JnqcyooHaUPMeRFr40IL_YRSPnDxSkpjVA', 'kty': 'OKP', 'kid': 'did:peer:2.Ez6LSoqh2gx4zZyKwrsKZMaHmzdnsrfZkhozrNgnKYbF5Fhji.Vz6Mku7EDS1Eujjxr3cxEykJSxjTgVSVB6cXm9grSsosbD1nJ.SeyJpZCI6Im5ldy1pZCIsInQiOiJkbSIsInMiOlt7InVyaSI6ImRpZDpwZWVyOjIuRXo2TFNvbTlKMThCeFBCSFlIWmJ3cnpBZXVNeDV5cTR2dDdSZGVpVEdZZWFBaTFjZC5WejZNa29NbnpzbTlXamVwYkJiTFNmVHdpQlZiUmkyUUtGRHpxVDdya1FiaXNua29ULlNleUpwWkNJNkltNWxkeTFwWkNJc0luUWlPaUprYlNJc0luTWlPaUpvZEhSd09pOHZNVEkzTGpBdU1DNHhPamd3TURBaUxDSmhJanBiSW1ScFpHTnZiVzB2ZGpJaVhYMCJ9XSwiYSI6WyJkaWRjb21tL3YyIl19#6LSoqh2gx4zZyKwrsKZMaHmzdnsrfZkhozrNgnKYbF5Fhji'}\n",
      "Alice's DID for Bob: did:peer:2.Ez6LSoqh2gx4zZyKwrsKZMaHmzdnsrfZkhozrNgnKYbF5Fhji.Vz6Mku7EDS1Eujjxr3cxEykJSxjTgVSVB6cXm9grSsosbD1nJ.SeyJpZCI6Im5ldy1pZCIsInQiOiJkbSIsInMiOlt7InVyaSI6ImRpZDpwZWVyOjIuRXo2TFNvbTlKMThCeFBCSFlIWmJ3cnpBZXVNeDV5cTR2dDdSZGVpVEdZZWFBaTFjZC5WejZNa29NbnpzbTlXamVwYkJiTFNmVHdpQlZiUmkyUUtGRHpxVDdya1FiaXNua29ULlNleUpwWkNJNkltNWxkeTFwWkNJc0luUWlPaUprYlNJc0luTWlPaUpvZEhSd09pOHZNVEkzTGpBdU1DNHhPamd3TURBaUxDSmhJanBiSW1ScFpHTnZiVzB2ZGpJaVhYMCJ9XSwiYSI6WyJkaWRjb21tL3YyIl19\n"
     ]
    }
   ],
   "source": [
    "#alice_did_new = await create_peer_did(1, 1, service_endpoint=mediator_endpoint, service_routing_keys=[mediator_routing_key])\n",
    "alice_did_for_bob = await create_peer_did(1, 1, service_endpoint=[{\"uri\": mediator_routing_key}])\n",
    "\n",
    "print(\"Alice's DID for Bob:\", alice_did_for_bob)"
   ]
  },
  {
   "cell_type": "markdown",
   "metadata": {},
   "source": [
    "Alice create and send the keylist update message"
   ]
  },
  {
   "cell_type": "code",
   "execution_count": 57,
   "metadata": {},
   "outputs": [],
   "source": [
    "alice_keylist_update = Message(\n",
    "    id = \"unique-id-293e9a922efff\",\n",
    "    type = \"https://didcomm.org/coordinate-mediation/2.0/keylist-update\",\n",
    "    body = {\n",
    "        \"updates\":[\n",
    "        {\n",
    "            \"recipient_did\": alice_did_for_bob,\n",
    "            \"action\": \"add\"\n",
    "        }\n",
    "    ]\n",
    "    }\n",
    ")"
   ]
  },
  {
   "cell_type": "code",
   "execution_count": 58,
   "metadata": {},
   "outputs": [],
   "source": [
    "alice_keylist_update_packed_msg = await pack_encrypted(\n",
    "    resolvers_config = ResolversConfig(\n",
    "        secrets_resolver = secrets_resolver,\n",
    "        did_resolver = DIDResolverPeerDID()\n",
    "    ),\n",
    "    message = alice_keylist_update,\n",
    "    frm = alice_did_for_mediator,\n",
    "    to = mediator_did,\n",
    "    sign_frm = None,\n",
    "    pack_config = PackEncryptedConfig(protect_sender_id=False)\n",
    ")"
   ]
  },
  {
   "cell_type": "code",
   "execution_count": 59,
   "metadata": {},
   "outputs": [],
   "source": [
    "headers = {\"Content-Type\": \"application/didcomm-encrypted+json\"}\n",
    "resp = requests.post(mediator_endpoint, headers=headers, data = alice_keylist_update_packed_msg.packed_msg)"
   ]
  },
  {
   "cell_type": "code",
   "execution_count": 60,
   "metadata": {},
   "outputs": [
    {
     "name": "stdout",
     "output_type": "stream",
     "text": [
      "https://didcomm.org/coordinate-mediation/2.0/keylist-update-response\n",
      "{'updated': [{'recipient_did': 'did:peer:2.Ez6LSoqh2gx4zZyKwrsKZMaHmzdnsrfZkhozrNgnKYbF5Fhji.Vz6Mku7EDS1Eujjxr3cxEykJSxjTgVSVB6cXm9grSsosbD1nJ.SeyJpZCI6Im5ldy1pZCIsInQiOiJkbSIsInMiOlt7InVyaSI6ImRpZDpwZWVyOjIuRXo2TFNvbTlKMThCeFBCSFlIWmJ3cnpBZXVNeDV5cTR2dDdSZGVpVEdZZWFBaTFjZC5WejZNa29NbnpzbTlXamVwYkJiTFNmVHdpQlZiUmkyUUtGRHpxVDdya1FiaXNua29ULlNleUpwWkNJNkltNWxkeTFwWkNJc0luUWlPaUprYlNJc0luTWlPaUpvZEhSd09pOHZNVEkzTGpBdU1DNHhPamd3TURBaUxDSmhJanBiSW1ScFpHTnZiVzB2ZGpJaVhYMCJ9XSwiYSI6WyJkaWRjb21tL3YyIl19', 'action': 'add', 'result': 'success'}]}\n"
     ]
    }
   ],
   "source": [
    "mediator_unpack_msg2 = await unpack(\n",
    "    resolvers_config=ResolversConfig(\n",
    "        secrets_resolver=secrets_resolver,\n",
    "        did_resolver=DIDResolverPeerDID()\n",
    "    ),\n",
    "    packed_msg= resp.json()\n",
    ")\n",
    "print(mediator_unpack_msg2.message.type)\n",
    "print(mediator_unpack_msg2.message.body)\n"
   ]
  },
  {
   "cell_type": "markdown",
   "metadata": {},
   "source": [
    "### Alice can now send her DID to Bob."
   ]
  },
  {
   "cell_type": "markdown",
   "metadata": {},
   "source": [
    "### Alice check status of queued messages from the Mediator"
   ]
  },
  {
   "cell_type": "code",
   "execution_count": 61,
   "metadata": {},
   "outputs": [],
   "source": [
    "alice_status_check = Message(\n",
    "    id = \"unique-id-293e9a922efffxxx\",\n",
    "    type = \"https://didcomm.org/messagepickup/3.0/status-request\",\n",
    "    body = {}\n",
    ")"
   ]
  },
  {
   "cell_type": "code",
   "execution_count": 111,
   "metadata": {},
   "outputs": [],
   "source": [
    "alice_status_check_packed_msg = await pack_encrypted(\n",
    "    resolvers_config = ResolversConfig(\n",
    "        secrets_resolver = secrets_resolver,\n",
    "        did_resolver = DIDResolverPeerDID()\n",
    "    ),\n",
    "    message = alice_status_check,\n",
    "    to = mediator_did,\n",
    "    frm = alice_did_for_mediator,\n",
    "    sign_frm = None,\n",
    "    pack_config = PackEncryptedConfig(protect_sender_id=False)\n",
    ")\n",
    "headers = {\"Content-Type\": \"application/didcomm-encrypted+json\"}\n",
    "resp3 = requests.post(mediator_endpoint, headers=headers, data = alice_status_check_packed_msg.packed_msg)"
   ]
  },
  {
   "cell_type": "code",
   "execution_count": 112,
   "metadata": {},
   "outputs": [
    {
     "name": "stdout",
     "output_type": "stream",
     "text": [
      "https://didcomm.org/messagepickup/3.0/status\n",
      "Messages in Mediator queue: 5\n"
     ]
    }
   ],
   "source": [
    "mediator_unpack_status = await unpack(\n",
    "    resolvers_config=ResolversConfig(\n",
    "        secrets_resolver=secrets_resolver,\n",
    "        did_resolver=DIDResolverPeerDID()\n",
    "    ),\n",
    "    packed_msg= resp3.json()\n",
    ")\n",
    "print(mediator_unpack_status.message.type)\n",
    "print(\"Messages in Mediator queue: \" + str(mediator_unpack_status.message.body[\"message_count\"]))"
   ]
  },
  {
   "cell_type": "markdown",
   "metadata": {},
   "source": [
    "### If there are messages, Alice can pickup from the mediator (delivery request)"
   ]
  },
  {
   "cell_type": "code",
   "execution_count": 124,
   "metadata": {},
   "outputs": [],
   "source": [
    "alice_delivery_request = Message(\n",
    "    id = \"unique-id-293e9a922efffxxxff\",\n",
    "    type = \"https://didcomm.org/messagepickup/3.0/delivery-request\",\n",
    "    body = {\"limit\": 1}\n",
    ")"
   ]
  },
  {
   "cell_type": "code",
   "execution_count": 125,
   "metadata": {},
   "outputs": [],
   "source": [
    "alice_delivery_request_packed_msg = await pack_encrypted(\n",
    "    resolvers_config = ResolversConfig(\n",
    "        secrets_resolver = secrets_resolver,\n",
    "        did_resolver = DIDResolverPeerDID()\n",
    "    ),\n",
    "    message = alice_delivery_request,\n",
    "    to = mediator_did,\n",
    "    frm = alice_did_for_mediator,\n",
    "    sign_frm = None,\n",
    "    pack_config = PackEncryptedConfig(protect_sender_id=False)\n",
    ")\n",
    "headers = {\"Content-Type\": \"application/didcomm-encrypted+json\"}\n",
    "resp4 = requests.post(mediator_endpoint, headers=headers, data = alice_delivery_request_packed_msg.packed_msg)"
   ]
  },
  {
   "cell_type": "code",
   "execution_count": 126,
   "metadata": {},
   "outputs": [
    {
     "name": "stdout",
     "output_type": "stream",
     "text": [
      "https://didcomm.org/messagepickup/3.0/delivery\n",
      "{'recipient_key': None}\n"
     ]
    }
   ],
   "source": [
    "mediator_delivery = await unpack(\n",
    "    resolvers_config=ResolversConfig(\n",
    "        secrets_resolver=secrets_resolver,\n",
    "        did_resolver=DIDResolverPeerDID()\n",
    "    ),\n",
    "    packed_msg= resp4.json()\n",
    ")\n",
    "print(mediator_delivery.message.type)\n",
    "print(mediator_delivery.message.body)"
   ]
  },
  {
   "cell_type": "code",
   "execution_count": 127,
   "metadata": {},
   "outputs": [],
   "source": [
    "bob_packed_msg = mediator_delivery.message.attachments[0].data.json\n",
    "msg_id = mediator_delivery.message.attachments[0].id"
   ]
  },
  {
   "cell_type": "code",
   "execution_count": 128,
   "metadata": {},
   "outputs": [
    {
     "name": "stdout",
     "output_type": "stream",
     "text": [
      "{'protected': 'eyJ0eXAiOiJhcHBsaWNhdGlvbi9kaWRjb21tLWVuY3J5cHRlZCtqc29uIiwiYWxnIjoiRUNESC0xUFUrQTI1NktXIiwiZW5jIjoiQTI1NkNCQy1IUzUxMiIsImFwdSI6IlpHbGtPbkJsWlhJNk1pNUZlalpNVTNSeFUxRlVlVEZ1U25rNFZrVldURkZ6YVdaMU1URjVZMlZoVFhWeGNWZHRWSFZMZUdseWVHWTNkR1ZLTGxaNk5rMXJabnB6V1d0dGJsaEtXSGRCYTFRMlRGSmFVRlpFUVhkNWFURkdaRlpqV0RReVpuQTNNVU4xY1hRNGNtUXVVMlY1U25CYVEwazJTVzAxYkdSNU1YQmFRMGx6U1c1UmFVOXBTbXRpVTBselNXNU5hVTlwU205a1NGSjNZM3B2ZGt3elpETmtlVFZzWlVkR2RHTkhlR3hNYlU1MllsTTVhV0l5U1dsTVEwcG9TV3B3WWtsdFVuQmFSMDUyWWxjd2RtUnFTV2xZV0RBak5reFRkSEZUVVZSNU1XNUtlVGhXUlZaTVVYTnBablV4TVhsalpXRk5kWEZ4VjIxVWRVdDRhWEo0WmpkMFpVbyIsImFwdiI6Ik44N21JX0dWUHMtNm54LWVPb09UZktUX3JqWjRLbmZmaVMyWVVVXzVoZkEiLCJza2lkIjoiZGlkOnBlZXI6Mi5FejZMU3RxU1FUeTFuSnk4VkVWTFFzaWZ1MTF5Y2VhTXVxcVdtVHVLeGlyeGY3dGVKLlZ6Nk1rZnpzWWttblhKWHdBa1Q2TFJaUFZEQXd5aTFGZFZjWDQyZnA3MUN1cXQ4cmQuU2V5SnBaQ0k2SW01bGR5MXBaQ0lzSW5RaU9pSmtiU0lzSW5NaU9pSm9kSFJ3Y3pvdkwzZDNkeTVsZUdGdGNHeGxMbU52YlM5aWIySWlMQ0poSWpwYkltUnBaR052YlcwdmRqSWlYWDAjNkxTdHFTUVR5MW5KeThWRVZMUXNpZnUxMXljZWFNdXFxV21UdUt4aXJ4Zjd0ZUoiLCJlcGsiOnsiY3J2IjoiWDI1NTE5IiwieCI6IkxaNVQ3SkQ4ZXRPeWJPRmxzOWdZX2N0aktjUGRid08xNTRRdUhXNXlZeE0iLCJrdHkiOiJPS1AifX0', 'recipients': [{'header': {'kid': 'did:peer:2.Ez6LSg1C7dBnjcvAPfz3QSb5mNReNgGSbY1gXtpsK8RYJqgZ9.Vz6MksJY4VEHnUbmFfPknQfqyJQH1NjvnmiaaK2GAR7MEHi5u.SeyJpZCI6Im5ldy1pZCIsInQiOiJkbSIsInMiOiJkaWQ6cGVlcjoyLkV6NkxTcXlWdkxpazViZDNFOFlpR1lHTll3Vlp3ZFY4VEtBNk5KUmJ5V2NXYjNRbjQuVno2TWtrU1FHdHM1dGpGU2pXUWR1cHQ4VVQ5aDhaRkp0WFoxeGlxQ24yMmVSZFZiRC5TZXlKcFpDSTZJbTVsZHkxcFpDSXNJblFpT2lKa2JTSXNJbk1pT2lKb2RIUndjem92TDIxbFpHbGhkRzl5TG5KdmIzUnphV1F1WTJ4dmRXUWlMQ0poSWpwYkltUnBaR052YlcwdmRqSWlYWDAiLCJhIjpbImRpZGNvbW0vdjIiXX0#6LSg1C7dBnjcvAPfz3QSb5mNReNgGSbY1gXtpsK8RYJqgZ9'}, 'encrypted_key': 'XUCh8n-SAkFSFCrhndclbraCNEcqxh004FxeJZ_75MJM9DvqFjs2BW8ULHLCl2vUA_Ft9BI_vCeaS9c772D5iLtNRp2KGqBn'}], 'iv': '8B3Xi0CHCgwCLJnMoyRESA', 'ciphertext': 'JOPbxR_U_6rRFZpZwrtKS0Sw2dCrnDmQpKLLdbicLeKy_YWRGoI5OkJxFdr9P6BtyQGS-w16aZJAmrhORdBtv4PERppOYX8MIONDvd7VH8kAJfO3yLUhloFFa9K2ube9Fzf6WuCWkccrhrT5CIbenxq5HwOE9M-gDjCrZ4VLMwq_N_RbK1FjjkZi3fuYuYflS8AhLkg363U0lChKA6UAtMtBXipzL5gxlo9I7d-kQhVJxKdST4Y3sdLd1FDq6tcDYv21u09MXf5zn7MzNoLJ2w', 'tag': 'FeXRa8u0QBdQubEl3Xk-Kj6PlaeuZJ-7lPWUfTNS1Pw'}\n"
     ]
    }
   ],
   "source": [
    "print(bob_packed_msg)"
   ]
  },
  {
   "cell_type": "code",
   "execution_count": 129,
   "metadata": {},
   "outputs": [],
   "source": [
    "bob_msg = await unpack(\n",
    "    resolvers_config=ResolversConfig(\n",
    "        secrets_resolver=secrets_resolver,\n",
    "        did_resolver=DIDResolverPeerDID()\n",
    "    ),\n",
    "    packed_msg= bob_packed_msg\n",
    ")"
   ]
  },
  {
   "cell_type": "code",
   "execution_count": 130,
   "metadata": {},
   "outputs": [
    {
     "name": "stdout",
     "output_type": "stream",
     "text": [
      "Message ID: 62fa69fc76d05e5e6b96c65b\n",
      "Hola Alice\n"
     ]
    }
   ],
   "source": [
    "print(\"Message ID:\", msg_id)\n",
    "print(bob_msg.message.body[\"content\"])"
   ]
  },
  {
   "cell_type": "markdown",
   "metadata": {},
   "source": [
    "### Alice acknowledge so the mediator can delete the message"
   ]
  },
  {
   "cell_type": "code",
   "execution_count": 131,
   "metadata": {},
   "outputs": [],
   "source": [
    "alice_ack = Message(\n",
    "    id = \"unique-id-293e9a922efffxxxffsss\",\n",
    "    type = \"https://didcomm.org/messagepickup/3.0/messages-received\",\n",
    "    body = {\"message_id_list\": [msg_id]}\n",
    ")"
   ]
  },
  {
   "cell_type": "code",
   "execution_count": 132,
   "metadata": {},
   "outputs": [],
   "source": [
    "alice_ack_packed_msg = await pack_encrypted(\n",
    "    resolvers_config = ResolversConfig(\n",
    "        secrets_resolver = secrets_resolver,\n",
    "        did_resolver = DIDResolverPeerDID()\n",
    "    ),\n",
    "    message = alice_ack,\n",
    "    to = mediator_did,\n",
    "    frm = alice_did_for_mediator,\n",
    "    sign_frm = None,\n",
    "    pack_config = PackEncryptedConfig(protect_sender_id=False)\n",
    ")\n",
    "headers = {\"Content-Type\": \"application/didcomm-encrypted+json\"}\n",
    "resp5 = requests.post(mediator_endpoint, headers=headers, data = alice_ack_packed_msg.packed_msg)"
   ]
  },
  {
   "cell_type": "code",
   "execution_count": 133,
   "metadata": {},
   "outputs": [
    {
     "name": "stdout",
     "output_type": "stream",
     "text": [
      "https://didcomm.org/messagepickup/3.0/status\n",
      "{'message_count': 3, 'live_delivery': False}\n"
     ]
    }
   ],
   "source": [
    "mediator_ack_status = await unpack(\n",
    "    resolvers_config=ResolversConfig(\n",
    "        secrets_resolver=secrets_resolver,\n",
    "        did_resolver=DIDResolverPeerDID()\n",
    "    ),\n",
    "    packed_msg= resp5.json()\n",
    ")\n",
    "print(mediator_ack_status.message.type)\n",
    "print(mediator_ack_status.message.body)"
   ]
  },
  {
   "cell_type": "code",
   "execution_count": null,
   "metadata": {},
   "outputs": [],
   "source": []
  },
  {
   "cell_type": "code",
   "execution_count": null,
   "metadata": {},
   "outputs": [],
   "source": []
  },
  {
   "cell_type": "markdown",
   "metadata": {},
   "source": [
    "-------------------"
   ]
  },
  {
   "cell_type": "code",
   "execution_count": 44,
   "metadata": {},
   "outputs": [],
   "source": [
    "mongo = MongoClient()"
   ]
  },
  {
   "cell_type": "code",
   "execution_count": 54,
   "metadata": {},
   "outputs": [],
   "source": [
    "db = mongo.mediator\n"
   ]
  },
  {
   "cell_type": "code",
   "execution_count": 75,
   "metadata": {},
   "outputs": [],
   "source": [
    "con = db.connections.find_one({\"remote_did\":alice_did})"
   ]
  },
  {
   "cell_type": "code",
   "execution_count": 76,
   "metadata": {},
   "outputs": [
    {
     "name": "stdout",
     "output_type": "stream",
     "text": [
      "['did:peer:2.Ez6LSq3s3WPhCnY26D6zSs4YUKoLMFpWwdQHWt7AMRUtTpx9U.Vz6MkuNqx9roenhEFxPe9oQrZH2re6iHmgdE8cEJ1kB9W422d.SeyJpZCI6Im5ldy1pZCIsInQiOiJkbSIsInMiOlt7InVyaSI6Imh0dHA6Ly8xMjcuMC4wLjE6ODAwMCIsImEiOlsiZGlkY29tbS92MiIsImRpZGNvbW0vYWlwMjtlbnY9cmZjNTg3Il0sInIiOlsiZGlkOnBlZXI6Mi5FejZMU2luN002bUt5aXUxd3liU0dUZFo5NVBhSFl6N0RERmk0WDFqQWc5UDN3a2VnLlZ6Nk1ra1ZBcGdnbWlxRGU4SkR3MTRpZVE2UTR3UW5yUUVxZVA4ZVVHdkxRendkTHcuU2V5SnBaQ0k2SW01bGR5MXBaQ0lzSW5RaU9pSmtiU0lzSW5NaU9pSm9kSFJ3T2k4dk1USTNMakF1TUM0eE9qZ3dNREFpTENKaElqcGJJbVJwWkdOdmJXMHZkaklpWFgwIl19XSwiYSI6WyJkaWRjb21tL3YyIl19']\n"
     ]
    }
   ],
   "source": [
    "print(con[\"keylist\"])"
   ]
  },
  {
   "cell_type": "code",
   "execution_count": 63,
   "metadata": {},
   "outputs": [],
   "source": [
    "msgs = db.messages.find({\"recipient_key\": {\"$in\":con[\"keylist\"]}},{\"attachment\":1}).limit(10)"
   ]
  },
  {
   "cell_type": "code",
   "execution_count": 111,
   "metadata": {},
   "outputs": [],
   "source": [
    "rec_key = \"did:peer:2.Ez6LSi2yQqo79XoGN2dVFHLvS7y4wgnUP5MnvDLoeCenWCVMj.Vz6MkjUDxPJFqo1PCxsTjU5W6N1R9S2Bd2MiW85BuwJ21RWYP.SeyJpZCI6Im5ldy1pZCIsInQiOiJkbSIsInMiOiJodHRwOi8vMTI3LjAuMC4xOjgwMDAiLCJhIjpbImRpZGNvbW0vdjIiXSwiciI6WyJkaWQ6cGVlcjoyLkV6NkxTb1Q5ajZMN2oyV3lHeXhqNk5XREZablVrRno1Mkg1ZjVNNzV3clB2MVA4R3AuVno2TWtpVGltRk45dXNhMmtiMUs2cmRRQkRSY1dSVUw4akNUbVJTRXF1SmtFdkYxQS5TZXlKcFpDSTZJbTVsZHkxcFpDSXNJblFpT2lKa2JTSXNJbk1pT2lKb2RIUndPaTh2TVRJM0xqQXVNQzR4T2pnd01EQWlMQ0poSWpwYkltUnBaR052YlcwdmRqSWlYWDAiXX0\""
   ]
  },
  {
   "cell_type": "code",
   "execution_count": 125,
   "metadata": {},
   "outputs": [],
   "source": [
    "msgs = db.messages.find({\"recipient_key\": {\"$in\":[rec_key]}},{\"attachment\":1}).limit(10)"
   ]
  },
  {
   "cell_type": "code",
   "execution_count": 126,
   "metadata": {},
   "outputs": [],
   "source": [
    "mm= list(msgs)"
   ]
  },
  {
   "cell_type": "code",
   "execution_count": 128,
   "metadata": {},
   "outputs": [
    {
     "data": {
      "text/plain": [
       "1"
      ]
     },
     "execution_count": 128,
     "metadata": {},
     "output_type": "execute_result"
    }
   ],
   "source": [
    "len(mm)"
   ]
  },
  {
   "cell_type": "code",
   "execution_count": 276,
   "metadata": {},
   "outputs": [
    {
     "data": {
      "text/plain": [
       "[{'_id': ObjectId('62d7fad0c5799100ef16655a'),\n",
       "  'recipient_key': 'did:peer:2.Ez6LSi2yQqo79XoGN2dVFHLvS7y4wgnUP5MnvDLoeCenWCVMj.Vz6MkjUDxPJFqo1PCxsTjU5W6N1R9S2Bd2MiW85BuwJ21RWYP.SeyJpZCI6Im5ldy1pZCIsInQiOiJkbSIsInMiOiJodHRwOi8vMTI3LjAuMC4xOjgwMDAiLCJhIjpbImRpZGNvbW0vdjIiXSwiciI6WyJkaWQ6cGVlcjoyLkV6NkxTb1Q5ajZMN2oyV3lHeXhqNk5XREZablVrRno1Mkg1ZjVNNzV3clB2MVA4R3AuVno2TWtpVGltRk45dXNhMmtiMUs2cmRRQkRSY1dSVUw4akNUbVJTRXF1SmtFdkYxQS5TZXlKcFpDSTZJbTVsZHkxcFpDSXNJblFpT2lKa2JTSXNJbk1pT2lKb2RIUndPaTh2TVRJM0xqQXVNQzR4T2pnd01EQWlMQ0poSWpwYkltUnBaR052YlcwdmRqSWlYWDAiXX0',\n",
       "  'attachment': '{\"protected\":\"eyJ0eXAiOiJhcHBsaWNhdGlvbi9kaWRjb21tLWVuY3J5cHRlZCtqc29uIiwiYWxnIjoiRUNESC1FUytBMjU2S1ciLCJlbmMiOiJYQzIwUCIsImFwdiI6InJVNjNTbHAyc1JUc1hMUXd6S195M3VReXBDeV9WQW0taVpYVjRFUVBXemsiLCJlcGsiOnsiY3J2IjoiWDI1NTE5IiwieCI6IkZSX3FOOXFpRTRubnk5X1JDWFd4VWEyRzdmYVN4NGZUb1VTTE9mLVNnQXciLCJrdHkiOiJPS1AifX0\",\"recipients\":[{\"header\":{\"kid\":\"did:peer:2.Ez6LSoT9j6L7j2WyGyxj6NWDFZnUkFz52H5f5M75wrPv1P8Gp.Vz6MkiTimFN9usa2kb1K6rdQBDRcWRUL8jCTmRSEquJkEvF1A.SeyJpZCI6Im5ldy1pZCIsInQiOiJkbSIsInMiOiJodHRwOi8vMTI3LjAuMC4xOjgwMDAiLCJhIjpbImRpZGNvbW0vdjIiXX0#6LSoT9j6L7j2WyGyxj6NWDFZnUkFz52H5f5M75wrPv1P8Gp\"},\"encrypted_key\":\"AwWxCiR520AshdBJhzqY6_COt78w5MLZn-qdjyYV95th3Jhdb3tfbg\"}],\"iv\":\"rPNLQXqgs8nnQfHiy0X4TolsRqkK5qZ2\",\"ciphertext\":\"tqg1ApGYVgMAfvKU5KZwkDjoOiRNew8X3zYIYPDbf-uNSuQzEDSf9xH6P0rw2oE6iGx3zkGJI6nEqmZqOZSm_atvV_I_r4iWz4ItseZhuPBrI1g-y64_O_pLyXi0cr_0rcNXE_s84YHrijav3k_T8lvMFFuCDxW5ujdi9V6wARnV4atywIXERpE9KyV1g6xQYumUWYhBWh0j9JXn23ccAlqqdGVdTWLJFkCJpFjQfOQfAfM79wa6p6cvjuehaRTSQSgesChG9ahxZ8C4QL1nxgHxbNVFQV84o_hDcGgzO96H8SqiqplIThzQ6uN44g7w_10TgjJSIweOafT7MzkyFIBIQuT4hyenNHhf7fN65M2omRBlblQWGwGjNE8kZLJix3hC2BSeYkh9dlS3swjSFnkAZ14wy1IwStSg1R8fF7Au5vh2-1IQet1voMnuJdcrkk5DkXe_NnePjhr-ii2xwYPO_UPnZXa-9FplfO8ghRZYWEv2to77nK4uR-7X_VBLm8G785XGjbHerzgnhKbAbD8_KFjxmzbBw4QvHAs9WRMT_ysOf7j_2amCQKmxJzyUHiCma7Dy-zoLbOV2nwI2-X94JRCq-C8xZs-dyPNrkdiU_1_8djL830qPXmUoczbVNcXw9jBgr__eZn-rV2C-l9uTIaqCYHVDUgvLWDwKHy_CCdPpvB6E4EmRoe9wLIdqbdYw9XqSIx4ttnyddX3UIHjMLhUtljzB56OH-H9RK_n0PBWQO5yQ6c7BSE2_hQ-M-GkrUskhBaiypkSuNc5f-TSPED56YkDIr4iLhc-ocbv2xnmlf6Q4QfyQYYJm6DgrlsI3OjLnPabJ0kALKRwpqyI7YU7iiHHgGNjR1fg-PZ-vQDW7uMvOQiKvxQ5TUW3HxhR_TP_AtUas2e69bHXOqiEUNbqiqvcUUS3ulAndEX6Uf3R3qciOKTnSo7Vmz34x_eE9a8bUxp20pDpJ17Ayxcm4Fn1CSbQLRpxowJ53ioc_fL_7ZWFPTIozRsRiZWexBN9yTc41Ru_VQ6ukvUeg9kxq0COLDeWVxL8_gZJUW_N7frTkA1HiRS3Z9T_nWObbAlKIa8_-g5ojQfT8A9iqGxipznQZ7pUdvUsz5xjRNYTyUavqmnXh2OmmdpBw4TfDobOu4LvdYNi8fKzuWvDxz5v4waQdDWOIcqFkRx-bZH55LGnuEC8zSpVBwsVxbNYUQophth4L5jvMdZFVeX_u4ZpvQUOKFK4jLyGdI1l6Khmx7Nv4b7UWASF7b8ZxE2uXdARb-mRx8i5vUq1Dy0ukzymI_HR1Gp6rfN6TnuT850leTsli8S0dG7_gQwRBPHqgtMEOAooLBMZxcXesqb6Bt0_oR5kzhLH16lP2T-WEC77Ebyvl1M1cVmnb2wm3zoF7zvlZjq_FCT9Qc2H25Jbu0xHvlhImDq4zsM6h0cG4F9FjCpM-92X7S3bAYY9qZDcZRShl0g5u_eTJdGWisdxeALvazKNrgnM0BtR6YaFvx7koXfMSPTKtRADWF6gdRiY6vcPFG40LzWfbLMPsgv5ybBAVQYCfxdNVwRDYvBV4yii7jUpdQZDOVAzYcMRvK0Acni5DFoiIVlzGL9e8xc0ulp9uQtSHt7ma-GneXNJ7BNtgAsEtWqDHHhFyD4FSv1yi7M-bHhcYMgwXOp1eyTYc2zK2ci92LYXzub002wAidZe8TUgCS8NqhcQVOP88hnyRH003jO0oFnYh2ZzJ_OK1kVNLpT6zP_2go3SqTMuve5Mhw6xP_W_hBW3qr507KOPJyzvyZG9ID7b4CYeHBAjS1wP3ODlE4LSCY-jgmtpMef-HpiGDeE8uQHDq0UZEWWOhJweQzkAUvBt3srNMSXsPdgr0LDGhgrjgesLhTYtnLFDlNZKmu_AACY17L_4r2byvzSvQHcw56V-F3HG0f32hRkG8px9J9EAUIvFIZmxlMfUHD74OJcQXbzRI2ZLmJuhKU3CaRxjxyLGBHnRkeMXBMmIYWXu2HMPWYbPmA7hxqJFkQCy-8jZNoNPf59AXAhFU94dz5GtkBr8RFRLV1rVotOmbyadL5Xn_5QVe78zC1GjHkXQj2v40Wa8QNYVdH1D2xVVgNSp01dF3iyUgHGOaosSAGos7PAxs1Nq0jlFl2aFySW1RDIfQ93dfLCZBsf2ISzXhaplb-7-ysxarSguUWkesE7TKKSCT_p1p9zM309C0h5cTlT1b5B3BDRdiHoUk7Ju38Jp2gKu6dRVvE15jd0EyWvMrafqR0qsVc4zZr5scsVLOxb2S3AhH1c-mBSt1q15umorXnap1igDIfZ8wWJkuJR789YxGArlti6YSz_Izlp6V3MH63l-Z7WirqFN9dEus1NAnlUjLk_FGFmJC-grKhNcib-Sd_FHblIgNv7YI2VjLThItFHDbxS6wlCYYCH7G03K1Fe4vUH2A93f9ot_yPrrxAePXsVHwW7056qwcxmrRZ5k4QCHoNscVs8NlN6jm2lMp84t4LJDhCIXCnnB66XdwTgJkU6vTZlCmjZu7euI5rDBdWiRRl5F3nLAiFHKd3jKiC_aBpomiY9055X5jK2pQ4_6-RNiewYK5xu_wgev0rAFA8YdTmzq-xLkKLNzukuM8LiT7XA9y5hcoIPLrbN0NJwaDFOPbhECF6YYGnRpDwD98B87gHrGIdK31p_W0KFe994GBqOYx9typdmI3zRMhIYnBDUfWBsZyN4vx9Xh8nk4ZQdRRxS_Q8d2qDoueRMD2yBy9F9IN9SuC-F8eeqWnK5LPWRAdFCF1VCDfO_DKgk-5expbyOuY6YRY0eYWL1jgqUq-OxWdjoDINWJpnvugzroNrQ0oKJAMYtN30T1b-Ed6HjPq7ktvTczbUtMqErVM9VY77F-Z8IOHVtQhyFCwaM1OzjAhFMCK7vMuEuDqw-35S15EVB2BYyg7HWUUfo0BDnvjO3rEKCGuBt5CEqrgCQZxVyQtvOivgTyfrpgIkz9H945FCcmVVeVu_9-TkCZMJFT9PiEgsOtccLIOORKTLELU2dRTzOZs92FbsajJ2h6EjOhk89wPb4qU4CGNuYKZNd3p4hYqb6Vng97z6w51tZiR6gzL-Rrj34j274S-Q3RXpQPte9i06kWaOTUXosuBs8LL0k1nOKzzDLeqVzcbPUWz5TBiW8s6rI0uh3edCy7-qNPh1FC9pwpInxn8gakoHnHyspRlf9nmbQjyJK1S_VusZeU0DKR8rjhLl4WL3nkQkBHGADp5avPeJ_nZLAAtP9IyyDJJmhAgQUJhSrlejLn2MZpyWmTJhyP2SDFK0QLMwTNI2wReUd7NpnBgP42VYfM9mRsFZsRu63o3sb3i6-z3bISia6-n3DNeTF7GgZL1zhORkZ-bPOO-sgLLMw7MxgxiapqF25ozhYhyr2qOT7KNndLeUOqxJFOl3vGjdx27wJXtcm2tcUdLvaIVkob70R8WUERcJ7y3WHTHbJ1xbSVI62vAY9rJn7fIRN_Hr-vnI-Q6fxmtGiOe_Os_aviy6jfmJfx-7-d8Vcpw8zweNGeLd4btnEIy0IAMQSEaMJs1tA6XxOJFFUKFuZiJLnjLtrtu3jPzsIz2jP3phWToJuza0FyTUTnWXLQjVRw7jCAymioFEeK0e_l1MdZ3wsvdMIBNb8_G0x7AeUJUD20xXr4b51O6bvEBF5Wna8QJgVddU_ei8NBazZJn0GmDUuA26EHYBN6U3_Ht-k4azr17UC-Mi5HMiF8Z2bNF-BKSyxiekSYMjU3SwfpXvboF9jMxWwaXxZ5J4nBKdgEg2EVI5h_usDi45CHjv_NVsv0YvnliO9leQM3KRnD5pJMxdqZ1S1U5odjHydLRBbC9Z_vmjDQZMo-PD3ugSq-ttryyLarU9dsodu85M7EiPy66KZp30w9q55C2558UQlLGlCrMNJfjT_-HBnKNgr7ahVyvOq0xO-6dNs1sRzNsUBnIdd0\",\"tag\":\"-_UX2XHSbs-fSXUCiSQ2rg\"}',\n",
       "  'datetime': 1658321616},\n",
       " {'_id': ObjectId('62d867fe706ccae77c78d487'),\n",
       "  'recipient_key': 'did:peer:2.Ez6LSnHNBRno3147VssfELoUD5aGi4Lxw1LStDaq5cgV6CMS9.Vz6MkfRJBJwAfeMYZwTTcYwxMzUWeJ4k88HdSr6JkodngdVpM.SeyJpZCI6Im5ldy1pZCIsInQiOiJkbSIsInMiOiJkaWQ6cGVlcjoyLkV6NkxTZWoxM01QZUNXYmNSTVdZdTM3TGtvU0VhWm0yc1IxUFRkSkZkRTlFWG54bWEuVno2TWtzNmROc1lGdkFMUGtuUDJDQml6Mzhxb3JqOXI3bVlDOTZYTVRFenl0RVZlaC5TZXlKcFpDSTZJbTVsZHkxcFpDSXNJblFpT2lKa2JTSXNJbk1pT2lKb2RIUndPaTh2TVRJM0xqQXVNQzR4T2pnd01EQWlMQ0poSWpwYkltUnBaR052YlcwdmRqSWlYWDAiLCJhIjpbImRpZGNvbW0vdjIiXX0',\n",
       "  'attachment': '{\"protected\":\"eyJ0eXAiOiJhcHBsaWNhdGlvbi9kaWRjb21tLWVuY3J5cHRlZCtqc29uIiwiYWxnIjoiRUNESC0xUFUrQTI1NktXIiwiZW5jIjoiQTI1NkNCQy1IUzUxMiIsImFwdSI6IlpHbGtPbkJsWlhJNk1pNUZlalpNVTI1ck4ydHZlR1EzTlRKbWRucDNXa2RXYWtkUVVrUkhZMEpDUVVoVGVqUmlTR05RV1hOWVJtNUtRbWRpTGxaNk5rMXJiMWhpY2sxSU4yTXlNMmhSVUVGTU9EaGtaMUE0WWtKUlUxRk5kakp0WkdkS1JYbDROazEyUWpSVFpGRXVVMlY1U25CYVEwazJTVzAxYkdSNU1YQmFRMGx6U1c1UmFVOXBTbXRpVTBselNXNU5hVTlwU205a1NGSjNZM3B2ZGt3elpETmtlVFZzWlVkR2RHTkhlR3hNYlU1MllsTTVhV0l5U1dsTVEwcG9TV3B3WWtsdFVuQmFSMDUyWWxjd2RtUnFTV2xZV0RBak5reFRibXMzYTI5NFpEYzFNbVoyZW5kYVIxWnFSMUJTUkVkalFrSkJTRk42TkdKSVkxQlpjMWhHYmtwQ1oySSIsImFwdiI6IjFqeldFcjFNOHcyRzd2NGZXZ2tfWkpGN3ZGdVhzS0VIeDdvV2lYdUl2ZDQiLCJza2lkIjoiZGlkOnBlZXI6Mi5FejZMU25rN2tveGQ3NTJmdnp3WkdWakdQUkRHY0JCQUhTejRiSGNQWXNYRm5KQmdiLlZ6Nk1rb1hick1IN2MyM2hRUEFMODhkZ1A4YkJRU1FNdjJtZGdKRXl4Nk12QjRTZFEuU2V5SnBaQ0k2SW01bGR5MXBaQ0lzSW5RaU9pSmtiU0lzSW5NaU9pSm9kSFJ3Y3pvdkwzZDNkeTVsZUdGdGNHeGxMbU52YlM5aWIySWlMQ0poSWpwYkltUnBaR052YlcwdmRqSWlYWDAjNkxTbms3a294ZDc1MmZ2endaR1ZqR1BSREdjQkJBSFN6NGJIY1BZc1hGbkpCZ2IiLCJlcGsiOnsiY3J2IjoiWDI1NTE5IiwieCI6IkVBU3NjcERMc1MtREEyTWFuaFVkS0lUUWpDa0QwSGNwZHFCTzdJVHNBazAiLCJrdHkiOiJPS1AifX0\",\"recipients\":[{\"header\":{\"kid\":\"did:peer:2.Ez6LSnHNBRno3147VssfELoUD5aGi4Lxw1LStDaq5cgV6CMS9.Vz6MkfRJBJwAfeMYZwTTcYwxMzUWeJ4k88HdSr6JkodngdVpM.SeyJpZCI6Im5ldy1pZCIsInQiOiJkbSIsInMiOiJkaWQ6cGVlcjoyLkV6NkxTZWoxM01QZUNXYmNSTVdZdTM3TGtvU0VhWm0yc1IxUFRkSkZkRTlFWG54bWEuVno2TWtzNmROc1lGdkFMUGtuUDJDQml6Mzhxb3JqOXI3bVlDOTZYTVRFenl0RVZlaC5TZXlKcFpDSTZJbTVsZHkxcFpDSXNJblFpT2lKa2JTSXNJbk1pT2lKb2RIUndPaTh2TVRJM0xqQXVNQzR4T2pnd01EQWlMQ0poSWpwYkltUnBaR052YlcwdmRqSWlYWDAiLCJhIjpbImRpZGNvbW0vdjIiXX0#6LSnHNBRno3147VssfELoUD5aGi4Lxw1LStDaq5cgV6CMS9\"},\"encrypted_key\":\"9-m2m6e9KHFfgZoqq5RqvOvD0RKoi8e53pMGIVYJAmiwoEuDsQRj4manwitma-LPGK_LQGeGYAlIUmUO0G6qrlET_vxyF_J9\"}],\"iv\":\"GUX5gZwf-EVHBgcwns1E9g\",\"ciphertext\":\"K-8ERyNqA0SsBL5WDsGP4EOGNUIzg9cl6lpeUa9RtM9okEqhiiaS6brNaufAVdDfdn1Uwm27lCJYlZ-Y_8TOKBKBfPrX09IQh2HJarhaHtLxQLPS3KwI9GP6AcclSID4owxq6S1dU7ltVuxhS1-qspYSJq4eS-3_IbTzsC2eqV2DzJhUdctdmBZ0bnbnbx-A3vhnB_HvxBvuf0rruo5bx0suMloXxm0agz-ZPl0zV1g_miRgY0gwp2gbU1w8fFJAdR6GmgyvpFoo9Ph07AEWvIYj9101dC9NXLNIKQchxyQ\",\"tag\":\"BD4rAK5lT_i_9Sjs4d2djztfZOvMHTbWsTBSYXktydU\"}',\n",
       "  'datetime': 1658349566},\n",
       " {'_id': ObjectId('62d8765c706ccae77c78d493'),\n",
       "  'recipient_key': 'did:peer:2.Ez6LSksvsHRCdLFeLVG7SAGyJZWjsh2SnhaLf7mz6yTBb1L5A.Vz6MktTFPxD9aPfgQZLvdHKNXBwq974pNGTiZF5E5SBWCbd47.SeyJpZCI6Im5ldy1pZCIsInQiOiJkbSIsInMiOiJkaWQ6cGVlcjoyLkV6NkxTZXAyMnQ5WHAyS2dodkJFSng0Q1dRdXJRTlpxN2M5TW1mZ3QzYlZIMXdIc0ouVno2TWtvTWZrUVhSaW5GV3pIanV1ZUdnbUJBbjlyb25BTWVENnhnRVRVbllMRFRneS5TZXlKcFpDSTZJbTVsZHkxcFpDSXNJblFpT2lKa2JTSXNJbk1pT2lKb2RIUndPaTh2TVRJM0xqQXVNQzR4T2pnd01EQWlMQ0poSWpwYkltUnBaR052YlcwdmRqSWlYWDAiLCJhIjpbImRpZGNvbW0vdjIiXX0',\n",
       "  'attachment': '{\"protected\":\"eyJ0eXAiOiJhcHBsaWNhdGlvbi9kaWRjb21tLWVuY3J5cHRlZCtqc29uIiwiYWxnIjoiRUNESC0xUFUrQTI1NktXIiwiZW5jIjoiQTI1NkNCQy1IUzUxMiIsImFwdSI6IlpHbGtPbkJsWlhJNk1pNUZlalpNVTI1emRsQTVaalpqZERNM05UWnZaR1l4VlZCdFlUWnFlamRyUVRoaWFVaEtZelpPY3pKRWNYSlRZM0Z0TGxaNk5rMXJabkZJWTFabWJURlNaa1ZvWkU1VFFVUTROa0Z6YjAxbFNFcEZRbGRHV0c4NGMzVm5Ta3B1WmpsRmVsWXVVMlY1U25CYVEwazJTVzAxYkdSNU1YQmFRMGx6U1c1UmFVOXBTbXRpVTBselNXNU5hVTlwU205a1NGSjNZM3B2ZGt3elpETmtlVFZzWlVkR2RHTkhlR3hNYlU1MllsTTVhV0l5U1dsTVEwcG9TV3B3WWtsdFVuQmFSMDUyWWxjd2RtUnFTV2xZV0RBak5reFRibk4yVURsbU5tTjBNemMxTm05a1pqRlZVRzFoTm1wNk4ydEJPR0pwU0Vwak5rNXpNa1J4Y2xOamNXMCIsImFwdiI6InpsQ2RXT2xINlFDS0E4bVV4RFFETlVITTg1V01LbmVhQ0loSmFCelVoNjgiLCJza2lkIjoiZGlkOnBlZXI6Mi5FejZMU25zdlA5ZjZjdDM3NTZvZGYxVVBtYTZqejdrQThiaUhKYzZOczJEcXJTY3FtLlZ6Nk1rZnFIY1ZmbTFSZkVoZE5TQUQ4NkFzb01lSEpFQldGWG84c3VnSkpuZjlFelYuU2V5SnBaQ0k2SW01bGR5MXBaQ0lzSW5RaU9pSmtiU0lzSW5NaU9pSm9kSFJ3Y3pvdkwzZDNkeTVsZUdGdGNHeGxMbU52YlM5aWIySWlMQ0poSWpwYkltUnBaR052YlcwdmRqSWlYWDAjNkxTbnN2UDlmNmN0Mzc1Nm9kZjFVUG1hNmp6N2tBOGJpSEpjNk5zMkRxclNjcW0iLCJlcGsiOnsiY3J2IjoiWDI1NTE5IiwieCI6ImxMWmJIUXd4aGIwdkc0VzJKLVhKYWlYeThpZTk3al8tbVNTa2drMWtsRmciLCJrdHkiOiJPS1AifX0\",\"recipients\":[{\"header\":{\"kid\":\"did:peer:2.Ez6LSksvsHRCdLFeLVG7SAGyJZWjsh2SnhaLf7mz6yTBb1L5A.Vz6MktTFPxD9aPfgQZLvdHKNXBwq974pNGTiZF5E5SBWCbd47.SeyJpZCI6Im5ldy1pZCIsInQiOiJkbSIsInMiOiJkaWQ6cGVlcjoyLkV6NkxTZXAyMnQ5WHAyS2dodkJFSng0Q1dRdXJRTlpxN2M5TW1mZ3QzYlZIMXdIc0ouVno2TWtvTWZrUVhSaW5GV3pIanV1ZUdnbUJBbjlyb25BTWVENnhnRVRVbllMRFRneS5TZXlKcFpDSTZJbTVsZHkxcFpDSXNJblFpT2lKa2JTSXNJbk1pT2lKb2RIUndPaTh2TVRJM0xqQXVNQzR4T2pnd01EQWlMQ0poSWpwYkltUnBaR052YlcwdmRqSWlYWDAiLCJhIjpbImRpZGNvbW0vdjIiXX0#6LSksvsHRCdLFeLVG7SAGyJZWjsh2SnhaLf7mz6yTBb1L5A\"},\"encrypted_key\":\"E_eK8M53YG3jJVm_X1eugNJtl2HlqnH6S31bkjYdto4NIFsQIC235fJHTQGKMg34VC62ehxreJvpTyj0UlurNceC9Dcf3pMf\"}],\"iv\":\"yoCe_etycW-7BhnvjIo-PQ\",\"ciphertext\":\"1oeQQMYhzk3L5eWvwNDb4_HNz7yFV-2wWL54K4lIusrUzSNgnef-tw63XY4IkSVUbH7PjEVAzc-LB5rWx917gTYgGa4dmNBJAljPt5X05LZYryO7FuwLdU2qNKlFvo3ymgLNGkWJeZovo5BLx_LsoFkBXCBK-JVALTpZA773qH0JfHZmi1V07V3vlK5SfsK-zjmFghDvHQlzQ5OJh6FsAitYCd337x5sOf_Rur5XHCsw5y-WyTLwaPniZVb1VLRFt83ch_rRNEvqV-ChwppEbbpQQxWl84HpRho0m2OpTpU\",\"tag\":\"uQlPclH9w7ylXb71oPHxVlybC6_KQXKR1ZQkfCHjbFQ\"}',\n",
       "  'datetime': 1658353244}]"
      ]
     },
     "execution_count": 276,
     "metadata": {},
     "output_type": "execute_result"
    }
   ],
   "source": [
    "list(db.messages.find({\"_id\": \"62d8765c706ccae77c78d493\"}))"
   ]
  },
  {
   "cell_type": "code",
   "execution_count": 299,
   "metadata": {},
   "outputs": [
    {
     "data": {
      "text/plain": [
       "[]"
      ]
     },
     "execution_count": 299,
     "metadata": {},
     "output_type": "execute_result"
    }
   ],
   "source": [
    "list(db.oobs.find())"
   ]
  },
  {
   "cell_type": "code",
   "execution_count": 290,
   "metadata": {},
   "outputs": [
    {
     "data": {
      "text/plain": [
       "<pymongo.results.DeleteResult at 0x13e9eabe0>"
      ]
     },
     "execution_count": 290,
     "metadata": {},
     "output_type": "execute_result"
    }
   ],
   "source": [
    "db.oobs.delete_one({\"date\": 1657500891000})"
   ]
  },
  {
   "cell_type": "code",
   "execution_count": null,
   "metadata": {},
   "outputs": [],
   "source": []
  }
 ],
 "metadata": {
  "kernelspec": {
   "display_name": "Python 3 (ipykernel)",
   "language": "python",
   "name": "python3"
  },
  "language_info": {
   "codemirror_mode": {
    "name": "ipython",
    "version": 3
   },
   "file_extension": ".py",
   "mimetype": "text/x-python",
   "name": "python",
   "nbconvert_exporter": "python",
   "pygments_lexer": "ipython3",
   "version": "3.9.13"
  }
 },
 "nbformat": 4,
 "nbformat_minor": 2
}
