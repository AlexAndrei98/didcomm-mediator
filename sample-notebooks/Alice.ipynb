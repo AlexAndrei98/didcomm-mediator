{
 "cells": [
  {
   "cell_type": "code",
   "execution_count": 1,
   "metadata": {},
   "outputs": [],
   "source": [
    "import json\n",
    "import base64\n",
    "import qrcode\n",
    "import requests\n",
    "import datetime\n",
    "import uuid\n",
    "import matplotlib.pyplot as plt\n",
    "from pymongo import MongoClient\n",
    "from typing import Optional, List\n",
    "from didcomm.common.types import DID, VerificationMethodType, VerificationMaterial, VerificationMaterialFormat\n",
    "from didcomm.did_doc.did_doc import DIDDoc, VerificationMethod, DIDCommService\n",
    "from didcomm.did_doc.did_resolver import DIDResolver\n",
    "from didcomm.message import Message, FromPrior\n",
    "from didcomm.secrets.secrets_resolver_demo import SecretsResolverDemo\n",
    "from didcomm.unpack import unpack, UnpackResult\n",
    "from didcomm.common.resolvers import ResolversConfig\n",
    "from didcomm.pack_encrypted import pack_encrypted, PackEncryptedConfig, PackEncryptedResult\n",
    "from peerdid.core.did_doc_types import DIDCommServicePeerDID\n",
    "from didcomm.secrets.secrets_util import generate_x25519_keys_as_jwk_dict, generate_ed25519_keys_as_jwk_dict, jwk_to_secret\n",
    "from peerdid import peer_did\n",
    "from peerdid.did_doc import DIDDocPeerDID\n",
    "from peerdid.types import VerificationMaterialAuthentication, VerificationMethodTypeAuthentication, VerificationMaterialAgreement, VerificationMethodTypeAgreement, VerificationMaterialFormatPeerDID"
   ]
  },
  {
   "cell_type": "code",
   "execution_count": 2,
   "metadata": {},
   "outputs": [],
   "source": [
    "secrets_resolver = SecretsResolverDemo()"
   ]
  },
  {
   "cell_type": "code",
   "execution_count": 3,
   "metadata": {},
   "outputs": [],
   "source": [
    "class DIDResolverPeerDID(DIDResolver):\n",
    "    async def resolve(self, did: DID) -> DIDDoc:\n",
    "        did_doc_json = peer_did.resolve_peer_did(did, format = VerificationMaterialFormatPeerDID.JWK)\n",
    "        did_doc = DIDDocPeerDID.from_json(did_doc_json)\n",
    "\n",
    "        return DIDDoc(\n",
    "            did=did_doc.did,\n",
    "            key_agreement_kids = did_doc.agreement_kids,\n",
    "            authentication_kids = did_doc.auth_kids,\n",
    "            verification_methods = [\n",
    "                VerificationMethod(\n",
    "                    id = m.id,\n",
    "                    type = VerificationMethodType.JSON_WEB_KEY_2020,\n",
    "                    controller = m.controller,\n",
    "                    verification_material = VerificationMaterial(\n",
    "                        format = VerificationMaterialFormat.JWK,\n",
    "                        value = json.dumps(m.ver_material.value)\n",
    "                    )\n",
    "                )\n",
    "                for m in did_doc.authentication + did_doc.key_agreement\n",
    "            ],\n",
    "            didcomm_services = [\n",
    "                DIDCommService(\n",
    "                    id = s.id,\n",
    "                    service_endpoint = s.service_endpoint,\n",
    "                    routing_keys = s.routing_keys,\n",
    "                    accept = s.accept\n",
    "                )\n",
    "                for s in did_doc.service\n",
    "                if isinstance(s, DIDCommServicePeerDID)\n",
    "            ] if did_doc.service else []\n",
    "        )"
   ]
  },
  {
   "cell_type": "code",
   "execution_count": 4,
   "metadata": {},
   "outputs": [],
   "source": [
    "async def create_peer_did(self,\n",
    "                        auth_keys_count: int = 1,\n",
    "                        agreement_keys_count: int = 1,\n",
    "                        service_endpoint: Optional[str] = None,\n",
    "                        service_routing_keys: Optional[List[str]] = None\n",
    "                        ) -> str:\n",
    "        # 1. generate keys in JWK format\n",
    "        agreem_keys = [generate_x25519_keys_as_jwk_dict() for _ in range(agreement_keys_count)]\n",
    "        auth_keys = [generate_ed25519_keys_as_jwk_dict() for _ in range(auth_keys_count)]\n",
    "\n",
    "        # 2. prepare the keys for peer DID lib\n",
    "        agreem_keys_peer_did = [\n",
    "            VerificationMaterialAgreement(\n",
    "                type=VerificationMethodTypeAgreement.JSON_WEB_KEY_2020,\n",
    "                format=VerificationMaterialFormatPeerDID.JWK,\n",
    "                value=k[1],\n",
    "            )\n",
    "            for k in agreem_keys\n",
    "        ]\n",
    "        auth_keys_peer_did = [\n",
    "            VerificationMaterialAuthentication(\n",
    "                type=VerificationMethodTypeAuthentication.JSON_WEB_KEY_2020,\n",
    "                format=VerificationMaterialFormatPeerDID.JWK,\n",
    "                value=k[1],\n",
    "            )\n",
    "            for k in auth_keys\n",
    "        ]\n",
    "\n",
    "        # 3. generate service\n",
    "        service = None\n",
    "        if service_endpoint:\n",
    "            service = json.dumps(\n",
    "                DIDCommServicePeerDID(\n",
    "                    id=\"new-id\",\n",
    "                    service_endpoint=service_endpoint, routing_keys=service_routing_keys,\n",
    "                    accept=[\"didcomm/v2\"]\n",
    "                ).to_dict()\n",
    "            )\n",
    "\n",
    "        # 4. call peer DID lib\n",
    "        # if we have just one key (auth), then use numalg0 algorithm\n",
    "        # otherwise use numalg2 algorithm\n",
    "        if len(auth_keys_peer_did) == 1 and not agreem_keys_peer_did and not service:\n",
    "            did = peer_did.create_peer_did_numalgo_0(auth_keys_peer_did[0])\n",
    "        else:\n",
    "            did = peer_did.create_peer_did_numalgo_2(\n",
    "                encryption_keys=agreem_keys_peer_did,\n",
    "                signing_keys=auth_keys_peer_did,\n",
    "                service=service,\n",
    "            )\n",
    "\n",
    "        # 5. set KIDs as in DID DOC for secrets and store the secret in the secrets resolver\n",
    "        did_doc = DIDDocPeerDID.from_json(peer_did.resolve_peer_did(did))\n",
    "        for auth_key, kid in zip(auth_keys, did_doc.auth_kids):\n",
    "            private_key = auth_key[0]\n",
    "            private_key[\"kid\"] = kid\n",
    "            print(private_key)\n",
    "            await secrets_resolver.add_key(jwk_to_secret(private_key))\n",
    "\n",
    "        for agreem_key, kid in zip(agreem_keys, did_doc.agreement_kids):\n",
    "            private_key = agreem_key[0]\n",
    "            private_key[\"kid\"] = kid\n",
    "            print(private_key)\n",
    "            await secrets_resolver.add_key(jwk_to_secret(private_key))\n",
    "\n",
    "        return did\n"
   ]
  },
  {
   "cell_type": "markdown",
   "metadata": {},
   "source": [
    "### Alice get OOB from Mediator"
   ]
  },
  {
   "cell_type": "code",
   "execution_count": 41,
   "metadata": {},
   "outputs": [],
   "source": [
    "# oob_url = requests.get(\"http://127.0.0.1:8000/oob_url\").text\n",
    "oob_url = requests.get(\"https://mediator.rootsid.cloud/oob_url\").text"
   ]
  },
  {
   "cell_type": "code",
   "execution_count": 42,
   "metadata": {},
   "outputs": [
    {
     "name": "stdout",
     "output_type": "stream",
     "text": [
      "https://mediator.rootsid.cloud?_oob=eyJ0eXBlIjoiaHR0cHM6Ly9kaWRjb21tLm9yZy9vdXQtb2YtYmFuZC8yLjAvaW52aXRhdGlvbiIsImlkIjoiYTJmYzI4NjMtZjhjNi00N2Y5LWEzZDMtODg3MWNlNzA0YmFiIiwiZnJvbSI6ImRpZDpwZWVyOjIuRXo2TFNvN2dyZUFRNEdaUnVwYXJRQzFjeXN4dWJjQ0ZqVlZaZHN2RFNvY0VrTDk3MS5WejZNa3RpRmg3aDNqSGNIdHhvU1dDTmoxb0I1WVJzVGdvWDhTbkRvOUhCWm1kUmR4LlNleUpwWkNJNkltNWxkeTFwWkNJc0luUWlPaUprYlNJc0luTWlPaUpvZEhSd2N6b3ZMMjFsWkdsaGRHOXlMbkp2YjNSemFXUXVZMnh2ZFdRaUxDSmhJanBiSW1ScFpHTnZiVzB2ZGpJaVhYMCIsImJvZHkiOnsiZ29hbF9jb2RlIjoicmVxdWVzdC1tZWRpYXRlIiwiZ29hbCI6IlJlcXVlc3RNZWRpYXRlIiwiYWNjZXB0IjpbImRpZGNvbW0vdjIiLCJkaWRjb21tL2FpcDI7ZW52PXJmYzU4NyJdfX0\n"
     ]
    }
   ],
   "source": [
    "print(oob_url)"
   ]
  },
  {
   "cell_type": "code",
   "execution_count": 43,
   "metadata": {},
   "outputs": [
    {
     "name": "stdout",
     "output_type": "stream",
     "text": [
      "{'crv': 'Ed25519', 'x': 'bnSOSkiFNN3l4QMsVvMky2-vwihSgstnMtSJuQURtK4', 'd': 'PGhLWuwymxaBNAp4k_A_VVGpUNpBCcmg-p8eKBGyQWA', 'kty': 'OKP', 'kid': 'did:peer:2.Ez6LSfenAn9X4NvoCnTCa8T9rMb3QfNmnwj7iJr71oTZnhGwU.Vz6MkmtRyVTJZsNqCffDHxuFcDvn3bk3PUaTh3jrFGE8oKFXT#6MkmtRyVTJZsNqCffDHxuFcDvn3bk3PUaTh3jrFGE8oKFXT'}\n",
      "{'crv': 'X25519', 'x': 'OxMqa2e0b_bJYt-fKq8xhGjjbVf0oxbR6gxpgPaMRQM', 'd': '4Bi4dNuygBV8LGQiue0UJMB3K7mFGB0zM60MTMJOeV8', 'kty': 'OKP', 'kid': 'did:peer:2.Ez6LSfenAn9X4NvoCnTCa8T9rMb3QfNmnwj7iJr71oTZnhGwU.Vz6MkmtRyVTJZsNqCffDHxuFcDvn3bk3PUaTh3jrFGE8oKFXT#6LSfenAn9X4NvoCnTCa8T9rMb3QfNmnwj7iJr71oTZnhGwU'}\n",
      "Alice's DID: did:peer:2.Ez6LSfenAn9X4NvoCnTCa8T9rMb3QfNmnwj7iJr71oTZnhGwU.Vz6MkmtRyVTJZsNqCffDHxuFcDvn3bk3PUaTh3jrFGE8oKFXT\n"
     ]
    }
   ],
   "source": [
    "received_msg_encoded = oob_url.split(\"=\")[1]\n",
    "received_msg_decoded = json.loads(str(base64.urlsafe_b64decode(received_msg_encoded + \"==\"), \"utf-8\"))\n",
    "alice_did_for_mediator = await create_peer_did(1,1)\n",
    "print(\"Alice's DID:\", alice_did_for_mediator)"
   ]
  },
  {
   "cell_type": "markdown",
   "metadata": {},
   "source": [
    "### Alice request mediate"
   ]
  },
  {
   "cell_type": "code",
   "execution_count": 44,
   "metadata": {},
   "outputs": [
    {
     "data": {
      "text/plain": [
       "{'type': 'https://didcomm.org/out-of-band/2.0/invitation',\n",
       " 'id': 'a2fc2863-f8c6-47f9-a3d3-8871ce704bab',\n",
       " 'from': 'did:peer:2.Ez6LSo7greAQ4GZRuparQC1cysxubcCFjVVZdsvDSocEkL971.Vz6MktiFh7h3jHcHtxoSWCNj1oB5YRsTgoX8SnDo9HBZmdRdx.SeyJpZCI6Im5ldy1pZCIsInQiOiJkbSIsInMiOiJodHRwczovL21lZGlhdG9yLnJvb3RzaWQuY2xvdWQiLCJhIjpbImRpZGNvbW0vdjIiXX0',\n",
       " 'body': {'goal_code': 'request-mediate',\n",
       "  'goal': 'RequestMediate',\n",
       "  'accept': ['didcomm/v2', 'didcomm/aip2;env=rfc587']}}"
      ]
     },
     "execution_count": 44,
     "metadata": {},
     "output_type": "execute_result"
    }
   ],
   "source": [
    "received_msg_decoded"
   ]
  },
  {
   "cell_type": "code",
   "execution_count": 45,
   "metadata": {},
   "outputs": [],
   "source": [
    "alice_mediate_grant = Message(\n",
    "    custom_headers = [{\"return_route\": \"all\"}],\n",
    "    id = str(uuid.uuid4()),\n",
    "    type = \"https://didcomm.org/coordinate-mediation/2.0/mediate-request\",\n",
    "    body = {}\n",
    ")"
   ]
  },
  {
   "cell_type": "code",
   "execution_count": 46,
   "metadata": {},
   "outputs": [],
   "source": [
    "alice_mediate_grant_packed = await pack_encrypted(\n",
    "    resolvers_config = ResolversConfig(\n",
    "        secrets_resolver = secrets_resolver,\n",
    "        did_resolver = DIDResolverPeerDID()\n",
    "    ),\n",
    "    message = alice_mediate_grant,\n",
    "    frm = alice_did_for_mediator,\n",
    "    to = received_msg_decoded[\"from\"],\n",
    "    sign_frm = None,\n",
    "    pack_config = PackEncryptedConfig(protect_sender_id=False)\n",
    ")"
   ]
  },
  {
   "cell_type": "markdown",
   "metadata": {},
   "source": [
    "### Sending to Mediator"
   ]
  },
  {
   "cell_type": "code",
   "execution_count": 47,
   "metadata": {},
   "outputs": [
    {
     "name": "stdout",
     "output_type": "stream",
     "text": [
      "https://mediator.rootsid.cloud\n"
     ]
    }
   ],
   "source": [
    "mediator_did_doc = json.loads(peer_did.resolve_peer_did(received_msg_decoded[\"from\"]))\n",
    "mediator_endpoint = mediator_did_doc[\"service\"][0][\"serviceEndpoint\"]\n",
    "print(mediator_endpoint)"
   ]
  },
  {
   "cell_type": "code",
   "execution_count": 48,
   "metadata": {},
   "outputs": [],
   "source": [
    "headers = {\"Content-Type\": \"application/didcomm-encrypted+json\"}\n",
    "resp = requests.post(mediator_endpoint, headers=headers, data = alice_mediate_grant_packed.packed_msg)\n"
   ]
  },
  {
   "cell_type": "code",
   "execution_count": 49,
   "metadata": {},
   "outputs": [
    {
     "name": "stdout",
     "output_type": "stream",
     "text": [
      "{\"protected\":\"eyJ0eXAiOiJhcHBsaWNhdGlvbi9kaWRjb21tLWVuY3J5cHRlZCtqc29uIiwiYWxnIjoiRUNESC0xUFUrQTI1NktXIiwiZW5jIjoiQTI1NkNCQy1IUzUxMiIsImFwdSI6IlpHbGtPbkJsWlhJNk1pNUZlalpNVTNKMGIxcEJRekYzVUVKUWEyaDBlVzVDU0hsM05ITnlRMjlOTkZsTVVtdHBVR1ZLZWs1R1RHbG1RMFZrTGxaNk5rMXJkalJ0WW5OVlExQnpWamxxU0ZwRE9YSmFRMkZPYmtSamVHbG1SVWh1YVVOR1RsUktkMlpOUkhCdU1qRXVVMlY1U25CYVEwazJTVzAxYkdSNU1YQmFRMGx6U1c1UmFVOXBTbXRpVTBselNXNU5hVTlwU205a1NGSjNZM3B2ZGt3eU1XeGFSMnhvWkVjNWVVeHVTblppTTFKNllWZFJkVmt5ZUhaa1YxRnBURU5LYUVscWNHSkpiVkp3V2tkT2RtSlhNSFprYWtscFdGZ3dJelpNVTNKMGIxcEJRekYzVUVKUWEyaDBlVzVDU0hsM05ITnlRMjlOTkZsTVVtdHBVR1ZLZWs1R1RHbG1RMFZrIiwiYXB2IjoiZV9haU9wUmJhSG5UdkIwZWdrTkQ2OUxFRWw3NUdfYXQ0RFBtSW5CaXB3ayIsInNraWQiOiJkaWQ6cGVlcjoyLkV6NkxTcnRvWkFDMXdQQlBraHR5bkJIeXc0c3JDb000WUxSa2lQZUp6TkZMaWZDRWQuVno2TWt2NG1ic1VDUHNWOWpIWkM5clpDYU5uRGN4aWZFSG5pQ0ZOVEp3Zk1EcG4yMS5TZXlKcFpDSTZJbTVsZHkxcFpDSXNJblFpT2lKa2JTSXNJbk1pT2lKb2RIUndjem92TDIxbFpHbGhkRzl5TG5KdmIzUnphV1F1WTJ4dmRXUWlMQ0poSWpwYkltUnBaR052YlcwdmRqSWlYWDAjNkxTcnRvWkFDMXdQQlBraHR5bkJIeXc0c3JDb000WUxSa2lQZUp6TkZMaWZDRWQiLCJlcGsiOnsiY3J2IjoiWDI1NTE5IiwieCI6Il8yakVBajI4SUk0b0xXajlvbTJjdVZzRjZCVXkzNVE5RE1hdkFNR3BaanciLCJrdHkiOiJPS1AifX0\",\"recipients\":[{\"header\":{\"kid\":\"did:peer:2.Ez6LSfenAn9X4NvoCnTCa8T9rMb3QfNmnwj7iJr71oTZnhGwU.Vz6MkmtRyVTJZsNqCffDHxuFcDvn3bk3PUaTh3jrFGE8oKFXT#6LSfenAn9X4NvoCnTCa8T9rMb3QfNmnwj7iJr71oTZnhGwU\"},\"encrypted_key\":\"7DHbYgvRW0wjvoPYWuC_Iog73HM28wmf0KVBXjKgA2z-f-Voa1UeuPxB4il8t5jc9g9iC_3qsIF0wg44IL1n9w9LVGlvE9de\"}],\"iv\":\"kqwWD_z2PW60eQIEHd3McA\",\"ciphertext\":\"ot0R0bShsAVJwpD30yI2_T0alV0mtlMfvd-IyjwKNUQWG2l_JtPfJBtsQvrZUB-ac6jRAtPSbjIm4NVrBPCXv6m_3RQKiNEbzoEjcblCUNP1MQrHldCV7ZkoIWbS14xx_u52m8LM-f_HRllq5EWIe38YrRGCa8vLwkYPv7S0bfsgOrx1b0WcczUpidR4D0dzBkc8JPM9nWXBdhaxdPVyGYwSQhf1yIQmR4tgq1gjAAIzKFo7bK6tOkLo0PHti05XiloYyaZBjQt5pl3CWJHwa7wgMSsdLmq_g-eN9FsAt-A3k8NQ5hGO9A9hUd78OsX55Gtvm9FyM3IwSGpShaDoEAwp8Socj5Pm_pnU_W4DPtsL_vh8Y45o_vuU_XqkpWMc7SHJl62gnqPRvcgnGz61EE30hI8k5C4VVa3nmybGk6HlK5GDb_rgcTG1NHGNl5svinCv0epkdEViwaZY_mfvYQk9jpuZF_rYF73WN3oSbnLzpcEYblnXO9Zb_InCh3CgnDL7D9-eVAgRJy-K7vjgWgv-_JkutC05m6BWkyuBrxcAuZSX90BwRqbU25DJuibx6TfhPSfW8eHC4oUo_ciEuxdvLga3T8UhU112F1UX6K3KBguU43ytee8VPViT0ifxeMHMtk6UQ789MpOL1uN4okq3oWlSW-vEtPYZFpN5ayIRfFo_A_G8kkPNCT9AzNZfcKYI5rsnM1IGmXjrrKAFNOa7LAx5JMsatwi0vZHGy2OTM0G4KzudAuGbqR79KwKQacxbKqg6XAGNAYG-LZ3-emj3dsjvzw1nWYz0sVW6zTI9vHSNvThZ-5YHC4O8iUIeHmZBHy2ZXj0ygqgCmtVjyT-YIpiE8k8URm1kxU2DHzGGt5nyu6v83Lqoa5P0mQH6nrsbwT4us3h0XZ1ePsR7LLiTeVm5l32wUBKO8wyId9fOWOzt3ay_Sr6aLMiA2zkUEEU1vLy2lo4ps9WXgh5MuVXMYbKtku9HrvIGtAc-P6IAXsqR9vPyrcMuhcID5dxFqXa0-d0eGnpa7wSXurBmXpDMe9lnMbU1V8dsQnR_LLDYZI8HAODzHpxKwiaezQK9j27XxDQou_1OowCRPTKCugwKQs8rTL9ym44sXoIVCtQgJ70re9zfsxqMqYN_bfvOQRm6fM99Pl0B8bjjE6eul45pDbHC-hloMj53HDo9fUPoPEKmiy0we5D8xsI-r-Udu28EqfrT9xADhIbrqtJUb7RGyAlVaIg51kgDc3hM996eKd7Kx1Cf-l2yqgXzfYSz8fYNTN7YHziauTITCFKkXxW2xo_N26xcRHmJaHa8NPpfc118tHpiQ83T0Qpm74ILFgFkp3ItYmPley6IrHbbTSrKHmntMq8b02V8cQSieTF5jA2RVpX5bcR_MKS1WZnnbfXoEbiLp-re52TrQRBE-oolQAMJq8tuU0Ui9kLFoumJfb0-asHrVjkQT7KSp76fH8tGhZJPHMCTakBKJ6sjXhSeHGIjRtnLBjF5dsU2jyhlcJUHYMTsIbseBkExLW1O9sdDOdwmt9ScJzwBZlieFJYJAX6Fc4njZooOg9FuJc2ZfTnSulv-MW1xE8VDBgEeu7Q5UAKXseQB9OripQXXD57BqepnmJxAn1zfqKsoOaVg6kUdje2vPHAOD-1xRPtfDTTkHOTqCoIQtBHG_TlnO5uyyMcUq2DySc0ZxUKdsCUQV0fyDPN7Avtm4_jsPwf5-3y8Daflj9IRUw3_3ch72rZUHxFoSqWPO5jYL2RdNbZB3BzeZXM9oZqqxGVlZ8vk_Rb_0p1RkkMc9wCcGzKSL0hPVtuqz4cD6HZr_OKl8bctA1EL2TOhbkQ8Elu8lBxOotePWu_M5iYKTjDLy0TiLB_YjBPzV4ydzhWThzo45T0ILugi3JigCcHezKYwxS8vFt_Ccgl_x8KjUpgjYFKENc2nY37En0FKH_DT5cnDq3_Kq0RkrMe4o52ePzXRMJrYxJySA3WupM7gytuqPn1XGLPIFXtdVu4YDCX9vPZR7s8\",\"tag\":\"qOxPRr-FupkjNsZi1cxJA1X14un4jytJfYdlPhDfd7Y\"}\n"
     ]
    }
   ],
   "source": [
    "print(resp.json())"
   ]
  },
  {
   "cell_type": "markdown",
   "metadata": {},
   "source": [
    "### Get mediator grant response"
   ]
  },
  {
   "cell_type": "code",
   "execution_count": 50,
   "metadata": {},
   "outputs": [
    {
     "name": "stdout",
     "output_type": "stream",
     "text": [
      "https://didcomm.org/coordinate-mediation/2.0/mediate-grant\n",
      "Routing Key: did:peer:2.Ez6LSr138e2ciftyWTd9FZAxnK1BQjpqF4zMfQU6eiYaok3W2.Vz6Mkq1qL56jVPvK4HFJFcSgx85MSfewhrhiiUjo69SWQEfjR.SeyJpZCI6Im5ldy1pZCIsInQiOiJkbSIsInMiOiJodHRwczovL21lZGlhdG9yLnJvb3RzaWQuY2xvdWQiLCJhIjpbImRpZGNvbW0vdjIiXX0\n",
      "Mediator new DID: did:peer:2.Ez6LSrtoZAC1wPBPkhtynBHyw4srCoM4YLRkiPeJzNFLifCEd.Vz6Mkv4mbsUCPsV9jHZC9rZCaNnDcxifEHniCFNTJwfMDpn21.SeyJpZCI6Im5ldy1pZCIsInQiOiJkbSIsInMiOiJodHRwczovL21lZGlhdG9yLnJvb3RzaWQuY2xvdWQiLCJhIjpbImRpZGNvbW0vdjIiXX0\n"
     ]
    }
   ],
   "source": [
    "mediator_unpack_msg = await unpack(\n",
    "    resolvers_config=ResolversConfig(\n",
    "        secrets_resolver=secrets_resolver,\n",
    "        did_resolver=DIDResolverPeerDID()\n",
    "    ),\n",
    "    packed_msg= resp.json()\n",
    ")\n",
    "print(mediator_unpack_msg.message.type)\n",
    "print(\"Routing Key: \" + mediator_unpack_msg.message.body[\"routing_did\"])\n",
    "print(\"Mediator new DID: \" + mediator_unpack_msg.message.from_prior.sub)\n",
    "# mediator rotated did\n",
    "mediator_routing_key = mediator_unpack_msg.message.body[\"routing_did\"]\n",
    "mediator_did = mediator_unpack_msg.message.from_prior.sub"
   ]
  },
  {
   "cell_type": "markdown",
   "metadata": {},
   "source": [
    "### Keylist update"
   ]
  },
  {
   "cell_type": "markdown",
   "metadata": {},
   "source": [
    "Alice create a new DID to share with  other peers using mediator routing keys "
   ]
  },
  {
   "cell_type": "code",
   "execution_count": 51,
   "metadata": {},
   "outputs": [
    {
     "name": "stdout",
     "output_type": "stream",
     "text": [
      "{'crv': 'Ed25519', 'x': 'UWbvVNe2OB5bk1KNiG8uqKrJaKM_AWmk_vfBqPRACkk', 'd': 'JpOHbJBenfnB9_2EHsz-j5GO45yVd8UlK7JudxKJPVc', 'kty': 'OKP', 'kid': 'did:peer:2.Ez6LSbrMX7yaWXf9hsqTb5xGH6qGdXLrESfHTXf3eq2NVMvjp.Vz6Mkjw273voGYF2gqHjWmvjsay7KQZ49LXnruyp3PNRbNdVz.SeyJpZCI6Im5ldy1pZCIsInQiOiJkbSIsInMiOlt7InVyaSI6ImRpZDpwZWVyOjIuRXo2TFNyMTM4ZTJjaWZ0eVdUZDlGWkF4bksxQlFqcHFGNHpNZlFVNmVpWWFvazNXMi5WejZNa3ExcUw1NmpWUHZLNEhGSkZjU2d4ODVNU2Zld2hyaGlpVWpvNjlTV1FFZmpSLlNleUpwWkNJNkltNWxkeTFwWkNJc0luUWlPaUprYlNJc0luTWlPaUpvZEhSd2N6b3ZMMjFsWkdsaGRHOXlMbkp2YjNSemFXUXVZMnh2ZFdRaUxDSmhJanBiSW1ScFpHTnZiVzB2ZGpJaVhYMCJ9XSwiYSI6WyJkaWRjb21tL3YyIl19#6Mkjw273voGYF2gqHjWmvjsay7KQZ49LXnruyp3PNRbNdVz'}\n",
      "{'crv': 'X25519', 'x': 'ApuERPbMOWEKbNClOrDuO_Uxl7eo-3oTfTlvkfnyoGc', 'd': 'CHCdY2ALS6poaWy2T_Q11YlWr2s7_5r9Z8P-bJiN_mY', 'kty': 'OKP', 'kid': 'did:peer:2.Ez6LSbrMX7yaWXf9hsqTb5xGH6qGdXLrESfHTXf3eq2NVMvjp.Vz6Mkjw273voGYF2gqHjWmvjsay7KQZ49LXnruyp3PNRbNdVz.SeyJpZCI6Im5ldy1pZCIsInQiOiJkbSIsInMiOlt7InVyaSI6ImRpZDpwZWVyOjIuRXo2TFNyMTM4ZTJjaWZ0eVdUZDlGWkF4bksxQlFqcHFGNHpNZlFVNmVpWWFvazNXMi5WejZNa3ExcUw1NmpWUHZLNEhGSkZjU2d4ODVNU2Zld2hyaGlpVWpvNjlTV1FFZmpSLlNleUpwWkNJNkltNWxkeTFwWkNJc0luUWlPaUprYlNJc0luTWlPaUpvZEhSd2N6b3ZMMjFsWkdsaGRHOXlMbkp2YjNSemFXUXVZMnh2ZFdRaUxDSmhJanBiSW1ScFpHTnZiVzB2ZGpJaVhYMCJ9XSwiYSI6WyJkaWRjb21tL3YyIl19#6LSbrMX7yaWXf9hsqTb5xGH6qGdXLrESfHTXf3eq2NVMvjp'}\n",
      "Alice's DID for Bob: did:peer:2.Ez6LSbrMX7yaWXf9hsqTb5xGH6qGdXLrESfHTXf3eq2NVMvjp.Vz6Mkjw273voGYF2gqHjWmvjsay7KQZ49LXnruyp3PNRbNdVz.SeyJpZCI6Im5ldy1pZCIsInQiOiJkbSIsInMiOlt7InVyaSI6ImRpZDpwZWVyOjIuRXo2TFNyMTM4ZTJjaWZ0eVdUZDlGWkF4bksxQlFqcHFGNHpNZlFVNmVpWWFvazNXMi5WejZNa3ExcUw1NmpWUHZLNEhGSkZjU2d4ODVNU2Zld2hyaGlpVWpvNjlTV1FFZmpSLlNleUpwWkNJNkltNWxkeTFwWkNJc0luUWlPaUprYlNJc0luTWlPaUpvZEhSd2N6b3ZMMjFsWkdsaGRHOXlMbkp2YjNSemFXUXVZMnh2ZFdRaUxDSmhJanBiSW1ScFpHTnZiVzB2ZGpJaVhYMCJ9XSwiYSI6WyJkaWRjb21tL3YyIl19\n"
     ]
    }
   ],
   "source": [
    "#alice_did_new = await create_peer_did(1, 1, service_endpoint=mediator_endpoint, service_routing_keys=[mediator_routing_key])\n",
    "alice_did_for_bob = await create_peer_did(1, 1, service_endpoint=[{\"uri\": mediator_routing_key}])\n",
    "\n",
    "print(\"Alice's DID for Bob:\", alice_did_for_bob)"
   ]
  },
  {
   "cell_type": "markdown",
   "metadata": {},
   "source": [
    "Alice create and send the keylist update message"
   ]
  },
  {
   "cell_type": "code",
   "execution_count": 56,
   "metadata": {},
   "outputs": [],
   "source": [
    "alice_keylist_update = Message(\n",
    "    id = \"unique-id-293e9a922efff\",\n",
    "    type = \"https://didcomm.org/coordinate-mediation/2.0/keylist-update\",\n",
    "    body = {\n",
    "        \"updates\":[\n",
    "        {\n",
    "            \"recipient_did\": alice_did_for_bob,\n",
    "            \"action\": \"add\"\n",
    "        }\n",
    "    ]\n",
    "    }\n",
    ")"
   ]
  },
  {
   "cell_type": "code",
   "execution_count": 57,
   "metadata": {},
   "outputs": [],
   "source": [
    "alice_keylist_update_packed_msg = await pack_encrypted(\n",
    "    resolvers_config = ResolversConfig(\n",
    "        secrets_resolver = secrets_resolver,\n",
    "        did_resolver = DIDResolverPeerDID()\n",
    "    ),\n",
    "    message = alice_keylist_update,\n",
    "    frm = alice_did_for_mediator,\n",
    "    to = mediator_did,\n",
    "    sign_frm = None,\n",
    "    pack_config = PackEncryptedConfig(protect_sender_id=False)\n",
    ")"
   ]
  },
  {
   "cell_type": "code",
   "execution_count": 58,
   "metadata": {},
   "outputs": [],
   "source": [
    "headers = {\"Content-Type\": \"application/didcomm-encrypted+json\"}\n",
    "resp = requests.post(mediator_endpoint, headers=headers, data = alice_keylist_update_packed_msg.packed_msg)"
   ]
  },
  {
   "cell_type": "code",
   "execution_count": 59,
   "metadata": {},
   "outputs": [
    {
     "name": "stdout",
     "output_type": "stream",
     "text": [
      "https://didcomm.org/coordinate-mediation/2.0/keylist-update-response\n",
      "{'updated': [{'recipient_did': 'did:peer:2.Ez6LSbrMX7yaWXf9hsqTb5xGH6qGdXLrESfHTXf3eq2NVMvjp.Vz6Mkjw273voGYF2gqHjWmvjsay7KQZ49LXnruyp3PNRbNdVz.SeyJpZCI6Im5ldy1pZCIsInQiOiJkbSIsInMiOlt7InVyaSI6ImRpZDpwZWVyOjIuRXo2TFNyMTM4ZTJjaWZ0eVdUZDlGWkF4bksxQlFqcHFGNHpNZlFVNmVpWWFvazNXMi5WejZNa3ExcUw1NmpWUHZLNEhGSkZjU2d4ODVNU2Zld2hyaGlpVWpvNjlTV1FFZmpSLlNleUpwWkNJNkltNWxkeTFwWkNJc0luUWlPaUprYlNJc0luTWlPaUpvZEhSd2N6b3ZMMjFsWkdsaGRHOXlMbkp2YjNSemFXUXVZMnh2ZFdRaUxDSmhJanBiSW1ScFpHTnZiVzB2ZGpJaVhYMCJ9XSwiYSI6WyJkaWRjb21tL3YyIl19', 'action': 'add', 'result': 'no_change'}]}\n"
     ]
    }
   ],
   "source": [
    "mediator_unpack_msg2 = await unpack(\n",
    "    resolvers_config=ResolversConfig(\n",
    "        secrets_resolver=secrets_resolver,\n",
    "        did_resolver=DIDResolverPeerDID()\n",
    "    ),\n",
    "    packed_msg= resp.json()\n",
    ")\n",
    "print(mediator_unpack_msg2.message.type)\n",
    "print(mediator_unpack_msg2.message.body)\n"
   ]
  },
  {
   "cell_type": "markdown",
   "metadata": {},
   "source": [
    "### Alice can now send her DID to Bob."
   ]
  },
  {
   "cell_type": "markdown",
   "metadata": {},
   "source": [
    "### Alice check status of queued messages from the Mediator"
   ]
  },
  {
   "cell_type": "code",
   "execution_count": 60,
   "metadata": {},
   "outputs": [],
   "source": [
    "alice_status_check = Message(\n",
    "    id = \"unique-id-293e9a922efffxxx\",\n",
    "    type = \"https://didcomm.org/messagepickup/3.0/status-request\",\n",
    "    body = {}\n",
    ")"
   ]
  },
  {
   "cell_type": "code",
   "execution_count": 61,
   "metadata": {},
   "outputs": [],
   "source": [
    "alice_status_check_packed_msg = await pack_encrypted(\n",
    "    resolvers_config = ResolversConfig(\n",
    "        secrets_resolver = secrets_resolver,\n",
    "        did_resolver = DIDResolverPeerDID()\n",
    "    ),\n",
    "    message = alice_status_check,\n",
    "    to = mediator_did,\n",
    "    frm = alice_did_for_mediator,\n",
    "    sign_frm = None,\n",
    "    pack_config = PackEncryptedConfig(protect_sender_id=False)\n",
    ")\n",
    "headers = {\"Content-Type\": \"application/didcomm-encrypted+json\"}\n",
    "resp3 = requests.post(mediator_endpoint, headers=headers, data = alice_status_check_packed_msg.packed_msg)"
   ]
  },
  {
   "cell_type": "code",
   "execution_count": 62,
   "metadata": {},
   "outputs": [
    {
     "name": "stdout",
     "output_type": "stream",
     "text": [
      "https://didcomm.org/messagepickup/3.0/status\n",
      "Messages in Mediator queue: 1\n"
     ]
    }
   ],
   "source": [
    "mediator_unpack_status = await unpack(\n",
    "    resolvers_config=ResolversConfig(\n",
    "        secrets_resolver=secrets_resolver,\n",
    "        did_resolver=DIDResolverPeerDID()\n",
    "    ),\n",
    "    packed_msg= resp3.json()\n",
    ")\n",
    "print(mediator_unpack_status.message.type)\n",
    "print(\"Messages in Mediator queue: \" + str(mediator_unpack_status.message.body[\"message_count\"]))"
   ]
  },
  {
   "cell_type": "markdown",
   "metadata": {},
   "source": [
    "### If there are messages, Alice can pickup from the mediator (delivery request)"
   ]
  },
  {
   "cell_type": "code",
   "execution_count": 63,
   "metadata": {},
   "outputs": [],
   "source": [
    "alice_delivery_request = Message(\n",
    "    id = \"unique-id-293e9a922efffxxxff\",\n",
    "    type = \"https://didcomm.org/messagepickup/3.0/delivery-request\",\n",
    "    body = {\"limit\": 1}\n",
    ")"
   ]
  },
  {
   "cell_type": "code",
   "execution_count": 64,
   "metadata": {},
   "outputs": [],
   "source": [
    "alice_delivery_request_packed_msg = await pack_encrypted(\n",
    "    resolvers_config = ResolversConfig(\n",
    "        secrets_resolver = secrets_resolver,\n",
    "        did_resolver = DIDResolverPeerDID()\n",
    "    ),\n",
    "    message = alice_delivery_request,\n",
    "    to = mediator_did,\n",
    "    frm = alice_did_for_mediator,\n",
    "    sign_frm = None,\n",
    "    pack_config = PackEncryptedConfig(protect_sender_id=False)\n",
    ")\n",
    "headers = {\"Content-Type\": \"application/didcomm-encrypted+json\"}\n",
    "resp4 = requests.post(mediator_endpoint, headers=headers, data = alice_delivery_request_packed_msg.packed_msg)"
   ]
  },
  {
   "cell_type": "code",
   "execution_count": 65,
   "metadata": {},
   "outputs": [
    {
     "name": "stdout",
     "output_type": "stream",
     "text": [
      "https://didcomm.org/messagepickup/3.0/delivery\n",
      "{'recipient_key': None}\n"
     ]
    }
   ],
   "source": [
    "mediator_delivery = await unpack(\n",
    "    resolvers_config=ResolversConfig(\n",
    "        secrets_resolver=secrets_resolver,\n",
    "        did_resolver=DIDResolverPeerDID()\n",
    "    ),\n",
    "    packed_msg= resp4.json()\n",
    ")\n",
    "print(mediator_delivery.message.type)\n",
    "print(mediator_delivery.message.body)"
   ]
  },
  {
   "cell_type": "code",
   "execution_count": 66,
   "metadata": {},
   "outputs": [],
   "source": [
    "bob_packed_msg = mediator_delivery.message.attachments[0].data.json\n",
    "msg_id = mediator_delivery.message.attachments[0].id"
   ]
  },
  {
   "cell_type": "code",
   "execution_count": 67,
   "metadata": {},
   "outputs": [
    {
     "name": "stdout",
     "output_type": "stream",
     "text": [
      "{'protected': 'eyJ0eXAiOiJhcHBsaWNhdGlvbi9kaWRjb21tLWVuY3J5cHRlZCtqc29uIiwiYWxnIjoiRUNESC0xUFUrQTI1NktXIiwiZW5jIjoiQTI1NkNCQy1IUzUxMiIsImFwdSI6IlpHbGtPbkJsWlhJNk1pNUZlalpNVTNSWmVFRnVRbHBqWW5JMGQzQlNXbkpEWmxVeGVHcFdkRlJZWjBkNWExZzNjWFEwWjFGd1VXTk9kbFo0TGxaNk5rMXJhR0YwUWtOeVIyRTJOa0ZtU0RRM05VcEhkSEJPUmtWYWRGZFVORzVSZG5OUmJqZHpWbkF6VkRoWVozUXVVMlY1U25CYVEwazJTVzAxYkdSNU1YQmFRMGx6U1c1UmFVOXBTbXRpVTBselNXNU5hVTlwU205a1NGSjNZM3B2ZGt3elpETmtlVFZzWlVkR2RHTkhlR3hNYlU1MllsTTVhV0l5U1dsTVEwcG9TV3B3WWtsdFVuQmFSMDUyWWxjd2RtUnFTV2xZV0RBak5reFRkRmw0UVc1Q1dtTmljalIzY0ZKYWNrTm1WVEY0YWxaMFZGaG5SM2xyV0RkeGREUm5VWEJSWTA1MlZuZyIsImFwdiI6IlVKbHhRZGN5WmFhRUN4VDZfS3Q5TmNkU1ctRnQ5a2VFd2lfMk0wRmlEQzQiLCJza2lkIjoiZGlkOnBlZXI6Mi5FejZMU3RZeEFuQlpjYnI0d3BSWnJDZlUxeGpWdFRYZ0d5a1g3cXQ0Z1FwUWNOdlZ4LlZ6Nk1raGF0QkNyR2E2NkFmSDQ3NUpHdHBORkVadFdUNG5RdnNRbjdzVnAzVDhYZ3QuU2V5SnBaQ0k2SW01bGR5MXBaQ0lzSW5RaU9pSmtiU0lzSW5NaU9pSm9kSFJ3Y3pvdkwzZDNkeTVsZUdGdGNHeGxMbU52YlM5aWIySWlMQ0poSWpwYkltUnBaR052YlcwdmRqSWlYWDAjNkxTdFl4QW5CWmNicjR3cFJackNmVTF4alZ0VFhnR3lrWDdxdDRnUXBRY052VngiLCJlcGsiOnsiY3J2IjoiWDI1NTE5IiwieCI6Im92cTRpV21PVk93aWtWMmFOSkIyNWJHTERDT1phcVZNTmxuQkNyOFJkMXMiLCJrdHkiOiJPS1AifX0', 'recipients': [{'header': {'kid': 'did:peer:2.Ez6LSbrMX7yaWXf9hsqTb5xGH6qGdXLrESfHTXf3eq2NVMvjp.Vz6Mkjw273voGYF2gqHjWmvjsay7KQZ49LXnruyp3PNRbNdVz.SeyJpZCI6Im5ldy1pZCIsInQiOiJkbSIsInMiOlt7InVyaSI6ImRpZDpwZWVyOjIuRXo2TFNyMTM4ZTJjaWZ0eVdUZDlGWkF4bksxQlFqcHFGNHpNZlFVNmVpWWFvazNXMi5WejZNa3ExcUw1NmpWUHZLNEhGSkZjU2d4ODVNU2Zld2hyaGlpVWpvNjlTV1FFZmpSLlNleUpwWkNJNkltNWxkeTFwWkNJc0luUWlPaUprYlNJc0luTWlPaUpvZEhSd2N6b3ZMMjFsWkdsaGRHOXlMbkp2YjNSemFXUXVZMnh2ZFdRaUxDSmhJanBiSW1ScFpHTnZiVzB2ZGpJaVhYMCJ9XSwiYSI6WyJkaWRjb21tL3YyIl19#6LSbrMX7yaWXf9hsqTb5xGH6qGdXLrESfHTXf3eq2NVMvjp'}, 'encrypted_key': 'k4HeuIFgd55q-wh-7CQSrts6ukOSvQR72SHGDdzpheCclD15l0vN09GcPpIfiZ1ePWncnuic-2Bt1YgoY6RuGv1dL-ppBgzT'}], 'iv': 'NSECrTi6kQ64FQWsxat9Jg', 'ciphertext': 'p8g0h1WJfm5YluF01cElNtg2BgjyYxyszLPHZZ-eHfWFpbYx6kn5nmzQ1Abl01EK35HbuYyZWdU2sl-DMidgjhK7QduGBoltAisPkmXXcD5162rnCDVFatBHmhW35p_DXbwuWky9a3pBovORME_ml9d69QYX4YqChiw6WPCIqTav74UgrnhIVy5v7dE7lC07P91pakV3jQQK1YFqgLzLQ49e4g4EWZ8Zi_BtGC93TZXK1vSiFcIdLyvsoNtlrMX81EyWANLLfz6ST6Ei-26Pdt-y2prNRBR8AtI6CorQFPHsFiWIhdPD8vqXHisxQFbzdCrIOD-NjcA_UKpbyLgPg--Ys6tvsD48nfN9qF8HBTZoQQ2rqY0AuvtLzHOUtuwc', 'tag': 'WHiSBqkuel07YcEhOA-qNR62g3omI8P4Ra4sufzavaI'}\n"
     ]
    }
   ],
   "source": [
    "print(bob_packed_msg)"
   ]
  },
  {
   "cell_type": "code",
   "execution_count": 68,
   "metadata": {},
   "outputs": [],
   "source": [
    "bob_msg = await unpack(\n",
    "    resolvers_config=ResolversConfig(\n",
    "        secrets_resolver=secrets_resolver,\n",
    "        did_resolver=DIDResolverPeerDID()\n",
    "    ),\n",
    "    packed_msg= bob_packed_msg\n",
    ")"
   ]
  },
  {
   "cell_type": "code",
   "execution_count": 69,
   "metadata": {},
   "outputs": [
    {
     "name": "stdout",
     "output_type": "stream",
     "text": [
      "Message ID: 632fc3039a393e8978b2ef20\n",
      "Message(id='fc859a88-e0f0-4b45-a478-c7e1cae02ab9', type='https://didcomm.org/discover-features/2.0/queries', body={'queries': [{'feature-type': 'protocol', 'match': 'https://didcomm.org/basicmessage/2.*'}]}, frm=None, to=None, created_time=None, expires_time=None, from_prior=None, please_ack=None, ack=None, thid=None, pthid=None, attachments=None, custom_headers=[{'return_route': 'all'}])\n"
     ]
    }
   ],
   "source": [
    "print(\"Message ID:\", msg_id)\n",
    "print(bob_msg.message)"
   ]
  },
  {
   "cell_type": "code",
   "execution_count": 70,
   "metadata": {},
   "outputs": [],
   "source": [
    "alice_ack = Message(\n",
    "    id = \"unique-id-293e9a922efffxxxffsss\",\n",
    "    type = \"https://didcomm.org/messagepickup/3.0/messages-received\",\n",
    "    body = {\"message_id_list\": [msg_id]}\n",
    ")"
   ]
  },
  {
   "cell_type": "code",
   "execution_count": 71,
   "metadata": {},
   "outputs": [],
   "source": [
    "alice_ack_packed_msg = await pack_encrypted(\n",
    "    resolvers_config = ResolversConfig(\n",
    "        secrets_resolver = secrets_resolver,\n",
    "        did_resolver = DIDResolverPeerDID()\n",
    "    ),\n",
    "    message = alice_ack,\n",
    "    to = mediator_did,\n",
    "    frm = alice_did_for_mediator,\n",
    "    sign_frm = None,\n",
    "    pack_config = PackEncryptedConfig(protect_sender_id=False)\n",
    ")\n",
    "headers = {\"Content-Type\": \"application/didcomm-encrypted+json\"}\n",
    "resp5 = requests.post(mediator_endpoint, headers=headers, data = alice_ack_packed_msg.packed_msg)"
   ]
  },
  {
   "cell_type": "code",
   "execution_count": 72,
   "metadata": {},
   "outputs": [
    {
     "name": "stdout",
     "output_type": "stream",
     "text": [
      "https://didcomm.org/messagepickup/3.0/status\n",
      "{'message_count': 0, 'live_delivery': False}\n"
     ]
    }
   ],
   "source": [
    "mediator_ack_status = await unpack(\n",
    "    resolvers_config=ResolversConfig(\n",
    "        secrets_resolver=secrets_resolver,\n",
    "        did_resolver=DIDResolverPeerDID()\n",
    "    ),\n",
    "    packed_msg= resp5.json()\n",
    ")\n",
    "print(mediator_ack_status.message.type)\n",
    "print(mediator_ack_status.message.body)"
   ]
  },
  {
   "cell_type": "code",
   "execution_count": null,
   "metadata": {},
   "outputs": [],
   "source": []
  }
 ],
 "metadata": {
  "kernelspec": {
   "display_name": "Python 3.8.10 64-bit",
   "language": "python",
   "name": "python3"
  },
  "language_info": {
   "codemirror_mode": {
    "name": "ipython",
    "version": 3
   },
   "file_extension": ".py",
   "mimetype": "text/x-python",
   "name": "python",
   "nbconvert_exporter": "python",
   "pygments_lexer": "ipython3",
   "version": "3.8.10"
  },
  "vscode": {
   "interpreter": {
    "hash": "1ee38ef4a5a9feb55287fd749643f13d043cb0a7addaab2a9c224cbe137c0062"
   }
  }
 },
 "nbformat": 4,
 "nbformat_minor": 2
}
