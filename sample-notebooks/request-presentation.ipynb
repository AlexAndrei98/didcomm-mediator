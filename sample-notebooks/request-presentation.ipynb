{
 "cells": [
  {
   "cell_type": "code",
   "execution_count": 1,
   "metadata": {},
   "outputs": [],
   "source": [
    "import json\n",
    "import base64\n",
    "import qrcode\n",
    "import requests\n",
    "import datetime\n",
    "import urllib.parse\n",
    "import uuid\n",
    "import matplotlib.pyplot as plt\n",
    "from pymongo import MongoClient\n",
    "from typing import Optional, List\n",
    "from didcomm.common.types import DID, VerificationMethodType, VerificationMaterial, VerificationMaterialFormat\n",
    "from didcomm.did_doc.did_doc import DIDDoc, VerificationMethod, DIDCommService\n",
    "from didcomm.did_doc.did_resolver import DIDResolver\n",
    "from didcomm.message import Message, FromPrior\n",
    "from didcomm.secrets.secrets_resolver_demo import SecretsResolverDemo\n",
    "from didcomm.unpack import unpack, UnpackResult\n",
    "from didcomm.common.resolvers import ResolversConfig\n",
    "from didcomm.pack_encrypted import pack_encrypted, PackEncryptedConfig, PackEncryptedResult\n",
    "from peerdid.core.did_doc_types import DIDCommServicePeerDID\n",
    "from didcomm.secrets.secrets_util import generate_x25519_keys_as_jwk_dict, generate_ed25519_keys_as_jwk_dict, jwk_to_secret\n",
    "from peerdid import peer_did\n",
    "from peerdid.did_doc import DIDDocPeerDID\n",
    "from didcomm.message import Attachment, AttachmentDataJson\n",
    "from peerdid.types import VerificationMaterialAuthentication, VerificationMethodTypeAuthentication, VerificationMaterialAgreement, VerificationMethodTypeAgreement, VerificationMaterialFormatPeerDID"
   ]
  },
  {
   "cell_type": "code",
   "execution_count": null,
   "metadata": {},
   "outputs": [],
   "source": []
  },
  {
   "cell_type": "markdown",
   "metadata": {},
   "source": [
    "## Helper function"
   ]
  },
  {
   "cell_type": "code",
   "execution_count": 2,
   "metadata": {},
   "outputs": [],
   "source": [
    "# %load /Users/alex/Projects/rootid/didcomm-mediator/db_utils.py\n",
    "''' DB Utilities '''\n",
    "from pymongo import MongoClient\n",
    "from bson.objectid import ObjectId\n",
    "import datetime\n",
    "import os\n",
    "import urllib.parse\n",
    "\n",
    "\n",
    "mongo = MongoClient(\n",
    "    'mongodb://localhost:27017',\n",
    "    username=urllib.parse.quote_plus(os.environ[\"MONGODB_USER\"]) if \"MONGODB_USER\" in os.environ else None,\n",
    "    password=urllib.parse.quote_plus(os.environ[\"MONGODB_PASSWORD\"]) if \"MONGODB_PASSWORD\" in os.environ else None,\n",
    "    authSource=\"admin\"\n",
    ")\n",
    "\n",
    "\n",
    "db = mongo.mediator\n",
    "\n",
    "def get_connection(remote_did):\n",
    "    ''' Get existing connection '''\n",
    "    return db.connections.find_one({\"remote_did\": remote_did})\n",
    "\n",
    "def create_connection(remote_did, local_did):\n",
    "    ''' Create connection'''\n",
    "    db.connections.insert_one({\n",
    "        \"remote_did\": remote_did,\n",
    "        \"local_did\": local_did,\n",
    "        \"creation_time\": int(datetime.datetime.now().timestamp())\n",
    "    })\n",
    "\n",
    "def update_connection(remote_old_did, remote_new_did):\n",
    "    ''' Update connection '''\n",
    "    #TODO history of rotations\n",
    "    db.connections.update_one(\n",
    "        {\"remote_did\": remote_old_did}, {\n",
    "            \"$set\": {\"remote_did\": remote_new_did, \"update_time\": int(datetime.datetime.now().timestamp())}\n",
    "        }\n",
    "    )\n",
    "\n",
    "def get_oob_did():\n",
    "    return db.oobs.find_one(sort=[('date', -1)])\n",
    "\n",
    "def store_oob_did(did):\n",
    "    db.oobs.insert_one(did)\n",
    "\n",
    "def get_issuer_did():\n",
    "    issuer_did = db.issuers.find_one(sort=[('date', -1)])\n",
    "    return issuer_did if issuer_did is not None else None\n",
    "\n",
    "def store_issuer_did(did):\n",
    "    db.issuers.insert_one(did)\n",
    "\n",
    "\n",
    "def store_vc(vc):\n",
    "    db.vcs.insert_one(vc)\n",
    "\n",
    "def get_vc(vc_id):\n",
    "    return db.vcs.find_one({\"id\": vc_id})\n",
    "\n",
    "def get_prism_holder_did():\n",
    "    holder_did = db.prism_holder.find_one(sort=[('date', -1)])\n",
    "    return holder_did if holder_did is not None else None\n",
    "\n",
    "def store_prism_holder_did(did):\n",
    "    db.prism_holder.insert_one(did)\n",
    "\n",
    "def get_prism_did(did):\n",
    "    return db.prism.find_one({\"did\": did})\n",
    "\n",
    "def store_prism_did(did,seed):\n",
    "    db.prism.insert_one({\n",
    "        \"did\": did,\n",
    "        \"seed\": seed\n",
    "    })\n",
    "\n",
    "def add_mediation(remote_did, routing_did, endpoint):\n",
    "    ''' Add mediation info to connection '''\n",
    "    db.connections.update_one(\n",
    "        {\"remote_did\": remote_did}, {\n",
    "            \"$set\": {\n",
    "                        \"isMediation\": True, \n",
    "                        \"routing_did\": routing_did,\n",
    "                        \"endpoint\": endpoint\n",
    "                    }\n",
    "        }\n",
    "    )\n",
    "\n",
    "def update_keys(remote_did, updates):\n",
    "    ''' Add mediation keys '''\n",
    "    connection = get_connection(remote_did)\n",
    "    current_keys = connection[\"keylist\"] if \"keylist\" in connection else []\n",
    "    updated = []\n",
    "    for update in updates:\n",
    "        if update[\"action\"] == \"add\":\n",
    "            if update[\"recipient_did\"] in current_keys:\n",
    "                updated.append(\n",
    "                    {\n",
    "                        \"recipient_did\": update[\"recipient_did\"],\n",
    "                        \"action\": \"add\",\n",
    "                        \"result\": \"no_change\"\n",
    "                    })\n",
    "            else:\n",
    "                current_keys.append(update[\"recipient_did\"])\n",
    "                updated.append(\n",
    "                    {\n",
    "                        \"recipient_did\": update[\"recipient_did\"],\n",
    "                        \"action\": \"add\",\n",
    "                        \"result\": \"success\"\n",
    "                    })\n",
    "        elif update[\"action\"] == \"remove\":\n",
    "            if update[\"recipient_did\"] in current_keys:\n",
    "                current_keys.remove(update[\"recipient_did\"])\n",
    "                updated.append(\n",
    "                    {\n",
    "                        \"recipient_did\": update[\"recipient_did\"],\n",
    "                        \"action\": \"remove\",\n",
    "                        \"result\": \"success\"\n",
    "                    })\n",
    "            else:\n",
    "                updated.append(\n",
    "                    {\n",
    "                        \"recipient_did\": update[\"recipient_did\"],\n",
    "                        \"action\": \"remove\",\n",
    "                        \"result\": \"no_change\"\n",
    "                    })\n",
    "        else:\n",
    "            updated.append(\n",
    "                    {\n",
    "                        \"recipient_did\": update[\"recipient_did\"],\n",
    "                        \"action\": update[\"action\"],\n",
    "                        \"result\": \"client_error\"\n",
    "                    })\n",
    "        db.connections.update_one(\n",
    "        {\"remote_did\": remote_did}, {\n",
    "            \"$set\": {\n",
    "                        \"keylist\": current_keys, \n",
    "                    }\n",
    "        }\n",
    "    )\n",
    "    return updated\n",
    "\n",
    "def get_message_status(remote_did, recipient_key):\n",
    "    if recipient_key:\n",
    "        count = db.messages.count_documents({\"recipient_key\": recipient_key},{\"attachment\":1})\n",
    "    else:\n",
    "        recipient_keys = db.connections.find_one({\"remote_did\":remote_did})[\"keylist\"]\n",
    "        count = db.messages.count_documents({\"recipient_key\": {\"$in\":recipient_keys}})\n",
    "    return count\n",
    "\n",
    "def get_messages(remote_did, recipient_key,limit):\n",
    "    if recipient_key:\n",
    "        return db.messages.find({\"recipient_key\": recipient_key},{\"attachment\":1}).limit(limit)\n",
    "    else:\n",
    "        recipient_keys = db.connections.find_one({\"remote_did\":remote_did})[\"keylist\"]\n",
    "        return list(db.messages.find({\"recipient_key\": {\"$in\":recipient_keys}}).limit(limit))\n",
    "\n",
    "def add_message(recipient_key, attachment):\n",
    "    # TODO verify that recipient_key belong to a registered peer\n",
    "    db.messages.insert_one(\n",
    "            {\n",
    "                \"recipient_key\": recipient_key,\n",
    "                \"attachment\": attachment,\n",
    "                \"datetime\": int(datetime.datetime.now().timestamp())\n",
    "            }\n",
    "        )\n",
    "\n",
    "def remove_messages(remote_did, message_id_list):\n",
    "    #TODO verify that recipient_key belongs to remote_did\n",
    "    for id in message_id_list:\n",
    "        db.messages.delete_one({\"_id\": ObjectId(id)})\n",
    "    return get_message_status(remote_did, None)\n",
    "\n",
    "def get_short_url(oobid):\n",
    "    short_url = db.shortUrls.find_one({\"oobid\": oobid},sort=[('date', -1)])\n",
    "    return short_url\n",
    "\n",
    "def store_short_url(short_url):\n",
    "    db.shortUrls.insert_one(short_url)\n",
    "\n",
    "def expire_short_url(oobid):\n",
    "        # TODO order by date\n",
    "        db.shortUrls.update_one(\n",
    "            {\"oobid\": oobid}, {\n",
    "                \"$set\": {\n",
    "                            \"expires_time\": int(0)\n",
    "                        }\n",
    "            }\n",
    "        )\n",
    "    "
   ]
  },
  {
   "cell_type": "code",
   "execution_count": 3,
   "metadata": {},
   "outputs": [],
   "source": [
    "secrets_resolver = SecretsResolverDemo()"
   ]
  },
  {
   "cell_type": "code",
   "execution_count": 4,
   "metadata": {},
   "outputs": [],
   "source": [
    "class DIDResolverPeerDID(DIDResolver):\n",
    "    async def resolve(self, did: DID) -> DIDDoc:\n",
    "        did_doc_json = peer_did.resolve_peer_did(did, format = VerificationMaterialFormatPeerDID.JWK)\n",
    "        did_doc = DIDDocPeerDID.from_json(did_doc_json)\n",
    "\n",
    "        return DIDDoc(\n",
    "            did=did_doc.did,\n",
    "            key_agreement_kids = did_doc.agreement_kids,\n",
    "            authentication_kids = did_doc.auth_kids,\n",
    "            verification_methods = [\n",
    "                VerificationMethod(\n",
    "                    id = m.id,\n",
    "                    type = VerificationMethodType.JSON_WEB_KEY_2020,\n",
    "                    controller = m.controller,\n",
    "                    verification_material = VerificationMaterial(\n",
    "                        format = VerificationMaterialFormat.JWK,\n",
    "                        value = json.dumps(m.ver_material.value)\n",
    "                    )\n",
    "                )\n",
    "                for m in did_doc.authentication + did_doc.key_agreement\n",
    "            ],\n",
    "            didcomm_services = [\n",
    "                DIDCommService(\n",
    "                    id = s.id,\n",
    "                    service_endpoint = s.service_endpoint,\n",
    "                    routing_keys = s.routing_keys,\n",
    "                    accept = s.accept\n",
    "                )\n",
    "                for s in did_doc.service\n",
    "                if isinstance(s, DIDCommServicePeerDID)\n",
    "            ] if did_doc.service else []\n",
    "        )"
   ]
  },
  {
   "cell_type": "code",
   "execution_count": 5,
   "metadata": {},
   "outputs": [],
   "source": [
    "async def create_peer_did(self,\n",
    "                        auth_keys_count: int = 1,\n",
    "                        agreement_keys_count: int = 1,\n",
    "                        service_endpoint: Optional[str] = None,\n",
    "                        service_routing_keys: Optional[List[str]] = None\n",
    "                        ) -> str:\n",
    "        # 1. generate keys in JWK format\n",
    "        agreem_keys = [generate_x25519_keys_as_jwk_dict() for _ in range(agreement_keys_count)]\n",
    "        auth_keys = [generate_ed25519_keys_as_jwk_dict() for _ in range(auth_keys_count)]\n",
    "\n",
    "        # 2. prepare the keys for peer DID lib\n",
    "        agreem_keys_peer_did = [\n",
    "            VerificationMaterialAgreement(\n",
    "                type=VerificationMethodTypeAgreement.JSON_WEB_KEY_2020,\n",
    "                format=VerificationMaterialFormatPeerDID.JWK,\n",
    "                value=k[1],\n",
    "            )\n",
    "            for k in agreem_keys\n",
    "        ]\n",
    "        auth_keys_peer_did = [\n",
    "            VerificationMaterialAuthentication(\n",
    "                type=VerificationMethodTypeAuthentication.JSON_WEB_KEY_2020,\n",
    "                format=VerificationMaterialFormatPeerDID.JWK,\n",
    "                value=k[1],\n",
    "            )\n",
    "            for k in auth_keys\n",
    "        ]\n",
    "\n",
    "        # 3. generate service\n",
    "        service = None\n",
    "        if service_endpoint:\n",
    "            service = json.dumps(\n",
    "                DIDCommServicePeerDID(\n",
    "                    id=\"new-id\",\n",
    "                    service_endpoint=service_endpoint, routing_keys=service_routing_keys,\n",
    "                    accept=[\"didcomm/v2\"]\n",
    "                ).to_dict()\n",
    "            )\n",
    "\n",
    "        # 4. call peer DID lib\n",
    "        # if we have just one key (auth), then use numalg0 algorithm\n",
    "        # otherwise use numalg2 algorithm\n",
    "        if len(auth_keys_peer_did) == 1 and not agreem_keys_peer_did and not service:\n",
    "            did = peer_did.create_peer_did_numalgo_0(auth_keys_peer_did[0])\n",
    "        else:\n",
    "            did = peer_did.create_peer_did_numalgo_2(\n",
    "                encryption_keys=agreem_keys_peer_did,\n",
    "                signing_keys=auth_keys_peer_did,\n",
    "                service=service,\n",
    "            )\n",
    "\n",
    "        # 5. set KIDs as in DID DOC for secrets and store the secret in the secrets resolver\n",
    "        did_doc = DIDDocPeerDID.from_json(peer_did.resolve_peer_did(did))\n",
    "        for auth_key, kid in zip(auth_keys, did_doc.auth_kids):\n",
    "            private_key = auth_key[0]\n",
    "            private_key[\"kid\"] = kid\n",
    "            await secrets_resolver.add_key(jwk_to_secret(private_key))\n",
    "\n",
    "        for agreem_key, kid in zip(agreem_keys, did_doc.agreement_kids):\n",
    "            private_key = agreem_key[0]\n",
    "            private_key[\"kid\"] = kid\n",
    "            await secrets_resolver.add_key(jwk_to_secret(private_key))\n",
    "\n",
    "        return did\n"
   ]
  },
  {
   "cell_type": "markdown",
   "metadata": {},
   "source": [
    "### Reading issuer OOB message"
   ]
  },
  {
   "cell_type": "code",
   "execution_count": 6,
   "metadata": {},
   "outputs": [
    {
     "name": "stdout",
     "output_type": "stream",
     "text": [
      "http://127.0.0.1:8000?_oob=eyJ0eXBlIjoiaHR0cHM6Ly9kaWRjb21tLm9yZy9vdXQtb2YtYmFuZC8yLjAvaW52aXRhdGlvbiIsImlkIjoiOWYyMDc5ZTItNmEzNS00OWRiLWE3M2MtY2MyZjAyNDc0YTU0IiwiZnJvbSI6ImRpZDpwZWVyOjIuRXo2TFNnU2kxVm1rS01UY1dLSk1meHpKZ1ExUVFZbVZWVVhXeHlqQVN1c0Q2dTZQRC5WejZNa2d4dG5BRWpmc2FYcnl1SFNWWHRvN2t3V3NuRWs1TnAyU1hkVVdvZ1A3OWRBLlNleUpwWkNJNkltNWxkeTFwWkNJc0luUWlPaUprYlNJc0luTWlPaUpvZEhSd09pOHZNVEkzTGpBdU1DNHhPamd3TURBaUxDSmhJanBiSW1ScFpHTnZiVzB2ZGpJaVhYMCIsImJvZHkiOnsiZ29hbF9jb2RlIjoicmVxdWVzdC1tZWRpYXRlIiwiZ29hbCI6IlJlcXVlc3RNZWRpYXRlIiwiYWNjZXB0IjpbImRpZGNvbW0vdjIiLCJkaWRjb21tL2FpcDI7ZW52PXJmYzU4NyJdfX0\n"
     ]
    }
   ],
   "source": [
    "# oob_url = requests.get(\"https://mediator.rootsid.cloud/oob_url\").text\n",
    "oob_url = requests.get(\"http://127.0.0.1:8000/oob_url\").text\n",
    "print(oob_url)"
   ]
  },
  {
   "cell_type": "code",
   "execution_count": 7,
   "metadata": {},
   "outputs": [
    {
     "name": "stdout",
     "output_type": "stream",
     "text": [
      "{'type': 'https://didcomm.org/out-of-band/2.0/invitation', 'id': '9f2079e2-6a35-49db-a73c-cc2f02474a54', 'from': 'did:peer:2.Ez6LSgSi1VmkKMTcWKJMfxzJgQ1QQYmVVUXWxyjASusD6u6PD.Vz6MkgxtnAEjfsaXryuHSVXto7kwWsnEk5Np2SXdUWogP79dA.SeyJpZCI6Im5ldy1pZCIsInQiOiJkbSIsInMiOiJodHRwOi8vMTI3LjAuMC4xOjgwMDAiLCJhIjpbImRpZGNvbW0vdjIiXX0', 'body': {'goal_code': 'request-mediate', 'goal': 'RequestMediate', 'accept': ['didcomm/v2', 'didcomm/aip2;env=rfc587']}}\n"
     ]
    }
   ],
   "source": [
    "received_msg_encoded = oob_url.split(\"=\")[1]\n",
    "received_msg_decoded = json.loads(str(base64.urlsafe_b64decode(received_msg_encoded + \"==\"), \"utf-8\"))\n",
    "print(received_msg_decoded)"
   ]
  },
  {
   "cell_type": "markdown",
   "metadata": {},
   "source": [
    "## Prepare request-credential"
   ]
  },
  {
   "cell_type": "markdown",
   "metadata": {},
   "source": []
  },
  {
   "cell_type": "markdown",
   "metadata": {},
   "source": [
    "The holder needs to create a did:peer to communicate with the issuer:"
   ]
  },
  {
   "cell_type": "code",
   "execution_count": 8,
   "metadata": {},
   "outputs": [
    {
     "name": "stdout",
     "output_type": "stream",
     "text": [
      "Holder's DID: did:peer:2.Ez6LSk8bHZFndDZAeuJwmCgdg6BSU9PtTxKSAAFdwbp9F8pgs.Vz6Mkj7QGyJkvgrqo8fNc5EEoKJody631ifGFGmAHXQRaQDAd.SeyJpZCI6Im5ldy1pZCIsInQiOiJkbSIsInMiOiJodHRwczovL3d3dy5leGFtcGxlLmNvbS9ob2xkZXIiLCJhIjpbImRpZGNvbW0vdjIiXX0\n"
     ]
    }
   ],
   "source": [
    "holder_did = await create_peer_did(1,1, service_endpoint=\"https://www.example.com/holder\")\n",
    "print(\"Holder's DID:\", holder_did)"
   ]
  },
  {
   "cell_type": "markdown",
   "metadata": {},
   "source": [
    "Also, the holder needs to provide a did:prism where the credential will be issued to."
   ]
  },
  {
   "cell_type": "code",
   "execution_count": 9,
   "metadata": {},
   "outputs": [],
   "source": [
    "holder_prism_did = get_prism_holder_did()['did']\n"
   ]
  },
  {
   "cell_type": "markdown",
   "metadata": {},
   "source": [
    "The following is a JSON-LD credential request that the holder will submmit to the issuer."
   ]
  },
  {
   "cell_type": "code",
   "execution_count": 10,
   "metadata": {},
   "outputs": [],
   "source": [
    "credential_request = {\n",
    "    \"credential\": {\n",
    "        \"@context\": \n",
    "        [\n",
    "            \"https://www.w3.org/2018/credentials/v1\",\n",
    "            \"https://www.w3.org/2018/credentials/examples/v1\"\n",
    "        ],\n",
    "        \"id\": 'local-id',\n",
    "        \"type\": [\"VerifiableCredential\", \"UniversityDegreeCredential\"],\n",
    "        \"issuer\": \"did:prism:fb727d449bd219021503d3f8c63a221cc1861a90e93b5c017b139aafdd2c14d9:Cr8BCrwBEjsKB21hc3RlcjAQAUouCglzZWNwMjU2azESIQNJuG3G_ZCEg9YHAXQpvLagXQTb8emtVTjBh_m66F5uoRI8Cghpc3N1aW5nMBACSi4KCXNlY3AyNTZrMRIhAiRByhWe4k1MTd7cbmRxrthrV7WPsRaKccZeDIAWoGJlEj8KC3Jldm9jYXRpb24wEAVKLgoJc2VjcDI1NmsxEiEDTkb_zwgk-ILQcH3tW3kCAiuuGcRcjiDlQ3h8eS0MmPk\",\n",
    "        \"issuanceDate\": datetime.datetime.now().strftime(\"%Y-%m-%dT%H:%M:%SZ\"),\n",
    "        \"credentialSubject\": \n",
    "            {\n",
    "              \"id\": holder_prism_did,\n",
    "              \"degree\": \n",
    "                {\n",
    "                    \"type\": \"BachelorDegree\",\n",
    "                    \"name\": \"Bachelor of Science and Arts\"\n",
    "                  }\n",
    "            },\n",
    "        \"options\": {\n",
    "            \"proofType\": \"EcdsaSecp256k1Signature2019\"\n",
    "        }\n",
    "    }\n",
    "}"
   ]
  },
  {
   "cell_type": "markdown",
   "metadata": {},
   "source": [
    "Finally the holder prepares the didcomm message following issue-credential/3.0 protocol:"
   ]
  },
  {
   "cell_type": "code",
   "execution_count": 11,
   "metadata": {},
   "outputs": [],
   "source": [
    "\n",
    "holder_response_message = Message(\n",
    "    custom_headers = [{\n",
    "        \"return_route\": \"all\"}],\n",
    "    id = str(uuid.uuid4()),\n",
    "    #pthid = received_msg_decoded[\"id\"],\n",
    "    type = \"https://didcomm.org/issue-credential/3.0/request-credential\",\n",
    "    frm = holder_did,\n",
    "    to = [received_msg_decoded[\"from\"]],\n",
    "    body = {\n",
    "        \"goal_code\": \"issue-credential\",\n",
    "        \"comment\": \"some comment\"\n",
    "    },\n",
    "    attachments = [\n",
    "        Attachment(\n",
    "                id=str(uuid.uuid4()),\n",
    "                media_type= \"application/json\",\n",
    "                format= \"aries/ld-proof-vc-detail@v1.0\",\n",
    "                data=AttachmentDataJson(json=credential_request)\n",
    "                )\n",
    "    ]\n",
    "                        \n",
    ")"
   ]
  },
  {
   "cell_type": "code",
   "execution_count": 12,
   "metadata": {},
   "outputs": [],
   "source": [
    "holder_packed_msg = await pack_encrypted(\n",
    "    resolvers_config = ResolversConfig(\n",
    "        secrets_resolver = secrets_resolver,\n",
    "        did_resolver = DIDResolverPeerDID()\n",
    "    ),\n",
    "    message = holder_response_message,\n",
    "    frm = holder_did,\n",
    "    to = received_msg_decoded[\"from\"],\n",
    "    sign_frm = None,\n",
    "    pack_config = PackEncryptedConfig(protect_sender_id=False)\n",
    ")"
   ]
  },
  {
   "cell_type": "markdown",
   "metadata": {},
   "source": [
    "### Sending the message to Mediator"
   ]
  },
  {
   "cell_type": "markdown",
   "metadata": {},
   "source": [
    "From the issuer DID obtained in the OOB QR Code, we can get the DID document:"
   ]
  },
  {
   "cell_type": "code",
   "execution_count": 13,
   "metadata": {},
   "outputs": [
    {
     "name": "stdout",
     "output_type": "stream",
     "text": [
      "{'id': 'did:peer:2.Ez6LSgSi1VmkKMTcWKJMfxzJgQ1QQYmVVUXWxyjASusD6u6PD.Vz6MkgxtnAEjfsaXryuHSVXto7kwWsnEk5Np2SXdUWogP79dA.SeyJpZCI6Im5ldy1pZCIsInQiOiJkbSIsInMiOiJodHRwOi8vMTI3LjAuMC4xOjgwMDAiLCJhIjpbImRpZGNvbW0vdjIiXX0', 'authentication': [{'id': 'did:peer:2.Ez6LSgSi1VmkKMTcWKJMfxzJgQ1QQYmVVUXWxyjASusD6u6PD.Vz6MkgxtnAEjfsaXryuHSVXto7kwWsnEk5Np2SXdUWogP79dA.SeyJpZCI6Im5ldy1pZCIsInQiOiJkbSIsInMiOiJodHRwOi8vMTI3LjAuMC4xOjgwMDAiLCJhIjpbImRpZGNvbW0vdjIiXX0#6MkgxtnAEjfsaXryuHSVXto7kwWsnEk5Np2SXdUWogP79dA', 'type': 'Ed25519VerificationKey2020', 'controller': 'did:peer:2.Ez6LSgSi1VmkKMTcWKJMfxzJgQ1QQYmVVUXWxyjASusD6u6PD.Vz6MkgxtnAEjfsaXryuHSVXto7kwWsnEk5Np2SXdUWogP79dA.SeyJpZCI6Im5ldy1pZCIsInQiOiJkbSIsInMiOiJodHRwOi8vMTI3LjAuMC4xOjgwMDAiLCJhIjpbImRpZGNvbW0vdjIiXX0', 'publicKeyMultibase': 'z6MkgxtnAEjfsaXryuHSVXto7kwWsnEk5Np2SXdUWogP79dA'}], 'keyAgreement': [{'id': 'did:peer:2.Ez6LSgSi1VmkKMTcWKJMfxzJgQ1QQYmVVUXWxyjASusD6u6PD.Vz6MkgxtnAEjfsaXryuHSVXto7kwWsnEk5Np2SXdUWogP79dA.SeyJpZCI6Im5ldy1pZCIsInQiOiJkbSIsInMiOiJodHRwOi8vMTI3LjAuMC4xOjgwMDAiLCJhIjpbImRpZGNvbW0vdjIiXX0#6LSgSi1VmkKMTcWKJMfxzJgQ1QQYmVVUXWxyjASusD6u6PD', 'type': 'X25519KeyAgreementKey2020', 'controller': 'did:peer:2.Ez6LSgSi1VmkKMTcWKJMfxzJgQ1QQYmVVUXWxyjASusD6u6PD.Vz6MkgxtnAEjfsaXryuHSVXto7kwWsnEk5Np2SXdUWogP79dA.SeyJpZCI6Im5ldy1pZCIsInQiOiJkbSIsInMiOiJodHRwOi8vMTI3LjAuMC4xOjgwMDAiLCJhIjpbImRpZGNvbW0vdjIiXX0', 'publicKeyMultibase': 'z6LSgSi1VmkKMTcWKJMfxzJgQ1QQYmVVUXWxyjASusD6u6PD'}], 'service': [{'id': 'did:peer:2.Ez6LSgSi1VmkKMTcWKJMfxzJgQ1QQYmVVUXWxyjASusD6u6PD.Vz6MkgxtnAEjfsaXryuHSVXto7kwWsnEk5Np2SXdUWogP79dA.SeyJpZCI6Im5ldy1pZCIsInQiOiJkbSIsInMiOiJodHRwOi8vMTI3LjAuMC4xOjgwMDAiLCJhIjpbImRpZGNvbW0vdjIiXX0#didcommmessaging-0', 'type': 'DIDCommMessaging', 'serviceEndpoint': 'http://127.0.0.1:8000', 'accept': ['didcomm/v2']}]}\n"
     ]
    }
   ],
   "source": [
    "issuer_did_doc = json.loads(peer_did.resolve_peer_did(received_msg_decoded[\"from\"]))\n",
    "print(issuer_did_doc)"
   ]
  },
  {
   "cell_type": "markdown",
   "metadata": {},
   "source": [
    "And from there get the issuer's endpoint"
   ]
  },
  {
   "cell_type": "code",
   "execution_count": 14,
   "metadata": {},
   "outputs": [
    {
     "name": "stdout",
     "output_type": "stream",
     "text": [
      "http://127.0.0.1:8000\n"
     ]
    }
   ],
   "source": [
    "issuer_endpoint = issuer_did_doc[\"service\"][0][\"serviceEndpoint\"]\n",
    "print(issuer_endpoint)"
   ]
  },
  {
   "cell_type": "markdown",
   "metadata": {},
   "source": [
    "# Finally sending the request to the issuer:\n",
    "## takes a couple of minutes"
   ]
  },
  {
   "cell_type": "code",
   "execution_count": 16,
   "metadata": {},
   "outputs": [
    {
     "data": {
      "text/plain": [
       "<Response [202]>"
      ]
     },
     "execution_count": 16,
     "metadata": {},
     "output_type": "execute_result"
    }
   ],
   "source": [
    "headers = {\"Content-Type\": \"application/didcomm-encrypted+json\"}\n",
    "resp = requests.post(issuer_endpoint, headers=headers, data = holder_packed_msg.packed_msg)\n",
    "resp"
   ]
  },
  {
   "cell_type": "code",
   "execution_count": null,
   "metadata": {},
   "outputs": [],
   "source": []
  },
  {
   "cell_type": "markdown",
   "metadata": {},
   "source": [
    "### Issued Verifiable Credential Received"
   ]
  },
  {
   "cell_type": "markdown",
   "metadata": {},
   "source": [
    "### Issued Verifiable Credential Received"
   ]
  },
  {
   "cell_type": "code",
   "execution_count": 17,
   "metadata": {},
   "outputs": [],
   "source": [
    "credential_unpack_msg = await unpack(\n",
    "    resolvers_config=ResolversConfig(\n",
    "        secrets_resolver=secrets_resolver,\n",
    "        did_resolver=DIDResolverPeerDID()\n",
    "    ),\n",
    "    packed_msg= resp.json()\n",
    ")"
   ]
  },
  {
   "cell_type": "code",
   "execution_count": 18,
   "metadata": {},
   "outputs": [
    {
     "name": "stdout",
     "output_type": "stream",
     "text": [
      "UnpackResult(message=Message(id='83fde0c8-331a-4f77-ac7c-2e523080e957', type='https://didcomm.org/issue-credential/3.0/issue-credential', body={'goal_code': 'issue-credential', 'comment': 'some comment'}, frm=None, to=None, created_time=None, expires_time=None, from_prior=None, please_ack=None, ack=None, thid=None, pthid=None, attachments=[Attachment(data=AttachmentDataJson(json={'@context': ['https://www.w3.org/2018/credentials/v1', 'https://www.w3.org/2018/credentials/examples/v1'], 'id': '3817d040-5d8d-4a3c-8241-66679f55f2e0', 'type': ['VerifiableCredential', 'UniversityDegreeCredential'], 'issuer': 'did:prism:fb727d449bd219021503d3f8c63a221cc1861a90e93b5c017b139aafdd2c14d9:Cr8BCrwBEjsKB21hc3RlcjAQAUouCglzZWNwMjU2azESIQNJuG3G_ZCEg9YHAXQpvLagXQTb8emtVTjBh_m66F5uoRI8Cghpc3N1aW5nMBACSi4KCXNlY3AyNTZrMRIhAiRByhWe4k1MTd7cbmRxrthrV7WPsRaKccZeDIAWoGJlEj8KC3Jldm9jYXRpb24wEAVKLgoJc2VjcDI1NmsxEiEDTkb_zwgk-ILQcH3tW3kCAiuuGcRcjiDlQ3h8eS0MmPk', 'issuanceDate': '2022-09-19T12:36:58Z', 'credentialSubject': {'id': 'did:prism:8ade34754487af867b813d008d3704451a0c1df88090c1947d6f901857fd5ada:Cr8BCrwBEjsKB21hc3RlcjAQAUouCglzZWNwMjU2azESIQJ-gKvROnRTlmvLtBGxikIg07oaJZc2B5bU4MrAGtwDkhI8Cghpc3N1aW5nMBACSi4KCXNlY3AyNTZrMRIhA6I4nH3zH1vn1Azo_WLGr4Btz5eb9cHA-KdQq5lIsGUoEj8KC3Jldm9jYXRpb24wEAVKLgoJc2VjcDI1NmsxEiECJiZwIzuQQen4LL-OPOBUCs9zsrD0u2Z_q2PhZzx0Nrc', 'degree': {'type': 'BachelorDegree', 'name': 'Bachelor of Science and Arts'}}, 'options': {'proofType': 'EcdsaSecp256k1Signature2019'}, 'proof': {'type': 'EcdsaSecp256k1Signature2019', 'created': '2022-09-19T12:40:26Z', 'verificationMethod': 'did:prism:fb727d449bd219021503d3f8c63a221cc1861a90e93b5c017b139aafdd2c14d9:Cr8BCrwBEjsKB21hc3RlcjAQAUouCglzZWNwMjU2azESIQNJuG3G_ZCEg9YHAXQpvLagXQTb8emtVTjBh_m66F5uoRI8Cghpc3N1aW5nMBACSi4KCXNlY3AyNTZrMRIhAiRByhWe4k1MTd7cbmRxrthrV7WPsRaKccZeDIAWoGJlEj8KC3Jldm9jYXRpb24wEAVKLgoJc2VjcDI1NmsxEiEDTkb_zwgk-ILQcH3tW3kCAiuuGcRcjiDlQ3h8eS0MmPk', 'proofPurpose': 'assertionMethod', 'proofValue': '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.MEYCIQC95I2P8e-gl0fP0RvRxWTY_ibrLJYzGnd4mcemqoMw1gIhALvTPtCJxSOo8rCYl7TLw2Onnen2qj6tEWuFYAf0p9UH', 'proofHash': '46efecd005938172c10a4e4cb36d02a60c96e9a2007dd849bc23b64c7b23c39f', 'proofBatchId': '244ffdaa633724fbc8de41871a948a989de64cafec630c03da4de63793da2a59'}}, hash=None, jws=None), id='9c2142e5-fdcc-4a25-a030-b53bf993e7e4', description=None, filename=None, media_type='application/json', format='aries/ld-proof-vc-detail@v1.0', lastmod_time=None, byte_count=None)], custom_headers=None), metadata=Metadata(encrypted=True, authenticated=True, non_repudiation=False, anonymous_sender=False, re_wrapped_in_forward=False, encrypted_from='did:peer:2.Ez6LShWshYyB3nBFmhmFNHuAHmcqUoPYW2NywZg7TvUA6pUDV.Vz6MkqN56YaEKYseZGmhQJu97oG1SJxTeqnnyCXJsdzX3e5ig.SeyJpZCI6Im5ldy1pZCIsInQiOiJkbSIsInMiOiJodHRwOi8vMTI3LjAuMC4xOjgwMDAiLCJhIjpbImRpZGNvbW0vdjIiXX0#6LShWshYyB3nBFmhmFNHuAHmcqUoPYW2NywZg7TvUA6pUDV', encrypted_to=['did:peer:2.Ez6LSk8bHZFndDZAeuJwmCgdg6BSU9PtTxKSAAFdwbp9F8pgs.Vz6Mkj7QGyJkvgrqo8fNc5EEoKJody631ifGFGmAHXQRaQDAd.SeyJpZCI6Im5ldy1pZCIsInQiOiJkbSIsInMiOiJodHRwczovL3d3dy5leGFtcGxlLmNvbS9ob2xkZXIiLCJhIjpbImRpZGNvbW0vdjIiXX0#6LSk8bHZFndDZAeuJwmCgdg6BSU9PtTxKSAAFdwbp9F8pgs'], sign_from=None, from_prior_issuer_kid=None, enc_alg_auth=<AuthCryptAlg.A256CBC_HS512_ECDH_1PU_A256KW: Algs(alg='ECDH-1PU+A256KW', enc='A256CBC-HS512')>, enc_alg_anon=None, sign_alg=None, signed_message=None, from_prior_jwt=None))\n"
     ]
    }
   ],
   "source": [
    "print(credential_unpack_msg)"
   ]
  },
  {
   "cell_type": "code",
   "execution_count": 19,
   "metadata": {},
   "outputs": [],
   "source": [
    "credential = credential_unpack_msg.message.attachments[0].data.json"
   ]
  },
  {
   "cell_type": "code",
   "execution_count": 20,
   "metadata": {},
   "outputs": [
    {
     "data": {
      "text/plain": [
       "{'@context': ['https://www.w3.org/2018/credentials/v1',\n",
       "  'https://www.w3.org/2018/credentials/examples/v1'],\n",
       " 'id': '3817d040-5d8d-4a3c-8241-66679f55f2e0',\n",
       " 'type': ['VerifiableCredential', 'UniversityDegreeCredential'],\n",
       " 'issuer': 'did:prism:fb727d449bd219021503d3f8c63a221cc1861a90e93b5c017b139aafdd2c14d9:Cr8BCrwBEjsKB21hc3RlcjAQAUouCglzZWNwMjU2azESIQNJuG3G_ZCEg9YHAXQpvLagXQTb8emtVTjBh_m66F5uoRI8Cghpc3N1aW5nMBACSi4KCXNlY3AyNTZrMRIhAiRByhWe4k1MTd7cbmRxrthrV7WPsRaKccZeDIAWoGJlEj8KC3Jldm9jYXRpb24wEAVKLgoJc2VjcDI1NmsxEiEDTkb_zwgk-ILQcH3tW3kCAiuuGcRcjiDlQ3h8eS0MmPk',\n",
       " 'issuanceDate': '2022-09-19T12:36:58Z',\n",
       " 'credentialSubject': {'id': 'did:prism:8ade34754487af867b813d008d3704451a0c1df88090c1947d6f901857fd5ada:Cr8BCrwBEjsKB21hc3RlcjAQAUouCglzZWNwMjU2azESIQJ-gKvROnRTlmvLtBGxikIg07oaJZc2B5bU4MrAGtwDkhI8Cghpc3N1aW5nMBACSi4KCXNlY3AyNTZrMRIhA6I4nH3zH1vn1Azo_WLGr4Btz5eb9cHA-KdQq5lIsGUoEj8KC3Jldm9jYXRpb24wEAVKLgoJc2VjcDI1NmsxEiECJiZwIzuQQen4LL-OPOBUCs9zsrD0u2Z_q2PhZzx0Nrc',\n",
       "  'degree': {'type': 'BachelorDegree',\n",
       "   'name': 'Bachelor of Science and Arts'}},\n",
       " 'options': {'proofType': 'EcdsaSecp256k1Signature2019'},\n",
       " 'proof': {'type': 'EcdsaSecp256k1Signature2019',\n",
       "  'created': '2022-09-19T12:40:26Z',\n",
       "  'verificationMethod': 'did:prism:fb727d449bd219021503d3f8c63a221cc1861a90e93b5c017b139aafdd2c14d9:Cr8BCrwBEjsKB21hc3RlcjAQAUouCglzZWNwMjU2azESIQNJuG3G_ZCEg9YHAXQpvLagXQTb8emtVTjBh_m66F5uoRI8Cghpc3N1aW5nMBACSi4KCXNlY3AyNTZrMRIhAiRByhWe4k1MTd7cbmRxrthrV7WPsRaKccZeDIAWoGJlEj8KC3Jldm9jYXRpb24wEAVKLgoJc2VjcDI1NmsxEiEDTkb_zwgk-ILQcH3tW3kCAiuuGcRcjiDlQ3h8eS0MmPk',\n",
       "  'proofPurpose': 'assertionMethod',\n",
       "  'proofValue': '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.MEYCIQC95I2P8e-gl0fP0RvRxWTY_ibrLJYzGnd4mcemqoMw1gIhALvTPtCJxSOo8rCYl7TLw2Onnen2qj6tEWuFYAf0p9UH',\n",
       "  'proofHash': '46efecd005938172c10a4e4cb36d02a60c96e9a2007dd849bc23b64c7b23c39f',\n",
       "  'proofBatchId': '244ffdaa633724fbc8de41871a948a989de64cafec630c03da4de63793da2a59'}}"
      ]
     },
     "execution_count": 20,
     "metadata": {},
     "output_type": "execute_result"
    }
   ],
   "source": [
    "credential"
   ]
  },
  {
   "cell_type": "markdown",
   "metadata": {},
   "source": [
    "# Request VP"
   ]
  },
  {
   "cell_type": "code",
   "execution_count": 21,
   "metadata": {},
   "outputs": [
    {
     "name": "stdout",
     "output_type": "stream",
     "text": [
      "{'type': 'https://didcomm.org/out-of-band/2.0/invitation', 'id': '599f3638-b563-4937-9487-dfe55099d900', 'from': 'did:peer:2.Ez6LSgSi1VmkKMTcWKJMfxzJgQ1QQYmVVUXWxyjASusD6u6PD.Vz6MkgxtnAEjfsaXryuHSVXto7kwWsnEk5Np2SXdUWogP79dA.SeyJpZCI6Im5ldy1pZCIsInQiOiJkbSIsInMiOiJodHRwOi8vMTI3LjAuMC4xOjgwMDAiLCJhIjpbImRpZGNvbW0vdjIiXX0', 'body': {'goal_code': 'streamlined-vp', 'accept': ['didcomm/v2']}}\n"
     ]
    }
   ],
   "source": [
    "oob_url = requests.get(\"http://127.0.0.1:8000/verify_url\").text\n",
    "received_msg_encoded = oob_url.split(\"=\")[1]\n",
    "received_msg_decoded = json.loads(str(base64.urlsafe_b64decode(received_msg_encoded + \"==\"), \"utf-8\"))\n",
    "print(received_msg_decoded)"
   ]
  },
  {
   "cell_type": "code",
   "execution_count": null,
   "metadata": {},
   "outputs": [],
   "source": []
  },
  {
   "cell_type": "code",
   "execution_count": null,
   "metadata": {},
   "outputs": [],
   "source": []
  },
  {
   "cell_type": "markdown",
   "metadata": {},
   "source": [
    "# PROPOSE PRESENTATION"
   ]
  },
  {
   "cell_type": "code",
   "execution_count": 22,
   "metadata": {},
   "outputs": [
    {
     "data": {
      "text/plain": [
       "<Response [202]>"
      ]
     },
     "execution_count": 22,
     "metadata": {},
     "output_type": "execute_result"
    }
   ],
   "source": [
    "\n",
    "holder_response_message = Message(\n",
    "    custom_headers = [{\n",
    "        \"return_route\": \"all\"}],\n",
    "    id = str(uuid.uuid4()),\n",
    "    pthid = received_msg_decoded[\"id\"],\n",
    "    type = \"https://didcomm.org/present-proof/3.0/propose-presentation\",\n",
    "    frm = holder_did,\n",
    "    to = [received_msg_decoded[\"from\"]],\n",
    "    body = {}\n",
    ")\n",
    "holder_packed_msg = await pack_encrypted(\n",
    "    resolvers_config = ResolversConfig(\n",
    "        secrets_resolver = secrets_resolver,\n",
    "        did_resolver = DIDResolverPeerDID()\n",
    "    ),\n",
    "    message = holder_response_message,\n",
    "    frm = holder_did,\n",
    "    to = received_msg_decoded[\"from\"],\n",
    "    sign_frm = None,\n",
    "    pack_config = PackEncryptedConfig(protect_sender_id=False)\n",
    ")\n",
    "verifier_did_doc = json.loads(peer_did.resolve_peer_did(received_msg_decoded[\"from\"]))\n",
    "verifier_endpoint = issuer_did_doc[\"service\"][0][\"serviceEndpoint\"]\n",
    "headers = {\"Content-Type\": \"application     /didcomm-encrypted+json\"}\n",
    "resp = requests.post(verifier_endpoint, headers=headers, data = holder_packed_msg.packed_msg)\n",
    "resp\n"
   ]
  },
  {
   "cell_type": "code",
   "execution_count": 23,
   "metadata": {},
   "outputs": [
    {
     "data": {
      "text/plain": [
       "{'presentation_definition': {'presentation_definition': {'id': '32f54163-7166-48f1-93d8-ff217bdb0654',\n",
       "   'input_descriptors': [{'id': '66685f64-7166-5717-b3fc-ff217bdb9999',\n",
       "     'constraints': {'fields': [{'path': ['$.type'],\n",
       "        'filter': {'type': 'string',\n",
       "         'pattern': 'UniversityDegreeCredential'}}]}}]}},\n",
       " 'options': {'challenge': '3fa85f64-5717-4562-b3fc-2c963f66afa7',\n",
       "  'domain': '4jt78h47fh47'}}"
      ]
     },
     "execution_count": 23,
     "metadata": {},
     "output_type": "execute_result"
    }
   ],
   "source": [
    "presentation_definition_msg = await unpack(\n",
    "    resolvers_config=ResolversConfig(\n",
    "        secrets_resolver=secrets_resolver,\n",
    "        did_resolver=DIDResolverPeerDID()\n",
    "    ),\n",
    "    packed_msg= resp.json()\n",
    ")\n",
    "presentation_definition =presentation_definition_msg.message.attachments[0].data.json\n",
    "presentation_definition"
   ]
  },
  {
   "cell_type": "markdown",
   "metadata": {},
   "source": [
    "# Create a Presentation Submission\n",
    "from `presentation_definition` and `credential`"
   ]
  },
  {
   "cell_type": "code",
   "execution_count": 26,
   "metadata": {},
   "outputs": [
    {
     "data": {
      "text/plain": [
       "'2268a85c0d2292a827d8e55c09f03ceec7680a5110a1d5bae42089bc9e325603a3a1132db40f2fbdda9b0ab3a278db0d4a94a77a13cf5c6d75a8a604305a0c84'"
      ]
     },
     "execution_count": 26,
     "metadata": {},
     "output_type": "execute_result"
    }
   ],
   "source": [
    "import hashlib, ecdsa\n",
    "from pyld import jsonld\n",
    "\n",
    "def sign(credential, presentation_definition):\n",
    "    hex_private_holder = get_prism_holder_did()['master0']\n",
    "    sk = ecdsa.SigningKey.from_string(bytes.fromhex(hex_private_holder), curve=ecdsa.SECP256k1, hashfunc=hashlib.sha256) # the default is sha1\n",
    "\n",
    "    proof_hash = hashlib.sha256(presentation_definition['options']['challenge'].encode('utf-8'))\n",
    "    normalized_proof = jsonld.normalize(credential, {'algorithm': 'URDNA2015', 'format': 'application/n-quads'})\n",
    "    proof_hash.update(normalized_proof.encode('utf-8'))\n",
    "\n",
    "    sig = sk.sign(bytes.fromhex(proof_hash.hexdigest()))\n",
    "    return sig.hex()\n",
    "sign(credential, presentation_definition)"
   ]
  },
  {
   "cell_type": "code",
   "execution_count": 27,
   "metadata": {},
   "outputs": [
    {
     "data": {
      "text/plain": [
       "{'@context': ['https://www.w3.org/2018/credentials/v1',\n",
       "  'https://identity.foundation/presentation-exchange/submission/v1'],\n",
       " 'type': ['VerifiablePresentation', 'PresentationSubmission'],\n",
       " 'holder': 'did:example:123',\n",
       " 'verifiableCredential': [{'@context': ['https://www.w3.org/2018/credentials/v1',\n",
       "    'https://www.w3.org/2018/credentials/examples/v1'],\n",
       "   'id': '3817d040-5d8d-4a3c-8241-66679f55f2e0',\n",
       "   'type': ['VerifiableCredential', 'UniversityDegreeCredential'],\n",
       "   'issuer': 'did:prism:fb727d449bd219021503d3f8c63a221cc1861a90e93b5c017b139aafdd2c14d9:Cr8BCrwBEjsKB21hc3RlcjAQAUouCglzZWNwMjU2azESIQNJuG3G_ZCEg9YHAXQpvLagXQTb8emtVTjBh_m66F5uoRI8Cghpc3N1aW5nMBACSi4KCXNlY3AyNTZrMRIhAiRByhWe4k1MTd7cbmRxrthrV7WPsRaKccZeDIAWoGJlEj8KC3Jldm9jYXRpb24wEAVKLgoJc2VjcDI1NmsxEiEDTkb_zwgk-ILQcH3tW3kCAiuuGcRcjiDlQ3h8eS0MmPk',\n",
       "   'issuanceDate': '2022-09-19T12:36:58Z',\n",
       "   'credentialSubject': {'id': 'did:prism:8ade34754487af867b813d008d3704451a0c1df88090c1947d6f901857fd5ada:Cr8BCrwBEjsKB21hc3RlcjAQAUouCglzZWNwMjU2azESIQJ-gKvROnRTlmvLtBGxikIg07oaJZc2B5bU4MrAGtwDkhI8Cghpc3N1aW5nMBACSi4KCXNlY3AyNTZrMRIhA6I4nH3zH1vn1Azo_WLGr4Btz5eb9cHA-KdQq5lIsGUoEj8KC3Jldm9jYXRpb24wEAVKLgoJc2VjcDI1NmsxEiECJiZwIzuQQen4LL-OPOBUCs9zsrD0u2Z_q2PhZzx0Nrc',\n",
       "    'degree': {'type': 'BachelorDegree',\n",
       "     'name': 'Bachelor of Science and Arts'}},\n",
       "   'options': {'proofType': 'EcdsaSecp256k1Signature2019'},\n",
       "   'proof': {'type': 'EcdsaSecp256k1Signature2019',\n",
       "    'created': '2022-09-19T12:40:26Z',\n",
       "    'verificationMethod': 'did:prism:fb727d449bd219021503d3f8c63a221cc1861a90e93b5c017b139aafdd2c14d9:Cr8BCrwBEjsKB21hc3RlcjAQAUouCglzZWNwMjU2azESIQNJuG3G_ZCEg9YHAXQpvLagXQTb8emtVTjBh_m66F5uoRI8Cghpc3N1aW5nMBACSi4KCXNlY3AyNTZrMRIhAiRByhWe4k1MTd7cbmRxrthrV7WPsRaKccZeDIAWoGJlEj8KC3Jldm9jYXRpb24wEAVKLgoJc2VjcDI1NmsxEiEDTkb_zwgk-ILQcH3tW3kCAiuuGcRcjiDlQ3h8eS0MmPk',\n",
       "    'proofPurpose': 'assertionMethod',\n",
       "    'proofValue': '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.MEYCIQC95I2P8e-gl0fP0RvRxWTY_ibrLJYzGnd4mcemqoMw1gIhALvTPtCJxSOo8rCYl7TLw2Onnen2qj6tEWuFYAf0p9UH',\n",
       "    'proofHash': '46efecd005938172c10a4e4cb36d02a60c96e9a2007dd849bc23b64c7b23c39f',\n",
       "    'proofBatchId': '244ffdaa633724fbc8de41871a948a989de64cafec630c03da4de63793da2a59'}}],\n",
       " 'presentation_submission': {'definition_id': '32f54163-7166-48f1-93d8-ff217bdb0654'},\n",
       " 'proof': {'type': 'EcdsaSecp256k1Signature2019',\n",
       "  'created': '2022-09-19T12:55:37Z',\n",
       "  'verificationMethod': 'did:prism:8ade34754487af867b813d008d3704451a0c1df88090c1947d6f901857fd5ada:Cr8BCrwBEjsKB21hc3RlcjAQAUouCglzZWNwMjU2azESIQJ-gKvROnRTlmvLtBGxikIg07oaJZc2B5bU4MrAGtwDkhI8Cghpc3N1aW5nMBACSi4KCXNlY3AyNTZrMRIhA6I4nH3zH1vn1Azo_WLGr4Btz5eb9cHA-KdQq5lIsGUoEj8KC3Jldm9jYXRpb24wEAVKLgoJc2VjcDI1NmsxEiECJiZwIzuQQen4LL-OPOBUCs9zsrD0u2Z_q2PhZzx0Nrc#master0',\n",
       "  'proofPurpose': 'assertionMethod',\n",
       "  'challenge': '3fa85f64-5717-4562-b3fc-2c963f66afa7',\n",
       "  'proofValue': '5e699bc1afaa34a12f4f450cbbc2e8492226d837de4025f2b1d34ff99cd1fae0fcfeb5df949ddbd1432797bbcd4b99da0f487964083c799a037f5a342c190fee'}}"
      ]
     },
     "execution_count": 27,
     "metadata": {},
     "output_type": "execute_result"
    }
   ],
   "source": [
    "submission = {\n",
    "          \"@context\": [\n",
    "            \"https://www.w3.org/2018/credentials/v1\",\n",
    "            \"https://identity.foundation/presentation-exchange/submission/v1\"\n",
    "          ],\n",
    "          \"type\": [\n",
    "            \"VerifiablePresentation\",\n",
    "            \"PresentationSubmission\"\n",
    "          ],\n",
    "          \"holder\": \"did:example:123\",\n",
    "          \"verifiableCredential\": [\n",
    "            credential\n",
    "            ],\n",
    "          \"presentation_submission\":{\"definition_id\":presentation_definition['presentation_definition']['presentation_definition']['id'] },\n",
    "          \"proof\":{\n",
    "            \"type\": \"EcdsaSecp256k1Signature2019\",\n",
    "            \"created\": datetime.datetime.now().strftime(\"%Y-%m-%dT%H:%M:%SZ\"),\n",
    "            \"verificationMethod\": get_prism_holder_did()['did'] + \"#master0\",\n",
    "            \"proofPurpose\": \"assertionMethod\",\n",
    "            \"challenge\": presentation_definition['options']['challenge'],\n",
    "            \"proofValue\": sign(credential, presentation_definition)\n",
    "          }\n",
    "}\n",
    "submission"
   ]
  },
  {
   "cell_type": "code",
   "execution_count": 28,
   "metadata": {},
   "outputs": [
    {
     "data": {
      "text/plain": [
       "<Response [202]>"
      ]
     },
     "execution_count": 28,
     "metadata": {},
     "output_type": "execute_result"
    }
   ],
   "source": [
    "\n",
    "holder_response_message = Message(\n",
    "    custom_headers = [{\n",
    "        \"return_route\": \"all\"}],\n",
    "    id = str(uuid.uuid4()),\n",
    "    pthid = received_msg_decoded[\"id\"],\n",
    "    type = \"https://didcomm.org/present-proof/3.0/presentation\",\n",
    "    frm = holder_did,\n",
    "    to = [received_msg_decoded[\"from\"]],\n",
    "    body = {},\n",
    "    attachments = [\n",
    "        Attachment(\n",
    "                id=str(uuid.uuid4()),\n",
    "                media_type= \"application/ld+json\",\n",
    "                format= \"dif/presentation-exchange/submission@v1.0\",\n",
    "                data=AttachmentDataJson(json=submission)\n",
    "                )\n",
    "    ]\n",
    ")\n",
    "holder_packed_msg = await pack_encrypted(\n",
    "    resolvers_config = ResolversConfig(\n",
    "        secrets_resolver = secrets_resolver,\n",
    "        did_resolver = DIDResolverPeerDID()\n",
    "    ),\n",
    "    message = holder_response_message,\n",
    "    frm = holder_did,\n",
    "    to = received_msg_decoded[\"from\"],\n",
    "    sign_frm = None,\n",
    "    pack_config = PackEncryptedConfig(protect_sender_id=False)\n",
    ")\n",
    "verifier_did_doc = json.loads(peer_did.resolve_peer_did(received_msg_decoded[\"from\"]))\n",
    "verifier_endpoint = issuer_did_doc[\"service\"][0][\"serviceEndpoint\"]\n",
    "headers = {\"Content-Type\": \"application/didcomm-encrypted+json\"}\n",
    "resp = requests.post(verifier_endpoint, headers=headers, data = holder_packed_msg.packed_msg)\n",
    "resp\n"
   ]
  },
  {
   "cell_type": "code",
   "execution_count": 29,
   "metadata": {},
   "outputs": [],
   "source": [
    "presentation_definition_msg = await unpack(\n",
    "    resolvers_config=ResolversConfig(\n",
    "        secrets_resolver=secrets_resolver,\n",
    "        did_resolver=DIDResolverPeerDID()\n",
    "    ),\n",
    "    packed_msg= resp.json()\n",
    ")"
   ]
  },
  {
   "cell_type": "code",
   "execution_count": 30,
   "metadata": {},
   "outputs": [
    {
     "data": {
      "text/plain": [
       "{'status': 'OK', 'proof-status': True, 'prism_credential_status': True}"
      ]
     },
     "execution_count": 30,
     "metadata": {},
     "output_type": "execute_result"
    }
   ],
   "source": [
    "presentation_definition_msg.message.body"
   ]
  },
  {
   "cell_type": "code",
   "execution_count": 31,
   "metadata": {},
   "outputs": [
    {
     "data": {
      "text/plain": [
       "'https://didcomm.org/present-proof/3.0/ack'"
      ]
     },
     "execution_count": 31,
     "metadata": {},
     "output_type": "execute_result"
    }
   ],
   "source": [
    "presentation_definition_msg.message.type"
   ]
  },
  {
   "cell_type": "code",
   "execution_count": null,
   "metadata": {},
   "outputs": [],
   "source": []
  },
  {
   "cell_type": "code",
   "execution_count": null,
   "metadata": {},
   "outputs": [],
   "source": []
  },
  {
   "cell_type": "code",
   "execution_count": null,
   "metadata": {},
   "outputs": [],
   "source": []
  }
 ],
 "metadata": {
  "kernelspec": {
   "display_name": "Python 3.8.10 64-bit",
   "language": "python",
   "name": "python3"
  },
  "language_info": {
   "codemirror_mode": {
    "name": "ipython",
    "version": 3
   },
   "file_extension": ".py",
   "mimetype": "text/x-python",
   "name": "python",
   "nbconvert_exporter": "python",
   "pygments_lexer": "ipython3",
   "version": "3.8.10"
  },
  "vscode": {
   "interpreter": {
    "hash": "1ee38ef4a5a9feb55287fd749643f13d043cb0a7addaab2a9c224cbe137c0062"
   }
  }
 },
 "nbformat": 4,
 "nbformat_minor": 2
}
